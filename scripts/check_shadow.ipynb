{
 "cells": [
  {
   "cell_type": "code",
   "execution_count": 12,
   "metadata": {},
   "outputs": [],
   "source": [
    "import functions as fn\n",
    "import numpy as np\n",
    "import protein_contact_map "
   ]
  },
  {
   "cell_type": "code",
   "execution_count": 6,
   "metadata": {},
   "outputs": [],
   "source": [
    "pdbfile = \"/home/jguven/projects/amino_acid_distance_distributions/shadow_map/pdb1ubq.ent\"\n",
    "distance_matrix, adjacency_matrix = fn.pdb_to_adjacency(pdbfile)\n"
   ]
  },
  {
   "cell_type": "code",
   "execution_count": 7,
   "metadata": {},
   "outputs": [
    {
     "data": {
      "text/plain": [
       "(76, 76)"
      ]
     },
     "execution_count": 7,
     "metadata": {},
     "output_type": "execute_result"
    }
   ],
   "source": [
    "adjacency_matrix.shape"
   ]
  },
  {
   "cell_type": "code",
   "execution_count": 9,
   "metadata": {},
   "outputs": [
    {
     "data": {
      "text/plain": [
       "array([1., 1., 1., ..., 1., 1., 1.])"
      ]
     },
     "execution_count": 9,
     "metadata": {},
     "output_type": "execute_result"
    }
   ],
   "source": [
    "concat = np.concatenate(adjacency_matrix)\n",
    "concat"
   ]
  },
  {
   "cell_type": "code",
   "execution_count": 10,
   "metadata": {},
   "outputs": [],
   "source": [
    "total = np.sum(concat)"
   ]
  },
  {
   "cell_type": "code",
   "execution_count": 11,
   "metadata": {},
   "outputs": [
    {
     "data": {
      "text/plain": [
       "728.0"
      ]
     },
     "execution_count": 11,
     "metadata": {},
     "output_type": "execute_result"
    }
   ],
   "source": [
    "total"
   ]
  },
  {
   "cell_type": "code",
   "execution_count": 33,
   "metadata": {},
   "outputs": [],
   "source": [
    "pcm = protein_contact_map.ProteinContactMap(pdbfile, default_threshold=6)\n",
    "alpha_carbons = pcm.get_alpha_carbons\n",
    "distance_array = protein_contact_map.get_distance_array(alpha_carbons)\n",
    "distance_matrix = protein_contact_map.get_distance_matrix(alpha_carbons, distance_array)\n",
    "adjacency_matrix = pcm.get_adjacency_matrix(alpha_carbons, distance_array)\n"
   ]
  },
  {
   "cell_type": "code",
   "execution_count": 34,
   "metadata": {},
   "outputs": [],
   "source": [
    "concat = np.concatenate(adjacency_matrix)\n",
    "total = np.sum(concat)"
   ]
  },
  {
   "cell_type": "code",
   "execution_count": 35,
   "metadata": {},
   "outputs": [
    {
     "name": "stdout",
     "output_type": "stream",
     "text": [
      "446.0\n"
     ]
    }
   ],
   "source": [
    "print(total ) "
   ]
  },
  {
   "cell_type": "code",
   "execution_count": 39,
   "metadata": {},
   "outputs": [],
   "source": [
    "pcm = protein_contact_map.ProteinContactMap(pdbfile, default_threshold=6)\n",
    "all_atoms = pcm.universe.select_atoms(\"backbone\")\n",
    "distance_array = protein_contact_map.get_distance_array(all_atoms)\n",
    "# distance_matrix = protein_contact_map.get_distance_matrix(alpha_carbons, distance_array)\n",
    "adjacency_matrix = pcm.get_adjacency_matrix(all_atoms, distance_array)"
   ]
  },
  {
   "cell_type": "code",
   "execution_count": 40,
   "metadata": {},
   "outputs": [],
   "source": [
    "aa_concat = np.concatenate(adjacency_matrix)\n",
    "aa_total = np.sum(adjacency_matrix)"
   ]
  },
  {
   "cell_type": "code",
   "execution_count": 41,
   "metadata": {},
   "outputs": [
    {
     "name": "stdout",
     "output_type": "stream",
     "text": [
      "7268.0\n"
     ]
    }
   ],
   "source": [
    "print(aa_total)"
   ]
  },
  {
   "cell_type": "code",
   "execution_count": null,
   "metadata": {},
   "outputs": [],
   "source": []
  }
 ],
 "metadata": {
  "kernelspec": {
   "display_name": "jupyterlab",
   "language": "python",
   "name": "python3"
  },
  "language_info": {
   "codemirror_mode": {
    "name": "ipython",
    "version": 3
   },
   "file_extension": ".py",
   "mimetype": "text/x-python",
   "name": "python",
   "nbconvert_exporter": "python",
   "pygments_lexer": "ipython3",
   "version": "3.10.4"
  },
  "orig_nbformat": 4,
  "vscode": {
   "interpreter": {
    "hash": "3167dfe892e4835d2060ee13d6b6c6dca633c9ea59cdce1889dbbe274803b824"
   }
  }
 },
 "nbformat": 4,
 "nbformat_minor": 2
}
