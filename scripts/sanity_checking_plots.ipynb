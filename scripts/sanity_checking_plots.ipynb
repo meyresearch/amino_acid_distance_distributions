{
 "cells": [
  {
   "cell_type": "code",
   "execution_count": 164,
   "id": "2aacc33d-44b0-4fa0-bd47-6a4566c59204",
   "metadata": {},
   "outputs": [],
   "source": [
    "import numpy as np\n",
    "import matplotlib.pyplot as plt\n",
    "import pandas as pd"
   ]
  },
  {
   "cell_type": "markdown",
   "id": "738ba69c-34cc-41e4-8bd2-d0741acdb68d",
   "metadata": {},
   "source": [
    "# AlphaFold 2 Distances"
   ]
  },
  {
   "cell_type": "markdown",
   "id": "b6a2aca6-0f58-4791-a620-ec7d36f53044",
   "metadata": {},
   "source": [
    "# 100s "
   ]
  },
  {
   "cell_type": "code",
   "execution_count": 1015,
   "id": "d4181023-491b-4c16-8a6c-0fae63f476a7",
   "metadata": {},
   "outputs": [],
   "source": [
    "histogram = np.load(\"../data/alphafold/histogram_100.npy\", allow_pickle=True)\n",
    "\n",
    "rows = histogram.shape[0]\n",
    "cols = histogram.shape[1]\n",
    "\n",
    "histogram_list = []\n",
    "for i in range(rows):\n",
    "    for j in range(cols):\n",
    "        filtered_histogram = histogram[i][4:49]\n",
    "        histogram_list.append(filtered_histogram)\n"
   ]
  },
  {
   "cell_type": "code",
   "execution_count": null,
   "id": "43514c28-8872-4535-b51d-a18647d56381",
   "metadata": {},
   "outputs": [],
   "source": []
  },
  {
   "cell_type": "code",
   "execution_count": 1016,
   "id": "bc36d572-fa23-467a-b347-6d032c925928",
   "metadata": {},
   "outputs": [
    {
     "data": {
      "text/plain": [
       "array([0.02235205, 0.01284797, 0.00896192, 0.00724638, 0.00683371,\n",
       "       0.00759013, 0.00717703, 0.00662984, 0.00609756, 0.0055918 ,\n",
       "       0.00493827, 0.00520157, 0.00609756, 0.00449944, 0.00421941,\n",
       "       0.00446429, 0.00401606, 0.00383142, 0.00441501, 0.00414079,\n",
       "       0.00296297, 0.00253165, 0.00407748, 0.00257069, 0.0025    ,\n",
       "       0.00264201, 0.00249066, 0.00229885, 0.00222966, 0.00251256,\n",
       "       0.00238663, 0.00232019, 0.00247525, 0.00293255, 0.0025641 ,\n",
       "       0.00372439, 0.00257069, 0.00242131, 0.0020284 , 0.00241546,\n",
       "       0.00210084, 0.00194553, 0.00205761, 0.0019685 , 0.        ])"
      ]
     },
     "execution_count": 1016,
     "metadata": {},
     "output_type": "execute_result"
    }
   ],
   "source": [
    "median = np.quantile(histogram_list, q=0.5, axis=0)\n",
    "median"
   ]
  },
  {
   "cell_type": "code",
   "execution_count": 1017,
   "id": "92361366-5dbe-40d7-baaf-5282bbb22153",
   "metadata": {},
   "outputs": [
    {
     "data": {
      "text/plain": [
       "array([ 5.        ,  6.02272727,  7.04545455,  8.06818182,  9.09090909,\n",
       "       10.11363636, 11.13636364, 12.15909091, 13.18181818, 14.20454545,\n",
       "       15.22727273, 16.25      , 17.27272727, 18.29545455, 19.31818182,\n",
       "       20.34090909, 21.36363636, 22.38636364, 23.40909091, 24.43181818,\n",
       "       25.45454545, 26.47727273, 27.5       , 28.52272727, 29.54545455,\n",
       "       30.56818182, 31.59090909, 32.61363636, 33.63636364, 34.65909091,\n",
       "       35.68181818, 36.70454545, 37.72727273, 38.75      , 39.77272727,\n",
       "       40.79545455, 41.81818182, 42.84090909, 43.86363636, 44.88636364,\n",
       "       45.90909091, 46.93181818, 47.95454545, 48.97727273, 50.        ])"
      ]
     },
     "execution_count": 1017,
     "metadata": {},
     "output_type": "execute_result"
    }
   ],
   "source": [
    "length = 100\n",
    "distances = np.linspace(start=5, stop=length//2, num=len(histogram_list[0]))\n",
    "distances"
   ]
  },
  {
   "cell_type": "code",
   "execution_count": 1018,
   "id": "725f8249-9c57-4ef1-8649-15aef0d5e5e9",
   "metadata": {},
   "outputs": [
    {
     "data": {
      "text/plain": [
       "<BarContainer object of 45 artists>"
      ]
     },
     "execution_count": 1018,
     "metadata": {},
     "output_type": "execute_result"
    },
    {
     "data": {
      "image/png": "[encoded data removed]",
      "text/plain": [
       "<Figure size 432x288 with 1 Axes>"
      ]
     },
     "metadata": {
      "needs_background": "light"
     },
     "output_type": "display_data"
    }
   ],
   "source": [
    "plt.bar(distances, median)"
   ]
  },
  {
   "cell_type": "code",
   "execution_count": 1019,
   "id": "90b5b511-96ab-483e-b746-1874a51e67ed",
   "metadata": {},
   "outputs": [],
   "source": [
    "normalised_median = median / np.sum(median)"
   ]
  },
  {
   "cell_type": "code",
   "execution_count": 1020,
   "id": "ad483add-695f-4351-8bbf-44c0838951ec",
   "metadata": {},
   "outputs": [
    {
     "data": {
      "text/plain": [
       "1.0000000000000002"
      ]
     },
     "execution_count": 1020,
     "metadata": {},
     "output_type": "execute_result"
    }
   ],
   "source": [
    "np.sum(normalised_median)"
   ]
  },
  {
   "cell_type": "code",
   "execution_count": 1021,
   "id": "8409b593-c243-4c52-923d-1e1a7cfa21a1",
   "metadata": {},
   "outputs": [
    {
     "data": {
      "text/plain": [
       "[]"
      ]
     },
     "execution_count": 1021,
     "metadata": {},
     "output_type": "execute_result"
    },
    {
     "data": {
      "image/png": "[encoded data removed]",
      "text/plain": [
       "<Figure size 432x288 with 1 Axes>"
      ]
     },
     "metadata": {
      "needs_background": "light"
     },
     "output_type": "display_data"
    }
   ],
   "source": [
    "plt.scatter(distances, median)\n",
    "plt.loglog()"
   ]
  },
  {
   "cell_type": "code",
   "execution_count": 1022,
   "id": "d107cee2-f4e0-4f7f-89e8-3c9436b1c925",
   "metadata": {},
   "outputs": [],
   "source": [
    "sim_histogram = np.load(f\"../data/simulations/3d/histogram_100.npy\", allow_pickle=True)"
   ]
  },
  {
   "cell_type": "code",
   "execution_count": 1023,
   "id": "6890cd92-1cff-45c9-9f0a-0631b53d861e",
   "metadata": {},
   "outputs": [
    {
     "data": {
      "text/plain": [
       "array([[0.        , 0.08264463, 0.05371901, ..., 0.        , 0.        ,\n",
       "        0.        ],\n",
       "       [0.        , 0.09130435, 0.09565217, ..., 0.        , 0.        ,\n",
       "        0.        ],\n",
       "       [0.        , 0.09210526, 0.06140351, ..., 0.        , 0.        ,\n",
       "        0.        ],\n",
       "       ...,\n",
       "       [0.        , 0.09130435, 0.09565217, ..., 0.        , 0.        ,\n",
       "        0.        ],\n",
       "       [0.        , 0.125     , 0.06034483, ..., 0.        , 0.        ,\n",
       "        0.        ],\n",
       "       [0.        , 0.0941704 , 0.08071749, ..., 0.        , 0.        ,\n",
       "        0.        ]])"
      ]
     },
     "execution_count": 1023,
     "metadata": {},
     "output_type": "execute_result"
    }
   ],
   "source": [
    "sim_histogram"
   ]
  },
  {
   "cell_type": "code",
   "execution_count": 1024,
   "id": "28f828d2-8066-4041-a209-7d36409025dc",
   "metadata": {},
   "outputs": [],
   "source": [
    "rows = sim_histogram.shape[0]\n",
    "cols = sim_histogram.shape[1]\n",
    "\n",
    "sim_histogram_list = []\n",
    "for i in range(rows):\n",
    "    for j in range(cols):\n",
    "        sim_filtered_histogram = sim_histogram[i][4:49]\n",
    "        sim_histogram_list.append(sim_filtered_histogram)"
   ]
  },
  {
   "cell_type": "code",
   "execution_count": 1025,
   "id": "26908473-0397-454d-b3cf-db894a3997e7",
   "metadata": {},
   "outputs": [
    {
     "data": {
      "text/plain": [
       "array([0.03921587, 0.03056827, 0.03056769, 0.02830941, 0.02303499,\n",
       "       0.01750555, 0.01746725, 0.0173913 , 0.01702128, 0.01315789,\n",
       "       0.0173913 , 0.01652893, 0.01652893, 0.0172417 , 0.0151142 ,\n",
       "       0.01301574, 0.0129332 , 0.01310044, 0.0107419 , 0.01239669,\n",
       "       0.00873362, 0.0127937 , 0.00867683, 0.01072274, 0.00863967,\n",
       "       0.00650333, 0.00632521, 0.00873362, 0.00431967, 0.00438596,\n",
       "       0.00636495, 0.00436681, 0.00826446, 0.00438596, 0.00431042,\n",
       "       0.00431042, 0.00426457, 0.00436681, 0.00438596, 0.00438596,\n",
       "       0.00849261, 0.00873362, 0.00434783, 0.00436681, 0.00433842])"
      ]
     },
     "execution_count": 1025,
     "metadata": {},
     "output_type": "execute_result"
    }
   ],
   "source": [
    "sim_median = np.quantile(sim_histogram_list, q=0.5, axis=0)\n",
    "sim_median\n"
   ]
  },
  {
   "cell_type": "code",
   "execution_count": 1026,
   "id": "d70f65b3-8654-43c8-ae8e-d3f1ffb7cb3c",
   "metadata": {},
   "outputs": [],
   "source": [
    "normalised_sim_median = sim_median / np.sum(sim_median)"
   ]
  },
  {
   "cell_type": "code",
   "execution_count": 1027,
   "id": "23bc3fb9-ca37-45fc-914d-6a90d49d9103",
   "metadata": {},
   "outputs": [
    {
     "data": {
      "text/plain": [
       "1.0000000000000002"
      ]
     },
     "execution_count": 1027,
     "metadata": {},
     "output_type": "execute_result"
    }
   ],
   "source": [
    "np.sum(normalised_sim_median)"
   ]
  },
  {
   "cell_type": "code",
   "execution_count": 1028,
   "id": "378b9352-1a5d-4f72-abb3-f5d470e7cb14",
   "metadata": {},
   "outputs": [
    {
     "data": {
      "text/plain": [
       "array([ 5.        ,  6.02272727,  7.04545455,  8.06818182,  9.09090909,\n",
       "       10.11363636, 11.13636364, 12.15909091, 13.18181818, 14.20454545,\n",
       "       15.22727273, 16.25      , 17.27272727, 18.29545455, 19.31818182,\n",
       "       20.34090909, 21.36363636, 22.38636364, 23.40909091, 24.43181818,\n",
       "       25.45454545, 26.47727273, 27.5       , 28.52272727, 29.54545455,\n",
       "       30.56818182, 31.59090909, 32.61363636, 33.63636364, 34.65909091,\n",
       "       35.68181818, 36.70454545, 37.72727273, 38.75      , 39.77272727,\n",
       "       40.79545455, 41.81818182, 42.84090909, 43.86363636, 44.88636364,\n",
       "       45.90909091, 46.93181818, 47.95454545, 48.97727273, 50.        ])"
      ]
     },
     "execution_count": 1028,
     "metadata": {},
     "output_type": "execute_result"
    }
   ],
   "source": [
    "length = 100\n",
    "sim_distances = np.linspace(start=5, stop=length//2, num=len(histogram_list[0]))\n",
    "sim_distances"
   ]
  },
  {
   "cell_type": "code",
   "execution_count": 1029,
   "id": "9a1f18a0-27a6-4c2c-bcfb-6a10704e3bd2",
   "metadata": {},
   "outputs": [
    {
     "data": {
      "text/plain": [
       "<BarContainer object of 45 artists>"
      ]
     },
     "execution_count": 1029,
     "metadata": {},
     "output_type": "execute_result"
    },
    {
     "data": {
      "image/png": "[encoded data removed]",
      "text/plain": [
       "<Figure size 432x288 with 1 Axes>"
      ]
     },
     "metadata": {
      "needs_background": "light"
     },
     "output_type": "display_data"
    }
   ],
   "source": [
    "plt.bar(sim_distances, sim_histogram_list[1])"
   ]
  },
  {
   "cell_type": "code",
   "execution_count": 1030,
   "id": "6c6b5a96-4890-4d94-85ba-412a98019ae2",
   "metadata": {},
   "outputs": [
    {
     "data": {
      "text/plain": [
       "[]"
      ]
     },
     "execution_count": 1030,
     "metadata": {},
     "output_type": "execute_result"
    },
    {
     "data": {
      "image/png": "[encoded data removed]",
      "text/plain": [
       "<Figure size 432x288 with 1 Axes>"
      ]
     },
     "metadata": {
      "needs_background": "light"
     },
     "output_type": "display_data"
    }
   ],
   "source": [
    "plt.scatter(sim_distances, normalised_sim_median)\n",
    "plt.loglog()"
   ]
  },
  {
   "cell_type": "code",
   "execution_count": 1031,
   "id": "d3e5edf3-f6b7-4ad6-8767-68930f9c1ad0",
   "metadata": {},
   "outputs": [
    {
     "data": {
      "text/plain": [
       "[]"
      ]
     },
     "execution_count": 1031,
     "metadata": {},
     "output_type": "execute_result"
    },
    {
     "data": {
      "image/png": "[encoded data removed]",
      "text/plain": [
       "<Figure size 432x288 with 1 Axes>"
      ]
     },
     "metadata": {
      "needs_background": "light"
     },
     "output_type": "display_data"
    }
   ],
   "source": [
    "plt.scatter(distances, normalised_median)\n",
    "plt.scatter(sim_distances, normalised_sim_median)\n",
    "plt.loglog()"
   ]
  },
  {
   "cell_type": "markdown",
   "id": "a407e32f-0b5e-4ed9-bb08-b65b836f30ac",
   "metadata": {},
   "source": [
    "# 200"
   ]
  },
  {
   "cell_type": "code",
   "execution_count": 983,
   "id": "7ccfbb33-4185-4168-9795-261b38a822e5",
   "metadata": {},
   "outputs": [],
   "source": [
    "histogram = np.load(\"../data/alphafold/histogram_200.npy\", allow_pickle=True)\n",
    "\n",
    "rows = histogram.shape[0]\n",
    "cols = histogram.shape[1]\n",
    "\n",
    "histogram_list = []\n",
    "for i in range(rows):\n",
    "    for j in range(cols):\n",
    "        filtered_histogram = histogram[i][2:49]\n",
    "        histogram_list.append(filtered_histogram)"
   ]
  },
  {
   "cell_type": "code",
   "execution_count": 984,
   "id": "db5d479a-bb30-4873-99d5-73b49a0a9cb7",
   "metadata": {},
   "outputs": [
    {
     "data": {
      "text/plain": [
       "698247"
      ]
     },
     "execution_count": 984,
     "metadata": {},
     "output_type": "execute_result"
    }
   ],
   "source": [
    "len(histogram_list)"
   ]
  },
  {
   "cell_type": "code",
   "execution_count": 985,
   "id": "c9827770-9f42-4c45-a0af-5aa64eefc549",
   "metadata": {},
   "outputs": [
    {
     "data": {
      "text/plain": [
       "array([0.01201913, 0.0068149 , 0.00599382, 0.00517726, 0.00507123,\n",
       "       0.00504779, 0.00468223, 0.00448187, 0.00460163, 0.00419821,\n",
       "       0.00333884, 0.00243151, 0.00301508, 0.00313213, 0.003009  ,\n",
       "       0.00245794, 0.00248247, 0.00262388, 0.00256701, 0.00233288,\n",
       "       0.0026434 , 0.00234664, 0.00214666, 0.00213057, 0.00198995,\n",
       "       0.00169598, 0.00149246, 0.00157267, 0.00107102, 0.00104295,\n",
       "       0.00098027, 0.00053207, 0.00055093, 0.00056341, 0.0005615 ,\n",
       "       0.00061192, 0.00058391, 0.00052038, 0.00052812, 0.00049649,\n",
       "       0.00052478, 0.00052478, 0.000527  , 0.00049062, 0.00048535,\n",
       "       0.00051876, 0.00051287])"
      ]
     },
     "execution_count": 985,
     "metadata": {},
     "output_type": "execute_result"
    }
   ],
   "source": [
    "median = np.quantile(histogram_list, q=0.5, axis=0)\n",
    "median"
   ]
  },
  {
   "cell_type": "code",
   "execution_count": 987,
   "id": "8c33c6db-6da1-412a-ad4f-4b5c0aa6ce9e",
   "metadata": {},
   "outputs": [
    {
     "data": {
      "text/plain": [
       "array([  5.        ,   7.06521739,   9.13043478,  11.19565217,\n",
       "        13.26086957,  15.32608696,  17.39130435,  19.45652174,\n",
       "        21.52173913,  23.58695652,  25.65217391,  27.7173913 ,\n",
       "        29.7826087 ,  31.84782609,  33.91304348,  35.97826087,\n",
       "        38.04347826,  40.10869565,  42.17391304,  44.23913043,\n",
       "        46.30434783,  48.36956522,  50.43478261,  52.5       ,\n",
       "        54.56521739,  56.63043478,  58.69565217,  60.76086957,\n",
       "        62.82608696,  64.89130435,  66.95652174,  69.02173913,\n",
       "        71.08695652,  73.15217391,  75.2173913 ,  77.2826087 ,\n",
       "        79.34782609,  81.41304348,  83.47826087,  85.54347826,\n",
       "        87.60869565,  89.67391304,  91.73913043,  93.80434783,\n",
       "        95.86956522,  97.93478261, 100.        ])"
      ]
     },
     "execution_count": 987,
     "metadata": {},
     "output_type": "execute_result"
    }
   ],
   "source": [
    "length = 200\n",
    "distances = np.linspace(start=5, stop=length//2, num=len(histogram_list[0]))\n",
    "distances"
   ]
  },
  {
   "cell_type": "code",
   "execution_count": 988,
   "id": "c1f9d552-70e6-4c24-959e-7ef28648d4da",
   "metadata": {},
   "outputs": [],
   "source": [
    "normalised_median = median / np.sum(median)"
   ]
  },
  {
   "cell_type": "code",
   "execution_count": 989,
   "id": "a8db8bb9-da7d-4607-a8b1-d7802cebf1dd",
   "metadata": {},
   "outputs": [
    {
     "data": {
      "text/plain": [
       "<BarContainer object of 47 artists>"
      ]
     },
     "execution_count": 989,
     "metadata": {},
     "output_type": "execute_result"
    },
    {
     "data": {
      "image/png": "[encoded data removed]",
      "text/plain": [
       "<Figure size 432x288 with 1 Axes>"
      ]
     },
     "metadata": {
      "needs_background": "light"
     },
     "output_type": "display_data"
    }
   ],
   "source": [
    "plt.bar(distances, median)"
   ]
  },
  {
   "cell_type": "code",
   "execution_count": 990,
   "id": "4d14f00a-74e1-47b8-bab5-49ff04df4947",
   "metadata": {},
   "outputs": [
    {
     "data": {
      "text/plain": [
       "[]"
      ]
     },
     "execution_count": 990,
     "metadata": {},
     "output_type": "execute_result"
    },
    {
     "data": {
      "image/png": "[encoded data removed]",
      "text/plain": [
       "<Figure size 432x288 with 1 Axes>"
      ]
     },
     "metadata": {
      "needs_background": "light"
     },
     "output_type": "display_data"
    }
   ],
   "source": [
    "plt.scatter(distances, normalised_median)\n",
    "plt.loglog()"
   ]
  },
  {
   "cell_type": "code",
   "execution_count": 991,
   "id": "1d132d17-770c-4af8-8582-7ac13039cb94",
   "metadata": {},
   "outputs": [],
   "source": [
    "#!pip install pandas"
   ]
  },
  {
   "cell_type": "code",
   "execution_count": 470,
   "id": "edab2672-b6ed-416a-8b60-9a773ed9919d",
   "metadata": {},
   "outputs": [
    {
     "data": {
      "text/html": [
       "<div>\n",
       "<style scoped>\n",
       "    .dataframe tbody tr th:only-of-type {\n",
       "        vertical-align: middle;\n",
       "    }\n",
       "\n",
       "    .dataframe tbody tr th {\n",
       "        vertical-align: top;\n",
       "    }\n",
       "\n",
       "    .dataframe thead th {\n",
       "        text-align: right;\n",
       "    }\n",
       "</style>\n",
       "<table border=\"1\" class=\"dataframe\">\n",
       "  <thead>\n",
       "    <tr style=\"text-align: right;\">\n",
       "      <th></th>\n",
       "      <th>0</th>\n",
       "      <th>1</th>\n",
       "      <th>2</th>\n",
       "      <th>3</th>\n",
       "      <th>4</th>\n",
       "      <th>5</th>\n",
       "      <th>6</th>\n",
       "      <th>7</th>\n",
       "      <th>8</th>\n",
       "      <th>9</th>\n",
       "      <th>...</th>\n",
       "      <th>89</th>\n",
       "      <th>90</th>\n",
       "      <th>91</th>\n",
       "      <th>92</th>\n",
       "      <th>93</th>\n",
       "      <th>94</th>\n",
       "      <th>95</th>\n",
       "      <th>96</th>\n",
       "      <th>97</th>\n",
       "      <th>98</th>\n",
       "    </tr>\n",
       "  </thead>\n",
       "  <tbody>\n",
       "    <tr>\n",
       "      <th>0</th>\n",
       "      <td>0.245949</td>\n",
       "      <td>0.028965</td>\n",
       "      <td>0.011688</td>\n",
       "      <td>0.009655</td>\n",
       "      <td>0.009147</td>\n",
       "      <td>0.008639</td>\n",
       "      <td>0.006606</td>\n",
       "      <td>0.005590</td>\n",
       "      <td>0.006606</td>\n",
       "      <td>0.008639</td>\n",
       "      <td>...</td>\n",
       "      <td>0.000508</td>\n",
       "      <td>0.000000</td>\n",
       "      <td>0.000508</td>\n",
       "      <td>0.001016</td>\n",
       "      <td>0.002033</td>\n",
       "      <td>0.002033</td>\n",
       "      <td>0.002033</td>\n",
       "      <td>0.002033</td>\n",
       "      <td>0.002033</td>\n",
       "      <td>0.003049</td>\n",
       "    </tr>\n",
       "    <tr>\n",
       "      <th>1</th>\n",
       "      <td>0.249999</td>\n",
       "      <td>0.056727</td>\n",
       "      <td>0.012550</td>\n",
       "      <td>0.006526</td>\n",
       "      <td>0.002510</td>\n",
       "      <td>0.004518</td>\n",
       "      <td>0.003012</td>\n",
       "      <td>0.005020</td>\n",
       "      <td>0.009036</td>\n",
       "      <td>0.011546</td>\n",
       "      <td>...</td>\n",
       "      <td>0.000000</td>\n",
       "      <td>0.000000</td>\n",
       "      <td>0.000000</td>\n",
       "      <td>0.000000</td>\n",
       "      <td>0.000000</td>\n",
       "      <td>0.000502</td>\n",
       "      <td>0.001506</td>\n",
       "      <td>0.000502</td>\n",
       "      <td>0.000000</td>\n",
       "      <td>0.000000</td>\n",
       "    </tr>\n",
       "    <tr>\n",
       "      <th>2</th>\n",
       "      <td>0.278593</td>\n",
       "      <td>0.057993</td>\n",
       "      <td>0.006823</td>\n",
       "      <td>0.003411</td>\n",
       "      <td>0.002843</td>\n",
       "      <td>0.002843</td>\n",
       "      <td>0.001137</td>\n",
       "      <td>0.002274</td>\n",
       "      <td>0.000000</td>\n",
       "      <td>0.001137</td>\n",
       "      <td>...</td>\n",
       "      <td>0.000000</td>\n",
       "      <td>0.000000</td>\n",
       "      <td>0.000000</td>\n",
       "      <td>0.000000</td>\n",
       "      <td>0.000000</td>\n",
       "      <td>0.000000</td>\n",
       "      <td>0.000000</td>\n",
       "      <td>0.000000</td>\n",
       "      <td>0.000000</td>\n",
       "      <td>0.000000</td>\n",
       "    </tr>\n",
       "    <tr>\n",
       "      <th>3</th>\n",
       "      <td>0.298138</td>\n",
       "      <td>0.072168</td>\n",
       "      <td>0.014197</td>\n",
       "      <td>0.008282</td>\n",
       "      <td>0.008873</td>\n",
       "      <td>0.006507</td>\n",
       "      <td>0.006507</td>\n",
       "      <td>0.002958</td>\n",
       "      <td>0.005324</td>\n",
       "      <td>0.008873</td>\n",
       "      <td>...</td>\n",
       "      <td>0.000000</td>\n",
       "      <td>0.000000</td>\n",
       "      <td>0.000000</td>\n",
       "      <td>0.000000</td>\n",
       "      <td>0.000000</td>\n",
       "      <td>0.000000</td>\n",
       "      <td>0.000000</td>\n",
       "      <td>0.000000</td>\n",
       "      <td>0.000000</td>\n",
       "      <td>0.000000</td>\n",
       "    </tr>\n",
       "    <tr>\n",
       "      <th>4</th>\n",
       "      <td>0.271401</td>\n",
       "      <td>0.069417</td>\n",
       "      <td>0.013016</td>\n",
       "      <td>0.002410</td>\n",
       "      <td>0.003374</td>\n",
       "      <td>0.002410</td>\n",
       "      <td>0.001446</td>\n",
       "      <td>0.003856</td>\n",
       "      <td>0.001446</td>\n",
       "      <td>0.003374</td>\n",
       "      <td>...</td>\n",
       "      <td>0.000000</td>\n",
       "      <td>0.000482</td>\n",
       "      <td>0.000000</td>\n",
       "      <td>0.000000</td>\n",
       "      <td>0.000000</td>\n",
       "      <td>0.000000</td>\n",
       "      <td>0.000000</td>\n",
       "      <td>0.000000</td>\n",
       "      <td>0.000000</td>\n",
       "      <td>0.000000</td>\n",
       "    </tr>\n",
       "    <tr>\n",
       "      <th>...</th>\n",
       "      <td>...</td>\n",
       "      <td>...</td>\n",
       "      <td>...</td>\n",
       "      <td>...</td>\n",
       "      <td>...</td>\n",
       "      <td>...</td>\n",
       "      <td>...</td>\n",
       "      <td>...</td>\n",
       "      <td>...</td>\n",
       "      <td>...</td>\n",
       "      <td>...</td>\n",
       "      <td>...</td>\n",
       "      <td>...</td>\n",
       "      <td>...</td>\n",
       "      <td>...</td>\n",
       "      <td>...</td>\n",
       "      <td>...</td>\n",
       "      <td>...</td>\n",
       "      <td>...</td>\n",
       "      <td>...</td>\n",
       "      <td>...</td>\n",
       "    </tr>\n",
       "    <tr>\n",
       "      <th>7048</th>\n",
       "      <td>0.280439</td>\n",
       "      <td>0.074040</td>\n",
       "      <td>0.013692</td>\n",
       "      <td>0.006593</td>\n",
       "      <td>0.006085</td>\n",
       "      <td>0.003043</td>\n",
       "      <td>0.002028</td>\n",
       "      <td>0.000000</td>\n",
       "      <td>0.001014</td>\n",
       "      <td>0.001521</td>\n",
       "      <td>...</td>\n",
       "      <td>0.001014</td>\n",
       "      <td>0.001521</td>\n",
       "      <td>0.002028</td>\n",
       "      <td>0.000000</td>\n",
       "      <td>0.000000</td>\n",
       "      <td>0.000000</td>\n",
       "      <td>0.000000</td>\n",
       "      <td>0.000000</td>\n",
       "      <td>0.000000</td>\n",
       "      <td>0.000000</td>\n",
       "    </tr>\n",
       "    <tr>\n",
       "      <th>7049</th>\n",
       "      <td>0.265983</td>\n",
       "      <td>0.079795</td>\n",
       "      <td>0.010344</td>\n",
       "      <td>0.007388</td>\n",
       "      <td>0.004926</td>\n",
       "      <td>0.006896</td>\n",
       "      <td>0.008374</td>\n",
       "      <td>0.007881</td>\n",
       "      <td>0.007388</td>\n",
       "      <td>0.007388</td>\n",
       "      <td>...</td>\n",
       "      <td>0.000985</td>\n",
       "      <td>0.000493</td>\n",
       "      <td>0.000985</td>\n",
       "      <td>0.000000</td>\n",
       "      <td>0.000985</td>\n",
       "      <td>0.000493</td>\n",
       "      <td>0.000000</td>\n",
       "      <td>0.000000</td>\n",
       "      <td>0.000000</td>\n",
       "      <td>0.000000</td>\n",
       "    </tr>\n",
       "    <tr>\n",
       "      <th>7050</th>\n",
       "      <td>0.253063</td>\n",
       "      <td>0.045734</td>\n",
       "      <td>0.011179</td>\n",
       "      <td>0.007114</td>\n",
       "      <td>0.007622</td>\n",
       "      <td>0.006606</td>\n",
       "      <td>0.004573</td>\n",
       "      <td>0.009147</td>\n",
       "      <td>0.011688</td>\n",
       "      <td>0.006606</td>\n",
       "      <td>...</td>\n",
       "      <td>0.000000</td>\n",
       "      <td>0.000000</td>\n",
       "      <td>0.000000</td>\n",
       "      <td>0.000000</td>\n",
       "      <td>0.000000</td>\n",
       "      <td>0.000000</td>\n",
       "      <td>0.000000</td>\n",
       "      <td>0.000000</td>\n",
       "      <td>0.000000</td>\n",
       "      <td>0.000000</td>\n",
       "    </tr>\n",
       "    <tr>\n",
       "      <th>7051</th>\n",
       "      <td>0.251489</td>\n",
       "      <td>0.045576</td>\n",
       "      <td>0.012080</td>\n",
       "      <td>0.010433</td>\n",
       "      <td>0.007138</td>\n",
       "      <td>0.009335</td>\n",
       "      <td>0.009335</td>\n",
       "      <td>0.010982</td>\n",
       "      <td>0.009335</td>\n",
       "      <td>0.007687</td>\n",
       "      <td>...</td>\n",
       "      <td>0.000000</td>\n",
       "      <td>0.000000</td>\n",
       "      <td>0.000000</td>\n",
       "      <td>0.000000</td>\n",
       "      <td>0.000000</td>\n",
       "      <td>0.000000</td>\n",
       "      <td>0.000000</td>\n",
       "      <td>0.000000</td>\n",
       "      <td>0.000000</td>\n",
       "      <td>0.000000</td>\n",
       "    </tr>\n",
       "    <tr>\n",
       "      <th>7052</th>\n",
       "      <td>0.253946</td>\n",
       "      <td>0.056275</td>\n",
       "      <td>0.009931</td>\n",
       "      <td>0.008039</td>\n",
       "      <td>0.005675</td>\n",
       "      <td>0.007093</td>\n",
       "      <td>0.010877</td>\n",
       "      <td>0.011350</td>\n",
       "      <td>0.006148</td>\n",
       "      <td>0.004256</td>\n",
       "      <td>...</td>\n",
       "      <td>0.000000</td>\n",
       "      <td>0.000000</td>\n",
       "      <td>0.000000</td>\n",
       "      <td>0.000000</td>\n",
       "      <td>0.000000</td>\n",
       "      <td>0.000000</td>\n",
       "      <td>0.000000</td>\n",
       "      <td>0.000000</td>\n",
       "      <td>0.000000</td>\n",
       "      <td>0.000000</td>\n",
       "    </tr>\n",
       "  </tbody>\n",
       "</table>\n",
       "<p>7053 rows × 99 columns</p>\n",
       "</div>"
      ],
      "text/plain": [
       "            0         1         2         3         4         5         6   \\\n",
       "0     0.245949  0.028965  0.011688  0.009655  0.009147  0.008639  0.006606   \n",
       "1     0.249999  0.056727  0.012550  0.006526  0.002510  0.004518  0.003012   \n",
       "2     0.278593  0.057993  0.006823  0.003411  0.002843  0.002843  0.001137   \n",
       "3     0.298138  0.072168  0.014197  0.008282  0.008873  0.006507  0.006507   \n",
       "4     0.271401  0.069417  0.013016  0.002410  0.003374  0.002410  0.001446   \n",
       "...        ...       ...       ...       ...       ...       ...       ...   \n",
       "7048  0.280439  0.074040  0.013692  0.006593  0.006085  0.003043  0.002028   \n",
       "7049  0.265983  0.079795  0.010344  0.007388  0.004926  0.006896  0.008374   \n",
       "7050  0.253063  0.045734  0.011179  0.007114  0.007622  0.006606  0.004573   \n",
       "7051  0.251489  0.045576  0.012080  0.010433  0.007138  0.009335  0.009335   \n",
       "7052  0.253946  0.056275  0.009931  0.008039  0.005675  0.007093  0.010877   \n",
       "\n",
       "            7         8         9   ...        89        90        91  \\\n",
       "0     0.005590  0.006606  0.008639  ...  0.000508  0.000000  0.000508   \n",
       "1     0.005020  0.009036  0.011546  ...  0.000000  0.000000  0.000000   \n",
       "2     0.002274  0.000000  0.001137  ...  0.000000  0.000000  0.000000   \n",
       "3     0.002958  0.005324  0.008873  ...  0.000000  0.000000  0.000000   \n",
       "4     0.003856  0.001446  0.003374  ...  0.000000  0.000482  0.000000   \n",
       "...        ...       ...       ...  ...       ...       ...       ...   \n",
       "7048  0.000000  0.001014  0.001521  ...  0.001014  0.001521  0.002028   \n",
       "7049  0.007881  0.007388  0.007388  ...  0.000985  0.000493  0.000985   \n",
       "7050  0.009147  0.011688  0.006606  ...  0.000000  0.000000  0.000000   \n",
       "7051  0.010982  0.009335  0.007687  ...  0.000000  0.000000  0.000000   \n",
       "7052  0.011350  0.006148  0.004256  ...  0.000000  0.000000  0.000000   \n",
       "\n",
       "            92        93        94        95        96        97        98  \n",
       "0     0.001016  0.002033  0.002033  0.002033  0.002033  0.002033  0.003049  \n",
       "1     0.000000  0.000000  0.000502  0.001506  0.000502  0.000000  0.000000  \n",
       "2     0.000000  0.000000  0.000000  0.000000  0.000000  0.000000  0.000000  \n",
       "3     0.000000  0.000000  0.000000  0.000000  0.000000  0.000000  0.000000  \n",
       "4     0.000000  0.000000  0.000000  0.000000  0.000000  0.000000  0.000000  \n",
       "...        ...       ...       ...       ...       ...       ...       ...  \n",
       "7048  0.000000  0.000000  0.000000  0.000000  0.000000  0.000000  0.000000  \n",
       "7049  0.000000  0.000985  0.000493  0.000000  0.000000  0.000000  0.000000  \n",
       "7050  0.000000  0.000000  0.000000  0.000000  0.000000  0.000000  0.000000  \n",
       "7051  0.000000  0.000000  0.000000  0.000000  0.000000  0.000000  0.000000  \n",
       "7052  0.000000  0.000000  0.000000  0.000000  0.000000  0.000000  0.000000  \n",
       "\n",
       "[7053 rows x 99 columns]"
      ]
     },
     "execution_count": 470,
     "metadata": {},
     "output_type": "execute_result"
    }
   ],
   "source": [
    "import pandas as pd\n",
    "df = pd.DataFrame(histogram)\n",
    "df"
   ]
  },
  {
   "cell_type": "code",
   "execution_count": 726,
   "id": "4c7359e6-bcff-4b27-b6be-d8ec309bfdb2",
   "metadata": {},
   "outputs": [],
   "source": [
    "sim_histogram = np.load(f\"../data/simulations/3d/histogram_200.npy\", allow_pickle=True)"
   ]
  },
  {
   "cell_type": "code",
   "execution_count": 992,
   "id": "d25ba8fe-c740-4437-94f8-ebbc8667c4ba",
   "metadata": {},
   "outputs": [],
   "source": [
    "rows = sim_histogram.shape[0]\n",
    "cols = sim_histogram.shape[1]\n",
    "\n",
    "sim_histogram_list = []\n",
    "for i in range(rows):\n",
    "\n",
    "    sim_filtered_histogram = sim_histogram[i][2:49]\n",
    "    sim_histogram_list.append(sim_filtered_histogram)\n",
    "        "
   ]
  },
  {
   "cell_type": "code",
   "execution_count": 993,
   "id": "c3d48416-31a7-479e-8e2b-5c801156dc46",
   "metadata": {},
   "outputs": [
    {
     "data": {
      "text/plain": [
       "array([0.01657712, 0.01099101, 0.01065258, 0.00900384, 0.00909312,\n",
       "       0.00684625, 0.00724714, 0.00695811, 0.00600057, 0.00599123,\n",
       "       0.00580594, 0.00452946, 0.00498241, 0.00525046, 0.00495529,\n",
       "       0.0067897 , 0.00567968, 0.00408066, 0.00344167, 0.00367128,\n",
       "       0.00386369, 0.00314702, 0.00388443, 0.00407963, 0.00371341,\n",
       "       0.0029846 , 0.00273641, 0.00158941, 0.00180931, 0.00270106,\n",
       "       0.00181552, 0.00205804, 0.00270657, 0.00271028, 0.00270657,\n",
       "       0.00203198, 0.00248133, 0.00186177, 0.00205422, 0.00225547,\n",
       "       0.00269376, 0.00092758, 0.00135144, 0.00180192, 0.00137865,\n",
       "       0.00184725, 0.0013541 ])"
      ]
     },
     "execution_count": 993,
     "metadata": {},
     "output_type": "execute_result"
    }
   ],
   "source": [
    "sim_median = np.quantile(sim_histogram_list, q=0.5, axis=0)\n",
    "sim_median\n",
    "\n"
   ]
  },
  {
   "cell_type": "code",
   "execution_count": 994,
   "id": "d589f136-ddad-45c0-95d0-348c532a7d84",
   "metadata": {},
   "outputs": [],
   "source": [
    "normalised_sim_median = sim_median / np.sum(sim_median)"
   ]
  },
  {
   "cell_type": "code",
   "execution_count": null,
   "id": "2bd34e69-6a3a-4b39-8b78-caa7a341c47f",
   "metadata": {},
   "outputs": [],
   "source": []
  },
  {
   "cell_type": "code",
   "execution_count": 995,
   "id": "d4ab2b7d-791b-4efd-8758-e94058a675ea",
   "metadata": {},
   "outputs": [
    {
     "data": {
      "text/plain": [
       "array([  5.        ,   7.06521739,   9.13043478,  11.19565217,\n",
       "        13.26086957,  15.32608696,  17.39130435,  19.45652174,\n",
       "        21.52173913,  23.58695652,  25.65217391,  27.7173913 ,\n",
       "        29.7826087 ,  31.84782609,  33.91304348,  35.97826087,\n",
       "        38.04347826,  40.10869565,  42.17391304,  44.23913043,\n",
       "        46.30434783,  48.36956522,  50.43478261,  52.5       ,\n",
       "        54.56521739,  56.63043478,  58.69565217,  60.76086957,\n",
       "        62.82608696,  64.89130435,  66.95652174,  69.02173913,\n",
       "        71.08695652,  73.15217391,  75.2173913 ,  77.2826087 ,\n",
       "        79.34782609,  81.41304348,  83.47826087,  85.54347826,\n",
       "        87.60869565,  89.67391304,  91.73913043,  93.80434783,\n",
       "        95.86956522,  97.93478261, 100.        ])"
      ]
     },
     "execution_count": 995,
     "metadata": {},
     "output_type": "execute_result"
    }
   ],
   "source": [
    "length = 200\n",
    "sim_distances = np.linspace(start=5, stop=length//2, num=len(histogram_list[0]))\n",
    "sim_distances"
   ]
  },
  {
   "cell_type": "code",
   "execution_count": 996,
   "id": "8a37db6b-d343-40eb-b94d-9e35dee6c244",
   "metadata": {},
   "outputs": [
    {
     "data": {
      "text/plain": [
       "<BarContainer object of 47 artists>"
      ]
     },
     "execution_count": 996,
     "metadata": {},
     "output_type": "execute_result"
    },
    {
     "data": {
      "image/png": "[encoded data removed]",
      "text/plain": [
       "<Figure size 432x288 with 1 Axes>"
      ]
     },
     "metadata": {
      "needs_background": "light"
     },
     "output_type": "display_data"
    }
   ],
   "source": [
    "plt.bar(sim_distances, sim_histogram_list[1])"
   ]
  },
  {
   "cell_type": "code",
   "execution_count": 997,
   "id": "750775ae-b56b-4d9a-ab9a-4c1d0e42ae33",
   "metadata": {},
   "outputs": [
    {
     "data": {
      "text/plain": [
       "[]"
      ]
     },
     "execution_count": 997,
     "metadata": {},
     "output_type": "execute_result"
    },
    {
     "data": {
      "image/png": "[encoded data removed]",
      "text/plain": [
       "<Figure size 432x288 with 1 Axes>"
      ]
     },
     "metadata": {
      "needs_background": "light"
     },
     "output_type": "display_data"
    }
   ],
   "source": [
    "plt.scatter(distances, normalised_median)\n",
    "plt.scatter(sim_distances, normalised_sim_median)\n",
    "plt.loglog()"
   ]
  },
  {
   "cell_type": "markdown",
   "id": "51123716-2aee-4a0c-883e-df5c00fec490",
   "metadata": {},
   "source": [
    "# 300"
   ]
  },
  {
   "cell_type": "code",
   "execution_count": 982,
   "id": "4d67ec59-8c82-4d1c-a10b-b4574496f525",
   "metadata": {},
   "outputs": [],
   "source": [
    "histogram = np.load(\"../data/alphafold/histogram_300.npy\", allow_pickle=True)\n",
    "rows = histogram.shape[0]\n",
    "cols = histogram.shape[1]\n",
    "\n",
    "histogram_list = []\n",
    "for i in range(rows):\n",
    "\n",
    "    filtered_histogram = histogram[i][3:49]\n",
    "    histogram_list.append(filtered_histogram)"
   ]
  },
  {
   "cell_type": "code",
   "execution_count": 965,
   "id": "ff870737-2345-4fa1-93a7-719be26c5f25",
   "metadata": {},
   "outputs": [
    {
     "data": {
      "text/plain": [
       "array([0.00730712, 0.00673505, 0.00539715, 0.00482722, 0.00510104,\n",
       "       0.00500589, 0.00490682, 0.00447437, 0.00373508, 0.00342285,\n",
       "       0.00284679, 0.0023836 , 0.00209854, 0.00227919, 0.00177061,\n",
       "       0.00146692, 0.00152382, 0.00142003, 0.00117998, 0.00114095,\n",
       "       0.0011569 , 0.00112774, 0.00092358, 0.00087768, 0.00069028,\n",
       "       0.00067849, 0.00061164, 0.00045079, 0.00044987, 0.00045357,\n",
       "       0.00041105, 0.00026236, 0.00045575, 0.00042778, 0.00044414,\n",
       "       0.00042806, 0.00022961, 0.00023735, 0.00022432, 0.00021726,\n",
       "       0.00022015, 0.00022402, 0.00021783, 0.00021655, 0.00020956,\n",
       "       0.        , 0.        ])"
      ]
     },
     "execution_count": 981,
     "metadata": {},
     "output_type": "execute_result"
    }
   ],
   "source": [
    "median = np.quantile(histogram_list, q=0.5, axis=0)\n",
    "median"
   ]
  },
  {
   "cell_type": "code",
   "execution_count": 966,
   "id": "82a9f8be-fbb5-4ead-82a9-ac5d2fb903c6",
   "metadata": {},
   "outputs": [
    {
     "data": {
      "text/plain": [
       "array([ 10.        ,  13.11111111,  16.22222222,  19.33333333,\n",
       "        22.44444444,  25.55555556,  28.66666667,  31.77777778,\n",
       "        34.88888889,  38.        ,  41.11111111,  44.22222222,\n",
       "        47.33333333,  50.44444444,  53.55555556,  56.66666667,\n",
       "        59.77777778,  62.88888889,  66.        ,  69.11111111,\n",
       "        72.22222222,  75.33333333,  78.44444444,  81.55555556,\n",
       "        84.66666667,  87.77777778,  90.88888889,  94.        ,\n",
       "        97.11111111, 100.22222222, 103.33333333, 106.44444444,\n",
       "       109.55555556, 112.66666667, 115.77777778, 118.88888889,\n",
       "       122.        , 125.11111111, 128.22222222, 131.33333333,\n",
       "       134.44444444, 137.55555556, 140.66666667, 143.77777778,\n",
       "       146.88888889, 150.        ])"
      ]
     },
     "execution_count": 966,
     "metadata": {},
     "output_type": "execute_result"
    }
   ],
   "source": [
    "length = 300\n",
    "distances = np.linspace(start=10, stop=length//2, num=len(histogram_list[0]))\n",
    "distances"
   ]
  },
  {
   "cell_type": "code",
   "execution_count": 967,
   "id": "432a5dde-14fd-4082-ae11-1cd3f7e7de2b",
   "metadata": {},
   "outputs": [
    {
     "data": {
      "text/plain": [
       "<BarContainer object of 46 artists>"
      ]
     },
     "execution_count": 967,
     "metadata": {},
     "output_type": "execute_result"
    },
    {
     "data": {
      "image/png": "[encoded data removed]",
      "text/plain": [
       "<Figure size 432x288 with 1 Axes>"
      ]
     },
     "metadata": {
      "needs_background": "light"
     },
     "output_type": "display_data"
    }
   ],
   "source": [
    "plt.bar(distances, histogram_list[1])"
   ]
  },
  {
   "cell_type": "code",
   "execution_count": 968,
   "id": "f7161c94-7a9c-4e95-8fd9-455e8b8c0fb7",
   "metadata": {},
   "outputs": [],
   "source": [
    "normalised_median = median / np.sum(median)"
   ]
  },
  {
   "cell_type": "code",
   "execution_count": 969,
   "id": "f5209275-ac08-4c1c-9a2e-1b9d7f23c682",
   "metadata": {},
   "outputs": [
    {
     "data": {
      "text/plain": [
       "1.0"
      ]
     },
     "execution_count": 969,
     "metadata": {},
     "output_type": "execute_result"
    }
   ],
   "source": [
    "np.sum(normalised_median)"
   ]
  },
  {
   "cell_type": "code",
   "execution_count": 970,
   "id": "12ad65be-00fe-4344-87db-2d8c3447725a",
   "metadata": {},
   "outputs": [
    {
     "data": {
      "text/plain": [
       "[]"
      ]
     },
     "execution_count": 970,
     "metadata": {},
     "output_type": "execute_result"
    },
    {
     "data": {
      "image/png": "[encoded data removed]",
      "text/plain": [
       "<Figure size 432x288 with 1 Axes>"
      ]
     },
     "metadata": {
      "needs_background": "light"
     },
     "output_type": "display_data"
    }
   ],
   "source": [
    "plt.scatter(distances, median)\n",
    "plt.loglog()"
   ]
  },
  {
   "cell_type": "code",
   "execution_count": 971,
   "id": "47ea6715-6f6c-4e9b-a2c6-7c6cc1f9a3fc",
   "metadata": {},
   "outputs": [],
   "source": [
    "sim_histogram = np.load(f\"../data/simulations/3d/histogram_300.npy\", allow_pickle=True)"
   ]
  },
  {
   "cell_type": "code",
   "execution_count": 973,
   "id": "3cecbf58-c7ec-426a-87ef-9f49f530b2c6",
   "metadata": {},
   "outputs": [],
   "source": [
    "rows = sim_histogram.shape[0]\n",
    "cols = sim_histogram.shape[1]\n",
    "\n",
    "sim_histogram_list = []\n",
    "for i in range(rows):\n",
    "\n",
    "    sim_filtered_histogram = sim_histogram[i][3:49]\n",
    "    sim_histogram_list.append(sim_filtered_histogram)"
   ]
  },
  {
   "cell_type": "code",
   "execution_count": 974,
   "id": "0c6958f4-45e8-4930-8431-45d9444e0a57",
   "metadata": {},
   "outputs": [
    {
     "data": {
      "text/plain": [
       "array([0.01099101, 0.01065258, 0.00900384, 0.00909312, 0.00684625,\n",
       "       0.00724714, 0.00695811, 0.00600057, 0.00599123, 0.00580594,\n",
       "       0.00452946, 0.00498241, 0.00525046, 0.00495529, 0.0067897 ,\n",
       "       0.00567968, 0.00408066, 0.00344167, 0.00367128, 0.00386369,\n",
       "       0.00314702, 0.00388443, 0.00407963, 0.00371341, 0.0029846 ,\n",
       "       0.00273641, 0.00158941, 0.00180931, 0.00270106, 0.00181552,\n",
       "       0.00205804, 0.00270657, 0.00271028, 0.00270657, 0.00203198,\n",
       "       0.00248133, 0.00186177, 0.00205422, 0.00225547, 0.00269376,\n",
       "       0.00092758, 0.00135144, 0.00180192, 0.00137865, 0.00184725,\n",
       "       0.0013541 ])"
      ]
     },
     "execution_count": 974,
     "metadata": {},
     "output_type": "execute_result"
    }
   ],
   "source": [
    "sim_median = np.quantile(sim_histogram_list, q=0.5, axis=0)\n",
    "sim_median"
   ]
  },
  {
   "cell_type": "code",
   "execution_count": 975,
   "id": "f0c244fe-0a37-4e4c-bdd8-4c49b69dcfd2",
   "metadata": {},
   "outputs": [],
   "source": [
    "normalised_sim_median = sim_median / np.sum(sim_median)"
   ]
  },
  {
   "cell_type": "code",
   "execution_count": 976,
   "id": "ba32e796-b7fb-4f16-b609-e261ae90e370",
   "metadata": {},
   "outputs": [
    {
     "data": {
      "text/plain": [
       "0.9999999999999998"
      ]
     },
     "execution_count": 976,
     "metadata": {},
     "output_type": "execute_result"
    }
   ],
   "source": [
    "np.sum(normalised_sim_median)"
   ]
  },
  {
   "cell_type": "code",
   "execution_count": 977,
   "id": "2f35d0b1-3886-43d2-9569-394a9f099c09",
   "metadata": {},
   "outputs": [
    {
     "data": {
      "text/plain": [
       "array([ 10.        ,  13.11111111,  16.22222222,  19.33333333,\n",
       "        22.44444444,  25.55555556,  28.66666667,  31.77777778,\n",
       "        34.88888889,  38.        ,  41.11111111,  44.22222222,\n",
       "        47.33333333,  50.44444444,  53.55555556,  56.66666667,\n",
       "        59.77777778,  62.88888889,  66.        ,  69.11111111,\n",
       "        72.22222222,  75.33333333,  78.44444444,  81.55555556,\n",
       "        84.66666667,  87.77777778,  90.88888889,  94.        ,\n",
       "        97.11111111, 100.22222222, 103.33333333, 106.44444444,\n",
       "       109.55555556, 112.66666667, 115.77777778, 118.88888889,\n",
       "       122.        , 125.11111111, 128.22222222, 131.33333333,\n",
       "       134.44444444, 137.55555556, 140.66666667, 143.77777778,\n",
       "       146.88888889, 150.        ])"
      ]
     },
     "execution_count": 977,
     "metadata": {},
     "output_type": "execute_result"
    }
   ],
   "source": [
    "length = 300\n",
    "sim_distances = np.linspace(start=10, stop=length//2, num=len(histogram_list[0]))\n",
    "sim_distances"
   ]
  },
  {
   "cell_type": "code",
   "execution_count": 978,
   "id": "3e798309-abce-4287-a6cc-a710aa249c3c",
   "metadata": {},
   "outputs": [
    {
     "data": {
      "text/plain": [
       "<BarContainer object of 46 artists>"
      ]
     },
     "execution_count": 978,
     "metadata": {},
     "output_type": "execute_result"
    },
    {
     "data": {
      "image/png": "[encoded data removed]",
      "text/plain": [
       "<Figure size 432x288 with 1 Axes>"
      ]
     },
     "metadata": {
      "needs_background": "light"
     },
     "output_type": "display_data"
    }
   ],
   "source": [
    "plt.bar(sim_distances, sim_histogram_list[1])"
   ]
  },
  {
   "cell_type": "code",
   "execution_count": 979,
   "id": "0b8b4cdb-58fd-438c-9309-07edc4cf6a74",
   "metadata": {},
   "outputs": [
    {
     "data": {
      "text/plain": [
       "[]"
      ]
     },
     "execution_count": 979,
     "metadata": {},
     "output_type": "execute_result"
    },
    {
     "data": {
      "image/png": "[encoded data removed]",
      "text/plain": [
       "<Figure size 432x288 with 1 Axes>"
      ]
     },
     "metadata": {
      "needs_background": "light"
     },
     "output_type": "display_data"
    }
   ],
   "source": [
    "plt.scatter(distances, normalised_median)\n",
    "plt.scatter(sim_distances, normalised_sim_median)\n",
    "plt.loglog()"
   ]
  },
  {
   "cell_type": "markdown",
   "id": "d4e2eed2-dfbc-47e5-9dce-b3e9a95520c9",
   "metadata": {},
   "source": [
    "# RCSB Distances"
   ]
  },
  {
   "cell_type": "markdown",
   "id": "9d5f0754-5087-43d0-afdd-c99de4f7246f",
   "metadata": {},
   "source": [
    "# 100"
   ]
  },
  {
   "cell_type": "code",
   "execution_count": 915,
   "id": "f84e08e8-69a0-4331-9e2f-76d9994e1695",
   "metadata": {},
   "outputs": [],
   "source": [
    "histogram = np.load(\"../data/rcsb/histogram_100.npy\", allow_pickle=True)\n",
    "rows = histogram.shape[0]\n",
    "cols = histogram.shape[1]\n",
    "half = len(histogram[0])//2\n",
    "histogram_list = []\n",
    "for i in range(rows):\n",
    "    for j in range(cols):\n",
    "        filtered_histogram = histogram[i][3:half]\n",
    "        histogram_list.append(filtered_histogram)"
   ]
  },
  {
   "cell_type": "code",
   "execution_count": 916,
   "id": "ef8693f1-4aa6-4c65-b034-d70e2db2d507",
   "metadata": {},
   "outputs": [
    {
     "data": {
      "text/plain": [
       "46"
      ]
     },
     "execution_count": 916,
     "metadata": {},
     "output_type": "execute_result"
    }
   ],
   "source": [
    "median = np.quantile(histogram_list, q=0.5, axis=0)\n",
    "len(median)"
   ]
  },
  {
   "cell_type": "code",
   "execution_count": 917,
   "id": "31010442-9d31-4808-8160-65a98b1365fd",
   "metadata": {},
   "outputs": [],
   "source": [
    "normalised_median = median / np.sum(median)"
   ]
  },
  {
   "cell_type": "code",
   "execution_count": 918,
   "id": "57548464-8a5a-4712-a750-c341a10b5949",
   "metadata": {},
   "outputs": [
    {
     "data": {
      "text/plain": [
       "array([ 4.        ,  5.02222222,  6.04444444,  7.06666667,  8.08888889,\n",
       "        9.11111111, 10.13333333, 11.15555556, 12.17777778, 13.2       ,\n",
       "       14.22222222, 15.24444444, 16.26666667, 17.28888889, 18.31111111,\n",
       "       19.33333333, 20.35555556, 21.37777778, 22.4       , 23.42222222,\n",
       "       24.44444444, 25.46666667, 26.48888889, 27.51111111, 28.53333333,\n",
       "       29.55555556, 30.57777778, 31.6       , 32.62222222, 33.64444444,\n",
       "       34.66666667, 35.68888889, 36.71111111, 37.73333333, 38.75555556,\n",
       "       39.77777778, 40.8       , 41.82222222, 42.84444444, 43.86666667,\n",
       "       44.88888889, 45.91111111, 46.93333333, 47.95555556, 48.97777778,\n",
       "       50.        ])"
      ]
     },
     "execution_count": 918,
     "metadata": {},
     "output_type": "execute_result"
    }
   ],
   "source": [
    "length = 100\n",
    "distances = np.linspace(start=4, stop=length//2, num=len(histogram_list[0]))\n",
    "distances"
   ]
  },
  {
   "cell_type": "code",
   "execution_count": 919,
   "id": "0162cb8e-7bb3-4c5f-b5e3-8d1c67eda644",
   "metadata": {},
   "outputs": [
    {
     "data": {
      "text/plain": [
       "<BarContainer object of 46 artists>"
      ]
     },
     "execution_count": 919,
     "metadata": {},
     "output_type": "execute_result"
    },
    {
     "data": {
      "image/png": "[encoded data removed]",
      "text/plain": [
       "<Figure size 432x288 with 1 Axes>"
      ]
     },
     "metadata": {
      "needs_background": "light"
     },
     "output_type": "display_data"
    }
   ],
   "source": [
    "plt.bar(distances, median)"
   ]
  },
  {
   "cell_type": "code",
   "execution_count": 920,
   "id": "d6eac3de-c181-4288-9a23-9e43ce484218",
   "metadata": {},
   "outputs": [],
   "source": [
    "sim_histogram = np.load(f\"../data/simulations/3d/histogram_100.npy\", allow_pickle=True)"
   ]
  },
  {
   "cell_type": "code",
   "execution_count": 921,
   "id": "6004782e-32a2-43b2-93ab-3d4d64ab51df",
   "metadata": {},
   "outputs": [],
   "source": [
    "rows = sim_histogram.shape[0]\n",
    "cols = sim_histogram.shape[1]\n",
    "\n",
    "sim_histogram_list = []\n",
    "for i in range(rows):\n",
    "    for j in range(cols):\n",
    "        sim_filtered_histogram = sim_histogram[i][3:49]\n",
    "        sim_histogram_list.append(sim_filtered_histogram)\n",
    "\n",
    "sim_median = np.quantile(sim_histogram_list, q=0.5, axis=0)\n",
    "sim_median\n",
    "\n",
    "normalised_sim_median = sim_median / np.sum(sim_median)\n",
    "length = 100\n",
    "sim_distances = np.linspace(start=4, stop=length//2, num=len(histogram_list[0]))"
   ]
  },
  {
   "cell_type": "code",
   "execution_count": 922,
   "id": "228a3dfd-e016-4c81-a158-274827c7a676",
   "metadata": {},
   "outputs": [
    {
     "data": {
      "text/plain": [
       "46"
      ]
     },
     "execution_count": 922,
     "metadata": {},
     "output_type": "execute_result"
    }
   ],
   "source": [
    "len(histogram_list[0])"
   ]
  },
  {
   "cell_type": "code",
   "execution_count": 923,
   "id": "0c3f626d-3afc-4696-9aee-a56449850328",
   "metadata": {},
   "outputs": [
    {
     "data": {
      "text/plain": [
       "[]"
      ]
     },
     "execution_count": 923,
     "metadata": {},
     "output_type": "execute_result"
    },
    {
     "data": {
      "image/png": "[encoded data removed]",
      "text/plain": [
       "<Figure size 432x288 with 1 Axes>"
      ]
     },
     "metadata": {
      "needs_background": "light"
     },
     "output_type": "display_data"
    }
   ],
   "source": [
    "plt.scatter(distances, normalised_median)\n",
    "plt.scatter(sim_distances, normalised_sim_median)\n",
    "plt.loglog()"
   ]
  },
  {
   "cell_type": "markdown",
   "id": "5610ac08-9323-4004-a3c8-3050ffec1734",
   "metadata": {},
   "source": [
    "# 200"
   ]
  },
  {
   "cell_type": "code",
   "execution_count": 928,
   "id": "e332a79c-2f62-4005-b098-8b6acd5d9d6b",
   "metadata": {},
   "outputs": [
    {
     "name": "stdout",
     "output_type": "stream",
     "text": [
      "49\n"
     ]
    }
   ],
   "source": [
    "histogram = np.load(\"../data/rcsb/histogram_200.npy\", allow_pickle=True)\n",
    "rows = histogram.shape[0]\n",
    "cols = histogram.shape[1]\n",
    "half = len(histogram[0])//2\n",
    "print(half)\n",
    "histogram_list = []\n",
    "for i in range(rows):\n",
    "    for j in range(cols):\n",
    "        filtered_histogram = histogram[i][2:49]\n",
    "        histogram_list.append(filtered_histogram)"
   ]
  },
  {
   "cell_type": "code",
   "execution_count": 929,
   "id": "e883d168-d8d6-42c6-8339-9f3835055cdd",
   "metadata": {},
   "outputs": [
    {
     "data": {
      "text/plain": [
       "47"
      ]
     },
     "execution_count": 929,
     "metadata": {},
     "output_type": "execute_result"
    }
   ],
   "source": [
    "median = np.quantile(histogram_list, q=0.5, axis=0)\n",
    "len(median)"
   ]
  },
  {
   "cell_type": "code",
   "execution_count": 930,
   "id": "e8193721-9100-4d11-b92e-9a6fac3c061e",
   "metadata": {},
   "outputs": [],
   "source": [
    "normalised_median = median / np.sum(median)"
   ]
  },
  {
   "cell_type": "code",
   "execution_count": 931,
   "id": "ab8bda8d-f13f-4e2d-961c-473db664c1f1",
   "metadata": {},
   "outputs": [
    {
     "data": {
      "text/plain": [
       "47"
      ]
     },
     "execution_count": 931,
     "metadata": {},
     "output_type": "execute_result"
    }
   ],
   "source": [
    "length = 200\n",
    "distances = np.linspace(start=5, stop=length//2, num=len(histogram_list[0]))\n",
    "len(distances)"
   ]
  },
  {
   "cell_type": "code",
   "execution_count": 932,
   "id": "311a6de2-6ac9-4983-9643-9e12ef5d34c2",
   "metadata": {},
   "outputs": [
    {
     "data": {
      "text/plain": [
       "<BarContainer object of 47 artists>"
      ]
     },
     "execution_count": 932,
     "metadata": {},
     "output_type": "execute_result"
    },
    {
     "data": {
      "image/png": "[encoded data removed]",
      "text/plain": [
       "<Figure size 432x288 with 1 Axes>"
      ]
     },
     "metadata": {
      "needs_background": "light"
     },
     "output_type": "display_data"
    }
   ],
   "source": [
    "plt.bar(distances, histogram_list[1])"
   ]
  },
  {
   "cell_type": "code",
   "execution_count": 933,
   "id": "1fa5f9d3-9040-4140-8010-ab382d0042f2",
   "metadata": {},
   "outputs": [],
   "source": [
    "sim_histogram = np.load(f\"../data/simulations/3d/histogram_200.npy\", allow_pickle=True)\n",
    "rows = sim_histogram.shape[0]\n",
    "cols = sim_histogram.shape[1]\n",
    "\n",
    "sim_histogram_list = []\n",
    "for i in range(rows):\n",
    "    for j in range(cols):\n",
    "        sim_filtered_histogram = sim_histogram[i][2:49]\n",
    "        sim_histogram_list.append(sim_filtered_histogram)\n",
    "\n",
    "sim_median = np.quantile(sim_histogram_list, q=0.5, axis=0)\n",
    "sim_median\n",
    "\n",
    "normalised_sim_median = sim_median / np.sum(sim_median)\n",
    "length = 200\n",
    "sim_distances = np.linspace(start=5, stop=length//2, num=len(histogram_list[0]))"
   ]
  },
  {
   "cell_type": "code",
   "execution_count": 934,
   "id": "af43754d-8c66-4b0c-bde9-fb5a2e7536ff",
   "metadata": {},
   "outputs": [
    {
     "data": {
      "text/plain": [
       "[]"
      ]
     },
     "execution_count": 934,
     "metadata": {},
     "output_type": "execute_result"
    },
    {
     "data": {
      "image/png": "[encoded data removed]",
      "text/plain": [
       "<Figure size 432x288 with 1 Axes>"
      ]
     },
     "metadata": {
      "needs_background": "light"
     },
     "output_type": "display_data"
    }
   ],
   "source": [
    "plt.scatter(distances, normalised_median)\n",
    "plt.scatter(sim_distances, normalised_sim_median)\n",
    "plt.loglog()"
   ]
  },
  {
   "cell_type": "markdown",
   "id": "3d696874-6d0e-4bc6-94ae-0008eaad24a9",
   "metadata": {},
   "source": [
    "# 300\n"
   ]
  },
  {
   "cell_type": "code",
   "execution_count": 949,
   "id": "274b2aa9-1727-40a1-93e9-d0ad768dcb1d",
   "metadata": {},
   "outputs": [
    {
     "name": "stdout",
     "output_type": "stream",
     "text": [
      "49\n"
     ]
    }
   ],
   "source": [
    "histogram = np.load(\"../data/rcsb/histogram_300.npy\", allow_pickle=True)\n",
    "rows = histogram.shape[0]\n",
    "cols = histogram.shape[1]\n",
    "half = len(histogram[0]) // 2\n",
    "print(half)\n",
    "histogram_list = []\n",
    "for i in range(rows):\n",
    "    filtered_histogram = histogram[i][3:49]\n",
    "    histogram_list.append(filtered_histogram)"
   ]
  },
  {
   "cell_type": "code",
   "execution_count": null,
   "id": "5e3dbf26-7567-4593-8f64-a6679f587a78",
   "metadata": {},
   "outputs": [],
   "source": []
  },
  {
   "cell_type": "code",
   "execution_count": 950,
   "id": "3fe07c9e-df25-41af-94be-0a6af599f345",
   "metadata": {},
   "outputs": [
    {
     "data": {
      "text/plain": [
       "(10091, 46)"
      ]
     },
     "execution_count": 950,
     "metadata": {},
     "output_type": "execute_result"
    }
   ],
   "source": [
    "np.shape(histogram_list)"
   ]
  },
  {
   "cell_type": "code",
   "execution_count": 951,
   "id": "c9326877-0916-4f27-b3cd-8f5a8852c373",
   "metadata": {},
   "outputs": [
    {
     "data": {
      "text/plain": [
       "46"
      ]
     },
     "execution_count": 951,
     "metadata": {},
     "output_type": "execute_result"
    }
   ],
   "source": [
    "median = np.quantile(histogram_list, q=0.5, axis=0)\n",
    "len(median)"
   ]
  },
  {
   "cell_type": "code",
   "execution_count": null,
   "id": "34d8b7f2-a0aa-4f24-a45a-f8be322e8806",
   "metadata": {},
   "outputs": [],
   "source": []
  },
  {
   "cell_type": "code",
   "execution_count": 952,
   "id": "d3dc3efb-f685-4aae-829e-e90387fde745",
   "metadata": {},
   "outputs": [
    {
     "data": {
      "text/plain": [
       "46"
      ]
     },
     "execution_count": 952,
     "metadata": {},
     "output_type": "execute_result"
    }
   ],
   "source": [
    "normalised_median = median / np.sum(median)\n",
    "len(normalised_median)"
   ]
  },
  {
   "cell_type": "code",
   "execution_count": 953,
   "id": "939d0b76-01d5-4aa4-9f6f-17bd69fc345b",
   "metadata": {},
   "outputs": [
    {
     "data": {
      "text/plain": [
       "46"
      ]
     },
     "execution_count": 953,
     "metadata": {},
     "output_type": "execute_result"
    }
   ],
   "source": [
    "length = 300\n",
    "distances = np.linspace(start=10, stop=length//2, num=len(histogram_list[0]))\n",
    "len(distances)"
   ]
  },
  {
   "cell_type": "code",
   "execution_count": 954,
   "id": "21ff66be-3dc5-43bc-b5a4-162699c74985",
   "metadata": {},
   "outputs": [
    {
     "data": {
      "text/plain": [
       "<BarContainer object of 46 artists>"
      ]
     },
     "execution_count": 954,
     "metadata": {},
     "output_type": "execute_result"
    },
    {
     "data": {
      "image/png": "[encoded data removed]",
      "text/plain": [
       "<Figure size 432x288 with 1 Axes>"
      ]
     },
     "metadata": {
      "needs_background": "light"
     },
     "output_type": "display_data"
    }
   ],
   "source": [
    "plt.bar(distances, normalised_median)"
   ]
  },
  {
   "cell_type": "code",
   "execution_count": 955,
   "id": "cbb4ebb7-a4fb-4d32-827a-f2c62b9eb1a8",
   "metadata": {},
   "outputs": [],
   "source": [
    "sim_histogram = np.load(f\"../data/simulations/3d/histogram_300.npy\", allow_pickle=True)\n",
    "rows = sim_histogram.shape[0]\n",
    "cols = sim_histogram.shape[1]\n",
    "\n",
    "sim_histogram_list = []\n",
    "for i in range(rows):\n",
    "    for j in range(cols):\n",
    "        sim_filtered_histogram = sim_histogram[i][3:49]\n",
    "        sim_histogram_list.append(sim_filtered_histogram)\n",
    "\n",
    "\n",
    "sim_median = np.quantile(sim_histogram_list, q=0.5, axis=0)\n",
    "sim_median\n",
    "\n",
    "normalised_sim_median = sim_median / np.sum(sim_median)\n",
    "length = 300\n",
    "sim_distances = np.linspace(start=10, stop=length//2, num=len(sim_histogram_list[0]))\n",
    "\n",
    "# lower_bound, upper_bound = np.quantile(sim_histogram_list, q=[1 / 3, 2 / 3], axis=0)\n",
    "# norm_lb, norm_ub = lower_bound / np.sum(sim_median), upper_bound / np.sum(sim_median)\n"
   ]
  },
  {
   "cell_type": "code",
   "execution_count": 956,
   "id": "073333bb-b9cc-4f78-9c72-238e17a2bd9b",
   "metadata": {},
   "outputs": [
    {
     "data": {
      "text/plain": [
       "array([ 10.        ,  13.11111111,  16.22222222,  19.33333333,\n",
       "        22.44444444,  25.55555556,  28.66666667,  31.77777778,\n",
       "        34.88888889,  38.        ,  41.11111111,  44.22222222,\n",
       "        47.33333333,  50.44444444,  53.55555556,  56.66666667,\n",
       "        59.77777778,  62.88888889,  66.        ,  69.11111111,\n",
       "        72.22222222,  75.33333333,  78.44444444,  81.55555556,\n",
       "        84.66666667,  87.77777778,  90.88888889,  94.        ,\n",
       "        97.11111111, 100.22222222, 103.33333333, 106.44444444,\n",
       "       109.55555556, 112.66666667, 115.77777778, 118.88888889,\n",
       "       122.        , 125.11111111, 128.22222222, 131.33333333,\n",
       "       134.44444444, 137.55555556, 140.66666667, 143.77777778,\n",
       "       146.88888889, 150.        ])"
      ]
     },
     "execution_count": 956,
     "metadata": {},
     "output_type": "execute_result"
    }
   ],
   "source": [
    "sim_distances"
   ]
  },
  {
   "cell_type": "code",
   "execution_count": 957,
   "id": "458081e2-6ad6-4bb1-831e-3208b558955a",
   "metadata": {},
   "outputs": [
    {
     "data": {
      "text/plain": [
       "[]"
      ]
     },
     "execution_count": 957,
     "metadata": {},
     "output_type": "execute_result"
    },
    {
     "data": {
      "image/png": "[encoded data removed]",
      "text/plain": [
       "<Figure size 432x288 with 1 Axes>"
      ]
     },
     "metadata": {
      "needs_background": "light"
     },
     "output_type": "display_data"
    }
   ],
   "source": [
    "plt.scatter(distances, normalised_median)\n",
    "plt.scatter(sim_distances, normalised_sim_median)\n",
    "# plt.fill_between(sim_distances, norm_ub, norm_lb)\n",
    "plt.loglog()"
   ]
  },
  {
   "cell_type": "code",
   "execution_count": 1033,
   "id": "a94b4b81-bb59-41c1-96ad-7e59ad0ebea6",
   "metadata": {},
   "outputs": [
    {
     "data": {
      "text/plain": [
       "array([  1.        ,   4.02020202,   7.04040404,  10.06060606,\n",
       "        13.08080808,  16.1010101 ,  19.12121212,  22.14141414,\n",
       "        25.16161616,  28.18181818,  31.2020202 ,  34.22222222,\n",
       "        37.24242424,  40.26262626,  43.28282828,  46.3030303 ,\n",
       "        49.32323232,  52.34343434,  55.36363636,  58.38383838,\n",
       "        61.4040404 ,  64.42424242,  67.44444444,  70.46464646,\n",
       "        73.48484848,  76.50505051,  79.52525253,  82.54545455,\n",
       "        85.56565657,  88.58585859,  91.60606061,  94.62626263,\n",
       "        97.64646465, 100.66666667, 103.68686869, 106.70707071,\n",
       "       109.72727273, 112.74747475, 115.76767677, 118.78787879,\n",
       "       121.80808081, 124.82828283, 127.84848485, 130.86868687,\n",
       "       133.88888889, 136.90909091, 139.92929293, 142.94949495,\n",
       "       145.96969697, 148.98989899, 152.01010101, 155.03030303,\n",
       "       158.05050505, 161.07070707, 164.09090909, 167.11111111,\n",
       "       170.13131313, 173.15151515, 176.17171717, 179.19191919,\n",
       "       182.21212121, 185.23232323, 188.25252525, 191.27272727,\n",
       "       194.29292929, 197.31313131, 200.33333333, 203.35353535,\n",
       "       206.37373737, 209.39393939, 212.41414141, 215.43434343,\n",
       "       218.45454545, 221.47474747, 224.49494949, 227.51515152,\n",
       "       230.53535354, 233.55555556, 236.57575758, 239.5959596 ,\n",
       "       242.61616162, 245.63636364, 248.65656566, 251.67676768,\n",
       "       254.6969697 , 257.71717172, 260.73737374, 263.75757576,\n",
       "       266.77777778, 269.7979798 , 272.81818182, 275.83838384,\n",
       "       278.85858586, 281.87878788, 284.8989899 , 287.91919192,\n",
       "       290.93939394, 293.95959596, 296.97979798, 300.        ])"
      ]
     },
     "execution_count": 1033,
     "metadata": {},
     "output_type": "execute_result"
    }
   ],
   "source": [
    "lin = np.linspace(start=1, stop=300, num=100)\n",
    "\n",
    "# for i in range(len(lin)):\n",
    "#     if int(lin[i]) == 10:\n",
    "#         print(i)\n",
    "\n",
    "lin"
   ]
  },
  {
   "cell_type": "code",
   "execution_count": 962,
   "id": "fd719634-4d2d-453b-a89d-3a85b68e6976",
   "metadata": {},
   "outputs": [
    {
     "name": "stdout",
     "output_type": "stream",
     "text": [
      "2\n"
     ]
    }
   ],
   "source": [
    "lin = np.linspace(start=1, stop=200, num=100)\n",
    "for i in range(len(lin)):\n",
    "    if int(lin[i]) == 5:\n",
    "        print(i)"
   ]
  },
  {
   "cell_type": "code",
   "execution_count": 963,
   "id": "f329861b-c4eb-4cc7-8635-890d38175675",
   "metadata": {},
   "outputs": [
    {
     "name": "stdout",
     "output_type": "stream",
     "text": [
      "4\n"
     ]
    }
   ],
   "source": [
    "lin = np.linspace(start=1, stop=100, num=100)\n",
    "for i in range(len(lin)):\n",
    "    if int(lin[i]) == 5:\n",
    "        print(i)"
   ]
  },
  {
   "cell_type": "code",
   "execution_count": 14,
   "id": "ab2f18a9-7735-4ea7-884a-e64b60936efe",
   "metadata": {},
   "outputs": [],
   "source": [
    "import numpy as np\n",
    "histogram_100 = np.load(\"../data/rcsb/histogram_100.npy\", allow_pickle=True)\n",
    "histogram_200 = np.load(\"../data/rcsb/histogram_200.npy\", allow_pickle=True)\n",
    "histogram_300 = np.load(\"../data/rcsb/histogram_300.npy\", allow_pickle=True)\n",
    "\n",
    "distances_100 = np.linspace(1, 100, 100)[:-1]\n",
    "distances_200 = np.linspace(1, 200, 100)[:-1]\n",
    "distances_300 = np.linspace(1, 300, 100)[:-1]\n",
    "\n",
    "med_100 = np.mean(histogram_100, axis=0)\n",
    "med_200 = np.mean(histogram_200, axis=0)\n",
    "med_300 = np.mean(histogram_300, axis=0)\n",
    "\n",
    "norm_med_100 = med_100 / np.sum(med_100)\n",
    "norm_med_200 = med_200 / np.sum(med_200)\n",
    "norm_med_300 = med_300 / np.sum(med_300)\n",
    "\n"
   ]
  },
  {
   "cell_type": "code",
   "execution_count": 15,
   "id": "98ff5d36-2c2d-4696-a5df-4e32ed02010e",
   "metadata": {},
   "outputs": [
    {
     "data": {
      "text/plain": [
       "<matplotlib.legend.Legend at 0x164214af0>"
      ]
     },
     "execution_count": 15,
     "metadata": {},
     "output_type": "execute_result"
    },
    {
     "data": {
      "image/png": "[encoded data removed]",
      "text/plain": [
       "<Figure size 432x288 with 1 Axes>"
      ]
     },
     "metadata": {
      "needs_background": "light"
     },
     "output_type": "display_data"
    }
   ],
   "source": [
    "import matplotlib.pyplot as plt\n",
    "plt.scatter(distances_100, norm_med_100, label=\"100\")\n",
    "plt.scatter(distances_200, norm_med_200, label=\"200\")\n",
    "plt.scatter(distances_300, norm_med_300, label=\"300\")\n",
    "plt.loglog()\n",
    "plt.legend()"
   ]
  },
  {
   "cell_type": "code",
   "execution_count": 24,
   "id": "e03e3a7a-7506-4547-bdd2-ce869e600570",
   "metadata": {},
   "outputs": [],
   "source": [
    "import numpy as np\n",
    "histogram_100 = np.load(\"../data/rcsb/histogram_100.npy\", allow_pickle=True)\n",
    "histogram_200 = np.load(\"../data/rcsb/histogram_200.npy\", allow_pickle=True)\n",
    "histogram_300 = np.load(\"../data/rcsb/histogram_300.npy\", allow_pickle=True)\n",
    "\n",
    "distances_100 = np.linspace(1, 100, 100)[:-1]\n",
    "distances_200 = np.linspace(1, 200, 100)[:-1]\n",
    "distances_300 = np.linspace(1, 300, 100)[:-1]\n",
    "\n",
    "med_100 = np.median(histogram_100, axis=0)\n",
    "med_200 = np.median(histogram_200, axis=0)\n",
    "med_300 = np.median(histogram_300, axis=0)\n",
    "\n",
    "norm_med_100 = med_100 / np.sum(med_100)\n",
    "norm_med_200 = med_200 / np.sum(med_200)\n",
    "norm_med_300 = med_300 / np.sum(med_300)\n",
    "\n",
    "\n"
   ]
  },
  {
   "cell_type": "code",
   "execution_count": 25,
   "id": "e92098a4-295a-462e-be0c-f91cd125b6ad",
   "metadata": {},
   "outputs": [
    {
     "data": {
      "text/plain": [
       "<matplotlib.legend.Legend at 0x162fc8d90>"
      ]
     },
     "execution_count": 25,
     "metadata": {},
     "output_type": "execute_result"
    },
    {
     "data": {
      "image/png": "[encoded data removed]",
      "text/plain": [
       "<Figure size 432x288 with 1 Axes>"
      ]
     },
     "metadata": {
      "needs_background": "light"
     },
     "output_type": "display_data"
    }
   ],
   "source": [
    "import matplotlib.pyplot as plt\n",
    "plt.scatter(distances_100, norm_med_100, label=\"100\")\n",
    "plt.scatter(distances_200, norm_med_200, label=\"200\")\n",
    "plt.scatter(distances_300, norm_med_300, label=\"300\")\n",
    "plt.loglog()\n",
    "plt.legend()"
   ]
  },
  {
   "cell_type": "code",
   "execution_count": 18,
   "id": "1f350e06-a5de-4a3b-b054-213f8029f2f8",
   "metadata": {},
   "outputs": [],
   "source": [
    "import numpy as np\n",
    "histogram_100 = np.load(\"../data/rcsb/histogram_200.npy\", allow_pickle=True)\n",
    "histogram_200 = np.load(\"../data/alphafold/histogram_200.npy\", allow_pickle=True)\n",
    "histogram_300 = np.load(\"../data/simulations/3d/histogram_200.npy\", allow_pickle=True)\n",
    "\n",
    "distances_100 = np.linspace(1, 200, 100)[:-1]\n",
    "distances_200 = np.linspace(1, 200, 100)[:-1]\n",
    "distances_300 = np.linspace(1, 200, 100)[:-1]\n",
    "\n",
    "med_100 = np.median(histogram_100, axis=0)\n",
    "med_200 = np.median(histogram_200, axis=0)\n",
    "med_300 = np.median(histogram_300, axis=0)\n",
    "\n",
    "norm_med_100 = med_100 / np.sum(med_100)\n",
    "norm_med_200 = med_200 / np.sum(med_200)\n",
    "norm_med_300 = med_300 / np.sum(med_300)\n",
    "\n",
    "\n",
    "\n"
   ]
  },
  {
   "cell_type": "code",
   "execution_count": 28,
   "id": "58413b0f-cd2b-49d8-b553-aaf64b0acc46",
   "metadata": {},
   "outputs": [
    {
     "data": {
      "text/plain": [
       "49.74874371859297"
      ]
     },
     "execution_count": 28,
     "metadata": {},
     "output_type": "execute_result"
    }
   ],
   "source": [
    "histogram_100 = np.load(\"../data/rcsb/histogram_200.npy\", allow_pickle=True)[0]\n",
    "np.sum(histogram_100)*100"
   ]
  },
  {
   "cell_type": "code",
   "execution_count": 20,
   "id": "bb0166a0-9a00-4e62-b337-50652c05c50b",
   "metadata": {},
   "outputs": [
    {
     "data": {
      "text/plain": [
       "<matplotlib.legend.Legend at 0x162bc7220>"
      ]
     },
     "execution_count": 20,
     "metadata": {},
     "output_type": "execute_result"
    },
    {
     "data": {
      "image/png": "[encoded data removed]",
      "text/plain": [
       "<Figure size 432x288 with 1 Axes>"
      ]
     },
     "metadata": {
      "needs_background": "light"
     },
     "output_type": "display_data"
    }
   ],
   "source": [
    "import matplotlib.pyplot as plt\n",
    "plt.scatter(distances_100, norm_med_100, label=\"pdb\")\n",
    "plt.scatter(distances_200, norm_med_200, label=\"alpha\")\n",
    "plt.scatter(distances_300, norm_med_300, label=\"sim\")\n",
    "plt.loglog()\n",
    "plt.legend()"
   ]
  },
  {
   "cell_type": "code",
   "execution_count": null,
   "id": "632432b2-77c4-41ea-93b6-5466934cae7a",
   "metadata": {},
   "outputs": [
    {
     "data": {
      "text/plain": [
       "<matplotlib.legend.Legend at 0x1600ac520>"
      ]
     },
     "execution_count": 21,
     "metadata": {},
     "output_type": "execute_result"
    },
    {
     "data": {
      "image/png": "[encoded data removed]",
      "text/plain": [
       "<Figure size 432x288 with 1 Axes>"
      ]
     },
     "metadata": {
      "needs_background": "light"
     },
     "output_type": "display_data"
    }
   ],
   "source": [
    "import numpy as np\n",
    "histogram_100 = np.load(\"../data/rcsb/histogram_200.npy\", allow_pickle=True)\n",
    "histogram_200 = np.load(\"../data/alphafold/histogram_200.npy\", allow_pickle=True)\n",
    "histogram_300 = np.load(\"../data/simulations/3d/histogram_200.npy\", allow_pickle=True)\n",
    "\n",
    "distances_100 = np.linspace(1, 200, 100)[:-1]\n",
    "distances_200 = np.linspace(1, 200, 100)[:-1]\n",
    "distances_300 = np.linspace(1, 200, 100)[:-1]\n",
    "\n",
    "med_100 = np.mean(histogram_100, axis=0)\n",
    "med_200 = np.mean(histogram_200, axis=0)\n",
    "med_300 = np.mean(histogram_300, axis=0)\n",
    "\n",
    "norm_med_100 = med_100 / np.sum(med_100)\n",
    "norm_med_200 = med_200 / np.sum(med_200)\n",
    "norm_med_300 = med_300 / np.sum(med_300)\n",
    "\n",
    "import matplotlib.pyplot as plt\n",
    "plt.scatter(distances_100, norm_med_100, label=\"pdb\")\n",
    "plt.scatter(distances_200, norm_med_200, label=\"alpha\")\n",
    "plt.scatter(distances_300, norm_med_300, label=\"sim\")\n",
    "plt.loglog()\n",
    "plt.legend()\n",
    "\n",
    "\n"
   ]
  },
  {
   "cell_type": "code",
   "execution_count": 26,
   "id": "db94beb6-afe8-44f1-b229-e4acb297e51c",
   "metadata": {},
   "outputs": [
    {
     "ename": "NameError",
     "evalue": "name 'distances' is not defined",
     "output_type": "error",
     "traceback": [
      "\u001b[0;31m---------------------------------------------------------------------------\u001b[0m",
      "\u001b[0;31mNameError\u001b[0m                                 Traceback (most recent call last)",
      "Input \u001b[0;32mIn [26]\u001b[0m, in \u001b[0;36m<cell line: 2>\u001b[0;34m()\u001b[0m\n\u001b[1;32m      1\u001b[0m bins \u001b[38;5;241m=\u001b[39m np\u001b[38;5;241m.\u001b[39mlinspace(start\u001b[38;5;241m=\u001b[39m\u001b[38;5;241m1\u001b[39m, stop\u001b[38;5;241m=\u001b[39m\u001b[38;5;241m100\u001b[39m, num\u001b[38;5;241m=\u001b[39m\u001b[38;5;241m100\u001b[39m)\n\u001b[0;32m----> 2\u001b[0m histogram, edges \u001b[38;5;241m=\u001b[39m np\u001b[38;5;241m.\u001b[39mhistogram(\u001b[43mdistances\u001b[49m, bins\u001b[38;5;241m=\u001b[39mbins, density\u001b[38;5;241m=\u001b[39m\u001b[38;5;28;01mTrue\u001b[39;00m)\n",
      "\u001b[0;31mNameError\u001b[0m: name 'distances' is not defined"
     ]
    }
   ],
   "source": [
    "bins = np.linspace(start=1, stop=100, num=100)\n",
    "histogram, edges = np.histogram(distances, bins=bins, density=True)"
   ]
  },
  {
   "cell_type": "code",
   "execution_count": 31,
   "id": "59b249ed-2f6b-47c4-9319-7e8cf489ed09",
   "metadata": {},
   "outputs": [
    {
     "data": {
      "text/plain": [
       "array([  1.        ,   4.02020202,   7.04040404,  10.06060606,\n",
       "        13.08080808,  16.1010101 ,  19.12121212,  22.14141414,\n",
       "        25.16161616,  28.18181818,  31.2020202 ,  34.22222222,\n",
       "        37.24242424,  40.26262626,  43.28282828,  46.3030303 ,\n",
       "        49.32323232,  52.34343434,  55.36363636,  58.38383838,\n",
       "        61.4040404 ,  64.42424242,  67.44444444,  70.46464646,\n",
       "        73.48484848,  76.50505051,  79.52525253,  82.54545455,\n",
       "        85.56565657,  88.58585859,  91.60606061,  94.62626263,\n",
       "        97.64646465, 100.66666667, 103.68686869, 106.70707071,\n",
       "       109.72727273, 112.74747475, 115.76767677, 118.78787879,\n",
       "       121.80808081, 124.82828283, 127.84848485, 130.86868687,\n",
       "       133.88888889, 136.90909091, 139.92929293, 142.94949495,\n",
       "       145.96969697, 148.98989899, 152.01010101, 155.03030303,\n",
       "       158.05050505, 161.07070707, 164.09090909, 167.11111111,\n",
       "       170.13131313, 173.15151515, 176.17171717, 179.19191919,\n",
       "       182.21212121, 185.23232323, 188.25252525, 191.27272727,\n",
       "       194.29292929, 197.31313131, 200.33333333, 203.35353535,\n",
       "       206.37373737, 209.39393939, 212.41414141, 215.43434343,\n",
       "       218.45454545, 221.47474747, 224.49494949, 227.51515152,\n",
       "       230.53535354, 233.55555556, 236.57575758, 239.5959596 ,\n",
       "       242.61616162, 245.63636364, 248.65656566, 251.67676768,\n",
       "       254.6969697 , 257.71717172, 260.73737374, 263.75757576,\n",
       "       266.77777778, 269.7979798 , 272.81818182, 275.83838384,\n",
       "       278.85858586, 281.87878788, 284.8989899 , 287.91919192,\n",
       "       290.93939394, 293.95959596, 296.97979798, 300.        ])"
      ]
     },
     "execution_count": 72,
     "metadata": {},
     "output_type": "execute_result"
    }
   ],
   "source": [
    "bins = np.linspace(1, 10, 10)\n",
    "bins"
   ]
  },
  {
   "cell_type": "code",
   "execution_count": 54,
   "id": "38846583-93bb-4c9b-9c4a-5cbf7ca271bc",
   "metadata": {},
   "outputs": [],
   "source": [
    "# Norm bins first\n",
    "import random\n",
    "counts_list = []\n",
    "for j in range(5):\n",
    "    counts = np.ones(10)\n",
    "    for i in range(len(bins)):\n",
    "        counts[i] = random.randint(1,10)\n",
    "    counts_list.append(counts)\n",
    "counts_list = np.asarray(counts_list)"
   ]
  },
  {
   "cell_type": "code",
   "execution_count": 55,
   "id": "d94597d5-ee51-4796-ad14-2c94e8e8b7e3",
   "metadata": {},
   "outputs": [
    {
     "data": {
      "text/plain": [
       "array([[ 3.,  3.,  7.,  2.,  8., 10.,  3.,  6.,  5.,  6.,  9.,  9.,  6.,\n",
       "         5.,  2.,  3.,  5.,  6.,  7.,  8.,  2., 10.,  1., 10.,  5.,  5.,\n",
       "        10.,  2.,  6.,  3., 10.,  2.,  8., 10.,  3.,  3.,  6.,  5.,  2.,\n",
       "         6.,  3.,  2.,  2.,  9., 10.,  3.,  3.,  8.,  8.,  8.,  7.,  6.,\n",
       "         3.,  7.,  8.,  3.,  5.,  8.,  4.,  7.,  5.,  1.,  6., 10., 10.,\n",
       "        10.,  1.,  6.,  7., 10.,  3.,  3.,  9.,  5.,  3.,  5.,  7., 10.,\n",
       "         4.,  3.,  7.,  4.,  1.,  3.,  7.,  9.,  1.,  1.,  3.,  1.,  1.,\n",
       "         4.,  5., 10.,  9.,  4.,  7.,  7.,  6., 10.],\n",
       "       [ 7.,  4.,  5.,  5., 10.,  5.,  5.,  9.,  7.,  6.,  8.,  6.,  8.,\n",
       "         8.,  5.,  8.,  5.,  8.,  1.,  9.,  5.,  7.,  2.,  8.,  6., 10.,\n",
       "         4.,  4., 10.,  7.,  2., 10.,  9.,  2.,  5.,  9.,  5.,  8., 10.,\n",
       "         4.,  8.,  5.,  9., 10.,  9.,  1.,  7.,  6.,  1.,  8.,  4.,  7.,\n",
       "         4.,  8.,  6., 10.,  9.,  7.,  7.,  4., 10.,  9.,  2.,  3.,  2.,\n",
       "         7.,  7.,  4., 10.,  9.,  5.,  5., 10.,  2., 10.,  2.,  1.,  6.,\n",
       "         5.,  7.,  4.,  2.,  4.,  4.,  5.,  4.,  3.,  5.,  2.,  8.,  7.,\n",
       "         2.,  2., 10.,  6.,  5.,  5.,  5.,  3.,  6.],\n",
       "       [ 8.,  1.,  8.,  1.,  6.,  6.,  4.,  9.,  3.,  3.,  8.,  2.,  1.,\n",
       "         9.,  4.,  9.,  8.,  8.,  8.,  5.,  9.,  4.,  5.,  1.,  7.,  8.,\n",
       "         1.,  4.,  3.,  4.,  7.,  4.,  2., 10.,  8.,  1., 10.,  8.,  2.,\n",
       "         1.,  2., 10., 10.,  8.,  3.,  8., 10.,  5.,  5.,  9.,  2.,  8.,\n",
       "         3.,  6., 10.,  4.,  4.,  8.,  2.,  8.,  4.,  8., 10.,  6.,  9.,\n",
       "         8., 10.,  2.,  7.,  5.,  9.,  4.,  2.,  4.,  5.,  9.,  6.,  8.,\n",
       "         5.,  8.,  4.,  3.,  3.,  1.,  1.,  9.,  2.,  4.,  8.,  5.,  7.,\n",
       "         9.,  7.,  2.,  8.,  7.,  6.,  6.,  8., 10.],\n",
       "       [ 1.,  5.,  9.,  1.,  5.,  7.,  7.,  6., 10.,  8.,  5.,  8.,  9.,\n",
       "         9., 10.,  1.,  2.,  3.,  7.,  1.,  9.,  5.,  6.,  1.,  9.,  3.,\n",
       "         2.,  3.,  8.,  7., 10.,  4.,  5.,  3.,  6., 10.,  6.,  3.,  5.,\n",
       "         4.,  4.,  9., 10.,  9.,  8.,  1.,  1.,  4.,  4.,  9.,  3.,  9.,\n",
       "         4.,  1.,  2.,  8.,  3.,  3., 10.,  7.,  5.,  4.,  7., 10.,  8.,\n",
       "         2.,  3.,  4.,  1., 10.,  9.,  2.,  5.,  5.,  2.,  3.,  6.,  5.,\n",
       "         9.,  8.,  9.,  9.,  7.,  5.,  6.,  6.,  3.,  7.,  7.,  5.,  2.,\n",
       "         4.,  6.,  7.,  5.,  3., 10.,  9.,  6.,  1.],\n",
       "       [10.,  2.,  5.,  5.,  8.,  9.,  3.,  7.,  2., 10.,  3., 10.,  8.,\n",
       "         5.,  7.,  6.,  9.,  4.,  3.,  5., 10., 10.,  2.,  9.,  7.,  4.,\n",
       "         2.,  5., 10.,  6.,  9.,  8., 10., 10.,  4.,  7.,  9.,  8.,  2.,\n",
       "         6.,  5.,  9.,  9.,  6.,  3.,  3.,  4.,  8.,  9.,  3.,  9.,  9.,\n",
       "         4.,  9.,  8., 10.,  6.,  2.,  2.,  9.,  6.,  2.,  7.,  8.,  5.,\n",
       "         4.,  6.,  3.,  9.,  3.,  5.,  9.,  5.,  9.,  3., 10.,  8.,  1.,\n",
       "         5.,  4.,  2.,  6.,  3.,  1.,  6.,  2.,  7.,  7.,  5.,  5.,  3.,\n",
       "         8.,  3.,  5.,  8.,  5.,  9.,  8.,  3.,  6.]])"
      ]
     },
     "execution_count": 74,
     "metadata": {},
     "output_type": "execute_result"
    }
   ],
   "source": [
    "counts_list"
   ]
  },
  {
   "cell_type": "code",
   "execution_count": 58,
   "id": "35bb4d3e-fcc3-418e-912c-c51299d49d51",
   "metadata": {},
   "outputs": [],
   "source": [
    "normed_counts_list =[]\n",
    "for counts in counts_list:\n",
    "    counts = counts/counts.sum()\n",
    "    normed_counts_list.append(counts)\n",
    "normed_counts_list = np.asarray(normed_counts_list)"
   ]
  },
  {
   "cell_type": "code",
   "execution_count": 59,
   "id": "34d27b8c-244f-4340-90fe-67943c135e34",
   "metadata": {},
   "outputs": [
    {
     "data": {
      "text/plain": [
       "array([0.00819618, 0.00732663, 0.01388014, 0.01289257, 0.00970457,\n",
       "       0.01050879, 0.00579229, 0.00908464, 0.006478  , 0.00892226,\n",
       "       0.01310104, 0.00913526, 0.00593184, 0.01243959, 0.00836428,\n",
       "       0.00996198, 0.00938711, 0.00893272, 0.00760567, 0.01033698,\n",
       "       0.01235687, 0.00867154, 0.00869651, 0.00973873, 0.01233322,\n",
       "       0.00648982, 0.01236859, 0.0116139 , 0.00728157, 0.01090586,\n",
       "       0.00708393, 0.01350242, 0.00999064, 0.01050808, 0.00891185,\n",
       "       0.00912447, 0.01116005, 0.00523056, 0.01215297, 0.00808795,\n",
       "       0.01072789, 0.01143817, 0.00997419, 0.01316426, 0.01143447,\n",
       "       0.0117662 , 0.01022005, 0.00842367, 0.00734303, 0.00904835,\n",
       "       0.01271503, 0.01661489, 0.01130566, 0.00919465, 0.00957559,\n",
       "       0.01026348, 0.01410633, 0.01273013, 0.00769776, 0.00560561,\n",
       "       0.00785   , 0.00876821, 0.01054655, 0.00970767, 0.00969782,\n",
       "       0.0125829 , 0.01111592, 0.01010562, 0.00930363, 0.01001348,\n",
       "       0.00875339, 0.01021422, 0.00731916, 0.0110217 , 0.01011869,\n",
       "       0.00873269, 0.01212175, 0.01106998, 0.00729753, 0.01034756,\n",
       "       0.01027334, 0.00922674, 0.0109828 , 0.01016828, 0.0127079 ,\n",
       "       0.01159058, 0.0065685 , 0.00868282, 0.01153609, 0.01241741,\n",
       "       0.00657722, 0.00721148, 0.01002579, 0.01134069, 0.00973895,\n",
       "       0.01146389, 0.01044755, 0.01094651, 0.01534364, 0.00851985])"
      ]
     },
     "execution_count": 69,
     "metadata": {},
     "output_type": "execute_result"
    }
   ],
   "source": [
    "jmean = normed_counts_list.mean(axis=0)\n",
    "norm_jmean = jmean / np.sum(jmean)\n",
    "norm_jmean\n"
   ]
  },
  {
   "cell_type": "code",
   "execution_count": 60,
   "id": "07dfb7a9-83d7-4b95-b11a-29fb291b200c",
   "metadata": {},
   "outputs": [
    {
     "data": {
      "text/plain": [
       "1.0"
      ]
     },
     "execution_count": 70,
     "metadata": {},
     "output_type": "execute_result"
    }
   ],
   "source": [
    "np.sum(norm_jmean)"
   ]
  },
  {
   "cell_type": "code",
   "execution_count": 63,
   "id": "b225454a-2b5b-4275-ab5e-d213457a651b",
   "metadata": {},
   "outputs": [
    {
     "data": {
      "text/plain": [
       "array([0.12639405, 0.11524164, 0.08550186, 0.14498141, 0.08550186,\n",
       "       0.08550186, 0.09665428, 0.10408922, 0.08178439, 0.07434944])"
      ]
     },
     "execution_count": 63,
     "metadata": {},
     "output_type": "execute_result"
    }
   ],
   "source": [
    "# Don't normalise bins\n",
    "imean = counts_list.mean(axis=0)\n",
    "normed_imean = imean/np.sum(imean)\n",
    "normed_imean"
   ]
  },
  {
   "cell_type": "code",
   "execution_count": 64,
   "id": "abda950a-5faf-41d0-b063-b89597cbabae",
   "metadata": {},
   "outputs": [
    {
     "data": {
      "text/plain": [
       "1.0"
      ]
     },
     "execution_count": 64,
     "metadata": {},
     "output_type": "execute_result"
    }
   ],
   "source": [
    "np.sum(normed_imean)"
   ]
  },
  {
   "cell_type": "code",
   "execution_count": null,
   "id": "2ef61ba6-0450-4075-9256-3c06d47bb4e9",
   "metadata": {},
   "outputs": [],
   "source": []
  }
 ],
 "metadata": {
  "kernelspec": {
   "display_name": "Python 3 (ipykernel)",
   "language": "python",
   "name": "python3"
  },
  "language_info": {
   "codemirror_mode": {
    "name": "ipython",
    "version": 3
   },
   "file_extension": ".py",
   "mimetype": "text/x-python",
   "name": "python",
   "nbconvert_exporter": "python",
   "pygments_lexer": "ipython3",
   "version": "3.10.2"
  }
 },
 "nbformat": 4,
 "nbformat_minor": 5
}
