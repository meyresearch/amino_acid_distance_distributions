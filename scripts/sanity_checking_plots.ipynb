{
 "cells": [
  {
   "cell_type": "code",
   "execution_count": 164,
   "id": "2aacc33d-44b0-4fa0-bd47-6a4566c59204",
   "metadata": {},
   "outputs": [],
   "source": [
    "import numpy as np\n",
    "import matplotlib.pyplot as plt\n",
    "import pandas as pd"
   ]
  },
  {
   "cell_type": "markdown",
   "id": "738ba69c-34cc-41e4-8bd2-d0741acdb68d",
   "metadata": {},
   "source": [
    "# AlphaFold 2 Distances"
   ]
  },
  {
   "cell_type": "markdown",
   "id": "b6a2aca6-0f58-4791-a620-ec7d36f53044",
   "metadata": {},
   "source": [
    "# 100s "
   ]
  },
  {
   "cell_type": "code",
   "execution_count": 228,
   "id": "d4181023-491b-4c16-8a6c-0fae63f476a7",
   "metadata": {},
   "outputs": [],
   "source": [
    "histogram = np.load(\"../data/alphafold/histogram_100.npy\", allow_pickle=True)\n",
    "rows = histogram.shape[0]\n",
    "cols = histogram.shape[1]\n",
    "\n",
    "histogram_list = []\n",
    "for i in range(rows):\n",
    "    for j in range(cols):\n",
    "        filtered_histogram = histogram[i][4:50]\n",
    "        histogram_list.append(filtered_histogram)"
   ]
  },
  {
   "cell_type": "code",
   "execution_count": 166,
   "id": "50441e57-ebe4-4fa1-a69d-b644a5135dd6",
   "metadata": {},
   "outputs": [],
   "source": [
    "df = pd.DataFrame(histogram_list)"
   ]
  },
  {
   "cell_type": "code",
   "execution_count": 167,
   "id": "43514c28-8872-4535-b51d-a18647d56381",
   "metadata": {},
   "outputs": [
    {
     "data": {
      "text/html": [
       "<div>\n",
       "<style scoped>\n",
       "    .dataframe tbody tr th:only-of-type {\n",
       "        vertical-align: middle;\n",
       "    }\n",
       "\n",
       "    .dataframe tbody tr th {\n",
       "        vertical-align: top;\n",
       "    }\n",
       "\n",
       "    .dataframe thead th {\n",
       "        text-align: right;\n",
       "    }\n",
       "</style>\n",
       "<table border=\"1\" class=\"dataframe\">\n",
       "  <thead>\n",
       "    <tr style=\"text-align: right;\">\n",
       "      <th></th>\n",
       "      <th>0</th>\n",
       "      <th>1</th>\n",
       "      <th>2</th>\n",
       "      <th>3</th>\n",
       "      <th>4</th>\n",
       "      <th>5</th>\n",
       "      <th>6</th>\n",
       "      <th>7</th>\n",
       "      <th>8</th>\n",
       "      <th>9</th>\n",
       "      <th>...</th>\n",
       "      <th>85</th>\n",
       "      <th>86</th>\n",
       "      <th>87</th>\n",
       "      <th>88</th>\n",
       "      <th>89</th>\n",
       "      <th>90</th>\n",
       "      <th>91</th>\n",
       "      <th>92</th>\n",
       "      <th>93</th>\n",
       "      <th>94</th>\n",
       "    </tr>\n",
       "  </thead>\n",
       "  <tbody>\n",
       "    <tr>\n",
       "      <th>0</th>\n",
       "      <td>0.014493</td>\n",
       "      <td>0.008282</td>\n",
       "      <td>0.008282</td>\n",
       "      <td>0.014493</td>\n",
       "      <td>0.010352</td>\n",
       "      <td>0.008282</td>\n",
       "      <td>0.006211</td>\n",
       "      <td>0.008282</td>\n",
       "      <td>0.008282</td>\n",
       "      <td>0.008282</td>\n",
       "      <td>...</td>\n",
       "      <td>0.0</td>\n",
       "      <td>0.0</td>\n",
       "      <td>0.0</td>\n",
       "      <td>0.0</td>\n",
       "      <td>0.0</td>\n",
       "      <td>0.0</td>\n",
       "      <td>0.0</td>\n",
       "      <td>0.0</td>\n",
       "      <td>0.0</td>\n",
       "      <td>0.0</td>\n",
       "    </tr>\n",
       "    <tr>\n",
       "      <th>1</th>\n",
       "      <td>0.014493</td>\n",
       "      <td>0.008282</td>\n",
       "      <td>0.008282</td>\n",
       "      <td>0.014493</td>\n",
       "      <td>0.010352</td>\n",
       "      <td>0.008282</td>\n",
       "      <td>0.006211</td>\n",
       "      <td>0.008282</td>\n",
       "      <td>0.008282</td>\n",
       "      <td>0.008282</td>\n",
       "      <td>...</td>\n",
       "      <td>0.0</td>\n",
       "      <td>0.0</td>\n",
       "      <td>0.0</td>\n",
       "      <td>0.0</td>\n",
       "      <td>0.0</td>\n",
       "      <td>0.0</td>\n",
       "      <td>0.0</td>\n",
       "      <td>0.0</td>\n",
       "      <td>0.0</td>\n",
       "      <td>0.0</td>\n",
       "    </tr>\n",
       "    <tr>\n",
       "      <th>2</th>\n",
       "      <td>0.014493</td>\n",
       "      <td>0.008282</td>\n",
       "      <td>0.008282</td>\n",
       "      <td>0.014493</td>\n",
       "      <td>0.010352</td>\n",
       "      <td>0.008282</td>\n",
       "      <td>0.006211</td>\n",
       "      <td>0.008282</td>\n",
       "      <td>0.008282</td>\n",
       "      <td>0.008282</td>\n",
       "      <td>...</td>\n",
       "      <td>0.0</td>\n",
       "      <td>0.0</td>\n",
       "      <td>0.0</td>\n",
       "      <td>0.0</td>\n",
       "      <td>0.0</td>\n",
       "      <td>0.0</td>\n",
       "      <td>0.0</td>\n",
       "      <td>0.0</td>\n",
       "      <td>0.0</td>\n",
       "      <td>0.0</td>\n",
       "    </tr>\n",
       "    <tr>\n",
       "      <th>3</th>\n",
       "      <td>0.014493</td>\n",
       "      <td>0.008282</td>\n",
       "      <td>0.008282</td>\n",
       "      <td>0.014493</td>\n",
       "      <td>0.010352</td>\n",
       "      <td>0.008282</td>\n",
       "      <td>0.006211</td>\n",
       "      <td>0.008282</td>\n",
       "      <td>0.008282</td>\n",
       "      <td>0.008282</td>\n",
       "      <td>...</td>\n",
       "      <td>0.0</td>\n",
       "      <td>0.0</td>\n",
       "      <td>0.0</td>\n",
       "      <td>0.0</td>\n",
       "      <td>0.0</td>\n",
       "      <td>0.0</td>\n",
       "      <td>0.0</td>\n",
       "      <td>0.0</td>\n",
       "      <td>0.0</td>\n",
       "      <td>0.0</td>\n",
       "    </tr>\n",
       "    <tr>\n",
       "      <th>4</th>\n",
       "      <td>0.014493</td>\n",
       "      <td>0.008282</td>\n",
       "      <td>0.008282</td>\n",
       "      <td>0.014493</td>\n",
       "      <td>0.010352</td>\n",
       "      <td>0.008282</td>\n",
       "      <td>0.006211</td>\n",
       "      <td>0.008282</td>\n",
       "      <td>0.008282</td>\n",
       "      <td>0.008282</td>\n",
       "      <td>...</td>\n",
       "      <td>0.0</td>\n",
       "      <td>0.0</td>\n",
       "      <td>0.0</td>\n",
       "      <td>0.0</td>\n",
       "      <td>0.0</td>\n",
       "      <td>0.0</td>\n",
       "      <td>0.0</td>\n",
       "      <td>0.0</td>\n",
       "      <td>0.0</td>\n",
       "      <td>0.0</td>\n",
       "    </tr>\n",
       "    <tr>\n",
       "      <th>...</th>\n",
       "      <td>...</td>\n",
       "      <td>...</td>\n",
       "      <td>...</td>\n",
       "      <td>...</td>\n",
       "      <td>...</td>\n",
       "      <td>...</td>\n",
       "      <td>...</td>\n",
       "      <td>...</td>\n",
       "      <td>...</td>\n",
       "      <td>...</td>\n",
       "      <td>...</td>\n",
       "      <td>...</td>\n",
       "      <td>...</td>\n",
       "      <td>...</td>\n",
       "      <td>...</td>\n",
       "      <td>...</td>\n",
       "      <td>...</td>\n",
       "      <td>...</td>\n",
       "      <td>...</td>\n",
       "      <td>...</td>\n",
       "      <td>...</td>\n",
       "    </tr>\n",
       "    <tr>\n",
       "      <th>435199</th>\n",
       "      <td>0.017588</td>\n",
       "      <td>0.020101</td>\n",
       "      <td>0.012563</td>\n",
       "      <td>0.005025</td>\n",
       "      <td>0.002513</td>\n",
       "      <td>0.005025</td>\n",
       "      <td>0.002513</td>\n",
       "      <td>0.005025</td>\n",
       "      <td>0.000000</td>\n",
       "      <td>0.000000</td>\n",
       "      <td>...</td>\n",
       "      <td>0.0</td>\n",
       "      <td>0.0</td>\n",
       "      <td>0.0</td>\n",
       "      <td>0.0</td>\n",
       "      <td>0.0</td>\n",
       "      <td>0.0</td>\n",
       "      <td>0.0</td>\n",
       "      <td>0.0</td>\n",
       "      <td>0.0</td>\n",
       "      <td>0.0</td>\n",
       "    </tr>\n",
       "    <tr>\n",
       "      <th>435200</th>\n",
       "      <td>0.017588</td>\n",
       "      <td>0.020101</td>\n",
       "      <td>0.012563</td>\n",
       "      <td>0.005025</td>\n",
       "      <td>0.002513</td>\n",
       "      <td>0.005025</td>\n",
       "      <td>0.002513</td>\n",
       "      <td>0.005025</td>\n",
       "      <td>0.000000</td>\n",
       "      <td>0.000000</td>\n",
       "      <td>...</td>\n",
       "      <td>0.0</td>\n",
       "      <td>0.0</td>\n",
       "      <td>0.0</td>\n",
       "      <td>0.0</td>\n",
       "      <td>0.0</td>\n",
       "      <td>0.0</td>\n",
       "      <td>0.0</td>\n",
       "      <td>0.0</td>\n",
       "      <td>0.0</td>\n",
       "      <td>0.0</td>\n",
       "    </tr>\n",
       "    <tr>\n",
       "      <th>435201</th>\n",
       "      <td>0.017588</td>\n",
       "      <td>0.020101</td>\n",
       "      <td>0.012563</td>\n",
       "      <td>0.005025</td>\n",
       "      <td>0.002513</td>\n",
       "      <td>0.005025</td>\n",
       "      <td>0.002513</td>\n",
       "      <td>0.005025</td>\n",
       "      <td>0.000000</td>\n",
       "      <td>0.000000</td>\n",
       "      <td>...</td>\n",
       "      <td>0.0</td>\n",
       "      <td>0.0</td>\n",
       "      <td>0.0</td>\n",
       "      <td>0.0</td>\n",
       "      <td>0.0</td>\n",
       "      <td>0.0</td>\n",
       "      <td>0.0</td>\n",
       "      <td>0.0</td>\n",
       "      <td>0.0</td>\n",
       "      <td>0.0</td>\n",
       "    </tr>\n",
       "    <tr>\n",
       "      <th>435202</th>\n",
       "      <td>0.017588</td>\n",
       "      <td>0.020101</td>\n",
       "      <td>0.012563</td>\n",
       "      <td>0.005025</td>\n",
       "      <td>0.002513</td>\n",
       "      <td>0.005025</td>\n",
       "      <td>0.002513</td>\n",
       "      <td>0.005025</td>\n",
       "      <td>0.000000</td>\n",
       "      <td>0.000000</td>\n",
       "      <td>...</td>\n",
       "      <td>0.0</td>\n",
       "      <td>0.0</td>\n",
       "      <td>0.0</td>\n",
       "      <td>0.0</td>\n",
       "      <td>0.0</td>\n",
       "      <td>0.0</td>\n",
       "      <td>0.0</td>\n",
       "      <td>0.0</td>\n",
       "      <td>0.0</td>\n",
       "      <td>0.0</td>\n",
       "    </tr>\n",
       "    <tr>\n",
       "      <th>435203</th>\n",
       "      <td>0.017588</td>\n",
       "      <td>0.020101</td>\n",
       "      <td>0.012563</td>\n",
       "      <td>0.005025</td>\n",
       "      <td>0.002513</td>\n",
       "      <td>0.005025</td>\n",
       "      <td>0.002513</td>\n",
       "      <td>0.005025</td>\n",
       "      <td>0.000000</td>\n",
       "      <td>0.000000</td>\n",
       "      <td>...</td>\n",
       "      <td>0.0</td>\n",
       "      <td>0.0</td>\n",
       "      <td>0.0</td>\n",
       "      <td>0.0</td>\n",
       "      <td>0.0</td>\n",
       "      <td>0.0</td>\n",
       "      <td>0.0</td>\n",
       "      <td>0.0</td>\n",
       "      <td>0.0</td>\n",
       "      <td>0.0</td>\n",
       "    </tr>\n",
       "  </tbody>\n",
       "</table>\n",
       "<p>435204 rows × 95 columns</p>\n",
       "</div>"
      ],
      "text/plain": [
       "              0         1         2         3         4         5         6   \\\n",
       "0       0.014493  0.008282  0.008282  0.014493  0.010352  0.008282  0.006211   \n",
       "1       0.014493  0.008282  0.008282  0.014493  0.010352  0.008282  0.006211   \n",
       "2       0.014493  0.008282  0.008282  0.014493  0.010352  0.008282  0.006211   \n",
       "3       0.014493  0.008282  0.008282  0.014493  0.010352  0.008282  0.006211   \n",
       "4       0.014493  0.008282  0.008282  0.014493  0.010352  0.008282  0.006211   \n",
       "...          ...       ...       ...       ...       ...       ...       ...   \n",
       "435199  0.017588  0.020101  0.012563  0.005025  0.002513  0.005025  0.002513   \n",
       "435200  0.017588  0.020101  0.012563  0.005025  0.002513  0.005025  0.002513   \n",
       "435201  0.017588  0.020101  0.012563  0.005025  0.002513  0.005025  0.002513   \n",
       "435202  0.017588  0.020101  0.012563  0.005025  0.002513  0.005025  0.002513   \n",
       "435203  0.017588  0.020101  0.012563  0.005025  0.002513  0.005025  0.002513   \n",
       "\n",
       "              7         8         9   ...   85   86   87   88   89   90   91  \\\n",
       "0       0.008282  0.008282  0.008282  ...  0.0  0.0  0.0  0.0  0.0  0.0  0.0   \n",
       "1       0.008282  0.008282  0.008282  ...  0.0  0.0  0.0  0.0  0.0  0.0  0.0   \n",
       "2       0.008282  0.008282  0.008282  ...  0.0  0.0  0.0  0.0  0.0  0.0  0.0   \n",
       "3       0.008282  0.008282  0.008282  ...  0.0  0.0  0.0  0.0  0.0  0.0  0.0   \n",
       "4       0.008282  0.008282  0.008282  ...  0.0  0.0  0.0  0.0  0.0  0.0  0.0   \n",
       "...          ...       ...       ...  ...  ...  ...  ...  ...  ...  ...  ...   \n",
       "435199  0.005025  0.000000  0.000000  ...  0.0  0.0  0.0  0.0  0.0  0.0  0.0   \n",
       "435200  0.005025  0.000000  0.000000  ...  0.0  0.0  0.0  0.0  0.0  0.0  0.0   \n",
       "435201  0.005025  0.000000  0.000000  ...  0.0  0.0  0.0  0.0  0.0  0.0  0.0   \n",
       "435202  0.005025  0.000000  0.000000  ...  0.0  0.0  0.0  0.0  0.0  0.0  0.0   \n",
       "435203  0.005025  0.000000  0.000000  ...  0.0  0.0  0.0  0.0  0.0  0.0  0.0   \n",
       "\n",
       "         92   93   94  \n",
       "0       0.0  0.0  0.0  \n",
       "1       0.0  0.0  0.0  \n",
       "2       0.0  0.0  0.0  \n",
       "3       0.0  0.0  0.0  \n",
       "4       0.0  0.0  0.0  \n",
       "...     ...  ...  ...  \n",
       "435199  0.0  0.0  0.0  \n",
       "435200  0.0  0.0  0.0  \n",
       "435201  0.0  0.0  0.0  \n",
       "435202  0.0  0.0  0.0  \n",
       "435203  0.0  0.0  0.0  \n",
       "\n",
       "[435204 rows x 95 columns]"
      ]
     },
     "execution_count": 167,
     "metadata": {},
     "output_type": "execute_result"
    }
   ],
   "source": [
    "df"
   ]
  },
  {
   "cell_type": "code",
   "execution_count": 229,
   "id": "bc36d572-fa23-467a-b347-6d032c925928",
   "metadata": {},
   "outputs": [
    {
     "data": {
      "text/plain": [
       "array([0.02235205, 0.01284797, 0.00896192, 0.00724638, 0.00683371,\n",
       "       0.00759013, 0.00717703, 0.00662984, 0.00609756, 0.0055918 ,\n",
       "       0.00493827, 0.00520157, 0.00609756, 0.00449944, 0.00421941,\n",
       "       0.00446429, 0.00401606, 0.00383142, 0.00441501, 0.00414079,\n",
       "       0.00296297, 0.00253165, 0.00407748, 0.00257069, 0.0025    ,\n",
       "       0.00264201, 0.00249066, 0.00229885, 0.00222966, 0.00251256,\n",
       "       0.00238663, 0.00232019, 0.00247525, 0.00293255, 0.0025641 ,\n",
       "       0.00372439, 0.00257069, 0.00242131, 0.0020284 , 0.00241546,\n",
       "       0.00210084, 0.00194553, 0.00205761, 0.0019685 , 0.        ,\n",
       "       0.00210084])"
      ]
     },
     "execution_count": 229,
     "metadata": {},
     "output_type": "execute_result"
    }
   ],
   "source": [
    "median = np.quantile(histogram_list, q=0.5, axis=0)\n",
    "median"
   ]
  },
  {
   "cell_type": "code",
   "execution_count": 230,
   "id": "92361366-5dbe-40d7-baaf-5282bbb22153",
   "metadata": {},
   "outputs": [
    {
     "data": {
      "text/plain": [
       "array([ 4.        ,  5.02222222,  6.04444444,  7.06666667,  8.08888889,\n",
       "        9.11111111, 10.13333333, 11.15555556, 12.17777778, 13.2       ,\n",
       "       14.22222222, 15.24444444, 16.26666667, 17.28888889, 18.31111111,\n",
       "       19.33333333, 20.35555556, 21.37777778, 22.4       , 23.42222222,\n",
       "       24.44444444, 25.46666667, 26.48888889, 27.51111111, 28.53333333,\n",
       "       29.55555556, 30.57777778, 31.6       , 32.62222222, 33.64444444,\n",
       "       34.66666667, 35.68888889, 36.71111111, 37.73333333, 38.75555556,\n",
       "       39.77777778, 40.8       , 41.82222222, 42.84444444, 43.86666667,\n",
       "       44.88888889, 45.91111111, 46.93333333, 47.95555556, 48.97777778,\n",
       "       50.        ])"
      ]
     },
     "execution_count": 230,
     "metadata": {},
     "output_type": "execute_result"
    }
   ],
   "source": [
    "length = 100\n",
    "distances = np.linspace(start=4, stop=length//2, num=len(histogram_list[0]))\n",
    "distances"
   ]
  },
  {
   "cell_type": "code",
   "execution_count": 233,
   "id": "725f8249-9c57-4ef1-8649-15aef0d5e5e9",
   "metadata": {},
   "outputs": [
    {
     "data": {
      "text/plain": [
       "<BarContainer object of 46 artists>"
      ]
     },
     "execution_count": 233,
     "metadata": {},
     "output_type": "execute_result"
    },
    {
     "data": {
      "image/png": "[encoded data removed]",
      "text/plain": [
       "<Figure size 432x288 with 1 Axes>"
      ]
     },
     "metadata": {
      "needs_background": "light"
     },
     "output_type": "display_data"
    }
   ],
   "source": [
    "plt.bar(distances, histogram_list[1])"
   ]
  },
  {
   "cell_type": "code",
   "execution_count": 234,
   "id": "90b5b511-96ab-483e-b746-1874a51e67ed",
   "metadata": {},
   "outputs": [],
   "source": [
    "normalised_median = median / np.sum(median)"
   ]
  },
  {
   "cell_type": "code",
   "execution_count": 235,
   "id": "ad483add-695f-4351-8bbf-44c0838951ec",
   "metadata": {},
   "outputs": [
    {
     "data": {
      "text/plain": [
       "1.0000000000000002"
      ]
     },
     "execution_count": 235,
     "metadata": {},
     "output_type": "execute_result"
    }
   ],
   "source": [
    "np.sum(normalised_median)"
   ]
  },
  {
   "cell_type": "code",
   "execution_count": 236,
   "id": "8409b593-c243-4c52-923d-1e1a7cfa21a1",
   "metadata": {},
   "outputs": [
    {
     "data": {
      "text/plain": [
       "[]"
      ]
     },
     "execution_count": 236,
     "metadata": {},
     "output_type": "execute_result"
    },
    {
     "data": {
      "image/png": "[encoded data removed]",
      "text/plain": [
       "<Figure size 432x288 with 1 Axes>"
      ]
     },
     "metadata": {
      "needs_background": "light"
     },
     "output_type": "display_data"
    }
   ],
   "source": [
    "plt.scatter(distances, median)\n",
    "plt.loglog()"
   ]
  },
  {
   "cell_type": "code",
   "execution_count": 237,
   "id": "d107cee2-f4e0-4f7f-89e8-3c9436b1c925",
   "metadata": {},
   "outputs": [],
   "source": [
    "sim_histogram = np.load(f\"../data/simulations/3d/histogram_100.npy\", allow_pickle=True)"
   ]
  },
  {
   "cell_type": "code",
   "execution_count": 238,
   "id": "6890cd92-1cff-45c9-9f0a-0631b53d861e",
   "metadata": {},
   "outputs": [
    {
     "data": {
      "text/plain": [
       "array([[0.        , 0.08264463, 0.05371901, ..., 0.        , 0.        ,\n",
       "        0.        ],\n",
       "       [0.        , 0.09130435, 0.09565217, ..., 0.        , 0.        ,\n",
       "        0.        ],\n",
       "       [0.        , 0.09210526, 0.06140351, ..., 0.        , 0.        ,\n",
       "        0.        ],\n",
       "       ...,\n",
       "       [0.        , 0.09130435, 0.09565217, ..., 0.        , 0.        ,\n",
       "        0.        ],\n",
       "       [0.        , 0.125     , 0.06034483, ..., 0.        , 0.        ,\n",
       "        0.        ],\n",
       "       [0.        , 0.0941704 , 0.08071749, ..., 0.        , 0.        ,\n",
       "        0.        ]])"
      ]
     },
     "execution_count": 238,
     "metadata": {},
     "output_type": "execute_result"
    }
   ],
   "source": [
    "sim_histogram"
   ]
  },
  {
   "cell_type": "code",
   "execution_count": 239,
   "id": "28f828d2-8066-4041-a209-7d36409025dc",
   "metadata": {},
   "outputs": [],
   "source": [
    "rows = sim_histogram.shape[0]\n",
    "cols = sim_histogram.shape[1]\n",
    "\n",
    "sim_histogram_list = []\n",
    "for i in range(rows):\n",
    "    for j in range(cols):\n",
    "        sim_filtered_histogram = sim_histogram[i][4:50]\n",
    "        sim_histogram_list.append(sim_filtered_histogram)"
   ]
  },
  {
   "cell_type": "code",
   "execution_count": 240,
   "id": "26908473-0397-454d-b3cf-db894a3997e7",
   "metadata": {},
   "outputs": [
    {
     "data": {
      "text/plain": [
       "array([0.03921587, 0.03056827, 0.03056769, 0.02830941, 0.02303499,\n",
       "       0.01750555, 0.01746725, 0.0173913 , 0.01702128, 0.01315789,\n",
       "       0.0173913 , 0.01652893, 0.01652893, 0.0172417 , 0.0151142 ,\n",
       "       0.01301574, 0.0129332 , 0.01310044, 0.0107419 , 0.01239669,\n",
       "       0.00873362, 0.0127937 , 0.00867683, 0.01072274, 0.00863967,\n",
       "       0.00650333, 0.00632521, 0.00873362, 0.00431967, 0.00438596,\n",
       "       0.00636495, 0.00436681, 0.00826446, 0.00438596, 0.00431042,\n",
       "       0.00431042, 0.00426457, 0.00436681, 0.00438596, 0.00438596,\n",
       "       0.00849261, 0.00873362, 0.00434783, 0.00436681, 0.00433842,\n",
       "       0.00427358])"
      ]
     },
     "execution_count": 240,
     "metadata": {},
     "output_type": "execute_result"
    }
   ],
   "source": [
    "sim_median = np.quantile(sim_histogram_list, q=0.5, axis=0)\n",
    "sim_median\n"
   ]
  },
  {
   "cell_type": "code",
   "execution_count": 241,
   "id": "d70f65b3-8654-43c8-ae8e-d3f1ffb7cb3c",
   "metadata": {},
   "outputs": [],
   "source": [
    "normalised_sim_median = sim_median / np.sum(sim_median)"
   ]
  },
  {
   "cell_type": "code",
   "execution_count": 242,
   "id": "23bc3fb9-ca37-45fc-914d-6a90d49d9103",
   "metadata": {},
   "outputs": [
    {
     "data": {
      "text/plain": [
       "1.0"
      ]
     },
     "execution_count": 242,
     "metadata": {},
     "output_type": "execute_result"
    }
   ],
   "source": [
    "np.sum(normalised_sim_median)"
   ]
  },
  {
   "cell_type": "code",
   "execution_count": 243,
   "id": "378b9352-1a5d-4f72-abb3-f5d470e7cb14",
   "metadata": {},
   "outputs": [
    {
     "data": {
      "text/plain": [
       "array([ 4.        ,  5.02222222,  6.04444444,  7.06666667,  8.08888889,\n",
       "        9.11111111, 10.13333333, 11.15555556, 12.17777778, 13.2       ,\n",
       "       14.22222222, 15.24444444, 16.26666667, 17.28888889, 18.31111111,\n",
       "       19.33333333, 20.35555556, 21.37777778, 22.4       , 23.42222222,\n",
       "       24.44444444, 25.46666667, 26.48888889, 27.51111111, 28.53333333,\n",
       "       29.55555556, 30.57777778, 31.6       , 32.62222222, 33.64444444,\n",
       "       34.66666667, 35.68888889, 36.71111111, 37.73333333, 38.75555556,\n",
       "       39.77777778, 40.8       , 41.82222222, 42.84444444, 43.86666667,\n",
       "       44.88888889, 45.91111111, 46.93333333, 47.95555556, 48.97777778,\n",
       "       50.        ])"
      ]
     },
     "execution_count": 243,
     "metadata": {},
     "output_type": "execute_result"
    }
   ],
   "source": [
    "length = 100\n",
    "sim_distances = np.linspace(start=4, stop=length//2, num=len(histogram_list[0]))\n",
    "sim_distances"
   ]
  },
  {
   "cell_type": "code",
   "execution_count": 246,
   "id": "9a1f18a0-27a6-4c2c-bcfb-6a10704e3bd2",
   "metadata": {},
   "outputs": [
    {
     "data": {
      "text/plain": [
       "<BarContainer object of 46 artists>"
      ]
     },
     "execution_count": 246,
     "metadata": {},
     "output_type": "execute_result"
    },
    {
     "data": {
      "image/png": "[encoded data removed]",
      "text/plain": [
       "<Figure size 432x288 with 1 Axes>"
      ]
     },
     "metadata": {
      "needs_background": "light"
     },
     "output_type": "display_data"
    }
   ],
   "source": [
    "plt.bar(sim_distances, sim_histogram_list[1])"
   ]
  },
  {
   "cell_type": "code",
   "execution_count": 186,
   "id": "6c6b5a96-4890-4d94-85ba-412a98019ae2",
   "metadata": {},
   "outputs": [
    {
     "data": {
      "text/plain": [
       "[]"
      ]
     },
     "execution_count": 186,
     "metadata": {},
     "output_type": "execute_result"
    },
    {
     "data": {
      "image/png": "[encoded data removed]",
      "text/plain": [
       "<Figure size 432x288 with 1 Axes>"
      ]
     },
     "metadata": {
      "needs_background": "light"
     },
     "output_type": "display_data"
    }
   ],
   "source": [
    "plt.scatter(sim_distances, normalised_sim_median)\n",
    "plt.loglog()"
   ]
  },
  {
   "cell_type": "code",
   "execution_count": 247,
   "id": "d3e5edf3-f6b7-4ad6-8767-68930f9c1ad0",
   "metadata": {},
   "outputs": [
    {
     "data": {
      "text/plain": [
       "[]"
      ]
     },
     "execution_count": 247,
     "metadata": {},
     "output_type": "execute_result"
    },
    {
     "data": {
      "image/png": "[encoded data removed]",
      "text/plain": [
       "<Figure size 432x288 with 1 Axes>"
      ]
     },
     "metadata": {
      "needs_background": "light"
     },
     "output_type": "display_data"
    }
   ],
   "source": [
    "plt.scatter(distances, normalised_median)\n",
    "plt.scatter(sim_distances, normalised_sim_median)\n",
    "plt.loglog()"
   ]
  },
  {
   "cell_type": "markdown",
   "id": "a407e32f-0b5e-4ed9-bb08-b65b836f30ac",
   "metadata": {},
   "source": [
    "# 200"
   ]
  },
  {
   "cell_type": "code",
   "execution_count": 254,
   "id": "7ccfbb33-4185-4168-9795-261b38a822e5",
   "metadata": {},
   "outputs": [],
   "source": [
    "histogram = np.load(\"../data/alphafold/histogram_200.npy\", allow_pickle=True)\n",
    "\n",
    "rows = histogram.shape[0]\n",
    "cols = histogram.shape[1]\n",
    "\n",
    "histogram_list = []\n",
    "for i in range(rows):\n",
    "    for j in range(cols):\n",
    "        filtered_histogram = histogram[i][4:100]\n",
    "        histogram_list.append(filtered_histogram)"
   ]
  },
  {
   "cell_type": "code",
   "execution_count": 255,
   "id": "db5d479a-bb30-4873-99d5-73b49a0a9cb7",
   "metadata": {},
   "outputs": [
    {
     "data": {
      "text/plain": [
       "698247"
      ]
     },
     "execution_count": 255,
     "metadata": {},
     "output_type": "execute_result"
    }
   ],
   "source": [
    "len(histogram_list)"
   ]
  },
  {
   "cell_type": "code",
   "execution_count": 256,
   "id": "c9827770-9f42-4c45-a0af-5aa64eefc549",
   "metadata": {},
   "outputs": [
    {
     "data": {
      "text/plain": [
       "array([0.00599382, 0.00517726, 0.00507123, 0.00504779, 0.00468223,\n",
       "       0.00448187, 0.00460163, 0.00419821, 0.00333884, 0.00243151,\n",
       "       0.00301508, 0.00313213, 0.003009  , 0.00245794, 0.00248247,\n",
       "       0.00262388, 0.00256701, 0.00233288, 0.0026434 , 0.00234664,\n",
       "       0.00214666, 0.00213057, 0.00198995, 0.00169598, 0.00149246,\n",
       "       0.00157267, 0.00107102, 0.00104295, 0.00098027, 0.00053207,\n",
       "       0.00055093, 0.00056341, 0.0005615 , 0.00061192, 0.00058391,\n",
       "       0.00052038, 0.00052812, 0.00049649, 0.00052478, 0.00052478,\n",
       "       0.000527  , 0.00049062, 0.00048535, 0.00051876, 0.00051287,\n",
       "       0.00051446, 0.00050661, 0.        , 0.        , 0.        ,\n",
       "       0.        , 0.        , 0.        , 0.        , 0.        ,\n",
       "       0.        , 0.        , 0.        , 0.        , 0.        ,\n",
       "       0.        , 0.        , 0.        , 0.        , 0.        ,\n",
       "       0.        , 0.        , 0.        , 0.        , 0.        ,\n",
       "       0.        , 0.        , 0.        , 0.        , 0.        ,\n",
       "       0.        , 0.        , 0.        , 0.        , 0.        ,\n",
       "       0.        , 0.        , 0.        , 0.        , 0.        ,\n",
       "       0.        , 0.        , 0.        , 0.        , 0.        ,\n",
       "       0.        , 0.        , 0.        , 0.        , 0.        ])"
      ]
     },
     "execution_count": 256,
     "metadata": {},
     "output_type": "execute_result"
    }
   ],
   "source": [
    "median = np.quantile(histogram_list, q=0.5, axis=0)\n",
    "median"
   ]
  },
  {
   "cell_type": "code",
   "execution_count": 257,
   "id": "8c33c6db-6da1-412a-ad4f-4b5c0aa6ce9e",
   "metadata": {},
   "outputs": [
    {
     "data": {
      "text/plain": [
       "array([  4.        ,   5.0212766 ,   6.04255319,   7.06382979,\n",
       "         8.08510638,   9.10638298,  10.12765957,  11.14893617,\n",
       "        12.17021277,  13.19148936,  14.21276596,  15.23404255,\n",
       "        16.25531915,  17.27659574,  18.29787234,  19.31914894,\n",
       "        20.34042553,  21.36170213,  22.38297872,  23.40425532,\n",
       "        24.42553191,  25.44680851,  26.46808511,  27.4893617 ,\n",
       "        28.5106383 ,  29.53191489,  30.55319149,  31.57446809,\n",
       "        32.59574468,  33.61702128,  34.63829787,  35.65957447,\n",
       "        36.68085106,  37.70212766,  38.72340426,  39.74468085,\n",
       "        40.76595745,  41.78723404,  42.80851064,  43.82978723,\n",
       "        44.85106383,  45.87234043,  46.89361702,  47.91489362,\n",
       "        48.93617021,  49.95744681,  50.9787234 ,  52.        ,\n",
       "        53.0212766 ,  54.04255319,  55.06382979,  56.08510638,\n",
       "        57.10638298,  58.12765957,  59.14893617,  60.17021277,\n",
       "        61.19148936,  62.21276596,  63.23404255,  64.25531915,\n",
       "        65.27659574,  66.29787234,  67.31914894,  68.34042553,\n",
       "        69.36170213,  70.38297872,  71.40425532,  72.42553191,\n",
       "        73.44680851,  74.46808511,  75.4893617 ,  76.5106383 ,\n",
       "        77.53191489,  78.55319149,  79.57446809,  80.59574468,\n",
       "        81.61702128,  82.63829787,  83.65957447,  84.68085106,\n",
       "        85.70212766,  86.72340426,  87.74468085,  88.76595745,\n",
       "        89.78723404,  90.80851064,  91.82978723,  92.85106383,\n",
       "        93.87234043,  94.89361702,  95.91489362,  96.93617021,\n",
       "        97.95744681,  98.9787234 , 100.        ])"
      ]
     },
     "execution_count": 257,
     "metadata": {},
     "output_type": "execute_result"
    }
   ],
   "source": [
    "length = 200\n",
    "distances = np.linspace(start=4, stop=length//2, num=len(histogram_list[0]))\n",
    "distances"
   ]
  },
  {
   "cell_type": "code",
   "execution_count": 258,
   "id": "c1f9d552-70e6-4c24-959e-7ef28648d4da",
   "metadata": {},
   "outputs": [],
   "source": [
    "normalised_median = median / np.sum(median)"
   ]
  },
  {
   "cell_type": "code",
   "execution_count": 260,
   "id": "a8db8bb9-da7d-4607-a8b1-d7802cebf1dd",
   "metadata": {},
   "outputs": [
    {
     "data": {
      "text/plain": [
       "<BarContainer object of 95 artists>"
      ]
     },
     "execution_count": 260,
     "metadata": {},
     "output_type": "execute_result"
    },
    {
     "data": {
      "image/png": "[encoded data removed]",
      "text/plain": [
       "<Figure size 432x288 with 1 Axes>"
      ]
     },
     "metadata": {
      "needs_background": "light"
     },
     "output_type": "display_data"
    }
   ],
   "source": [
    "plt.bar(distances, histogram_list[1])"
   ]
  },
  {
   "cell_type": "code",
   "execution_count": 195,
   "id": "4d14f00a-74e1-47b8-bab5-49ff04df4947",
   "metadata": {},
   "outputs": [
    {
     "data": {
      "text/plain": [
       "[]"
      ]
     },
     "execution_count": 195,
     "metadata": {},
     "output_type": "execute_result"
    },
    {
     "data": {
      "image/png": "[encoded data removed]",
      "text/plain": [
       "<Figure size 432x288 with 1 Axes>"
      ]
     },
     "metadata": {
      "needs_background": "light"
     },
     "output_type": "display_data"
    }
   ],
   "source": [
    "plt.scatter(distances, normalised_median)\n",
    "plt.loglog()"
   ]
  },
  {
   "cell_type": "code",
   "execution_count": 196,
   "id": "1d132d17-770c-4af8-8582-7ac13039cb94",
   "metadata": {},
   "outputs": [],
   "source": [
    "#!pip install pandas"
   ]
  },
  {
   "cell_type": "code",
   "execution_count": 197,
   "id": "edab2672-b6ed-416a-8b60-9a773ed9919d",
   "metadata": {},
   "outputs": [
    {
     "data": {
      "text/html": [
       "<div>\n",
       "<style scoped>\n",
       "    .dataframe tbody tr th:only-of-type {\n",
       "        vertical-align: middle;\n",
       "    }\n",
       "\n",
       "    .dataframe tbody tr th {\n",
       "        vertical-align: top;\n",
       "    }\n",
       "\n",
       "    .dataframe thead th {\n",
       "        text-align: right;\n",
       "    }\n",
       "</style>\n",
       "<table border=\"1\" class=\"dataframe\">\n",
       "  <thead>\n",
       "    <tr style=\"text-align: right;\">\n",
       "      <th></th>\n",
       "      <th>0</th>\n",
       "      <th>1</th>\n",
       "      <th>2</th>\n",
       "      <th>3</th>\n",
       "      <th>4</th>\n",
       "      <th>5</th>\n",
       "      <th>6</th>\n",
       "      <th>7</th>\n",
       "      <th>8</th>\n",
       "      <th>9</th>\n",
       "      <th>...</th>\n",
       "      <th>89</th>\n",
       "      <th>90</th>\n",
       "      <th>91</th>\n",
       "      <th>92</th>\n",
       "      <th>93</th>\n",
       "      <th>94</th>\n",
       "      <th>95</th>\n",
       "      <th>96</th>\n",
       "      <th>97</th>\n",
       "      <th>98</th>\n",
       "    </tr>\n",
       "  </thead>\n",
       "  <tbody>\n",
       "    <tr>\n",
       "      <th>0</th>\n",
       "      <td>0.245949</td>\n",
       "      <td>0.028965</td>\n",
       "      <td>0.011688</td>\n",
       "      <td>0.009655</td>\n",
       "      <td>0.009147</td>\n",
       "      <td>0.008639</td>\n",
       "      <td>0.006606</td>\n",
       "      <td>0.005590</td>\n",
       "      <td>0.006606</td>\n",
       "      <td>0.008639</td>\n",
       "      <td>...</td>\n",
       "      <td>0.000508</td>\n",
       "      <td>0.000000</td>\n",
       "      <td>0.000508</td>\n",
       "      <td>0.001016</td>\n",
       "      <td>0.002033</td>\n",
       "      <td>0.002033</td>\n",
       "      <td>0.002033</td>\n",
       "      <td>0.002033</td>\n",
       "      <td>0.002033</td>\n",
       "      <td>0.003049</td>\n",
       "    </tr>\n",
       "    <tr>\n",
       "      <th>1</th>\n",
       "      <td>0.249999</td>\n",
       "      <td>0.056727</td>\n",
       "      <td>0.012550</td>\n",
       "      <td>0.006526</td>\n",
       "      <td>0.002510</td>\n",
       "      <td>0.004518</td>\n",
       "      <td>0.003012</td>\n",
       "      <td>0.005020</td>\n",
       "      <td>0.009036</td>\n",
       "      <td>0.011546</td>\n",
       "      <td>...</td>\n",
       "      <td>0.000000</td>\n",
       "      <td>0.000000</td>\n",
       "      <td>0.000000</td>\n",
       "      <td>0.000000</td>\n",
       "      <td>0.000000</td>\n",
       "      <td>0.000502</td>\n",
       "      <td>0.001506</td>\n",
       "      <td>0.000502</td>\n",
       "      <td>0.000000</td>\n",
       "      <td>0.000000</td>\n",
       "    </tr>\n",
       "    <tr>\n",
       "      <th>2</th>\n",
       "      <td>0.278593</td>\n",
       "      <td>0.057993</td>\n",
       "      <td>0.006823</td>\n",
       "      <td>0.003411</td>\n",
       "      <td>0.002843</td>\n",
       "      <td>0.002843</td>\n",
       "      <td>0.001137</td>\n",
       "      <td>0.002274</td>\n",
       "      <td>0.000000</td>\n",
       "      <td>0.001137</td>\n",
       "      <td>...</td>\n",
       "      <td>0.000000</td>\n",
       "      <td>0.000000</td>\n",
       "      <td>0.000000</td>\n",
       "      <td>0.000000</td>\n",
       "      <td>0.000000</td>\n",
       "      <td>0.000000</td>\n",
       "      <td>0.000000</td>\n",
       "      <td>0.000000</td>\n",
       "      <td>0.000000</td>\n",
       "      <td>0.000000</td>\n",
       "    </tr>\n",
       "    <tr>\n",
       "      <th>3</th>\n",
       "      <td>0.298138</td>\n",
       "      <td>0.072168</td>\n",
       "      <td>0.014197</td>\n",
       "      <td>0.008282</td>\n",
       "      <td>0.008873</td>\n",
       "      <td>0.006507</td>\n",
       "      <td>0.006507</td>\n",
       "      <td>0.002958</td>\n",
       "      <td>0.005324</td>\n",
       "      <td>0.008873</td>\n",
       "      <td>...</td>\n",
       "      <td>0.000000</td>\n",
       "      <td>0.000000</td>\n",
       "      <td>0.000000</td>\n",
       "      <td>0.000000</td>\n",
       "      <td>0.000000</td>\n",
       "      <td>0.000000</td>\n",
       "      <td>0.000000</td>\n",
       "      <td>0.000000</td>\n",
       "      <td>0.000000</td>\n",
       "      <td>0.000000</td>\n",
       "    </tr>\n",
       "    <tr>\n",
       "      <th>4</th>\n",
       "      <td>0.271401</td>\n",
       "      <td>0.069417</td>\n",
       "      <td>0.013016</td>\n",
       "      <td>0.002410</td>\n",
       "      <td>0.003374</td>\n",
       "      <td>0.002410</td>\n",
       "      <td>0.001446</td>\n",
       "      <td>0.003856</td>\n",
       "      <td>0.001446</td>\n",
       "      <td>0.003374</td>\n",
       "      <td>...</td>\n",
       "      <td>0.000000</td>\n",
       "      <td>0.000482</td>\n",
       "      <td>0.000000</td>\n",
       "      <td>0.000000</td>\n",
       "      <td>0.000000</td>\n",
       "      <td>0.000000</td>\n",
       "      <td>0.000000</td>\n",
       "      <td>0.000000</td>\n",
       "      <td>0.000000</td>\n",
       "      <td>0.000000</td>\n",
       "    </tr>\n",
       "    <tr>\n",
       "      <th>...</th>\n",
       "      <td>...</td>\n",
       "      <td>...</td>\n",
       "      <td>...</td>\n",
       "      <td>...</td>\n",
       "      <td>...</td>\n",
       "      <td>...</td>\n",
       "      <td>...</td>\n",
       "      <td>...</td>\n",
       "      <td>...</td>\n",
       "      <td>...</td>\n",
       "      <td>...</td>\n",
       "      <td>...</td>\n",
       "      <td>...</td>\n",
       "      <td>...</td>\n",
       "      <td>...</td>\n",
       "      <td>...</td>\n",
       "      <td>...</td>\n",
       "      <td>...</td>\n",
       "      <td>...</td>\n",
       "      <td>...</td>\n",
       "      <td>...</td>\n",
       "    </tr>\n",
       "    <tr>\n",
       "      <th>7048</th>\n",
       "      <td>0.280439</td>\n",
       "      <td>0.074040</td>\n",
       "      <td>0.013692</td>\n",
       "      <td>0.006593</td>\n",
       "      <td>0.006085</td>\n",
       "      <td>0.003043</td>\n",
       "      <td>0.002028</td>\n",
       "      <td>0.000000</td>\n",
       "      <td>0.001014</td>\n",
       "      <td>0.001521</td>\n",
       "      <td>...</td>\n",
       "      <td>0.001014</td>\n",
       "      <td>0.001521</td>\n",
       "      <td>0.002028</td>\n",
       "      <td>0.000000</td>\n",
       "      <td>0.000000</td>\n",
       "      <td>0.000000</td>\n",
       "      <td>0.000000</td>\n",
       "      <td>0.000000</td>\n",
       "      <td>0.000000</td>\n",
       "      <td>0.000000</td>\n",
       "    </tr>\n",
       "    <tr>\n",
       "      <th>7049</th>\n",
       "      <td>0.265983</td>\n",
       "      <td>0.079795</td>\n",
       "      <td>0.010344</td>\n",
       "      <td>0.007388</td>\n",
       "      <td>0.004926</td>\n",
       "      <td>0.006896</td>\n",
       "      <td>0.008374</td>\n",
       "      <td>0.007881</td>\n",
       "      <td>0.007388</td>\n",
       "      <td>0.007388</td>\n",
       "      <td>...</td>\n",
       "      <td>0.000985</td>\n",
       "      <td>0.000493</td>\n",
       "      <td>0.000985</td>\n",
       "      <td>0.000000</td>\n",
       "      <td>0.000985</td>\n",
       "      <td>0.000493</td>\n",
       "      <td>0.000000</td>\n",
       "      <td>0.000000</td>\n",
       "      <td>0.000000</td>\n",
       "      <td>0.000000</td>\n",
       "    </tr>\n",
       "    <tr>\n",
       "      <th>7050</th>\n",
       "      <td>0.253063</td>\n",
       "      <td>0.045734</td>\n",
       "      <td>0.011179</td>\n",
       "      <td>0.007114</td>\n",
       "      <td>0.007622</td>\n",
       "      <td>0.006606</td>\n",
       "      <td>0.004573</td>\n",
       "      <td>0.009147</td>\n",
       "      <td>0.011688</td>\n",
       "      <td>0.006606</td>\n",
       "      <td>...</td>\n",
       "      <td>0.000000</td>\n",
       "      <td>0.000000</td>\n",
       "      <td>0.000000</td>\n",
       "      <td>0.000000</td>\n",
       "      <td>0.000000</td>\n",
       "      <td>0.000000</td>\n",
       "      <td>0.000000</td>\n",
       "      <td>0.000000</td>\n",
       "      <td>0.000000</td>\n",
       "      <td>0.000000</td>\n",
       "    </tr>\n",
       "    <tr>\n",
       "      <th>7051</th>\n",
       "      <td>0.251489</td>\n",
       "      <td>0.045576</td>\n",
       "      <td>0.012080</td>\n",
       "      <td>0.010433</td>\n",
       "      <td>0.007138</td>\n",
       "      <td>0.009335</td>\n",
       "      <td>0.009335</td>\n",
       "      <td>0.010982</td>\n",
       "      <td>0.009335</td>\n",
       "      <td>0.007687</td>\n",
       "      <td>...</td>\n",
       "      <td>0.000000</td>\n",
       "      <td>0.000000</td>\n",
       "      <td>0.000000</td>\n",
       "      <td>0.000000</td>\n",
       "      <td>0.000000</td>\n",
       "      <td>0.000000</td>\n",
       "      <td>0.000000</td>\n",
       "      <td>0.000000</td>\n",
       "      <td>0.000000</td>\n",
       "      <td>0.000000</td>\n",
       "    </tr>\n",
       "    <tr>\n",
       "      <th>7052</th>\n",
       "      <td>0.253946</td>\n",
       "      <td>0.056275</td>\n",
       "      <td>0.009931</td>\n",
       "      <td>0.008039</td>\n",
       "      <td>0.005675</td>\n",
       "      <td>0.007093</td>\n",
       "      <td>0.010877</td>\n",
       "      <td>0.011350</td>\n",
       "      <td>0.006148</td>\n",
       "      <td>0.004256</td>\n",
       "      <td>...</td>\n",
       "      <td>0.000000</td>\n",
       "      <td>0.000000</td>\n",
       "      <td>0.000000</td>\n",
       "      <td>0.000000</td>\n",
       "      <td>0.000000</td>\n",
       "      <td>0.000000</td>\n",
       "      <td>0.000000</td>\n",
       "      <td>0.000000</td>\n",
       "      <td>0.000000</td>\n",
       "      <td>0.000000</td>\n",
       "    </tr>\n",
       "  </tbody>\n",
       "</table>\n",
       "<p>7053 rows × 99 columns</p>\n",
       "</div>"
      ],
      "text/plain": [
       "            0         1         2         3         4         5         6   \\\n",
       "0     0.245949  0.028965  0.011688  0.009655  0.009147  0.008639  0.006606   \n",
       "1     0.249999  0.056727  0.012550  0.006526  0.002510  0.004518  0.003012   \n",
       "2     0.278593  0.057993  0.006823  0.003411  0.002843  0.002843  0.001137   \n",
       "3     0.298138  0.072168  0.014197  0.008282  0.008873  0.006507  0.006507   \n",
       "4     0.271401  0.069417  0.013016  0.002410  0.003374  0.002410  0.001446   \n",
       "...        ...       ...       ...       ...       ...       ...       ...   \n",
       "7048  0.280439  0.074040  0.013692  0.006593  0.006085  0.003043  0.002028   \n",
       "7049  0.265983  0.079795  0.010344  0.007388  0.004926  0.006896  0.008374   \n",
       "7050  0.253063  0.045734  0.011179  0.007114  0.007622  0.006606  0.004573   \n",
       "7051  0.251489  0.045576  0.012080  0.010433  0.007138  0.009335  0.009335   \n",
       "7052  0.253946  0.056275  0.009931  0.008039  0.005675  0.007093  0.010877   \n",
       "\n",
       "            7         8         9   ...        89        90        91  \\\n",
       "0     0.005590  0.006606  0.008639  ...  0.000508  0.000000  0.000508   \n",
       "1     0.005020  0.009036  0.011546  ...  0.000000  0.000000  0.000000   \n",
       "2     0.002274  0.000000  0.001137  ...  0.000000  0.000000  0.000000   \n",
       "3     0.002958  0.005324  0.008873  ...  0.000000  0.000000  0.000000   \n",
       "4     0.003856  0.001446  0.003374  ...  0.000000  0.000482  0.000000   \n",
       "...        ...       ...       ...  ...       ...       ...       ...   \n",
       "7048  0.000000  0.001014  0.001521  ...  0.001014  0.001521  0.002028   \n",
       "7049  0.007881  0.007388  0.007388  ...  0.000985  0.000493  0.000985   \n",
       "7050  0.009147  0.011688  0.006606  ...  0.000000  0.000000  0.000000   \n",
       "7051  0.010982  0.009335  0.007687  ...  0.000000  0.000000  0.000000   \n",
       "7052  0.011350  0.006148  0.004256  ...  0.000000  0.000000  0.000000   \n",
       "\n",
       "            92        93        94        95        96        97        98  \n",
       "0     0.001016  0.002033  0.002033  0.002033  0.002033  0.002033  0.003049  \n",
       "1     0.000000  0.000000  0.000502  0.001506  0.000502  0.000000  0.000000  \n",
       "2     0.000000  0.000000  0.000000  0.000000  0.000000  0.000000  0.000000  \n",
       "3     0.000000  0.000000  0.000000  0.000000  0.000000  0.000000  0.000000  \n",
       "4     0.000000  0.000000  0.000000  0.000000  0.000000  0.000000  0.000000  \n",
       "...        ...       ...       ...       ...       ...       ...       ...  \n",
       "7048  0.000000  0.000000  0.000000  0.000000  0.000000  0.000000  0.000000  \n",
       "7049  0.000000  0.000985  0.000493  0.000000  0.000000  0.000000  0.000000  \n",
       "7050  0.000000  0.000000  0.000000  0.000000  0.000000  0.000000  0.000000  \n",
       "7051  0.000000  0.000000  0.000000  0.000000  0.000000  0.000000  0.000000  \n",
       "7052  0.000000  0.000000  0.000000  0.000000  0.000000  0.000000  0.000000  \n",
       "\n",
       "[7053 rows x 99 columns]"
      ]
     },
     "execution_count": 197,
     "metadata": {},
     "output_type": "execute_result"
    }
   ],
   "source": [
    "import pandas as pd\n",
    "df = pd.DataFrame(histogram)\n",
    "df"
   ]
  },
  {
   "cell_type": "code",
   "execution_count": 261,
   "id": "4c7359e6-bcff-4b27-b6be-d8ec309bfdb2",
   "metadata": {},
   "outputs": [],
   "source": [
    "\n",
    "sim_histogram = np.load(f\"../data/simulations/3d/histogram_200.npy\", allow_pickle=True)"
   ]
  },
  {
   "cell_type": "code",
   "execution_count": 262,
   "id": "d25ba8fe-c740-4437-94f8-ebbc8667c4ba",
   "metadata": {},
   "outputs": [],
   "source": [
    "rows = sim_histogram.shape[0]\n",
    "cols = sim_histogram.shape[1]\n",
    "\n",
    "sim_histogram_list = []\n",
    "for i in range(rows):\n",
    "    for j in range(cols):\n",
    "        sim_filtered_histogram = sim_histogram[i][4:100]\n",
    "        sim_histogram_list.append(sim_filtered_histogram)\n",
    "        "
   ]
  },
  {
   "cell_type": "code",
   "execution_count": 263,
   "id": "c3d48416-31a7-479e-8e2b-5c801156dc46",
   "metadata": {},
   "outputs": [
    {
     "data": {
      "text/plain": [
       "array([0.01829419, 0.01418498, 0.01336227, 0.01210923, 0.00909115,\n",
       "       0.00959476, 0.00816432, 0.00702814, 0.00677512, 0.00741774,\n",
       "       0.00698016, 0.00610478, 0.00558103, 0.00611091, 0.00497352,\n",
       "       0.00694455, 0.00594044, 0.0050404 , 0.00352624, 0.0050353 ,\n",
       "       0.00494244, 0.0050353 , 0.00352987, 0.00403641, 0.00504551,\n",
       "       0.0030836 , 0.00398788, 0.00305853, 0.00205573, 0.00201412,\n",
       "       0.00298535, 0.00303655, 0.00505579, 0.00303041, 0.00403643,\n",
       "       0.00302731, 0.00299091, 0.0038715 , 0.00401608, 0.00303346,\n",
       "       0.00403232, 0.0059248 , 0.00290362, 0.00398047, 0.00299091,\n",
       "       0.00305853, 0.00353085, 0.00246091, 0.00201412, 0.00201008,\n",
       "       0.00101321, 0.00202231, 0.00302731, 0.00150774, 0.00248592,\n",
       "       0.00204108, 0.00202231, 0.00102787, 0.00101532, 0.00200403,\n",
       "       0.00200603, 0.00151783, 0.00202231, 0.0020182 , 0.00151987,\n",
       "       0.00151579, 0.0010091 , 0.00101218, 0.00199594, 0.00100808,\n",
       "       0.00096787, 0.00101218, 0.00101634, 0.0010247 , 0.00199594,\n",
       "       0.        , 0.        , 0.00048394, 0.        , 0.        ,\n",
       "       0.        , 0.        , 0.        , 0.        , 0.        ,\n",
       "       0.        , 0.        , 0.        , 0.        , 0.        ,\n",
       "       0.        , 0.        , 0.        , 0.        , 0.        ])"
      ]
     },
     "execution_count": 263,
     "metadata": {},
     "output_type": "execute_result"
    }
   ],
   "source": [
    "sim_median = np.quantile(sim_histogram_list, q=0.5, axis=0)\n",
    "sim_median\n",
    "\n"
   ]
  },
  {
   "cell_type": "code",
   "execution_count": 264,
   "id": "d589f136-ddad-45c0-95d0-348c532a7d84",
   "metadata": {},
   "outputs": [],
   "source": [
    "normalised_sim_median = sim_median / np.sum(sim_median)"
   ]
  },
  {
   "cell_type": "code",
   "execution_count": null,
   "id": "2bd34e69-6a3a-4b39-8b78-caa7a341c47f",
   "metadata": {},
   "outputs": [],
   "source": []
  },
  {
   "cell_type": "code",
   "execution_count": 265,
   "id": "d4ab2b7d-791b-4efd-8758-e94058a675ea",
   "metadata": {},
   "outputs": [
    {
     "data": {
      "text/plain": [
       "array([  4.        ,   5.0212766 ,   6.04255319,   7.06382979,\n",
       "         8.08510638,   9.10638298,  10.12765957,  11.14893617,\n",
       "        12.17021277,  13.19148936,  14.21276596,  15.23404255,\n",
       "        16.25531915,  17.27659574,  18.29787234,  19.31914894,\n",
       "        20.34042553,  21.36170213,  22.38297872,  23.40425532,\n",
       "        24.42553191,  25.44680851,  26.46808511,  27.4893617 ,\n",
       "        28.5106383 ,  29.53191489,  30.55319149,  31.57446809,\n",
       "        32.59574468,  33.61702128,  34.63829787,  35.65957447,\n",
       "        36.68085106,  37.70212766,  38.72340426,  39.74468085,\n",
       "        40.76595745,  41.78723404,  42.80851064,  43.82978723,\n",
       "        44.85106383,  45.87234043,  46.89361702,  47.91489362,\n",
       "        48.93617021,  49.95744681,  50.9787234 ,  52.        ,\n",
       "        53.0212766 ,  54.04255319,  55.06382979,  56.08510638,\n",
       "        57.10638298,  58.12765957,  59.14893617,  60.17021277,\n",
       "        61.19148936,  62.21276596,  63.23404255,  64.25531915,\n",
       "        65.27659574,  66.29787234,  67.31914894,  68.34042553,\n",
       "        69.36170213,  70.38297872,  71.40425532,  72.42553191,\n",
       "        73.44680851,  74.46808511,  75.4893617 ,  76.5106383 ,\n",
       "        77.53191489,  78.55319149,  79.57446809,  80.59574468,\n",
       "        81.61702128,  82.63829787,  83.65957447,  84.68085106,\n",
       "        85.70212766,  86.72340426,  87.74468085,  88.76595745,\n",
       "        89.78723404,  90.80851064,  91.82978723,  92.85106383,\n",
       "        93.87234043,  94.89361702,  95.91489362,  96.93617021,\n",
       "        97.95744681,  98.9787234 , 100.        ])"
      ]
     },
     "execution_count": 265,
     "metadata": {},
     "output_type": "execute_result"
    }
   ],
   "source": [
    "length = 200\n",
    "sim_distances = np.linspace(start=4, stop=length//2, num=len(histogram_list[0]))\n",
    "sim_distances"
   ]
  },
  {
   "cell_type": "code",
   "execution_count": 267,
   "id": "8a37db6b-d343-40eb-b94d-9e35dee6c244",
   "metadata": {},
   "outputs": [
    {
     "data": {
      "text/plain": [
       "<BarContainer object of 95 artists>"
      ]
     },
     "execution_count": 267,
     "metadata": {},
     "output_type": "execute_result"
    },
    {
     "data": {
      "image/png": "[encoded data removed]",
      "text/plain": [
       "<Figure size 432x288 with 1 Axes>"
      ]
     },
     "metadata": {
      "needs_background": "light"
     },
     "output_type": "display_data"
    }
   ],
   "source": [
    "plt.bar(sim_distances, sim_histogram_list[1])"
   ]
  },
  {
   "cell_type": "code",
   "execution_count": 268,
   "id": "750775ae-b56b-4d9a-ab9a-4c1d0e42ae33",
   "metadata": {},
   "outputs": [
    {
     "data": {
      "text/plain": [
       "[]"
      ]
     },
     "execution_count": 268,
     "metadata": {},
     "output_type": "execute_result"
    },
    {
     "data": {
      "image/png": "[encoded data removed]",
      "text/plain": [
       "<Figure size 432x288 with 1 Axes>"
      ]
     },
     "metadata": {
      "needs_background": "light"
     },
     "output_type": "display_data"
    }
   ],
   "source": [
    "plt.scatter(distances, normalised_median)\n",
    "plt.scatter(sim_distances, normalised_sim_median)\n",
    "plt.loglog()"
   ]
  },
  {
   "cell_type": "markdown",
   "id": "51123716-2aee-4a0c-883e-df5c00fec490",
   "metadata": {},
   "source": [
    "# 300"
   ]
  },
  {
   "cell_type": "code",
   "execution_count": 269,
   "id": "4d67ec59-8c82-4d1c-a10b-b4574496f525",
   "metadata": {},
   "outputs": [],
   "source": [
    "histogram = np.load(\"../data/alphafold/histogram_300.npy\", allow_pickle=True)\n",
    "rows = histogram.shape[0]\n",
    "cols = histogram.shape[1]\n",
    "\n",
    "histogram_list = []\n",
    "for i in range(rows):\n",
    "    for j in range(cols):\n",
    "        filtered_histogram = histogram[i][4:150]\n",
    "        histogram_list.append(filtered_histogram)"
   ]
  },
  {
   "cell_type": "code",
   "execution_count": 270,
   "id": "ff870737-2345-4fa1-93a7-719be26c5f25",
   "metadata": {},
   "outputs": [
    {
     "data": {
      "text/plain": [
       "array([0.00539715, 0.00482722, 0.00510104, 0.00500589, 0.00490682,\n",
       "       0.00447437, 0.00373508, 0.00342285, 0.00284679, 0.0023836 ,\n",
       "       0.00209854, 0.00227919, 0.00177061, 0.00146692, 0.00152382,\n",
       "       0.00142003, 0.00117998, 0.00114095, 0.0011569 , 0.00112774,\n",
       "       0.00092358, 0.00087768, 0.00069028, 0.00067849, 0.00061164,\n",
       "       0.00045079, 0.00044987, 0.00045357, 0.00041105, 0.00026236,\n",
       "       0.00045575, 0.00042778, 0.00044414, 0.00042806, 0.00022961,\n",
       "       0.00023735, 0.00022432, 0.00021726, 0.00022015, 0.00022402,\n",
       "       0.00021783, 0.00021655, 0.00020956, 0.        , 0.        ,\n",
       "       0.00019767, 0.        , 0.        , 0.        , 0.00020553,\n",
       "       0.        , 0.        , 0.        , 0.        , 0.        ,\n",
       "       0.        , 0.        , 0.        , 0.        , 0.        ,\n",
       "       0.        , 0.        , 0.        , 0.        , 0.        ,\n",
       "       0.        , 0.        , 0.        , 0.        , 0.        ,\n",
       "       0.        , 0.        , 0.        , 0.        , 0.        ,\n",
       "       0.        , 0.        , 0.        , 0.        , 0.        ,\n",
       "       0.        , 0.        , 0.        , 0.        , 0.        ,\n",
       "       0.        , 0.        , 0.        , 0.        , 0.        ,\n",
       "       0.        , 0.        , 0.        , 0.        , 0.        ])"
      ]
     },
     "execution_count": 270,
     "metadata": {},
     "output_type": "execute_result"
    }
   ],
   "source": [
    "median = np.quantile(histogram_list, q=0.5, axis=0)\n",
    "median"
   ]
  },
  {
   "cell_type": "code",
   "execution_count": 271,
   "id": "82a9f8be-fbb5-4ead-82a9-ac5d2fb903c6",
   "metadata": {},
   "outputs": [
    {
     "data": {
      "text/plain": [
       "array([  4.        ,   5.55319149,   7.10638298,   8.65957447,\n",
       "        10.21276596,  11.76595745,  13.31914894,  14.87234043,\n",
       "        16.42553191,  17.9787234 ,  19.53191489,  21.08510638,\n",
       "        22.63829787,  24.19148936,  25.74468085,  27.29787234,\n",
       "        28.85106383,  30.40425532,  31.95744681,  33.5106383 ,\n",
       "        35.06382979,  36.61702128,  38.17021277,  39.72340426,\n",
       "        41.27659574,  42.82978723,  44.38297872,  45.93617021,\n",
       "        47.4893617 ,  49.04255319,  50.59574468,  52.14893617,\n",
       "        53.70212766,  55.25531915,  56.80851064,  58.36170213,\n",
       "        59.91489362,  61.46808511,  63.0212766 ,  64.57446809,\n",
       "        66.12765957,  67.68085106,  69.23404255,  70.78723404,\n",
       "        72.34042553,  73.89361702,  75.44680851,  77.        ,\n",
       "        78.55319149,  80.10638298,  81.65957447,  83.21276596,\n",
       "        84.76595745,  86.31914894,  87.87234043,  89.42553191,\n",
       "        90.9787234 ,  92.53191489,  94.08510638,  95.63829787,\n",
       "        97.19148936,  98.74468085, 100.29787234, 101.85106383,\n",
       "       103.40425532, 104.95744681, 106.5106383 , 108.06382979,\n",
       "       109.61702128, 111.17021277, 112.72340426, 114.27659574,\n",
       "       115.82978723, 117.38297872, 118.93617021, 120.4893617 ,\n",
       "       122.04255319, 123.59574468, 125.14893617, 126.70212766,\n",
       "       128.25531915, 129.80851064, 131.36170213, 132.91489362,\n",
       "       134.46808511, 136.0212766 , 137.57446809, 139.12765957,\n",
       "       140.68085106, 142.23404255, 143.78723404, 145.34042553,\n",
       "       146.89361702, 148.44680851, 150.        ])"
      ]
     },
     "execution_count": 271,
     "metadata": {},
     "output_type": "execute_result"
    }
   ],
   "source": [
    "length = 300\n",
    "distances = np.linspace(start=4, stop=length//2, num=len(histogram_list[0]))\n",
    "distances"
   ]
  },
  {
   "cell_type": "code",
   "execution_count": 273,
   "id": "432a5dde-14fd-4082-ae11-1cd3f7e7de2b",
   "metadata": {},
   "outputs": [
    {
     "data": {
      "text/plain": [
       "<BarContainer object of 95 artists>"
      ]
     },
     "execution_count": 273,
     "metadata": {},
     "output_type": "execute_result"
    },
    {
     "data": {
      "image/png": "[encoded data removed]",
      "text/plain": [
       "<Figure size 432x288 with 1 Axes>"
      ]
     },
     "metadata": {
      "needs_background": "light"
     },
     "output_type": "display_data"
    }
   ],
   "source": [
    "plt.bar(distances, histogram_list[1])"
   ]
  },
  {
   "cell_type": "code",
   "execution_count": 274,
   "id": "f7161c94-7a9c-4e95-8fd9-455e8b8c0fb7",
   "metadata": {},
   "outputs": [],
   "source": [
    "normalised_median = median / np.sum(median)"
   ]
  },
  {
   "cell_type": "code",
   "execution_count": 275,
   "id": "f5209275-ac08-4c1c-9a2e-1b9d7f23c682",
   "metadata": {},
   "outputs": [
    {
     "data": {
      "text/plain": [
       "1.0"
      ]
     },
     "execution_count": 275,
     "metadata": {},
     "output_type": "execute_result"
    }
   ],
   "source": [
    "np.sum(normalised_median)"
   ]
  },
  {
   "cell_type": "code",
   "execution_count": 276,
   "id": "12ad65be-00fe-4344-87db-2d8c3447725a",
   "metadata": {},
   "outputs": [
    {
     "data": {
      "text/plain": [
       "[]"
      ]
     },
     "execution_count": 276,
     "metadata": {},
     "output_type": "execute_result"
    },
    {
     "data": {
      "image/png": "[encoded data removed]",
      "text/plain": [
       "<Figure size 432x288 with 1 Axes>"
      ]
     },
     "metadata": {
      "needs_background": "light"
     },
     "output_type": "display_data"
    }
   ],
   "source": [
    "plt.scatter(distances, median)\n",
    "plt.loglog()"
   ]
  },
  {
   "cell_type": "code",
   "execution_count": 277,
   "id": "47ea6715-6f6c-4e9b-a2c6-7c6cc1f9a3fc",
   "metadata": {},
   "outputs": [],
   "source": [
    "sim_histogram = np.load(f\"../data/simulations/3d/histogram_300.npy\", allow_pickle=True)"
   ]
  },
  {
   "cell_type": "code",
   "execution_count": 278,
   "id": "3cecbf58-c7ec-426a-87ef-9f49f530b2c6",
   "metadata": {},
   "outputs": [],
   "source": [
    "rows = sim_histogram.shape[0]\n",
    "cols = sim_histogram.shape[1]\n",
    "\n",
    "sim_histogram_list = []\n",
    "for i in range(rows):\n",
    "    for j in range(cols):\n",
    "        sim_filtered_histogram = sim_histogram[i][4:150]\n",
    "        sim_histogram_list.append(sim_filtered_histogram)"
   ]
  },
  {
   "cell_type": "code",
   "execution_count": 279,
   "id": "0c6958f4-45e8-4930-8431-45d9444e0a57",
   "metadata": {},
   "outputs": [
    {
     "data": {
      "text/plain": [
       "array([0.01065258, 0.00900384, 0.00909312, 0.00684625, 0.00724714,\n",
       "       0.00695811, 0.00600057, 0.00599123, 0.00580594, 0.00452946,\n",
       "       0.00498241, 0.00525046, 0.00495529, 0.0067897 , 0.00567968,\n",
       "       0.00408066, 0.00344167, 0.00367128, 0.00386369, 0.00314702,\n",
       "       0.00388443, 0.00407963, 0.00371341, 0.0029846 , 0.00273641,\n",
       "       0.00158941, 0.00180931, 0.00270106, 0.00181552, 0.00205804,\n",
       "       0.00270657, 0.00271028, 0.00270657, 0.00203198, 0.00248133,\n",
       "       0.00186177, 0.00205422, 0.00225547, 0.00269376, 0.00092758,\n",
       "       0.00135144, 0.00180192, 0.00137865, 0.00184725, 0.0013541 ,\n",
       "       0.00226947, 0.00091402, 0.00090589, 0.00158641, 0.00248102,\n",
       "       0.00160223, 0.00114281, 0.00136261, 0.00136726, 0.00159751,\n",
       "       0.00137198, 0.00135328, 0.00134778, 0.00089852, 0.0015935 ,\n",
       "       0.00140696, 0.00089853, 0.00091094, 0.00047166, 0.00046899,\n",
       "       0.00090591, 0.00090589, 0.00068546, 0.00045295, 0.00047166,\n",
       "       0.00068327, 0.00090035, 0.0002293 , 0.00045326, 0.        ,\n",
       "       0.00045295, 0.00046168, 0.00044926, 0.00047166, 0.00045202,\n",
       "       0.        , 0.        , 0.        , 0.0004511 , 0.00022372,\n",
       "       0.00045701, 0.00044926, 0.        , 0.        , 0.        ,\n",
       "       0.        , 0.        , 0.        , 0.        , 0.        ])"
      ]
     },
     "execution_count": 279,
     "metadata": {},
     "output_type": "execute_result"
    }
   ],
   "source": [
    "sim_median = np.quantile(sim_histogram_list, q=0.5, axis=0)\n",
    "sim_median"
   ]
  },
  {
   "cell_type": "code",
   "execution_count": 280,
   "id": "f0c244fe-0a37-4e4c-bdd8-4c49b69dcfd2",
   "metadata": {},
   "outputs": [],
   "source": [
    "normalised_sim_median = sim_median / np.sum(sim_median)"
   ]
  },
  {
   "cell_type": "code",
   "execution_count": 281,
   "id": "ba32e796-b7fb-4f16-b609-e261ae90e370",
   "metadata": {},
   "outputs": [
    {
     "data": {
      "text/plain": [
       "0.9999999999999999"
      ]
     },
     "execution_count": 281,
     "metadata": {},
     "output_type": "execute_result"
    }
   ],
   "source": [
    "np.sum(normalised_sim_median)"
   ]
  },
  {
   "cell_type": "code",
   "execution_count": 282,
   "id": "2f35d0b1-3886-43d2-9569-394a9f099c09",
   "metadata": {},
   "outputs": [
    {
     "data": {
      "text/plain": [
       "array([  4.        ,   5.55319149,   7.10638298,   8.65957447,\n",
       "        10.21276596,  11.76595745,  13.31914894,  14.87234043,\n",
       "        16.42553191,  17.9787234 ,  19.53191489,  21.08510638,\n",
       "        22.63829787,  24.19148936,  25.74468085,  27.29787234,\n",
       "        28.85106383,  30.40425532,  31.95744681,  33.5106383 ,\n",
       "        35.06382979,  36.61702128,  38.17021277,  39.72340426,\n",
       "        41.27659574,  42.82978723,  44.38297872,  45.93617021,\n",
       "        47.4893617 ,  49.04255319,  50.59574468,  52.14893617,\n",
       "        53.70212766,  55.25531915,  56.80851064,  58.36170213,\n",
       "        59.91489362,  61.46808511,  63.0212766 ,  64.57446809,\n",
       "        66.12765957,  67.68085106,  69.23404255,  70.78723404,\n",
       "        72.34042553,  73.89361702,  75.44680851,  77.        ,\n",
       "        78.55319149,  80.10638298,  81.65957447,  83.21276596,\n",
       "        84.76595745,  86.31914894,  87.87234043,  89.42553191,\n",
       "        90.9787234 ,  92.53191489,  94.08510638,  95.63829787,\n",
       "        97.19148936,  98.74468085, 100.29787234, 101.85106383,\n",
       "       103.40425532, 104.95744681, 106.5106383 , 108.06382979,\n",
       "       109.61702128, 111.17021277, 112.72340426, 114.27659574,\n",
       "       115.82978723, 117.38297872, 118.93617021, 120.4893617 ,\n",
       "       122.04255319, 123.59574468, 125.14893617, 126.70212766,\n",
       "       128.25531915, 129.80851064, 131.36170213, 132.91489362,\n",
       "       134.46808511, 136.0212766 , 137.57446809, 139.12765957,\n",
       "       140.68085106, 142.23404255, 143.78723404, 145.34042553,\n",
       "       146.89361702, 148.44680851, 150.        ])"
      ]
     },
     "execution_count": 282,
     "metadata": {},
     "output_type": "execute_result"
    }
   ],
   "source": [
    "length = 300\n",
    "sim_distances = np.linspace(start=4, stop=length//2, num=len(histogram_list[0]))\n",
    "sim_distances"
   ]
  },
  {
   "cell_type": "code",
   "execution_count": 284,
   "id": "3e798309-abce-4287-a6cc-a710aa249c3c",
   "metadata": {},
   "outputs": [
    {
     "data": {
      "text/plain": [
       "<BarContainer object of 95 artists>"
      ]
     },
     "execution_count": 284,
     "metadata": {},
     "output_type": "execute_result"
    },
    {
     "data": {
      "image/png": "[encoded data removed]",
      "text/plain": [
       "<Figure size 432x288 with 1 Axes>"
      ]
     },
     "metadata": {
      "needs_background": "light"
     },
     "output_type": "display_data"
    }
   ],
   "source": [
    "plt.bar(sim_distances, sim_histogram_list[1])"
   ]
  },
  {
   "cell_type": "code",
   "execution_count": 285,
   "id": "0b8b4cdb-58fd-438c-9309-07edc4cf6a74",
   "metadata": {},
   "outputs": [
    {
     "data": {
      "text/plain": [
       "[]"
      ]
     },
     "execution_count": 285,
     "metadata": {},
     "output_type": "execute_result"
    },
    {
     "data": {
      "image/png": "[encoded data removed]",
      "text/plain": [
       "<Figure size 432x288 with 1 Axes>"
      ]
     },
     "metadata": {
      "needs_background": "light"
     },
     "output_type": "display_data"
    }
   ],
   "source": [
    "plt.scatter(distances, normalised_median)\n",
    "plt.scatter(sim_distances, normalised_sim_median)\n",
    "plt.loglog()"
   ]
  },
  {
   "cell_type": "markdown",
   "id": "d4e2eed2-dfbc-47e5-9dce-b3e9a95520c9",
   "metadata": {},
   "source": [
    "# RCSB Distances"
   ]
  },
  {
   "cell_type": "markdown",
   "id": "9d5f0754-5087-43d0-afdd-c99de4f7246f",
   "metadata": {},
   "source": [
    "# 100"
   ]
  },
  {
   "cell_type": "code",
   "execution_count": 338,
   "id": "f84e08e8-69a0-4331-9e2f-76d9994e1695",
   "metadata": {},
   "outputs": [],
   "source": [
    "histogram = np.load(\"../data/rcsb/histogram_100.npy\", allow_pickle=True)\n",
    "rows = histogram.shape[0]\n",
    "cols = histogram.shape[1]\n",
    "\n",
    "histogram_list = []\n",
    "for i in range(rows):\n",
    "    for j in range(cols):\n",
    "        filtered_histogram = histogram[i][4:50]\n",
    "        histogram_list.append(filtered_histogram)"
   ]
  },
  {
   "cell_type": "code",
   "execution_count": 339,
   "id": "ef8693f1-4aa6-4c65-b034-d70e2db2d507",
   "metadata": {},
   "outputs": [
    {
     "data": {
      "text/plain": [
       "46"
      ]
     },
     "execution_count": 339,
     "metadata": {},
     "output_type": "execute_result"
    }
   ],
   "source": [
    "median = np.quantile(histogram_list, q=0.5, axis=0)\n",
    "len(median)"
   ]
  },
  {
   "cell_type": "code",
   "execution_count": 340,
   "id": "31010442-9d31-4808-8160-65a98b1365fd",
   "metadata": {},
   "outputs": [],
   "source": [
    "normalised_median = median / np.sum(median)"
   ]
  },
  {
   "cell_type": "code",
   "execution_count": 341,
   "id": "57548464-8a5a-4712-a750-c341a10b5949",
   "metadata": {},
   "outputs": [
    {
     "data": {
      "text/plain": [
       "46"
      ]
     },
     "execution_count": 341,
     "metadata": {},
     "output_type": "execute_result"
    }
   ],
   "source": [
    "length = 100\n",
    "distances = np.linspace(start=4, stop=length//2, num=len(histogram_list[0]))\n",
    "len(distances)"
   ]
  },
  {
   "cell_type": "code",
   "execution_count": 342,
   "id": "0162cb8e-7bb3-4c5f-b5e3-8d1c67eda644",
   "metadata": {},
   "outputs": [
    {
     "data": {
      "text/plain": [
       "<BarContainer object of 46 artists>"
      ]
     },
     "execution_count": 342,
     "metadata": {},
     "output_type": "execute_result"
    },
    {
     "data": {
      "image/png": "[encoded data removed]",
      "text/plain": [
       "<Figure size 432x288 with 1 Axes>"
      ]
     },
     "metadata": {
      "needs_background": "light"
     },
     "output_type": "display_data"
    }
   ],
   "source": [
    "plt.bar(distances, median)"
   ]
  },
  {
   "cell_type": "code",
   "execution_count": 343,
   "id": "d6eac3de-c181-4288-9a23-9e43ce484218",
   "metadata": {},
   "outputs": [],
   "source": [
    "sim_histogram = np.load(f\"../data/simulations/3d/histogram_100.npy\", allow_pickle=True)"
   ]
  },
  {
   "cell_type": "code",
   "execution_count": 344,
   "id": "6004782e-32a2-43b2-93ab-3d4d64ab51df",
   "metadata": {},
   "outputs": [],
   "source": [
    "rows = sim_histogram.shape[0]\n",
    "cols = sim_histogram.shape[1]\n",
    "\n",
    "sim_histogram_list = []\n",
    "for i in range(rows):\n",
    "    for j in range(cols):\n",
    "        sim_filtered_histogram = sim_histogram[i][4:50]\n",
    "        sim_histogram_list.append(sim_filtered_histogram)\n",
    "\n",
    "sim_median = np.quantile(sim_histogram_list, q=0.5, axis=0)\n",
    "sim_median\n",
    "\n",
    "normalised_sim_median = sim_median / np.sum(sim_median)\n",
    "length = 100\n",
    "sim_distances = np.linspace(start=4, stop=length//2, num=len(histogram_list[0]))"
   ]
  },
  {
   "cell_type": "code",
   "execution_count": 345,
   "id": "228a3dfd-e016-4c81-a158-274827c7a676",
   "metadata": {},
   "outputs": [
    {
     "data": {
      "text/plain": [
       "46"
      ]
     },
     "execution_count": 345,
     "metadata": {},
     "output_type": "execute_result"
    }
   ],
   "source": [
    "len(normalised_sim_median)"
   ]
  },
  {
   "cell_type": "code",
   "execution_count": 346,
   "id": "0c3f626d-3afc-4696-9aee-a56449850328",
   "metadata": {},
   "outputs": [
    {
     "data": {
      "text/plain": [
       "[]"
      ]
     },
     "execution_count": 346,
     "metadata": {},
     "output_type": "execute_result"
    },
    {
     "data": {
      "image/png": "[encoded data removed]",
      "text/plain": [
       "<Figure size 432x288 with 1 Axes>"
      ]
     },
     "metadata": {
      "needs_background": "light"
     },
     "output_type": "display_data"
    }
   ],
   "source": [
    "plt.scatter(distances, normalised_median)\n",
    "plt.scatter(sim_distances, normalised_sim_median)\n",
    "plt.loglog()"
   ]
  },
  {
   "cell_type": "markdown",
   "id": "5610ac08-9323-4004-a3c8-3050ffec1734",
   "metadata": {},
   "source": [
    "# 200"
   ]
  },
  {
   "cell_type": "code",
   "execution_count": 392,
   "id": "e332a79c-2f62-4005-b098-8b6acd5d9d6b",
   "metadata": {},
   "outputs": [],
   "source": [
    "histogram = np.load(\"../data/rcsb/histogram_200.npy\", allow_pickle=True)\n",
    "rows = histogram.shape[0]\n",
    "cols = histogram.shape[1]\n",
    "\n",
    "histogram_list = []\n",
    "for i in range(rows):\n",
    "    for j in range(cols):\n",
    "        filtered_histogram = histogram[i][4:100]\n",
    "        histogram_list.append(filtered_histogram)"
   ]
  },
  {
   "cell_type": "code",
   "execution_count": 393,
   "id": "e883d168-d8d6-42c6-8339-9f3835055cdd",
   "metadata": {},
   "outputs": [
    {
     "data": {
      "text/plain": [
       "95"
      ]
     },
     "execution_count": 393,
     "metadata": {},
     "output_type": "execute_result"
    }
   ],
   "source": [
    "median = np.quantile(histogram_list, q=0.5, axis=0)\n",
    "len(median)"
   ]
  },
  {
   "cell_type": "code",
   "execution_count": 394,
   "id": "e8193721-9100-4d11-b92e-9a6fac3c061e",
   "metadata": {},
   "outputs": [],
   "source": [
    "normalised_median = median / np.sum(median)"
   ]
  },
  {
   "cell_type": "code",
   "execution_count": 395,
   "id": "ab8bda8d-f13f-4e2d-961c-473db664c1f1",
   "metadata": {},
   "outputs": [
    {
     "data": {
      "text/plain": [
       "95"
      ]
     },
     "execution_count": 395,
     "metadata": {},
     "output_type": "execute_result"
    }
   ],
   "source": [
    "length = 200\n",
    "distances = np.linspace(start=4, stop=length//2, num=len(histogram_list[0]))\n",
    "len(distances)"
   ]
  },
  {
   "cell_type": "code",
   "execution_count": 396,
   "id": "311a6de2-6ac9-4983-9643-9e12ef5d34c2",
   "metadata": {},
   "outputs": [
    {
     "data": {
      "text/plain": [
       "<BarContainer object of 95 artists>"
      ]
     },
     "execution_count": 396,
     "metadata": {},
     "output_type": "execute_result"
    },
    {
     "data": {
      "image/png": "[encoded data removed]",
      "text/plain": [
       "<Figure size 432x288 with 1 Axes>"
      ]
     },
     "metadata": {
      "needs_background": "light"
     },
     "output_type": "display_data"
    }
   ],
   "source": [
    "plt.bar(distances, histogram_list[1])"
   ]
  },
  {
   "cell_type": "code",
   "execution_count": 397,
   "id": "1fa5f9d3-9040-4140-8010-ab382d0042f2",
   "metadata": {},
   "outputs": [],
   "source": [
    "sim_histogram = np.load(f\"../data/simulations/3d/histogram_200.npy\", allow_pickle=True)\n",
    "rows = sim_histogram.shape[0]\n",
    "cols = sim_histogram.shape[1]\n",
    "\n",
    "sim_histogram_list = []\n",
    "for i in range(rows):\n",
    "    for j in range(cols):\n",
    "        sim_filtered_histogram = sim_histogram[i][4:100]\n",
    "        sim_histogram_list.append(sim_filtered_histogram)\n",
    "\n",
    "sim_median = np.quantile(sim_histogram_list, q=0.5, axis=0)\n",
    "sim_median\n",
    "\n",
    "normalised_sim_median = sim_median / np.sum(sim_median)\n",
    "length = 200\n",
    "sim_distances = np.linspace(start=4, stop=length//2, num=len(histogram_list[0]))"
   ]
  },
  {
   "cell_type": "code",
   "execution_count": 398,
   "id": "af43754d-8c66-4b0c-bde9-fb5a2e7536ff",
   "metadata": {},
   "outputs": [
    {
     "data": {
      "text/plain": [
       "[]"
      ]
     },
     "execution_count": 398,
     "metadata": {},
     "output_type": "execute_result"
    },
    {
     "data": {
      "image/png": "[encoded data removed]",
      "text/plain": [
       "<Figure size 432x288 with 1 Axes>"
      ]
     },
     "metadata": {
      "needs_background": "light"
     },
     "output_type": "display_data"
    }
   ],
   "source": [
    "plt.scatter(distances, normalised_median)\n",
    "plt.scatter(sim_distances, normalised_sim_median)\n",
    "plt.loglog()"
   ]
  },
  {
   "cell_type": "markdown",
   "id": "3d696874-6d0e-4bc6-94ae-0008eaad24a9",
   "metadata": {},
   "source": [
    "# 300\n"
   ]
  },
  {
   "cell_type": "code",
   "execution_count": 413,
   "id": "274b2aa9-1727-40a1-93e9-d0ad768dcb1d",
   "metadata": {},
   "outputs": [],
   "source": [
    "histogram = np.load(\"../data/rcsb/histogram_300.npy\", allow_pickle=True)\n",
    "rows = histogram.shape[0]\n",
    "cols = histogram.shape[1]\n",
    "\n",
    "histogram_list = []\n",
    "for i in range(rows):\n",
    "    for j in range(cols):\n",
    "        filtered_histogram = histogram[i][4:150]\n",
    "        histogram_list.append(filtered_histogram)"
   ]
  },
  {
   "cell_type": "code",
   "execution_count": 414,
   "id": "c9326877-0916-4f27-b3cd-8f5a8852c373",
   "metadata": {},
   "outputs": [
    {
     "data": {
      "text/plain": [
       "95"
      ]
     },
     "execution_count": 414,
     "metadata": {},
     "output_type": "execute_result"
    }
   ],
   "source": [
    "median = np.quantile(histogram_list, q=0.5, axis=0)\n",
    "len(median)"
   ]
  },
  {
   "cell_type": "code",
   "execution_count": 415,
   "id": "d3dc3efb-f685-4aae-829e-e90387fde745",
   "metadata": {},
   "outputs": [],
   "source": [
    "normalised_median = median / np.sum(median)"
   ]
  },
  {
   "cell_type": "code",
   "execution_count": 416,
   "id": "939d0b76-01d5-4aa4-9f6f-17bd69fc345b",
   "metadata": {},
   "outputs": [
    {
     "data": {
      "text/plain": [
       "95"
      ]
     },
     "execution_count": 416,
     "metadata": {},
     "output_type": "execute_result"
    }
   ],
   "source": [
    "length = 300\n",
    "distances = np.linspace(start=4, stop=length//2, num=len(histogram_list[0]))\n",
    "len(distances)"
   ]
  },
  {
   "cell_type": "code",
   "execution_count": 418,
   "id": "21ff66be-3dc5-43bc-b5a4-162699c74985",
   "metadata": {},
   "outputs": [
    {
     "data": {
      "text/plain": [
       "<BarContainer object of 95 artists>"
      ]
     },
     "execution_count": 418,
     "metadata": {},
     "output_type": "execute_result"
    },
    {
     "data": {
      "image/png": "[encoded data removed]",
      "text/plain": [
       "<Figure size 432x288 with 1 Axes>"
      ]
     },
     "metadata": {
      "needs_background": "light"
     },
     "output_type": "display_data"
    }
   ],
   "source": [
    "plt.bar(distances, histogram_list[1])"
   ]
  },
  {
   "cell_type": "code",
   "execution_count": 419,
   "id": "cbb4ebb7-a4fb-4d32-827a-f2c62b9eb1a8",
   "metadata": {},
   "outputs": [],
   "source": [
    "sim_histogram = np.load(f\"../data/simulations/3d/histogram_300.npy\", allow_pickle=True)\n",
    "rows = sim_histogram.shape[0]\n",
    "cols = sim_histogram.shape[1]\n",
    "\n",
    "sim_histogram_list = []\n",
    "for i in range(rows):\n",
    "    for j in range(cols):\n",
    "        sim_filtered_histogram = sim_histogram[i][4:150]\n",
    "        sim_histogram_list.append(sim_filtered_histogram)\n",
    "\n",
    "sim_median = np.quantile(sim_histogram_list, q=0.5, axis=0)\n",
    "sim_median\n",
    "\n",
    "normalised_sim_median = sim_median / np.sum(sim_median)\n",
    "length = 300\n",
    "sim_distances = np.linspace(start=4, stop=length//2, num=len(histogram_list[0]))"
   ]
  },
  {
   "cell_type": "code",
   "execution_count": 420,
   "id": "458081e2-6ad6-4bb1-831e-3208b558955a",
   "metadata": {},
   "outputs": [
    {
     "data": {
      "text/plain": [
       "[]"
      ]
     },
     "execution_count": 420,
     "metadata": {},
     "output_type": "execute_result"
    },
    {
     "data": {
      "image/png": "[encoded data removed]",
      "text/plain": [
       "<Figure size 432x288 with 1 Axes>"
      ]
     },
     "metadata": {
      "needs_background": "light"
     },
     "output_type": "display_data"
    }
   ],
   "source": [
    "plt.scatter(distances, normalised_median)\n",
    "plt.scatter(sim_distances, normalised_sim_median)\n",
    "plt.loglog()"
   ]
  },
  {
   "cell_type": "code",
   "execution_count": null,
   "id": "a94b4b81-bb59-41c1-96ad-7e59ad0ebea6",
   "metadata": {},
   "outputs": [],
   "source": []
  }
 ],
 "metadata": {
  "kernelspec": {
   "display_name": "Python 3 (ipykernel)",
   "language": "python",
   "name": "python3"
  },
  "language_info": {
   "codemirror_mode": {
    "name": "ipython",
    "version": 3
   },
   "file_extension": ".py",
   "mimetype": "text/x-python",
   "name": "python",
   "nbconvert_exporter": "python",
   "pygments_lexer": "ipython3",
   "version": "3.10.2"
  }
 },
 "nbformat": 4,
 "nbformat_minor": 5
}
