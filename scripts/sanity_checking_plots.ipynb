{
 "cells": [
  {
   "cell_type": "code",
   "execution_count": 1,
   "id": "2aacc33d-44b0-4fa0-bd47-6a4566c59204",
   "metadata": {},
   "outputs": [],
   "source": [
    "import numpy as np\n",
    "import matplotlib.pyplot as plt"
   ]
  },
  {
   "cell_type": "markdown",
   "id": "b6a2aca6-0f58-4791-a620-ec7d36f53044",
   "metadata": {},
   "source": [
    "# 100s "
   ]
  },
  {
   "cell_type": "code",
   "execution_count": 169,
   "id": "d4181023-491b-4c16-8a6c-0fae63f476a7",
   "metadata": {},
   "outputs": [],
   "source": [
    "histogram = np.load(\"../data/alphafold/histogram_100.npy\", allow_pickle=True)\n",
    "rows = histogram.shape[0]\n",
    "cols = histogram.shape[1]\n",
    "\n",
    "histogram_list = []\n",
    "for i in range(rows):\n",
    "    for j in range(cols):\n",
    "        filtered_histogram = histogram[i][4:50]\n",
    "        histogram_list.append(filtered_histogram)"
   ]
  },
  {
   "cell_type": "code",
   "execution_count": 170,
   "id": "50441e57-ebe4-4fa1-a69d-b644a5135dd6",
   "metadata": {},
   "outputs": [
    {
     "data": {
      "text/plain": [
       "46"
      ]
     },
     "execution_count": 170,
     "metadata": {},
     "output_type": "execute_result"
    }
   ],
   "source": [
    "len(histogram_list[0])"
   ]
  },
  {
   "cell_type": "code",
   "execution_count": 171,
   "id": "bc36d572-fa23-467a-b347-6d032c925928",
   "metadata": {},
   "outputs": [
    {
     "data": {
      "text/plain": [
       "array([0.02235205, 0.01284797, 0.00896192, 0.00724638, 0.00683371,\n",
       "       0.00759013, 0.00717703, 0.00662984, 0.00609756, 0.0055918 ,\n",
       "       0.00493827, 0.00520157, 0.00609756, 0.00449944, 0.00421941,\n",
       "       0.00446429, 0.00401606, 0.00383142, 0.00441501, 0.00414079,\n",
       "       0.00296297, 0.00253165, 0.00407748, 0.00257069, 0.0025    ,\n",
       "       0.00264201, 0.00249066, 0.00229885, 0.00222966, 0.00251256,\n",
       "       0.00238663, 0.00232019, 0.00247525, 0.00293255, 0.0025641 ,\n",
       "       0.00372439, 0.00257069, 0.00242131, 0.0020284 , 0.00241546,\n",
       "       0.00210084, 0.00194553, 0.00205761, 0.0019685 , 0.        ,\n",
       "       0.00210084])"
      ]
     },
     "execution_count": 171,
     "metadata": {},
     "output_type": "execute_result"
    }
   ],
   "source": [
    "median = np.quantile(histogram_list, q=0.5, axis=0)\n",
    "median"
   ]
  },
  {
   "cell_type": "code",
   "execution_count": 174,
   "id": "92361366-5dbe-40d7-baaf-5282bbb22153",
   "metadata": {},
   "outputs": [
    {
     "data": {
      "text/plain": [
       "array([ 4.        ,  5.02222222,  6.04444444,  7.06666667,  8.08888889,\n",
       "        9.11111111, 10.13333333, 11.15555556, 12.17777778, 13.2       ,\n",
       "       14.22222222, 15.24444444, 16.26666667, 17.28888889, 18.31111111,\n",
       "       19.33333333, 20.35555556, 21.37777778, 22.4       , 23.42222222,\n",
       "       24.44444444, 25.46666667, 26.48888889, 27.51111111, 28.53333333,\n",
       "       29.55555556, 30.57777778, 31.6       , 32.62222222, 33.64444444,\n",
       "       34.66666667, 35.68888889, 36.71111111, 37.73333333, 38.75555556,\n",
       "       39.77777778, 40.8       , 41.82222222, 42.84444444, 43.86666667,\n",
       "       44.88888889, 45.91111111, 46.93333333, 47.95555556, 48.97777778,\n",
       "       50.        ])"
      ]
     },
     "execution_count": 174,
     "metadata": {},
     "output_type": "execute_result"
    }
   ],
   "source": [
    "length = 100\n",
    "distances = np.linspace(start=4, stop=length//2, num=len(histogram_list[0]))\n",
    "distances"
   ]
  },
  {
   "cell_type": "code",
   "execution_count": 175,
   "id": "90b5b511-96ab-483e-b746-1874a51e67ed",
   "metadata": {},
   "outputs": [],
   "source": [
    "normalised_median = median / np.sum(median)"
   ]
  },
  {
   "cell_type": "code",
   "execution_count": 176,
   "id": "ad483add-695f-4351-8bbf-44c0838951ec",
   "metadata": {},
   "outputs": [
    {
     "data": {
      "text/plain": [
       "1.0000000000000002"
      ]
     },
     "execution_count": 176,
     "metadata": {},
     "output_type": "execute_result"
    }
   ],
   "source": [
    "np.sum(normalised_median)"
   ]
  },
  {
   "cell_type": "code",
   "execution_count": 177,
   "id": "8409b593-c243-4c52-923d-1e1a7cfa21a1",
   "metadata": {},
   "outputs": [
    {
     "data": {
      "text/plain": [
       "[]"
      ]
     },
     "execution_count": 177,
     "metadata": {},
     "output_type": "execute_result"
    },
    {
     "data": {
      "image/png": "[encoded data removed]",
      "text/plain": [
       "<Figure size 432x288 with 1 Axes>"
      ]
     },
     "metadata": {
      "needs_background": "light"
     },
     "output_type": "display_data"
    }
   ],
   "source": [
    "plt.scatter(distances, normalised_median)\n",
    "plt.loglog()"
   ]
  },
  {
   "cell_type": "code",
   "execution_count": 178,
   "id": "d107cee2-f4e0-4f7f-89e8-3c9436b1c925",
   "metadata": {},
   "outputs": [],
   "source": [
    "sim_histogram = np.load(f\"../data/simulations/3d/histogram_100.npy\", allow_pickle=True)"
   ]
  },
  {
   "cell_type": "code",
   "execution_count": 179,
   "id": "6890cd92-1cff-45c9-9f0a-0631b53d861e",
   "metadata": {},
   "outputs": [
    {
     "data": {
      "text/plain": [
       "array([[0.        , 0.08264463, 0.05371901, ..., 0.        , 0.        ,\n",
       "        0.        ],\n",
       "       [0.        , 0.09130435, 0.09565217, ..., 0.        , 0.        ,\n",
       "        0.        ],\n",
       "       [0.        , 0.09210526, 0.06140351, ..., 0.        , 0.        ,\n",
       "        0.        ],\n",
       "       ...,\n",
       "       [0.        , 0.09130435, 0.09565217, ..., 0.        , 0.        ,\n",
       "        0.        ],\n",
       "       [0.        , 0.125     , 0.06034483, ..., 0.        , 0.        ,\n",
       "        0.        ],\n",
       "       [0.        , 0.0941704 , 0.08071749, ..., 0.        , 0.        ,\n",
       "        0.        ]])"
      ]
     },
     "execution_count": 179,
     "metadata": {},
     "output_type": "execute_result"
    }
   ],
   "source": [
    "sim_histogram"
   ]
  },
  {
   "cell_type": "code",
   "execution_count": 180,
   "id": "28f828d2-8066-4041-a209-7d36409025dc",
   "metadata": {},
   "outputs": [],
   "source": [
    "rows = sim_histogram.shape[0]\n",
    "cols = sim_histogram.shape[1]\n",
    "\n",
    "sim_histogram_list = []\n",
    "for i in range(rows):\n",
    "    for j in range(cols):\n",
    "        sim_filtered_histogram = sim_histogram[i][4:50]\n",
    "        sim_histogram_list.append(sim_filtered_histogram)"
   ]
  },
  {
   "cell_type": "code",
   "execution_count": 181,
   "id": "26908473-0397-454d-b3cf-db894a3997e7",
   "metadata": {},
   "outputs": [
    {
     "data": {
      "text/plain": [
       "array([0.03921587, 0.03056827, 0.03056769, 0.02830941, 0.02303499,\n",
       "       0.01750555, 0.01746725, 0.0173913 , 0.01702128, 0.01315789,\n",
       "       0.0173913 , 0.01652893, 0.01652893, 0.0172417 , 0.0151142 ,\n",
       "       0.01301574, 0.0129332 , 0.01310044, 0.0107419 , 0.01239669,\n",
       "       0.00873362, 0.0127937 , 0.00867683, 0.01072274, 0.00863967,\n",
       "       0.00650333, 0.00632521, 0.00873362, 0.00431967, 0.00438596,\n",
       "       0.00636495, 0.00436681, 0.00826446, 0.00438596, 0.00431042,\n",
       "       0.00431042, 0.00426457, 0.00436681, 0.00438596, 0.00438596,\n",
       "       0.00849261, 0.00873362, 0.00434783, 0.00436681, 0.00433842,\n",
       "       0.00427358])"
      ]
     },
     "execution_count": 181,
     "metadata": {},
     "output_type": "execute_result"
    }
   ],
   "source": [
    "sim_median = np.quantile(sim_histogram_list, q=0.5, axis=0)\n",
    "sim_median\n"
   ]
  },
  {
   "cell_type": "code",
   "execution_count": 182,
   "id": "d70f65b3-8654-43c8-ae8e-d3f1ffb7cb3c",
   "metadata": {},
   "outputs": [],
   "source": [
    "normalised_sim_median = sim_median / np.sum(sim_median)"
   ]
  },
  {
   "cell_type": "code",
   "execution_count": 183,
   "id": "23bc3fb9-ca37-45fc-914d-6a90d49d9103",
   "metadata": {},
   "outputs": [
    {
     "data": {
      "text/plain": [
       "1.0"
      ]
     },
     "execution_count": 183,
     "metadata": {},
     "output_type": "execute_result"
    }
   ],
   "source": [
    "np.sum(normalised_sim_median)"
   ]
  },
  {
   "cell_type": "code",
   "execution_count": 186,
   "id": "378b9352-1a5d-4f72-abb3-f5d470e7cb14",
   "metadata": {},
   "outputs": [
    {
     "data": {
      "text/plain": [
       "array([ 4.        ,  5.02222222,  6.04444444,  7.06666667,  8.08888889,\n",
       "        9.11111111, 10.13333333, 11.15555556, 12.17777778, 13.2       ,\n",
       "       14.22222222, 15.24444444, 16.26666667, 17.28888889, 18.31111111,\n",
       "       19.33333333, 20.35555556, 21.37777778, 22.4       , 23.42222222,\n",
       "       24.44444444, 25.46666667, 26.48888889, 27.51111111, 28.53333333,\n",
       "       29.55555556, 30.57777778, 31.6       , 32.62222222, 33.64444444,\n",
       "       34.66666667, 35.68888889, 36.71111111, 37.73333333, 38.75555556,\n",
       "       39.77777778, 40.8       , 41.82222222, 42.84444444, 43.86666667,\n",
       "       44.88888889, 45.91111111, 46.93333333, 47.95555556, 48.97777778,\n",
       "       50.        ])"
      ]
     },
     "execution_count": 186,
     "metadata": {},
     "output_type": "execute_result"
    }
   ],
   "source": [
    "length = 100\n",
    "sim_distances = np.linspace(start=4, stop=length//2, num=46)\n",
    "sim_distances"
   ]
  },
  {
   "cell_type": "code",
   "execution_count": 187,
   "id": "6c6b5a96-4890-4d94-85ba-412a98019ae2",
   "metadata": {},
   "outputs": [
    {
     "data": {
      "text/plain": [
       "[]"
      ]
     },
     "execution_count": 187,
     "metadata": {},
     "output_type": "execute_result"
    },
    {
     "data": {
      "image/png": "[encoded data removed]",
      "text/plain": [
       "<Figure size 432x288 with 1 Axes>"
      ]
     },
     "metadata": {
      "needs_background": "light"
     },
     "output_type": "display_data"
    }
   ],
   "source": [
    "plt.scatter(sim_distances, normalised_sim_median)\n",
    "plt.loglog()"
   ]
  },
  {
   "cell_type": "code",
   "execution_count": 188,
   "id": "d3e5edf3-f6b7-4ad6-8767-68930f9c1ad0",
   "metadata": {},
   "outputs": [
    {
     "data": {
      "text/plain": [
       "[]"
      ]
     },
     "execution_count": 188,
     "metadata": {},
     "output_type": "execute_result"
    },
    {
     "data": {
      "image/png": "[encoded data removed]",
      "text/plain": [
       "<Figure size 432x288 with 1 Axes>"
      ]
     },
     "metadata": {
      "needs_background": "light"
     },
     "output_type": "display_data"
    }
   ],
   "source": [
    "plt.scatter(distances, normalised_median)\n",
    "plt.scatter(sim_distances, normalised_sim_median)\n",
    "plt.loglog()"
   ]
  },
  {
   "cell_type": "markdown",
   "id": "a407e32f-0b5e-4ed9-bb08-b65b836f30ac",
   "metadata": {},
   "source": [
    "# 200"
   ]
  },
  {
   "cell_type": "code",
   "execution_count": 210,
   "id": "7ccfbb33-4185-4168-9795-261b38a822e5",
   "metadata": {},
   "outputs": [],
   "source": [
    "histogram = np.load(\"../data/alphafold/histogram_200.npy\", allow_pickle=True)\n",
    "\n",
    "rows = histogram.shape[0]\n",
    "cols = histogram.shape[1]\n",
    "\n",
    "histogram_list = []\n",
    "for i in range(rows):\n",
    "    for j in range(cols):\n",
    "        filtered_histogram = histogram[i][4:50]\n",
    "        histogram_list.append(filtered_histogram)"
   ]
  },
  {
   "cell_type": "code",
   "execution_count": 214,
   "id": "db5d479a-bb30-4873-99d5-73b49a0a9cb7",
   "metadata": {},
   "outputs": [
    {
     "data": {
      "text/plain": [
       "698247"
      ]
     },
     "execution_count": 214,
     "metadata": {},
     "output_type": "execute_result"
    }
   ],
   "source": [
    "len(histogram_list)"
   ]
  },
  {
   "cell_type": "code",
   "execution_count": 212,
   "id": "c9827770-9f42-4c45-a0af-5aa64eefc549",
   "metadata": {},
   "outputs": [
    {
     "data": {
      "text/plain": [
       "array([0.00599382, 0.00517726, 0.00507123, 0.00504779, 0.00468223,\n",
       "       0.00448187, 0.00460163, 0.00419821, 0.00333884, 0.00243151,\n",
       "       0.00301508, 0.00313213, 0.003009  , 0.00245794, 0.00248247,\n",
       "       0.00262388, 0.00256701, 0.00233288, 0.0026434 , 0.00234664,\n",
       "       0.00214666, 0.00213057, 0.00198995, 0.00169598, 0.00149246,\n",
       "       0.00157267, 0.00107102, 0.00104295, 0.00098027, 0.00053207,\n",
       "       0.00055093, 0.00056341, 0.0005615 , 0.00061192, 0.00058391,\n",
       "       0.00052038, 0.00052812, 0.00049649, 0.00052478, 0.00052478,\n",
       "       0.000527  , 0.00049062, 0.00048535, 0.00051876, 0.00051287,\n",
       "       0.00051446])"
      ]
     },
     "execution_count": 212,
     "metadata": {},
     "output_type": "execute_result"
    }
   ],
   "source": [
    "median = np.quantile(histogram_list, q=0.5, axis=0)\n",
    "median"
   ]
  },
  {
   "cell_type": "code",
   "execution_count": 215,
   "id": "8c33c6db-6da1-412a-ad4f-4b5c0aa6ce9e",
   "metadata": {},
   "outputs": [
    {
     "data": {
      "text/plain": [
       "array([ 4.        ,  5.02222222,  6.04444444,  7.06666667,  8.08888889,\n",
       "        9.11111111, 10.13333333, 11.15555556, 12.17777778, 13.2       ,\n",
       "       14.22222222, 15.24444444, 16.26666667, 17.28888889, 18.31111111,\n",
       "       19.33333333, 20.35555556, 21.37777778, 22.4       , 23.42222222,\n",
       "       24.44444444, 25.46666667, 26.48888889, 27.51111111, 28.53333333,\n",
       "       29.55555556, 30.57777778, 31.6       , 32.62222222, 33.64444444,\n",
       "       34.66666667, 35.68888889, 36.71111111, 37.73333333, 38.75555556,\n",
       "       39.77777778, 40.8       , 41.82222222, 42.84444444, 43.86666667,\n",
       "       44.88888889, 45.91111111, 46.93333333, 47.95555556, 48.97777778,\n",
       "       50.        ])"
      ]
     },
     "execution_count": 215,
     "metadata": {},
     "output_type": "execute_result"
    }
   ],
   "source": [
    "length = 200\n",
    "distances = np.linspace(start=4, stop=length//4, num=len(histogram_list[0]))\n",
    "distances"
   ]
  },
  {
   "cell_type": "code",
   "execution_count": 216,
   "id": "c1f9d552-70e6-4c24-959e-7ef28648d4da",
   "metadata": {},
   "outputs": [],
   "source": [
    "normalised_median = median / np.sum(median)"
   ]
  },
  {
   "cell_type": "code",
   "execution_count": 217,
   "id": "4c7359e6-bcff-4b27-b6be-d8ec309bfdb2",
   "metadata": {},
   "outputs": [],
   "source": [
    "sim_histogram = np.load(f\"../data/simulations/3d/histogram_200.npy\", allow_pickle=True)"
   ]
  },
  {
   "cell_type": "code",
   "execution_count": 218,
   "id": "d25ba8fe-c740-4437-94f8-ebbc8667c4ba",
   "metadata": {},
   "outputs": [],
   "source": [
    "rows = sim_histogram.shape[0]\n",
    "cols = sim_histogram.shape[1]\n",
    "\n",
    "sim_histogram_list = []\n",
    "for i in range(rows):\n",
    "    for j in range(cols):\n",
    "        sim_filtered_histogram = sim_histogram[i][4:50]\n",
    "        sim_histogram_list.append(sim_filtered_histogram)\n",
    "        "
   ]
  },
  {
   "cell_type": "code",
   "execution_count": 219,
   "id": "c3d48416-31a7-479e-8e2b-5c801156dc46",
   "metadata": {},
   "outputs": [
    {
     "data": {
      "text/plain": [
       "array([0.01829419, 0.01418498, 0.01336227, 0.01210923, 0.00909115,\n",
       "       0.00959476, 0.00816432, 0.00702814, 0.00677512, 0.00741774,\n",
       "       0.00698016, 0.00610478, 0.00558103, 0.00611091, 0.00497352,\n",
       "       0.00694455, 0.00594044, 0.0050404 , 0.00352624, 0.0050353 ,\n",
       "       0.00494244, 0.0050353 , 0.00352987, 0.00403641, 0.00504551,\n",
       "       0.0030836 , 0.00398788, 0.00305853, 0.00205573, 0.00201412,\n",
       "       0.00298535, 0.00303655, 0.00505579, 0.00303041, 0.00403643,\n",
       "       0.00302731, 0.00299091, 0.0038715 , 0.00401608, 0.00303346,\n",
       "       0.00403232, 0.0059248 , 0.00290362, 0.00398047, 0.00299091,\n",
       "       0.00305853])"
      ]
     },
     "execution_count": 219,
     "metadata": {},
     "output_type": "execute_result"
    }
   ],
   "source": [
    "sim_median = np.quantile(sim_histogram_list, q=0.5, axis=0)\n",
    "sim_median\n",
    "\n"
   ]
  },
  {
   "cell_type": "code",
   "execution_count": 220,
   "id": "d589f136-ddad-45c0-95d0-348c532a7d84",
   "metadata": {},
   "outputs": [],
   "source": [
    "normalised_sim_median = sim_median / np.sum(sim_median)"
   ]
  },
  {
   "cell_type": "code",
   "execution_count": 221,
   "id": "d4ab2b7d-791b-4efd-8758-e94058a675ea",
   "metadata": {},
   "outputs": [
    {
     "data": {
      "text/plain": [
       "array([ 4.        ,  5.02222222,  6.04444444,  7.06666667,  8.08888889,\n",
       "        9.11111111, 10.13333333, 11.15555556, 12.17777778, 13.2       ,\n",
       "       14.22222222, 15.24444444, 16.26666667, 17.28888889, 18.31111111,\n",
       "       19.33333333, 20.35555556, 21.37777778, 22.4       , 23.42222222,\n",
       "       24.44444444, 25.46666667, 26.48888889, 27.51111111, 28.53333333,\n",
       "       29.55555556, 30.57777778, 31.6       , 32.62222222, 33.64444444,\n",
       "       34.66666667, 35.68888889, 36.71111111, 37.73333333, 38.75555556,\n",
       "       39.77777778, 40.8       , 41.82222222, 42.84444444, 43.86666667,\n",
       "       44.88888889, 45.91111111, 46.93333333, 47.95555556, 48.97777778,\n",
       "       50.        ])"
      ]
     },
     "execution_count": 221,
     "metadata": {},
     "output_type": "execute_result"
    }
   ],
   "source": [
    "length = 200\n",
    "sim_distances = np.linspace(start=4, stop=length//4, num=46)\n",
    "sim_distances"
   ]
  },
  {
   "cell_type": "code",
   "execution_count": 222,
   "id": "750775ae-b56b-4d9a-ab9a-4c1d0e42ae33",
   "metadata": {},
   "outputs": [
    {
     "data": {
      "text/plain": [
       "[]"
      ]
     },
     "execution_count": 222,
     "metadata": {},
     "output_type": "execute_result"
    },
    {
     "data": {
      "image/png": "[encoded data removed]",
      "text/plain": [
       "<Figure size 432x288 with 1 Axes>"
      ]
     },
     "metadata": {
      "needs_background": "light"
     },
     "output_type": "display_data"
    }
   ],
   "source": [
    "plt.scatter(distances, normalised_median)\n",
    "plt.scatter(sim_distances, normalised_sim_median)\n",
    "plt.loglog()"
   ]
  },
  {
   "cell_type": "code",
   "execution_count": null,
   "id": "33ed99e2-94d9-44d7-a8f0-43115b6e3ea2",
   "metadata": {},
   "outputs": [],
   "source": []
  }
 ],
 "metadata": {
  "kernelspec": {
   "display_name": "Python 3 (ipykernel)",
   "language": "python",
   "name": "python3"
  },
  "language_info": {
   "codemirror_mode": {
    "name": "ipython",
    "version": 3
   },
   "file_extension": ".py",
   "mimetype": "text/x-python",
   "name": "python",
   "nbconvert_exporter": "python",
   "pygments_lexer": "ipython3",
   "version": "3.10.2"
  }
 },
 "nbformat": 4,
 "nbformat_minor": 5
}
