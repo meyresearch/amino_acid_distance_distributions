{
 "cells": [
  {
   "cell_type": "code",
   "execution_count": 1,
   "id": "2aacc33d-44b0-4fa0-bd47-6a4566c59204",
   "metadata": {},
   "outputs": [],
   "source": [
    "import numpy as np\n",
    "import matplotlib.pyplot as plt\n",
    "import pandas as pd"
   ]
  },
  {
   "cell_type": "markdown",
   "id": "738ba69c-34cc-41e4-8bd2-d0741acdb68d",
   "metadata": {},
   "source": [
    "# AlphaFold 2 Distances"
   ]
  },
  {
   "cell_type": "markdown",
   "id": "b6a2aca6-0f58-4791-a620-ec7d36f53044",
   "metadata": {},
   "source": [
    "# 100s "
   ]
  },
  {
   "cell_type": "code",
   "execution_count": 1015,
   "id": "d4181023-491b-4c16-8a6c-0fae63f476a7",
   "metadata": {},
   "outputs": [],
   "source": [
    "histogram = np.load(\"../data/alphafold/histogram_100.npy\", allow_pickle=True)\n",
    "\n",
    "rows = histogram.shape[0]\n",
    "cols = histogram.shape[1]\n",
    "\n",
    "histogram_list = []\n",
    "for i in range(rows):\n",
    "    for j in range(cols):\n",
    "        filtered_histogram = histogram[i][4:49]\n",
    "        histogram_list.append(filtered_histogram)\n"
   ]
  },
  {
   "cell_type": "code",
   "execution_count": null,
   "id": "43514c28-8872-4535-b51d-a18647d56381",
   "metadata": {},
   "outputs": [],
   "source": []
  },
  {
   "cell_type": "code",
   "execution_count": 1016,
   "id": "bc36d572-fa23-467a-b347-6d032c925928",
   "metadata": {},
   "outputs": [
    {
     "data": {
      "text/plain": [
       "array([0.02235205, 0.01284797, 0.00896192, 0.00724638, 0.00683371,\n",
       "       0.00759013, 0.00717703, 0.00662984, 0.00609756, 0.0055918 ,\n",
       "       0.00493827, 0.00520157, 0.00609756, 0.00449944, 0.00421941,\n",
       "       0.00446429, 0.00401606, 0.00383142, 0.00441501, 0.00414079,\n",
       "       0.00296297, 0.00253165, 0.00407748, 0.00257069, 0.0025    ,\n",
       "       0.00264201, 0.00249066, 0.00229885, 0.00222966, 0.00251256,\n",
       "       0.00238663, 0.00232019, 0.00247525, 0.00293255, 0.0025641 ,\n",
       "       0.00372439, 0.00257069, 0.00242131, 0.0020284 , 0.00241546,\n",
       "       0.00210084, 0.00194553, 0.00205761, 0.0019685 , 0.        ])"
      ]
     },
     "execution_count": 1016,
     "metadata": {},
     "output_type": "execute_result"
    }
   ],
   "source": [
    "median = np.quantile(histogram_list, q=0.5, axis=0)\n",
    "median"
   ]
  },
  {
   "cell_type": "code",
   "execution_count": 1017,
   "id": "92361366-5dbe-40d7-baaf-5282bbb22153",
   "metadata": {},
   "outputs": [
    {
     "data": {
      "text/plain": [
       "array([ 5.        ,  6.02272727,  7.04545455,  8.06818182,  9.09090909,\n",
       "       10.11363636, 11.13636364, 12.15909091, 13.18181818, 14.20454545,\n",
       "       15.22727273, 16.25      , 17.27272727, 18.29545455, 19.31818182,\n",
       "       20.34090909, 21.36363636, 22.38636364, 23.40909091, 24.43181818,\n",
       "       25.45454545, 26.47727273, 27.5       , 28.52272727, 29.54545455,\n",
       "       30.56818182, 31.59090909, 32.61363636, 33.63636364, 34.65909091,\n",
       "       35.68181818, 36.70454545, 37.72727273, 38.75      , 39.77272727,\n",
       "       40.79545455, 41.81818182, 42.84090909, 43.86363636, 44.88636364,\n",
       "       45.90909091, 46.93181818, 47.95454545, 48.97727273, 50.        ])"
      ]
     },
     "execution_count": 1017,
     "metadata": {},
     "output_type": "execute_result"
    }
   ],
   "source": [
    "length = 100\n",
    "distances = np.linspace(start=5, stop=length//2, num=len(histogram_list[0]))\n",
    "distances"
   ]
  },
  {
   "cell_type": "code",
   "execution_count": 1018,
   "id": "725f8249-9c57-4ef1-8649-15aef0d5e5e9",
   "metadata": {},
   "outputs": [
    {
     "data": {
      "text/plain": [
       "<BarContainer object of 45 artists>"
      ]
     },
     "execution_count": 1018,
     "metadata": {},
     "output_type": "execute_result"
    },
    {
     "data": {
      "image/png": "[encoded data removed]",
      "text/plain": [
       "<Figure size 432x288 with 1 Axes>"
      ]
     },
     "metadata": {
      "needs_background": "light"
     },
     "output_type": "display_data"
    }
   ],
   "source": [
    "plt.bar(distances, median)"
   ]
  },
  {
   "cell_type": "code",
   "execution_count": 1019,
   "id": "90b5b511-96ab-483e-b746-1874a51e67ed",
   "metadata": {},
   "outputs": [],
   "source": [
    "normalised_median = median / np.sum(median)"
   ]
  },
  {
   "cell_type": "code",
   "execution_count": 1020,
   "id": "ad483add-695f-4351-8bbf-44c0838951ec",
   "metadata": {},
   "outputs": [
    {
     "data": {
      "text/plain": [
       "1.0000000000000002"
      ]
     },
     "execution_count": 1020,
     "metadata": {},
     "output_type": "execute_result"
    }
   ],
   "source": [
    "np.sum(normalised_median)"
   ]
  },
  {
   "cell_type": "code",
   "execution_count": 1021,
   "id": "8409b593-c243-4c52-923d-1e1a7cfa21a1",
   "metadata": {},
   "outputs": [
    {
     "data": {
      "text/plain": [
       "[]"
      ]
     },
     "execution_count": 1021,
     "metadata": {},
     "output_type": "execute_result"
    },
    {
     "data": {
      "image/png": "[encoded data removed]",
      "text/plain": [
       "<Figure size 432x288 with 1 Axes>"
      ]
     },
     "metadata": {
      "needs_background": "light"
     },
     "output_type": "display_data"
    }
   ],
   "source": [
    "plt.scatter(distances, median)\n",
    "plt.loglog()"
   ]
  },
  {
   "cell_type": "code",
   "execution_count": 1022,
   "id": "d107cee2-f4e0-4f7f-89e8-3c9436b1c925",
   "metadata": {},
   "outputs": [],
   "source": [
    "sim_histogram = np.load(f\"../data/simulations/3d/histogram_100.npy\", allow_pickle=True)"
   ]
  },
  {
   "cell_type": "code",
   "execution_count": 1023,
   "id": "6890cd92-1cff-45c9-9f0a-0631b53d861e",
   "metadata": {},
   "outputs": [
    {
     "data": {
      "text/plain": [
       "array([[0.        , 0.08264463, 0.05371901, ..., 0.        , 0.        ,\n",
       "        0.        ],\n",
       "       [0.        , 0.09130435, 0.09565217, ..., 0.        , 0.        ,\n",
       "        0.        ],\n",
       "       [0.        , 0.09210526, 0.06140351, ..., 0.        , 0.        ,\n",
       "        0.        ],\n",
       "       ...,\n",
       "       [0.        , 0.09130435, 0.09565217, ..., 0.        , 0.        ,\n",
       "        0.        ],\n",
       "       [0.        , 0.125     , 0.06034483, ..., 0.        , 0.        ,\n",
       "        0.        ],\n",
       "       [0.        , 0.0941704 , 0.08071749, ..., 0.        , 0.        ,\n",
       "        0.        ]])"
      ]
     },
     "execution_count": 1023,
     "metadata": {},
     "output_type": "execute_result"
    }
   ],
   "source": [
    "sim_histogram"
   ]
  },
  {
   "cell_type": "code",
   "execution_count": 1024,
   "id": "28f828d2-8066-4041-a209-7d36409025dc",
   "metadata": {},
   "outputs": [],
   "source": [
    "rows = sim_histogram.shape[0]\n",
    "cols = sim_histogram.shape[1]\n",
    "\n",
    "sim_histogram_list = []\n",
    "for i in range(rows):\n",
    "    for j in range(cols):\n",
    "        sim_filtered_histogram = sim_histogram[i][4:49]\n",
    "        sim_histogram_list.append(sim_filtered_histogram)"
   ]
  },
  {
   "cell_type": "code",
   "execution_count": 1025,
   "id": "26908473-0397-454d-b3cf-db894a3997e7",
   "metadata": {},
   "outputs": [
    {
     "data": {
      "text/plain": [
       "array([0.03921587, 0.03056827, 0.03056769, 0.02830941, 0.02303499,\n",
       "       0.01750555, 0.01746725, 0.0173913 , 0.01702128, 0.01315789,\n",
       "       0.0173913 , 0.01652893, 0.01652893, 0.0172417 , 0.0151142 ,\n",
       "       0.01301574, 0.0129332 , 0.01310044, 0.0107419 , 0.01239669,\n",
       "       0.00873362, 0.0127937 , 0.00867683, 0.01072274, 0.00863967,\n",
       "       0.00650333, 0.00632521, 0.00873362, 0.00431967, 0.00438596,\n",
       "       0.00636495, 0.00436681, 0.00826446, 0.00438596, 0.00431042,\n",
       "       0.00431042, 0.00426457, 0.00436681, 0.00438596, 0.00438596,\n",
       "       0.00849261, 0.00873362, 0.00434783, 0.00436681, 0.00433842])"
      ]
     },
     "execution_count": 1025,
     "metadata": {},
     "output_type": "execute_result"
    }
   ],
   "source": [
    "sim_median = np.quantile(sim_histogram_list, q=0.5, axis=0)\n",
    "sim_median\n"
   ]
  },
  {
   "cell_type": "code",
   "execution_count": 1026,
   "id": "d70f65b3-8654-43c8-ae8e-d3f1ffb7cb3c",
   "metadata": {},
   "outputs": [],
   "source": [
    "normalised_sim_median = sim_median / np.sum(sim_median)"
   ]
  },
  {
   "cell_type": "code",
   "execution_count": 1027,
   "id": "23bc3fb9-ca37-45fc-914d-6a90d49d9103",
   "metadata": {},
   "outputs": [
    {
     "data": {
      "text/plain": [
       "1.0000000000000002"
      ]
     },
     "execution_count": 1027,
     "metadata": {},
     "output_type": "execute_result"
    }
   ],
   "source": [
    "np.sum(normalised_sim_median)"
   ]
  },
  {
   "cell_type": "code",
   "execution_count": 1028,
   "id": "378b9352-1a5d-4f72-abb3-f5d470e7cb14",
   "metadata": {},
   "outputs": [
    {
     "data": {
      "text/plain": [
       "array([ 5.        ,  6.02272727,  7.04545455,  8.06818182,  9.09090909,\n",
       "       10.11363636, 11.13636364, 12.15909091, 13.18181818, 14.20454545,\n",
       "       15.22727273, 16.25      , 17.27272727, 18.29545455, 19.31818182,\n",
       "       20.34090909, 21.36363636, 22.38636364, 23.40909091, 24.43181818,\n",
       "       25.45454545, 26.47727273, 27.5       , 28.52272727, 29.54545455,\n",
       "       30.56818182, 31.59090909, 32.61363636, 33.63636364, 34.65909091,\n",
       "       35.68181818, 36.70454545, 37.72727273, 38.75      , 39.77272727,\n",
       "       40.79545455, 41.81818182, 42.84090909, 43.86363636, 44.88636364,\n",
       "       45.90909091, 46.93181818, 47.95454545, 48.97727273, 50.        ])"
      ]
     },
     "execution_count": 1028,
     "metadata": {},
     "output_type": "execute_result"
    }
   ],
   "source": [
    "length = 100\n",
    "sim_distances = np.linspace(start=5, stop=length//2, num=len(histogram_list[0]))\n",
    "sim_distances"
   ]
  },
  {
   "cell_type": "code",
   "execution_count": 1029,
   "id": "9a1f18a0-27a6-4c2c-bcfb-6a10704e3bd2",
   "metadata": {},
   "outputs": [
    {
     "data": {
      "text/plain": [
       "<BarContainer object of 45 artists>"
      ]
     },
     "execution_count": 1029,
     "metadata": {},
     "output_type": "execute_result"
    },
    {
     "data": {
      "image/png": "[encoded data removed]",
      "text/plain": [
       "<Figure size 432x288 with 1 Axes>"
      ]
     },
     "metadata": {
      "needs_background": "light"
     },
     "output_type": "display_data"
    }
   ],
   "source": [
    "plt.bar(sim_distances, sim_histogram_list[1])"
   ]
  },
  {
   "cell_type": "code",
   "execution_count": 1030,
   "id": "6c6b5a96-4890-4d94-85ba-412a98019ae2",
   "metadata": {},
   "outputs": [
    {
     "data": {
      "text/plain": [
       "[]"
      ]
     },
     "execution_count": 1030,
     "metadata": {},
     "output_type": "execute_result"
    },
    {
     "data": {
      "image/png": "[encoded data removed]",
      "text/plain": [
       "<Figure size 432x288 with 1 Axes>"
      ]
     },
     "metadata": {
      "needs_background": "light"
     },
     "output_type": "display_data"
    }
   ],
   "source": [
    "plt.scatter(sim_distances, normalised_sim_median)\n",
    "plt.loglog()"
   ]
  },
  {
   "cell_type": "code",
   "execution_count": 1031,
   "id": "d3e5edf3-f6b7-4ad6-8767-68930f9c1ad0",
   "metadata": {},
   "outputs": [
    {
     "data": {
      "text/plain": [
       "[]"
      ]
     },
     "execution_count": 1031,
     "metadata": {},
     "output_type": "execute_result"
    },
    {
     "data": {
      "image/png": "[encoded data removed]",
      "text/plain": [
       "<Figure size 432x288 with 1 Axes>"
      ]
     },
     "metadata": {
      "needs_background": "light"
     },
     "output_type": "display_data"
    }
   ],
   "source": [
    "plt.scatter(distances, normalised_median)\n",
    "plt.scatter(sim_distances, normalised_sim_median)\n",
    "plt.loglog()"
   ]
  },
  {
   "cell_type": "markdown",
   "id": "a407e32f-0b5e-4ed9-bb08-b65b836f30ac",
   "metadata": {},
   "source": [
    "# 200"
   ]
  },
  {
   "cell_type": "code",
   "execution_count": 983,
   "id": "7ccfbb33-4185-4168-9795-261b38a822e5",
   "metadata": {},
   "outputs": [],
   "source": [
    "histogram = np.load(\"../data/alphafold/histogram_200.npy\", allow_pickle=True)\n",
    "\n",
    "rows = histogram.shape[0]\n",
    "cols = histogram.shape[1]\n",
    "\n",
    "histogram_list = []\n",
    "for i in range(rows):\n",
    "    for j in range(cols):\n",
    "        filtered_histogram = histogram[i][2:49]\n",
    "        histogram_list.append(filtered_histogram)"
   ]
  },
  {
   "cell_type": "code",
   "execution_count": 984,
   "id": "db5d479a-bb30-4873-99d5-73b49a0a9cb7",
   "metadata": {},
   "outputs": [
    {
     "data": {
      "text/plain": [
       "698247"
      ]
     },
     "execution_count": 984,
     "metadata": {},
     "output_type": "execute_result"
    }
   ],
   "source": [
    "len(histogram_list)"
   ]
  },
  {
   "cell_type": "code",
   "execution_count": 985,
   "id": "c9827770-9f42-4c45-a0af-5aa64eefc549",
   "metadata": {},
   "outputs": [
    {
     "data": {
      "text/plain": [
       "array([0.01201913, 0.0068149 , 0.00599382, 0.00517726, 0.00507123,\n",
       "       0.00504779, 0.00468223, 0.00448187, 0.00460163, 0.00419821,\n",
       "       0.00333884, 0.00243151, 0.00301508, 0.00313213, 0.003009  ,\n",
       "       0.00245794, 0.00248247, 0.00262388, 0.00256701, 0.00233288,\n",
       "       0.0026434 , 0.00234664, 0.00214666, 0.00213057, 0.00198995,\n",
       "       0.00169598, 0.00149246, 0.00157267, 0.00107102, 0.00104295,\n",
       "       0.00098027, 0.00053207, 0.00055093, 0.00056341, 0.0005615 ,\n",
       "       0.00061192, 0.00058391, 0.00052038, 0.00052812, 0.00049649,\n",
       "       0.00052478, 0.00052478, 0.000527  , 0.00049062, 0.00048535,\n",
       "       0.00051876, 0.00051287])"
      ]
     },
     "execution_count": 985,
     "metadata": {},
     "output_type": "execute_result"
    }
   ],
   "source": [
    "median = np.quantile(histogram_list, q=0.5, axis=0)\n",
    "median"
   ]
  },
  {
   "cell_type": "code",
   "execution_count": 987,
   "id": "8c33c6db-6da1-412a-ad4f-4b5c0aa6ce9e",
   "metadata": {},
   "outputs": [
    {
     "data": {
      "text/plain": [
       "array([  5.        ,   7.06521739,   9.13043478,  11.19565217,\n",
       "        13.26086957,  15.32608696,  17.39130435,  19.45652174,\n",
       "        21.52173913,  23.58695652,  25.65217391,  27.7173913 ,\n",
       "        29.7826087 ,  31.84782609,  33.91304348,  35.97826087,\n",
       "        38.04347826,  40.10869565,  42.17391304,  44.23913043,\n",
       "        46.30434783,  48.36956522,  50.43478261,  52.5       ,\n",
       "        54.56521739,  56.63043478,  58.69565217,  60.76086957,\n",
       "        62.82608696,  64.89130435,  66.95652174,  69.02173913,\n",
       "        71.08695652,  73.15217391,  75.2173913 ,  77.2826087 ,\n",
       "        79.34782609,  81.41304348,  83.47826087,  85.54347826,\n",
       "        87.60869565,  89.67391304,  91.73913043,  93.80434783,\n",
       "        95.86956522,  97.93478261, 100.        ])"
      ]
     },
     "execution_count": 987,
     "metadata": {},
     "output_type": "execute_result"
    }
   ],
   "source": [
    "length = 200\n",
    "distances = np.linspace(start=5, stop=length//2, num=len(histogram_list[0]))\n",
    "distances"
   ]
  },
  {
   "cell_type": "code",
   "execution_count": 988,
   "id": "c1f9d552-70e6-4c24-959e-7ef28648d4da",
   "metadata": {},
   "outputs": [],
   "source": [
    "normalised_median = median / np.sum(median)"
   ]
  },
  {
   "cell_type": "code",
   "execution_count": 989,
   "id": "a8db8bb9-da7d-4607-a8b1-d7802cebf1dd",
   "metadata": {},
   "outputs": [
    {
     "data": {
      "text/plain": [
       "<BarContainer object of 47 artists>"
      ]
     },
     "execution_count": 989,
     "metadata": {},
     "output_type": "execute_result"
    },
    {
     "data": {
      "image/png": "[encoded data removed]",
      "text/plain": [
       "<Figure size 432x288 with 1 Axes>"
      ]
     },
     "metadata": {
      "needs_background": "light"
     },
     "output_type": "display_data"
    }
   ],
   "source": [
    "plt.bar(distances, median)"
   ]
  },
  {
   "cell_type": "code",
   "execution_count": 990,
   "id": "4d14f00a-74e1-47b8-bab5-49ff04df4947",
   "metadata": {},
   "outputs": [
    {
     "data": {
      "text/plain": [
       "[]"
      ]
     },
     "execution_count": 990,
     "metadata": {},
     "output_type": "execute_result"
    },
    {
     "data": {
      "image/png": "[encoded data removed]",
      "text/plain": [
       "<Figure size 432x288 with 1 Axes>"
      ]
     },
     "metadata": {
      "needs_background": "light"
     },
     "output_type": "display_data"
    }
   ],
   "source": [
    "plt.scatter(distances, normalised_median)\n",
    "plt.loglog()"
   ]
  },
  {
   "cell_type": "code",
   "execution_count": 991,
   "id": "1d132d17-770c-4af8-8582-7ac13039cb94",
   "metadata": {},
   "outputs": [],
   "source": [
    "#!pip install pandas"
   ]
  },
  {
   "cell_type": "code",
   "execution_count": 470,
   "id": "edab2672-b6ed-416a-8b60-9a773ed9919d",
   "metadata": {},
   "outputs": [
    {
     "data": {
      "text/html": [
       "<div>\n",
       "<style scoped>\n",
       "    .dataframe tbody tr th:only-of-type {\n",
       "        vertical-align: middle;\n",
       "    }\n",
       "\n",
       "    .dataframe tbody tr th {\n",
       "        vertical-align: top;\n",
       "    }\n",
       "\n",
       "    .dataframe thead th {\n",
       "        text-align: right;\n",
       "    }\n",
       "</style>\n",
       "<table border=\"1\" class=\"dataframe\">\n",
       "  <thead>\n",
       "    <tr style=\"text-align: right;\">\n",
       "      <th></th>\n",
       "      <th>0</th>\n",
       "      <th>1</th>\n",
       "      <th>2</th>\n",
       "      <th>3</th>\n",
       "      <th>4</th>\n",
       "      <th>5</th>\n",
       "      <th>6</th>\n",
       "      <th>7</th>\n",
       "      <th>8</th>\n",
       "      <th>9</th>\n",
       "      <th>...</th>\n",
       "      <th>89</th>\n",
       "      <th>90</th>\n",
       "      <th>91</th>\n",
       "      <th>92</th>\n",
       "      <th>93</th>\n",
       "      <th>94</th>\n",
       "      <th>95</th>\n",
       "      <th>96</th>\n",
       "      <th>97</th>\n",
       "      <th>98</th>\n",
       "    </tr>\n",
       "  </thead>\n",
       "  <tbody>\n",
       "    <tr>\n",
       "      <th>0</th>\n",
       "      <td>0.245949</td>\n",
       "      <td>0.028965</td>\n",
       "      <td>0.011688</td>\n",
       "      <td>0.009655</td>\n",
       "      <td>0.009147</td>\n",
       "      <td>0.008639</td>\n",
       "      <td>0.006606</td>\n",
       "      <td>0.005590</td>\n",
       "      <td>0.006606</td>\n",
       "      <td>0.008639</td>\n",
       "      <td>...</td>\n",
       "      <td>0.000508</td>\n",
       "      <td>0.000000</td>\n",
       "      <td>0.000508</td>\n",
       "      <td>0.001016</td>\n",
       "      <td>0.002033</td>\n",
       "      <td>0.002033</td>\n",
       "      <td>0.002033</td>\n",
       "      <td>0.002033</td>\n",
       "      <td>0.002033</td>\n",
       "      <td>0.003049</td>\n",
       "    </tr>\n",
       "    <tr>\n",
       "      <th>1</th>\n",
       "      <td>0.249999</td>\n",
       "      <td>0.056727</td>\n",
       "      <td>0.012550</td>\n",
       "      <td>0.006526</td>\n",
       "      <td>0.002510</td>\n",
       "      <td>0.004518</td>\n",
       "      <td>0.003012</td>\n",
       "      <td>0.005020</td>\n",
       "      <td>0.009036</td>\n",
       "      <td>0.011546</td>\n",
       "      <td>...</td>\n",
       "      <td>0.000000</td>\n",
       "      <td>0.000000</td>\n",
       "      <td>0.000000</td>\n",
       "      <td>0.000000</td>\n",
       "      <td>0.000000</td>\n",
       "      <td>0.000502</td>\n",
       "      <td>0.001506</td>\n",
       "      <td>0.000502</td>\n",
       "      <td>0.000000</td>\n",
       "      <td>0.000000</td>\n",
       "    </tr>\n",
       "    <tr>\n",
       "      <th>2</th>\n",
       "      <td>0.278593</td>\n",
       "      <td>0.057993</td>\n",
       "      <td>0.006823</td>\n",
       "      <td>0.003411</td>\n",
       "      <td>0.002843</td>\n",
       "      <td>0.002843</td>\n",
       "      <td>0.001137</td>\n",
       "      <td>0.002274</td>\n",
       "      <td>0.000000</td>\n",
       "      <td>0.001137</td>\n",
       "      <td>...</td>\n",
       "      <td>0.000000</td>\n",
       "      <td>0.000000</td>\n",
       "      <td>0.000000</td>\n",
       "      <td>0.000000</td>\n",
       "      <td>0.000000</td>\n",
       "      <td>0.000000</td>\n",
       "      <td>0.000000</td>\n",
       "      <td>0.000000</td>\n",
       "      <td>0.000000</td>\n",
       "      <td>0.000000</td>\n",
       "    </tr>\n",
       "    <tr>\n",
       "      <th>3</th>\n",
       "      <td>0.298138</td>\n",
       "      <td>0.072168</td>\n",
       "      <td>0.014197</td>\n",
       "      <td>0.008282</td>\n",
       "      <td>0.008873</td>\n",
       "      <td>0.006507</td>\n",
       "      <td>0.006507</td>\n",
       "      <td>0.002958</td>\n",
       "      <td>0.005324</td>\n",
       "      <td>0.008873</td>\n",
       "      <td>...</td>\n",
       "      <td>0.000000</td>\n",
       "      <td>0.000000</td>\n",
       "      <td>0.000000</td>\n",
       "      <td>0.000000</td>\n",
       "      <td>0.000000</td>\n",
       "      <td>0.000000</td>\n",
       "      <td>0.000000</td>\n",
       "      <td>0.000000</td>\n",
       "      <td>0.000000</td>\n",
       "      <td>0.000000</td>\n",
       "    </tr>\n",
       "    <tr>\n",
       "      <th>4</th>\n",
       "      <td>0.271401</td>\n",
       "      <td>0.069417</td>\n",
       "      <td>0.013016</td>\n",
       "      <td>0.002410</td>\n",
       "      <td>0.003374</td>\n",
       "      <td>0.002410</td>\n",
       "      <td>0.001446</td>\n",
       "      <td>0.003856</td>\n",
       "      <td>0.001446</td>\n",
       "      <td>0.003374</td>\n",
       "      <td>...</td>\n",
       "      <td>0.000000</td>\n",
       "      <td>0.000482</td>\n",
       "      <td>0.000000</td>\n",
       "      <td>0.000000</td>\n",
       "      <td>0.000000</td>\n",
       "      <td>0.000000</td>\n",
       "      <td>0.000000</td>\n",
       "      <td>0.000000</td>\n",
       "      <td>0.000000</td>\n",
       "      <td>0.000000</td>\n",
       "    </tr>\n",
       "    <tr>\n",
       "      <th>...</th>\n",
       "      <td>...</td>\n",
       "      <td>...</td>\n",
       "      <td>...</td>\n",
       "      <td>...</td>\n",
       "      <td>...</td>\n",
       "      <td>...</td>\n",
       "      <td>...</td>\n",
       "      <td>...</td>\n",
       "      <td>...</td>\n",
       "      <td>...</td>\n",
       "      <td>...</td>\n",
       "      <td>...</td>\n",
       "      <td>...</td>\n",
       "      <td>...</td>\n",
       "      <td>...</td>\n",
       "      <td>...</td>\n",
       "      <td>...</td>\n",
       "      <td>...</td>\n",
       "      <td>...</td>\n",
       "      <td>...</td>\n",
       "      <td>...</td>\n",
       "    </tr>\n",
       "    <tr>\n",
       "      <th>7048</th>\n",
       "      <td>0.280439</td>\n",
       "      <td>0.074040</td>\n",
       "      <td>0.013692</td>\n",
       "      <td>0.006593</td>\n",
       "      <td>0.006085</td>\n",
       "      <td>0.003043</td>\n",
       "      <td>0.002028</td>\n",
       "      <td>0.000000</td>\n",
       "      <td>0.001014</td>\n",
       "      <td>0.001521</td>\n",
       "      <td>...</td>\n",
       "      <td>0.001014</td>\n",
       "      <td>0.001521</td>\n",
       "      <td>0.002028</td>\n",
       "      <td>0.000000</td>\n",
       "      <td>0.000000</td>\n",
       "      <td>0.000000</td>\n",
       "      <td>0.000000</td>\n",
       "      <td>0.000000</td>\n",
       "      <td>0.000000</td>\n",
       "      <td>0.000000</td>\n",
       "    </tr>\n",
       "    <tr>\n",
       "      <th>7049</th>\n",
       "      <td>0.265983</td>\n",
       "      <td>0.079795</td>\n",
       "      <td>0.010344</td>\n",
       "      <td>0.007388</td>\n",
       "      <td>0.004926</td>\n",
       "      <td>0.006896</td>\n",
       "      <td>0.008374</td>\n",
       "      <td>0.007881</td>\n",
       "      <td>0.007388</td>\n",
       "      <td>0.007388</td>\n",
       "      <td>...</td>\n",
       "      <td>0.000985</td>\n",
       "      <td>0.000493</td>\n",
       "      <td>0.000985</td>\n",
       "      <td>0.000000</td>\n",
       "      <td>0.000985</td>\n",
       "      <td>0.000493</td>\n",
       "      <td>0.000000</td>\n",
       "      <td>0.000000</td>\n",
       "      <td>0.000000</td>\n",
       "      <td>0.000000</td>\n",
       "    </tr>\n",
       "    <tr>\n",
       "      <th>7050</th>\n",
       "      <td>0.253063</td>\n",
       "      <td>0.045734</td>\n",
       "      <td>0.011179</td>\n",
       "      <td>0.007114</td>\n",
       "      <td>0.007622</td>\n",
       "      <td>0.006606</td>\n",
       "      <td>0.004573</td>\n",
       "      <td>0.009147</td>\n",
       "      <td>0.011688</td>\n",
       "      <td>0.006606</td>\n",
       "      <td>...</td>\n",
       "      <td>0.000000</td>\n",
       "      <td>0.000000</td>\n",
       "      <td>0.000000</td>\n",
       "      <td>0.000000</td>\n",
       "      <td>0.000000</td>\n",
       "      <td>0.000000</td>\n",
       "      <td>0.000000</td>\n",
       "      <td>0.000000</td>\n",
       "      <td>0.000000</td>\n",
       "      <td>0.000000</td>\n",
       "    </tr>\n",
       "    <tr>\n",
       "      <th>7051</th>\n",
       "      <td>0.251489</td>\n",
       "      <td>0.045576</td>\n",
       "      <td>0.012080</td>\n",
       "      <td>0.010433</td>\n",
       "      <td>0.007138</td>\n",
       "      <td>0.009335</td>\n",
       "      <td>0.009335</td>\n",
       "      <td>0.010982</td>\n",
       "      <td>0.009335</td>\n",
       "      <td>0.007687</td>\n",
       "      <td>...</td>\n",
       "      <td>0.000000</td>\n",
       "      <td>0.000000</td>\n",
       "      <td>0.000000</td>\n",
       "      <td>0.000000</td>\n",
       "      <td>0.000000</td>\n",
       "      <td>0.000000</td>\n",
       "      <td>0.000000</td>\n",
       "      <td>0.000000</td>\n",
       "      <td>0.000000</td>\n",
       "      <td>0.000000</td>\n",
       "    </tr>\n",
       "    <tr>\n",
       "      <th>7052</th>\n",
       "      <td>0.253946</td>\n",
       "      <td>0.056275</td>\n",
       "      <td>0.009931</td>\n",
       "      <td>0.008039</td>\n",
       "      <td>0.005675</td>\n",
       "      <td>0.007093</td>\n",
       "      <td>0.010877</td>\n",
       "      <td>0.011350</td>\n",
       "      <td>0.006148</td>\n",
       "      <td>0.004256</td>\n",
       "      <td>...</td>\n",
       "      <td>0.000000</td>\n",
       "      <td>0.000000</td>\n",
       "      <td>0.000000</td>\n",
       "      <td>0.000000</td>\n",
       "      <td>0.000000</td>\n",
       "      <td>0.000000</td>\n",
       "      <td>0.000000</td>\n",
       "      <td>0.000000</td>\n",
       "      <td>0.000000</td>\n",
       "      <td>0.000000</td>\n",
       "    </tr>\n",
       "  </tbody>\n",
       "</table>\n",
       "<p>7053 rows × 99 columns</p>\n",
       "</div>"
      ],
      "text/plain": [
       "            0         1         2         3         4         5         6   \\\n",
       "0     0.245949  0.028965  0.011688  0.009655  0.009147  0.008639  0.006606   \n",
       "1     0.249999  0.056727  0.012550  0.006526  0.002510  0.004518  0.003012   \n",
       "2     0.278593  0.057993  0.006823  0.003411  0.002843  0.002843  0.001137   \n",
       "3     0.298138  0.072168  0.014197  0.008282  0.008873  0.006507  0.006507   \n",
       "4     0.271401  0.069417  0.013016  0.002410  0.003374  0.002410  0.001446   \n",
       "...        ...       ...       ...       ...       ...       ...       ...   \n",
       "7048  0.280439  0.074040  0.013692  0.006593  0.006085  0.003043  0.002028   \n",
       "7049  0.265983  0.079795  0.010344  0.007388  0.004926  0.006896  0.008374   \n",
       "7050  0.253063  0.045734  0.011179  0.007114  0.007622  0.006606  0.004573   \n",
       "7051  0.251489  0.045576  0.012080  0.010433  0.007138  0.009335  0.009335   \n",
       "7052  0.253946  0.056275  0.009931  0.008039  0.005675  0.007093  0.010877   \n",
       "\n",
       "            7         8         9   ...        89        90        91  \\\n",
       "0     0.005590  0.006606  0.008639  ...  0.000508  0.000000  0.000508   \n",
       "1     0.005020  0.009036  0.011546  ...  0.000000  0.000000  0.000000   \n",
       "2     0.002274  0.000000  0.001137  ...  0.000000  0.000000  0.000000   \n",
       "3     0.002958  0.005324  0.008873  ...  0.000000  0.000000  0.000000   \n",
       "4     0.003856  0.001446  0.003374  ...  0.000000  0.000482  0.000000   \n",
       "...        ...       ...       ...  ...       ...       ...       ...   \n",
       "7048  0.000000  0.001014  0.001521  ...  0.001014  0.001521  0.002028   \n",
       "7049  0.007881  0.007388  0.007388  ...  0.000985  0.000493  0.000985   \n",
       "7050  0.009147  0.011688  0.006606  ...  0.000000  0.000000  0.000000   \n",
       "7051  0.010982  0.009335  0.007687  ...  0.000000  0.000000  0.000000   \n",
       "7052  0.011350  0.006148  0.004256  ...  0.000000  0.000000  0.000000   \n",
       "\n",
       "            92        93        94        95        96        97        98  \n",
       "0     0.001016  0.002033  0.002033  0.002033  0.002033  0.002033  0.003049  \n",
       "1     0.000000  0.000000  0.000502  0.001506  0.000502  0.000000  0.000000  \n",
       "2     0.000000  0.000000  0.000000  0.000000  0.000000  0.000000  0.000000  \n",
       "3     0.000000  0.000000  0.000000  0.000000  0.000000  0.000000  0.000000  \n",
       "4     0.000000  0.000000  0.000000  0.000000  0.000000  0.000000  0.000000  \n",
       "...        ...       ...       ...       ...       ...       ...       ...  \n",
       "7048  0.000000  0.000000  0.000000  0.000000  0.000000  0.000000  0.000000  \n",
       "7049  0.000000  0.000985  0.000493  0.000000  0.000000  0.000000  0.000000  \n",
       "7050  0.000000  0.000000  0.000000  0.000000  0.000000  0.000000  0.000000  \n",
       "7051  0.000000  0.000000  0.000000  0.000000  0.000000  0.000000  0.000000  \n",
       "7052  0.000000  0.000000  0.000000  0.000000  0.000000  0.000000  0.000000  \n",
       "\n",
       "[7053 rows x 99 columns]"
      ]
     },
     "execution_count": 470,
     "metadata": {},
     "output_type": "execute_result"
    }
   ],
   "source": [
    "import pandas as pd\n",
    "df = pd.DataFrame(histogram)\n",
    "df"
   ]
  },
  {
   "cell_type": "code",
   "execution_count": 726,
   "id": "4c7359e6-bcff-4b27-b6be-d8ec309bfdb2",
   "metadata": {},
   "outputs": [],
   "source": [
    "sim_histogram = np.load(f\"../data/simulations/3d/histogram_200.npy\", allow_pickle=True)"
   ]
  },
  {
   "cell_type": "code",
   "execution_count": 992,
   "id": "d25ba8fe-c740-4437-94f8-ebbc8667c4ba",
   "metadata": {},
   "outputs": [],
   "source": [
    "rows = sim_histogram.shape[0]\n",
    "cols = sim_histogram.shape[1]\n",
    "\n",
    "sim_histogram_list = []\n",
    "for i in range(rows):\n",
    "\n",
    "    sim_filtered_histogram = sim_histogram[i][2:49]\n",
    "    sim_histogram_list.append(sim_filtered_histogram)\n",
    "        "
   ]
  },
  {
   "cell_type": "code",
   "execution_count": 993,
   "id": "c3d48416-31a7-479e-8e2b-5c801156dc46",
   "metadata": {},
   "outputs": [
    {
     "data": {
      "text/plain": [
       "array([0.01657712, 0.01099101, 0.01065258, 0.00900384, 0.00909312,\n",
       "       0.00684625, 0.00724714, 0.00695811, 0.00600057, 0.00599123,\n",
       "       0.00580594, 0.00452946, 0.00498241, 0.00525046, 0.00495529,\n",
       "       0.0067897 , 0.00567968, 0.00408066, 0.00344167, 0.00367128,\n",
       "       0.00386369, 0.00314702, 0.00388443, 0.00407963, 0.00371341,\n",
       "       0.0029846 , 0.00273641, 0.00158941, 0.00180931, 0.00270106,\n",
       "       0.00181552, 0.00205804, 0.00270657, 0.00271028, 0.00270657,\n",
       "       0.00203198, 0.00248133, 0.00186177, 0.00205422, 0.00225547,\n",
       "       0.00269376, 0.00092758, 0.00135144, 0.00180192, 0.00137865,\n",
       "       0.00184725, 0.0013541 ])"
      ]
     },
     "execution_count": 993,
     "metadata": {},
     "output_type": "execute_result"
    }
   ],
   "source": [
    "sim_median = np.quantile(sim_histogram_list, q=0.5, axis=0)\n",
    "sim_median\n",
    "\n"
   ]
  },
  {
   "cell_type": "code",
   "execution_count": 994,
   "id": "d589f136-ddad-45c0-95d0-348c532a7d84",
   "metadata": {},
   "outputs": [],
   "source": [
    "normalised_sim_median = sim_median / np.sum(sim_median)"
   ]
  },
  {
   "cell_type": "code",
   "execution_count": null,
   "id": "2bd34e69-6a3a-4b39-8b78-caa7a341c47f",
   "metadata": {},
   "outputs": [],
   "source": []
  },
  {
   "cell_type": "code",
   "execution_count": 995,
   "id": "d4ab2b7d-791b-4efd-8758-e94058a675ea",
   "metadata": {},
   "outputs": [
    {
     "data": {
      "text/plain": [
       "array([  5.        ,   7.06521739,   9.13043478,  11.19565217,\n",
       "        13.26086957,  15.32608696,  17.39130435,  19.45652174,\n",
       "        21.52173913,  23.58695652,  25.65217391,  27.7173913 ,\n",
       "        29.7826087 ,  31.84782609,  33.91304348,  35.97826087,\n",
       "        38.04347826,  40.10869565,  42.17391304,  44.23913043,\n",
       "        46.30434783,  48.36956522,  50.43478261,  52.5       ,\n",
       "        54.56521739,  56.63043478,  58.69565217,  60.76086957,\n",
       "        62.82608696,  64.89130435,  66.95652174,  69.02173913,\n",
       "        71.08695652,  73.15217391,  75.2173913 ,  77.2826087 ,\n",
       "        79.34782609,  81.41304348,  83.47826087,  85.54347826,\n",
       "        87.60869565,  89.67391304,  91.73913043,  93.80434783,\n",
       "        95.86956522,  97.93478261, 100.        ])"
      ]
     },
     "execution_count": 995,
     "metadata": {},
     "output_type": "execute_result"
    }
   ],
   "source": [
    "length = 200\n",
    "sim_distances = np.linspace(start=5, stop=length//2, num=len(histogram_list[0]))\n",
    "sim_distances"
   ]
  },
  {
   "cell_type": "code",
   "execution_count": 996,
   "id": "8a37db6b-d343-40eb-b94d-9e35dee6c244",
   "metadata": {},
   "outputs": [
    {
     "data": {
      "text/plain": [
       "<BarContainer object of 47 artists>"
      ]
     },
     "execution_count": 996,
     "metadata": {},
     "output_type": "execute_result"
    },
    {
     "data": {
      "image/png": "[encoded data removed]",
      "text/plain": [
       "<Figure size 432x288 with 1 Axes>"
      ]
     },
     "metadata": {
      "needs_background": "light"
     },
     "output_type": "display_data"
    }
   ],
   "source": [
    "plt.bar(sim_distances, sim_histogram_list[1])"
   ]
  },
  {
   "cell_type": "code",
   "execution_count": 997,
   "id": "750775ae-b56b-4d9a-ab9a-4c1d0e42ae33",
   "metadata": {},
   "outputs": [
    {
     "data": {
      "text/plain": [
       "[]"
      ]
     },
     "execution_count": 997,
     "metadata": {},
     "output_type": "execute_result"
    },
    {
     "data": {
      "image/png": "[encoded data removed]",
      "text/plain": [
       "<Figure size 432x288 with 1 Axes>"
      ]
     },
     "metadata": {
      "needs_background": "light"
     },
     "output_type": "display_data"
    }
   ],
   "source": [
    "plt.scatter(distances, normalised_median)\n",
    "plt.scatter(sim_distances, normalised_sim_median)\n",
    "plt.loglog()"
   ]
  },
  {
   "cell_type": "markdown",
   "id": "51123716-2aee-4a0c-883e-df5c00fec490",
   "metadata": {},
   "source": [
    "# 300"
   ]
  },
  {
   "cell_type": "code",
   "execution_count": 982,
   "id": "4d67ec59-8c82-4d1c-a10b-b4574496f525",
   "metadata": {},
   "outputs": [],
   "source": [
    "histogram = np.load(\"../data/alphafold/histogram_300.npy\", allow_pickle=True)\n",
    "rows = histogram.shape[0]\n",
    "cols = histogram.shape[1]\n",
    "\n",
    "histogram_list = []\n",
    "for i in range(rows):\n",
    "\n",
    "    filtered_histogram = histogram[i][3:49]\n",
    "    histogram_list.append(filtered_histogram)"
   ]
  },
  {
   "cell_type": "code",
   "execution_count": 965,
   "id": "ff870737-2345-4fa1-93a7-719be26c5f25",
   "metadata": {},
   "outputs": [
    {
     "data": {
      "text/plain": [
       "array([0.00730712, 0.00673505, 0.00539715, 0.00482722, 0.00510104,\n",
       "       0.00500589, 0.00490682, 0.00447437, 0.00373508, 0.00342285,\n",
       "       0.00284679, 0.0023836 , 0.00209854, 0.00227919, 0.00177061,\n",
       "       0.00146692, 0.00152382, 0.00142003, 0.00117998, 0.00114095,\n",
       "       0.0011569 , 0.00112774, 0.00092358, 0.00087768, 0.00069028,\n",
       "       0.00067849, 0.00061164, 0.00045079, 0.00044987, 0.00045357,\n",
       "       0.00041105, 0.00026236, 0.00045575, 0.00042778, 0.00044414,\n",
       "       0.00042806, 0.00022961, 0.00023735, 0.00022432, 0.00021726,\n",
       "       0.00022015, 0.00022402, 0.00021783, 0.00021655, 0.00020956,\n",
       "       0.        , 0.        ])"
      ]
     },
     "execution_count": 981,
     "metadata": {},
     "output_type": "execute_result"
    }
   ],
   "source": [
    "median = np.quantile(histogram_list, q=0.5, axis=0)\n",
    "median"
   ]
  },
  {
   "cell_type": "code",
   "execution_count": 966,
   "id": "82a9f8be-fbb5-4ead-82a9-ac5d2fb903c6",
   "metadata": {},
   "outputs": [
    {
     "data": {
      "text/plain": [
       "array([ 10.        ,  13.11111111,  16.22222222,  19.33333333,\n",
       "        22.44444444,  25.55555556,  28.66666667,  31.77777778,\n",
       "        34.88888889,  38.        ,  41.11111111,  44.22222222,\n",
       "        47.33333333,  50.44444444,  53.55555556,  56.66666667,\n",
       "        59.77777778,  62.88888889,  66.        ,  69.11111111,\n",
       "        72.22222222,  75.33333333,  78.44444444,  81.55555556,\n",
       "        84.66666667,  87.77777778,  90.88888889,  94.        ,\n",
       "        97.11111111, 100.22222222, 103.33333333, 106.44444444,\n",
       "       109.55555556, 112.66666667, 115.77777778, 118.88888889,\n",
       "       122.        , 125.11111111, 128.22222222, 131.33333333,\n",
       "       134.44444444, 137.55555556, 140.66666667, 143.77777778,\n",
       "       146.88888889, 150.        ])"
      ]
     },
     "execution_count": 966,
     "metadata": {},
     "output_type": "execute_result"
    }
   ],
   "source": [
    "length = 300\n",
    "distances = np.linspace(start=10, stop=length//2, num=len(histogram_list[0]))\n",
    "distances"
   ]
  },
  {
   "cell_type": "code",
   "execution_count": 967,
   "id": "432a5dde-14fd-4082-ae11-1cd3f7e7de2b",
   "metadata": {},
   "outputs": [
    {
     "data": {
      "text/plain": [
       "<BarContainer object of 46 artists>"
      ]
     },
     "execution_count": 967,
     "metadata": {},
     "output_type": "execute_result"
    },
    {
     "data": {
      "image/png": "[encoded data removed]",
      "text/plain": [
       "<Figure size 432x288 with 1 Axes>"
      ]
     },
     "metadata": {
      "needs_background": "light"
     },
     "output_type": "display_data"
    }
   ],
   "source": [
    "plt.bar(distances, histogram_list[1])"
   ]
  },
  {
   "cell_type": "code",
   "execution_count": 968,
   "id": "f7161c94-7a9c-4e95-8fd9-455e8b8c0fb7",
   "metadata": {},
   "outputs": [],
   "source": [
    "normalised_median = median / np.sum(median)"
   ]
  },
  {
   "cell_type": "code",
   "execution_count": 969,
   "id": "f5209275-ac08-4c1c-9a2e-1b9d7f23c682",
   "metadata": {},
   "outputs": [
    {
     "data": {
      "text/plain": [
       "1.0"
      ]
     },
     "execution_count": 969,
     "metadata": {},
     "output_type": "execute_result"
    }
   ],
   "source": [
    "np.sum(normalised_median)"
   ]
  },
  {
   "cell_type": "code",
   "execution_count": 970,
   "id": "12ad65be-00fe-4344-87db-2d8c3447725a",
   "metadata": {},
   "outputs": [
    {
     "data": {
      "text/plain": [
       "[]"
      ]
     },
     "execution_count": 970,
     "metadata": {},
     "output_type": "execute_result"
    },
    {
     "data": {
      "image/png": "[encoded data removed]",
      "text/plain": [
       "<Figure size 432x288 with 1 Axes>"
      ]
     },
     "metadata": {
      "needs_background": "light"
     },
     "output_type": "display_data"
    }
   ],
   "source": [
    "plt.scatter(distances, median)\n",
    "plt.loglog()"
   ]
  },
  {
   "cell_type": "code",
   "execution_count": 971,
   "id": "47ea6715-6f6c-4e9b-a2c6-7c6cc1f9a3fc",
   "metadata": {},
   "outputs": [],
   "source": [
    "sim_histogram = np.load(f\"../data/simulations/3d/histogram_300.npy\", allow_pickle=True)"
   ]
  },
  {
   "cell_type": "code",
   "execution_count": 973,
   "id": "3cecbf58-c7ec-426a-87ef-9f49f530b2c6",
   "metadata": {},
   "outputs": [],
   "source": [
    "rows = sim_histogram.shape[0]\n",
    "cols = sim_histogram.shape[1]\n",
    "\n",
    "sim_histogram_list = []\n",
    "for i in range(rows):\n",
    "\n",
    "    sim_filtered_histogram = sim_histogram[i][3:49]\n",
    "    sim_histogram_list.append(sim_filtered_histogram)"
   ]
  },
  {
   "cell_type": "code",
   "execution_count": 974,
   "id": "0c6958f4-45e8-4930-8431-45d9444e0a57",
   "metadata": {},
   "outputs": [
    {
     "data": {
      "text/plain": [
       "array([0.01099101, 0.01065258, 0.00900384, 0.00909312, 0.00684625,\n",
       "       0.00724714, 0.00695811, 0.00600057, 0.00599123, 0.00580594,\n",
       "       0.00452946, 0.00498241, 0.00525046, 0.00495529, 0.0067897 ,\n",
       "       0.00567968, 0.00408066, 0.00344167, 0.00367128, 0.00386369,\n",
       "       0.00314702, 0.00388443, 0.00407963, 0.00371341, 0.0029846 ,\n",
       "       0.00273641, 0.00158941, 0.00180931, 0.00270106, 0.00181552,\n",
       "       0.00205804, 0.00270657, 0.00271028, 0.00270657, 0.00203198,\n",
       "       0.00248133, 0.00186177, 0.00205422, 0.00225547, 0.00269376,\n",
       "       0.00092758, 0.00135144, 0.00180192, 0.00137865, 0.00184725,\n",
       "       0.0013541 ])"
      ]
     },
     "execution_count": 974,
     "metadata": {},
     "output_type": "execute_result"
    }
   ],
   "source": [
    "sim_median = np.quantile(sim_histogram_list, q=0.5, axis=0)\n",
    "sim_median"
   ]
  },
  {
   "cell_type": "code",
   "execution_count": 975,
   "id": "f0c244fe-0a37-4e4c-bdd8-4c49b69dcfd2",
   "metadata": {},
   "outputs": [],
   "source": [
    "normalised_sim_median = sim_median / np.sum(sim_median)"
   ]
  },
  {
   "cell_type": "code",
   "execution_count": 976,
   "id": "ba32e796-b7fb-4f16-b609-e261ae90e370",
   "metadata": {},
   "outputs": [
    {
     "data": {
      "text/plain": [
       "0.9999999999999998"
      ]
     },
     "execution_count": 976,
     "metadata": {},
     "output_type": "execute_result"
    }
   ],
   "source": [
    "np.sum(normalised_sim_median)"
   ]
  },
  {
   "cell_type": "code",
   "execution_count": 977,
   "id": "2f35d0b1-3886-43d2-9569-394a9f099c09",
   "metadata": {},
   "outputs": [
    {
     "data": {
      "text/plain": [
       "array([ 10.        ,  13.11111111,  16.22222222,  19.33333333,\n",
       "        22.44444444,  25.55555556,  28.66666667,  31.77777778,\n",
       "        34.88888889,  38.        ,  41.11111111,  44.22222222,\n",
       "        47.33333333,  50.44444444,  53.55555556,  56.66666667,\n",
       "        59.77777778,  62.88888889,  66.        ,  69.11111111,\n",
       "        72.22222222,  75.33333333,  78.44444444,  81.55555556,\n",
       "        84.66666667,  87.77777778,  90.88888889,  94.        ,\n",
       "        97.11111111, 100.22222222, 103.33333333, 106.44444444,\n",
       "       109.55555556, 112.66666667, 115.77777778, 118.88888889,\n",
       "       122.        , 125.11111111, 128.22222222, 131.33333333,\n",
       "       134.44444444, 137.55555556, 140.66666667, 143.77777778,\n",
       "       146.88888889, 150.        ])"
      ]
     },
     "execution_count": 977,
     "metadata": {},
     "output_type": "execute_result"
    }
   ],
   "source": [
    "length = 300\n",
    "sim_distances = np.linspace(start=10, stop=length//2, num=len(histogram_list[0]))\n",
    "sim_distances"
   ]
  },
  {
   "cell_type": "code",
   "execution_count": 978,
   "id": "3e798309-abce-4287-a6cc-a710aa249c3c",
   "metadata": {},
   "outputs": [
    {
     "data": {
      "text/plain": [
       "<BarContainer object of 46 artists>"
      ]
     },
     "execution_count": 978,
     "metadata": {},
     "output_type": "execute_result"
    },
    {
     "data": {
      "image/png": "[encoded data removed]",
      "text/plain": [
       "<Figure size 432x288 with 1 Axes>"
      ]
     },
     "metadata": {
      "needs_background": "light"
     },
     "output_type": "display_data"
    }
   ],
   "source": [
    "plt.bar(sim_distances, sim_histogram_list[1])"
   ]
  },
  {
   "cell_type": "code",
   "execution_count": 979,
   "id": "0b8b4cdb-58fd-438c-9309-07edc4cf6a74",
   "metadata": {},
   "outputs": [
    {
     "data": {
      "text/plain": [
       "[]"
      ]
     },
     "execution_count": 979,
     "metadata": {},
     "output_type": "execute_result"
    },
    {
     "data": {
      "image/png": "[encoded data removed]",
      "text/plain": [
       "<Figure size 432x288 with 1 Axes>"
      ]
     },
     "metadata": {
      "needs_background": "light"
     },
     "output_type": "display_data"
    }
   ],
   "source": [
    "plt.scatter(distances, normalised_median)\n",
    "plt.scatter(sim_distances, normalised_sim_median)\n",
    "plt.loglog()"
   ]
  },
  {
   "cell_type": "markdown",
   "id": "d4e2eed2-dfbc-47e5-9dce-b3e9a95520c9",
   "metadata": {},
   "source": [
    "# RCSB Distances"
   ]
  },
  {
   "cell_type": "markdown",
   "id": "9d5f0754-5087-43d0-afdd-c99de4f7246f",
   "metadata": {},
   "source": [
    "# 100"
   ]
  },
  {
   "cell_type": "code",
   "execution_count": 915,
   "id": "f84e08e8-69a0-4331-9e2f-76d9994e1695",
   "metadata": {},
   "outputs": [],
   "source": [
    "histogram = np.load(\"../data/rcsb/histogram_100.npy\", allow_pickle=True)\n",
    "rows = histogram.shape[0]\n",
    "cols = histogram.shape[1]\n",
    "half = len(histogram[0])//2\n",
    "histogram_list = []\n",
    "for i in range(rows):\n",
    "    for j in range(cols):\n",
    "        filtered_histogram = histogram[i][3:half]\n",
    "        histogram_list.append(filtered_histogram)"
   ]
  },
  {
   "cell_type": "code",
   "execution_count": 916,
   "id": "ef8693f1-4aa6-4c65-b034-d70e2db2d507",
   "metadata": {},
   "outputs": [
    {
     "data": {
      "text/plain": [
       "46"
      ]
     },
     "execution_count": 916,
     "metadata": {},
     "output_type": "execute_result"
    }
   ],
   "source": [
    "median = np.quantile(histogram_list, q=0.5, axis=0)\n",
    "len(median)"
   ]
  },
  {
   "cell_type": "code",
   "execution_count": 917,
   "id": "31010442-9d31-4808-8160-65a98b1365fd",
   "metadata": {},
   "outputs": [],
   "source": [
    "normalised_median = median / np.sum(median)"
   ]
  },
  {
   "cell_type": "code",
   "execution_count": 918,
   "id": "57548464-8a5a-4712-a750-c341a10b5949",
   "metadata": {},
   "outputs": [
    {
     "data": {
      "text/plain": [
       "array([ 4.        ,  5.02222222,  6.04444444,  7.06666667,  8.08888889,\n",
       "        9.11111111, 10.13333333, 11.15555556, 12.17777778, 13.2       ,\n",
       "       14.22222222, 15.24444444, 16.26666667, 17.28888889, 18.31111111,\n",
       "       19.33333333, 20.35555556, 21.37777778, 22.4       , 23.42222222,\n",
       "       24.44444444, 25.46666667, 26.48888889, 27.51111111, 28.53333333,\n",
       "       29.55555556, 30.57777778, 31.6       , 32.62222222, 33.64444444,\n",
       "       34.66666667, 35.68888889, 36.71111111, 37.73333333, 38.75555556,\n",
       "       39.77777778, 40.8       , 41.82222222, 42.84444444, 43.86666667,\n",
       "       44.88888889, 45.91111111, 46.93333333, 47.95555556, 48.97777778,\n",
       "       50.        ])"
      ]
     },
     "execution_count": 918,
     "metadata": {},
     "output_type": "execute_result"
    }
   ],
   "source": [
    "length = 100\n",
    "distances = np.linspace(start=4, stop=length//2, num=len(histogram_list[0]))\n",
    "distances"
   ]
  },
  {
   "cell_type": "code",
   "execution_count": 919,
   "id": "0162cb8e-7bb3-4c5f-b5e3-8d1c67eda644",
   "metadata": {},
   "outputs": [
    {
     "data": {
      "text/plain": [
       "<BarContainer object of 46 artists>"
      ]
     },
     "execution_count": 919,
     "metadata": {},
     "output_type": "execute_result"
    },
    {
     "data": {
      "image/png": "[encoded data removed]",
      "text/plain": [
       "<Figure size 432x288 with 1 Axes>"
      ]
     },
     "metadata": {
      "needs_background": "light"
     },
     "output_type": "display_data"
    }
   ],
   "source": [
    "plt.bar(distances, median)"
   ]
  },
  {
   "cell_type": "code",
   "execution_count": 920,
   "id": "d6eac3de-c181-4288-9a23-9e43ce484218",
   "metadata": {},
   "outputs": [],
   "source": [
    "sim_histogram = np.load(f\"../data/simulations/3d/histogram_100.npy\", allow_pickle=True)"
   ]
  },
  {
   "cell_type": "code",
   "execution_count": 921,
   "id": "6004782e-32a2-43b2-93ab-3d4d64ab51df",
   "metadata": {},
   "outputs": [],
   "source": [
    "rows = sim_histogram.shape[0]\n",
    "cols = sim_histogram.shape[1]\n",
    "\n",
    "sim_histogram_list = []\n",
    "for i in range(rows):\n",
    "    for j in range(cols):\n",
    "        sim_filtered_histogram = sim_histogram[i][3:49]\n",
    "        sim_histogram_list.append(sim_filtered_histogram)\n",
    "\n",
    "sim_median = np.quantile(sim_histogram_list, q=0.5, axis=0)\n",
    "sim_median\n",
    "\n",
    "normalised_sim_median = sim_median / np.sum(sim_median)\n",
    "length = 100\n",
    "sim_distances = np.linspace(start=4, stop=length//2, num=len(histogram_list[0]))"
   ]
  },
  {
   "cell_type": "code",
   "execution_count": 922,
   "id": "228a3dfd-e016-4c81-a158-274827c7a676",
   "metadata": {},
   "outputs": [
    {
     "data": {
      "text/plain": [
       "46"
      ]
     },
     "execution_count": 922,
     "metadata": {},
     "output_type": "execute_result"
    }
   ],
   "source": [
    "len(histogram_list[0])"
   ]
  },
  {
   "cell_type": "code",
   "execution_count": 923,
   "id": "0c3f626d-3afc-4696-9aee-a56449850328",
   "metadata": {},
   "outputs": [
    {
     "data": {
      "text/plain": [
       "[]"
      ]
     },
     "execution_count": 923,
     "metadata": {},
     "output_type": "execute_result"
    },
    {
     "data": {
      "image/png": "[encoded data removed]",
      "text/plain": [
       "<Figure size 432x288 with 1 Axes>"
      ]
     },
     "metadata": {
      "needs_background": "light"
     },
     "output_type": "display_data"
    }
   ],
   "source": [
    "plt.scatter(distances, normalised_median)\n",
    "plt.scatter(sim_distances, normalised_sim_median)\n",
    "plt.loglog()"
   ]
  },
  {
   "cell_type": "markdown",
   "id": "5610ac08-9323-4004-a3c8-3050ffec1734",
   "metadata": {},
   "source": [
    "# 200"
   ]
  },
  {
   "cell_type": "code",
   "execution_count": 928,
   "id": "e332a79c-2f62-4005-b098-8b6acd5d9d6b",
   "metadata": {},
   "outputs": [
    {
     "name": "stdout",
     "output_type": "stream",
     "text": [
      "49\n"
     ]
    }
   ],
   "source": [
    "histogram = np.load(\"../data/rcsb/histogram_200.npy\", allow_pickle=True)\n",
    "rows = histogram.shape[0]\n",
    "cols = histogram.shape[1]\n",
    "half = len(histogram[0])//2\n",
    "print(half)\n",
    "histogram_list = []\n",
    "for i in range(rows):\n",
    "    for j in range(cols):\n",
    "        filtered_histogram = histogram[i][2:49]\n",
    "        histogram_list.append(filtered_histogram)"
   ]
  },
  {
   "cell_type": "code",
   "execution_count": 929,
   "id": "e883d168-d8d6-42c6-8339-9f3835055cdd",
   "metadata": {},
   "outputs": [
    {
     "data": {
      "text/plain": [
       "47"
      ]
     },
     "execution_count": 929,
     "metadata": {},
     "output_type": "execute_result"
    }
   ],
   "source": [
    "median = np.quantile(histogram_list, q=0.5, axis=0)\n",
    "len(median)"
   ]
  },
  {
   "cell_type": "code",
   "execution_count": 930,
   "id": "e8193721-9100-4d11-b92e-9a6fac3c061e",
   "metadata": {},
   "outputs": [],
   "source": [
    "normalised_median = median / np.sum(median)"
   ]
  },
  {
   "cell_type": "code",
   "execution_count": 931,
   "id": "ab8bda8d-f13f-4e2d-961c-473db664c1f1",
   "metadata": {},
   "outputs": [
    {
     "data": {
      "text/plain": [
       "47"
      ]
     },
     "execution_count": 931,
     "metadata": {},
     "output_type": "execute_result"
    }
   ],
   "source": [
    "length = 200\n",
    "distances = np.linspace(start=5, stop=length//2, num=len(histogram_list[0]))\n",
    "len(distances)"
   ]
  },
  {
   "cell_type": "code",
   "execution_count": 932,
   "id": "311a6de2-6ac9-4983-9643-9e12ef5d34c2",
   "metadata": {},
   "outputs": [
    {
     "data": {
      "text/plain": [
       "<BarContainer object of 47 artists>"
      ]
     },
     "execution_count": 932,
     "metadata": {},
     "output_type": "execute_result"
    },
    {
     "data": {
      "image/png": "[encoded data removed]",
      "text/plain": [
       "<Figure size 432x288 with 1 Axes>"
      ]
     },
     "metadata": {
      "needs_background": "light"
     },
     "output_type": "display_data"
    }
   ],
   "source": [
    "plt.bar(distances, histogram_list[1])"
   ]
  },
  {
   "cell_type": "code",
   "execution_count": 933,
   "id": "1fa5f9d3-9040-4140-8010-ab382d0042f2",
   "metadata": {},
   "outputs": [],
   "source": [
    "sim_histogram = np.load(f\"../data/simulations/3d/histogram_200.npy\", allow_pickle=True)\n",
    "rows = sim_histogram.shape[0]\n",
    "cols = sim_histogram.shape[1]\n",
    "\n",
    "sim_histogram_list = []\n",
    "for i in range(rows):\n",
    "    for j in range(cols):\n",
    "        sim_filtered_histogram = sim_histogram[i][2:49]\n",
    "        sim_histogram_list.append(sim_filtered_histogram)\n",
    "\n",
    "sim_median = np.quantile(sim_histogram_list, q=0.5, axis=0)\n",
    "sim_median\n",
    "\n",
    "normalised_sim_median = sim_median / np.sum(sim_median)\n",
    "length = 200\n",
    "sim_distances = np.linspace(start=5, stop=length//2, num=len(histogram_list[0]))"
   ]
  },
  {
   "cell_type": "code",
   "execution_count": 934,
   "id": "af43754d-8c66-4b0c-bde9-fb5a2e7536ff",
   "metadata": {},
   "outputs": [
    {
     "data": {
      "text/plain": [
       "[]"
      ]
     },
     "execution_count": 934,
     "metadata": {},
     "output_type": "execute_result"
    },
    {
     "data": {
      "image/png": "[encoded data removed]",
      "text/plain": [
       "<Figure size 432x288 with 1 Axes>"
      ]
     },
     "metadata": {
      "needs_background": "light"
     },
     "output_type": "display_data"
    }
   ],
   "source": [
    "plt.scatter(distances, normalised_median)\n",
    "plt.scatter(sim_distances, normalised_sim_median)\n",
    "plt.loglog()"
   ]
  },
  {
   "cell_type": "markdown",
   "id": "3d696874-6d0e-4bc6-94ae-0008eaad24a9",
   "metadata": {},
   "source": [
    "# 300\n"
   ]
  },
  {
   "cell_type": "code",
   "execution_count": 949,
   "id": "274b2aa9-1727-40a1-93e9-d0ad768dcb1d",
   "metadata": {},
   "outputs": [
    {
     "name": "stdout",
     "output_type": "stream",
     "text": [
      "49\n"
     ]
    }
   ],
   "source": [
    "histogram = np.load(\"../data/rcsb/histogram_300.npy\", allow_pickle=True)\n",
    "rows = histogram.shape[0]\n",
    "cols = histogram.shape[1]\n",
    "half = len(histogram[0]) // 2\n",
    "print(half)\n",
    "histogram_list = []\n",
    "for i in range(rows):\n",
    "    filtered_histogram = histogram[i][3:49]\n",
    "    histogram_list.append(filtered_histogram)"
   ]
  },
  {
   "cell_type": "code",
   "execution_count": null,
   "id": "5e3dbf26-7567-4593-8f64-a6679f587a78",
   "metadata": {},
   "outputs": [],
   "source": []
  },
  {
   "cell_type": "code",
   "execution_count": 950,
   "id": "3fe07c9e-df25-41af-94be-0a6af599f345",
   "metadata": {},
   "outputs": [
    {
     "data": {
      "text/plain": [
       "(10091, 46)"
      ]
     },
     "execution_count": 950,
     "metadata": {},
     "output_type": "execute_result"
    }
   ],
   "source": [
    "np.shape(histogram_list)"
   ]
  },
  {
   "cell_type": "code",
   "execution_count": 951,
   "id": "c9326877-0916-4f27-b3cd-8f5a8852c373",
   "metadata": {},
   "outputs": [
    {
     "data": {
      "text/plain": [
       "46"
      ]
     },
     "execution_count": 951,
     "metadata": {},
     "output_type": "execute_result"
    }
   ],
   "source": [
    "median = np.quantile(histogram_list, q=0.5, axis=0)\n",
    "len(median)"
   ]
  },
  {
   "cell_type": "code",
   "execution_count": null,
   "id": "34d8b7f2-a0aa-4f24-a45a-f8be322e8806",
   "metadata": {},
   "outputs": [],
   "source": []
  },
  {
   "cell_type": "code",
   "execution_count": 952,
   "id": "d3dc3efb-f685-4aae-829e-e90387fde745",
   "metadata": {},
   "outputs": [
    {
     "data": {
      "text/plain": [
       "46"
      ]
     },
     "execution_count": 952,
     "metadata": {},
     "output_type": "execute_result"
    }
   ],
   "source": [
    "normalised_median = median / np.sum(median)\n",
    "len(normalised_median)"
   ]
  },
  {
   "cell_type": "code",
   "execution_count": 953,
   "id": "939d0b76-01d5-4aa4-9f6f-17bd69fc345b",
   "metadata": {},
   "outputs": [
    {
     "data": {
      "text/plain": [
       "46"
      ]
     },
     "execution_count": 953,
     "metadata": {},
     "output_type": "execute_result"
    }
   ],
   "source": [
    "length = 300\n",
    "distances = np.linspace(start=10, stop=length//2, num=len(histogram_list[0]))\n",
    "len(distances)"
   ]
  },
  {
   "cell_type": "code",
   "execution_count": 954,
   "id": "21ff66be-3dc5-43bc-b5a4-162699c74985",
   "metadata": {},
   "outputs": [
    {
     "data": {
      "text/plain": [
       "<BarContainer object of 46 artists>"
      ]
     },
     "execution_count": 954,
     "metadata": {},
     "output_type": "execute_result"
    },
    {
     "data": {
      "image/png": "[encoded data removed]",
      "text/plain": [
       "<Figure size 432x288 with 1 Axes>"
      ]
     },
     "metadata": {
      "needs_background": "light"
     },
     "output_type": "display_data"
    }
   ],
   "source": [
    "plt.bar(distances, normalised_median)"
   ]
  },
  {
   "cell_type": "code",
   "execution_count": 955,
   "id": "cbb4ebb7-a4fb-4d32-827a-f2c62b9eb1a8",
   "metadata": {},
   "outputs": [],
   "source": [
    "sim_histogram = np.load(f\"../data/simulations/3d/histogram_300.npy\", allow_pickle=True)\n",
    "rows = sim_histogram.shape[0]\n",
    "cols = sim_histogram.shape[1]\n",
    "\n",
    "sim_histogram_list = []\n",
    "for i in range(rows):\n",
    "    for j in range(cols):\n",
    "        sim_filtered_histogram = sim_histogram[i][3:49]\n",
    "        sim_histogram_list.append(sim_filtered_histogram)\n",
    "\n",
    "\n",
    "sim_median = np.quantile(sim_histogram_list, q=0.5, axis=0)\n",
    "sim_median\n",
    "\n",
    "normalised_sim_median = sim_median / np.sum(sim_median)\n",
    "length = 300\n",
    "sim_distances = np.linspace(start=10, stop=length//2, num=len(sim_histogram_list[0]))\n",
    "\n",
    "# lower_bound, upper_bound = np.quantile(sim_histogram_list, q=[1 / 3, 2 / 3], axis=0)\n",
    "# norm_lb, norm_ub = lower_bound / np.sum(sim_median), upper_bound / np.sum(sim_median)\n"
   ]
  },
  {
   "cell_type": "code",
   "execution_count": 956,
   "id": "073333bb-b9cc-4f78-9c72-238e17a2bd9b",
   "metadata": {},
   "outputs": [
    {
     "data": {
      "text/plain": [
       "array([ 10.        ,  13.11111111,  16.22222222,  19.33333333,\n",
       "        22.44444444,  25.55555556,  28.66666667,  31.77777778,\n",
       "        34.88888889,  38.        ,  41.11111111,  44.22222222,\n",
       "        47.33333333,  50.44444444,  53.55555556,  56.66666667,\n",
       "        59.77777778,  62.88888889,  66.        ,  69.11111111,\n",
       "        72.22222222,  75.33333333,  78.44444444,  81.55555556,\n",
       "        84.66666667,  87.77777778,  90.88888889,  94.        ,\n",
       "        97.11111111, 100.22222222, 103.33333333, 106.44444444,\n",
       "       109.55555556, 112.66666667, 115.77777778, 118.88888889,\n",
       "       122.        , 125.11111111, 128.22222222, 131.33333333,\n",
       "       134.44444444, 137.55555556, 140.66666667, 143.77777778,\n",
       "       146.88888889, 150.        ])"
      ]
     },
     "execution_count": 956,
     "metadata": {},
     "output_type": "execute_result"
    }
   ],
   "source": [
    "sim_distances"
   ]
  },
  {
   "cell_type": "code",
   "execution_count": 957,
   "id": "458081e2-6ad6-4bb1-831e-3208b558955a",
   "metadata": {},
   "outputs": [
    {
     "data": {
      "text/plain": [
       "[]"
      ]
     },
     "execution_count": 957,
     "metadata": {},
     "output_type": "execute_result"
    },
    {
     "data": {
      "image/png": "[encoded data removed]",
      "text/plain": [
       "<Figure size 432x288 with 1 Axes>"
      ]
     },
     "metadata": {
      "needs_background": "light"
     },
     "output_type": "display_data"
    }
   ],
   "source": [
    "plt.scatter(distances, normalised_median)\n",
    "plt.scatter(sim_distances, normalised_sim_median)\n",
    "# plt.fill_between(sim_distances, norm_ub, norm_lb)\n",
    "plt.loglog()"
   ]
  },
  {
   "cell_type": "code",
   "execution_count": 1033,
   "id": "a94b4b81-bb59-41c1-96ad-7e59ad0ebea6",
   "metadata": {},
   "outputs": [
    {
     "data": {
      "text/plain": [
       "array([  1.        ,   4.02020202,   7.04040404,  10.06060606,\n",
       "        13.08080808,  16.1010101 ,  19.12121212,  22.14141414,\n",
       "        25.16161616,  28.18181818,  31.2020202 ,  34.22222222,\n",
       "        37.24242424,  40.26262626,  43.28282828,  46.3030303 ,\n",
       "        49.32323232,  52.34343434,  55.36363636,  58.38383838,\n",
       "        61.4040404 ,  64.42424242,  67.44444444,  70.46464646,\n",
       "        73.48484848,  76.50505051,  79.52525253,  82.54545455,\n",
       "        85.56565657,  88.58585859,  91.60606061,  94.62626263,\n",
       "        97.64646465, 100.66666667, 103.68686869, 106.70707071,\n",
       "       109.72727273, 112.74747475, 115.76767677, 118.78787879,\n",
       "       121.80808081, 124.82828283, 127.84848485, 130.86868687,\n",
       "       133.88888889, 136.90909091, 139.92929293, 142.94949495,\n",
       "       145.96969697, 148.98989899, 152.01010101, 155.03030303,\n",
       "       158.05050505, 161.07070707, 164.09090909, 167.11111111,\n",
       "       170.13131313, 173.15151515, 176.17171717, 179.19191919,\n",
       "       182.21212121, 185.23232323, 188.25252525, 191.27272727,\n",
       "       194.29292929, 197.31313131, 200.33333333, 203.35353535,\n",
       "       206.37373737, 209.39393939, 212.41414141, 215.43434343,\n",
       "       218.45454545, 221.47474747, 224.49494949, 227.51515152,\n",
       "       230.53535354, 233.55555556, 236.57575758, 239.5959596 ,\n",
       "       242.61616162, 245.63636364, 248.65656566, 251.67676768,\n",
       "       254.6969697 , 257.71717172, 260.73737374, 263.75757576,\n",
       "       266.77777778, 269.7979798 , 272.81818182, 275.83838384,\n",
       "       278.85858586, 281.87878788, 284.8989899 , 287.91919192,\n",
       "       290.93939394, 293.95959596, 296.97979798, 300.        ])"
      ]
     },
     "execution_count": 1033,
     "metadata": {},
     "output_type": "execute_result"
    }
   ],
   "source": [
    "lin = np.linspace(start=1, stop=300, num=100)\n",
    "\n",
    "# for i in range(len(lin)):\n",
    "#     if int(lin[i]) == 10:\n",
    "#         print(i)\n",
    "\n",
    "lin"
   ]
  },
  {
   "cell_type": "code",
   "execution_count": 962,
   "id": "fd719634-4d2d-453b-a89d-3a85b68e6976",
   "metadata": {},
   "outputs": [
    {
     "name": "stdout",
     "output_type": "stream",
     "text": [
      "2\n"
     ]
    }
   ],
   "source": [
    "lin = np.linspace(start=1, stop=200, num=100)\n",
    "for i in range(len(lin)):\n",
    "    if int(lin[i]) == 5:\n",
    "        print(i)"
   ]
  },
  {
   "cell_type": "code",
   "execution_count": 963,
   "id": "f329861b-c4eb-4cc7-8635-890d38175675",
   "metadata": {},
   "outputs": [
    {
     "name": "stdout",
     "output_type": "stream",
     "text": [
      "4\n"
     ]
    }
   ],
   "source": [
    "lin = np.linspace(start=1, stop=100, num=100)\n",
    "for i in range(len(lin)):\n",
    "    if int(lin[i]) == 5:\n",
    "        print(i)"
   ]
  },
  {
   "cell_type": "code",
   "execution_count": 14,
   "id": "ab2f18a9-7735-4ea7-884a-e64b60936efe",
   "metadata": {},
   "outputs": [],
   "source": [
    "import numpy as np\n",
    "histogram_100 = np.load(\"../data/rcsb/histogram_100.npy\", allow_pickle=True)\n",
    "histogram_200 = np.load(\"../data/rcsb/histogram_200.npy\", allow_pickle=True)\n",
    "histogram_300 = np.load(\"../data/rcsb/histogram_300.npy\", allow_pickle=True)\n",
    "\n",
    "distances_100 = np.linspace(1, 100, 100)[:-1]\n",
    "distances_200 = np.linspace(1, 200, 100)[:-1]\n",
    "distances_300 = np.linspace(1, 300, 100)[:-1]\n",
    "\n",
    "med_100 = np.mean(histogram_100, axis=0)\n",
    "med_200 = np.mean(histogram_200, axis=0)\n",
    "med_300 = np.mean(histogram_300, axis=0)\n",
    "\n",
    "norm_med_100 = med_100 / np.sum(med_100)\n",
    "norm_med_200 = med_200 / np.sum(med_200)\n",
    "norm_med_300 = med_300 / np.sum(med_300)\n",
    "\n"
   ]
  },
  {
   "cell_type": "code",
   "execution_count": 15,
   "id": "98ff5d36-2c2d-4696-a5df-4e32ed02010e",
   "metadata": {},
   "outputs": [
    {
     "data": {
      "text/plain": [
       "<matplotlib.legend.Legend at 0x164214af0>"
      ]
     },
     "execution_count": 15,
     "metadata": {},
     "output_type": "execute_result"
    },
    {
     "data": {
      "image/png": "[encoded data removed]",
      "text/plain": [
       "<Figure size 432x288 with 1 Axes>"
      ]
     },
     "metadata": {
      "needs_background": "light"
     },
     "output_type": "display_data"
    }
   ],
   "source": [
    "import matplotlib.pyplot as plt\n",
    "plt.scatter(distances_100, norm_med_100, label=\"100\")\n",
    "plt.scatter(distances_200, norm_med_200, label=\"200\")\n",
    "plt.scatter(distances_300, norm_med_300, label=\"300\")\n",
    "plt.loglog()\n",
    "plt.legend()"
   ]
  },
  {
   "cell_type": "code",
   "execution_count": 24,
   "id": "e03e3a7a-7506-4547-bdd2-ce869e600570",
   "metadata": {},
   "outputs": [],
   "source": [
    "import numpy as np\n",
    "histogram_100 = np.load(\"../data/rcsb/histogram_100.npy\", allow_pickle=True)\n",
    "histogram_200 = np.load(\"../data/rcsb/histogram_200.npy\", allow_pickle=True)\n",
    "histogram_300 = np.load(\"../data/rcsb/histogram_300.npy\", allow_pickle=True)\n",
    "\n",
    "distances_100 = np.linspace(1, 100, 100)[:-1]\n",
    "distances_200 = np.linspace(1, 200, 100)[:-1]\n",
    "distances_300 = np.linspace(1, 300, 100)[:-1]\n",
    "\n",
    "med_100 = np.median(histogram_100, axis=0)\n",
    "med_200 = np.median(histogram_200, axis=0)\n",
    "med_300 = np.median(histogram_300, axis=0)\n",
    "\n",
    "norm_med_100 = med_100 / np.sum(med_100)\n",
    "norm_med_200 = med_200 / np.sum(med_200)\n",
    "norm_med_300 = med_300 / np.sum(med_300)\n",
    "\n",
    "\n"
   ]
  },
  {
   "cell_type": "code",
   "execution_count": 25,
   "id": "e92098a4-295a-462e-be0c-f91cd125b6ad",
   "metadata": {},
   "outputs": [
    {
     "data": {
      "text/plain": [
       "<matplotlib.legend.Legend at 0x162fc8d90>"
      ]
     },
     "execution_count": 25,
     "metadata": {},
     "output_type": "execute_result"
    },
    {
     "data": {
      "image/png": "[encoded data removed]",
      "text/plain": [
       "<Figure size 432x288 with 1 Axes>"
      ]
     },
     "metadata": {
      "needs_background": "light"
     },
     "output_type": "display_data"
    }
   ],
   "source": [
    "import matplotlib.pyplot as plt\n",
    "plt.scatter(distances_100, norm_med_100, label=\"100\")\n",
    "plt.scatter(distances_200, norm_med_200, label=\"200\")\n",
    "plt.scatter(distances_300, norm_med_300, label=\"300\")\n",
    "plt.loglog()\n",
    "plt.legend()"
   ]
  },
  {
   "cell_type": "code",
   "execution_count": 18,
   "id": "1f350e06-a5de-4a3b-b054-213f8029f2f8",
   "metadata": {},
   "outputs": [],
   "source": [
    "import numpy as np\n",
    "histogram_100 = np.load(\"../data/rcsb/histogram_200.npy\", allow_pickle=True)\n",
    "histogram_200 = np.load(\"../data/alphafold/histogram_200.npy\", allow_pickle=True)\n",
    "histogram_300 = np.load(\"../data/simulations/3d/histogram_200.npy\", allow_pickle=True)\n",
    "\n",
    "distances_100 = np.linspace(1, 200, 100)[:-1]\n",
    "distances_200 = np.linspace(1, 200, 100)[:-1]\n",
    "distances_300 = np.linspace(1, 200, 100)[:-1]\n",
    "\n",
    "med_100 = np.median(histogram_100, axis=0)\n",
    "med_200 = np.median(histogram_200, axis=0)\n",
    "med_300 = np.median(histogram_300, axis=0)\n",
    "\n",
    "norm_med_100 = med_100 / np.sum(med_100)\n",
    "norm_med_200 = med_200 / np.sum(med_200)\n",
    "norm_med_300 = med_300 / np.sum(med_300)\n",
    "\n",
    "\n",
    "\n"
   ]
  },
  {
   "cell_type": "code",
   "execution_count": 28,
   "id": "58413b0f-cd2b-49d8-b553-aaf64b0acc46",
   "metadata": {},
   "outputs": [
    {
     "data": {
      "text/plain": [
       "49.74874371859297"
      ]
     },
     "execution_count": 28,
     "metadata": {},
     "output_type": "execute_result"
    }
   ],
   "source": [
    "histogram_100 = np.load(\"../data/rcsb/histogram_200.npy\", allow_pickle=True)[0]\n",
    "np.sum(histogram_100)*100"
   ]
  },
  {
   "cell_type": "code",
   "execution_count": 20,
   "id": "bb0166a0-9a00-4e62-b337-50652c05c50b",
   "metadata": {},
   "outputs": [
    {
     "data": {
      "text/plain": [
       "<matplotlib.legend.Legend at 0x162bc7220>"
      ]
     },
     "execution_count": 20,
     "metadata": {},
     "output_type": "execute_result"
    },
    {
     "data": {
      "image/png": "[encoded data removed]",
      "text/plain": [
       "<Figure size 432x288 with 1 Axes>"
      ]
     },
     "metadata": {
      "needs_background": "light"
     },
     "output_type": "display_data"
    }
   ],
   "source": [
    "import matplotlib.pyplot as plt\n",
    "plt.scatter(distances_100, norm_med_100, label=\"pdb\")\n",
    "plt.scatter(distances_200, norm_med_200, label=\"alpha\")\n",
    "plt.scatter(distances_300, norm_med_300, label=\"sim\")\n",
    "plt.loglog()\n",
    "plt.legend()"
   ]
  },
  {
   "cell_type": "code",
   "execution_count": null,
   "id": "632432b2-77c4-41ea-93b6-5466934cae7a",
   "metadata": {},
   "outputs": [
    {
     "data": {
      "text/plain": [
       "<matplotlib.legend.Legend at 0x1600ac520>"
      ]
     },
     "execution_count": 21,
     "metadata": {},
     "output_type": "execute_result"
    },
    {
     "data": {
      "image/png": "[encoded data removed]",
      "text/plain": [
       "<Figure size 432x288 with 1 Axes>"
      ]
     },
     "metadata": {
      "needs_background": "light"
     },
     "output_type": "display_data"
    }
   ],
   "source": [
    "import numpy as np\n",
    "histogram_100 = np.load(\"../data/rcsb/histogram_200.npy\", allow_pickle=True)\n",
    "histogram_200 = np.load(\"../data/alphafold/histogram_200.npy\", allow_pickle=True)\n",
    "histogram_300 = np.load(\"../data/simulations/3d/histogram_200.npy\", allow_pickle=True)\n",
    "\n",
    "distances_100 = np.linspace(1, 200, 100)[:-1]\n",
    "distances_200 = np.linspace(1, 200, 100)[:-1]\n",
    "distances_300 = np.linspace(1, 200, 100)[:-1]\n",
    "\n",
    "med_100 = np.mean(histogram_100, axis=0)\n",
    "med_200 = np.mean(histogram_200, axis=0)\n",
    "med_300 = np.mean(histogram_300, axis=0)\n",
    "\n",
    "norm_med_100 = med_100 / np.sum(med_100)\n",
    "norm_med_200 = med_200 / np.sum(med_200)\n",
    "norm_med_300 = med_300 / np.sum(med_300)\n",
    "\n",
    "import matplotlib.pyplot as plt\n",
    "plt.scatter(distances_100, norm_med_100, label=\"pdb\")\n",
    "plt.scatter(distances_200, norm_med_200, label=\"alpha\")\n",
    "plt.scatter(distances_300, norm_med_300, label=\"sim\")\n",
    "plt.loglog()\n",
    "plt.legend()\n",
    "\n",
    "\n"
   ]
  },
  {
   "cell_type": "code",
   "execution_count": 26,
   "id": "db94beb6-afe8-44f1-b229-e4acb297e51c",
   "metadata": {},
   "outputs": [
    {
     "ename": "NameError",
     "evalue": "name 'distances' is not defined",
     "output_type": "error",
     "traceback": [
      "\u001b[0;31m---------------------------------------------------------------------------\u001b[0m",
      "\u001b[0;31mNameError\u001b[0m                                 Traceback (most recent call last)",
      "Input \u001b[0;32mIn [26]\u001b[0m, in \u001b[0;36m<cell line: 2>\u001b[0;34m()\u001b[0m\n\u001b[1;32m      1\u001b[0m bins \u001b[38;5;241m=\u001b[39m np\u001b[38;5;241m.\u001b[39mlinspace(start\u001b[38;5;241m=\u001b[39m\u001b[38;5;241m1\u001b[39m, stop\u001b[38;5;241m=\u001b[39m\u001b[38;5;241m100\u001b[39m, num\u001b[38;5;241m=\u001b[39m\u001b[38;5;241m100\u001b[39m)\n\u001b[0;32m----> 2\u001b[0m histogram, edges \u001b[38;5;241m=\u001b[39m np\u001b[38;5;241m.\u001b[39mhistogram(\u001b[43mdistances\u001b[49m, bins\u001b[38;5;241m=\u001b[39mbins, density\u001b[38;5;241m=\u001b[39m\u001b[38;5;28;01mTrue\u001b[39;00m)\n",
      "\u001b[0;31mNameError\u001b[0m: name 'distances' is not defined"
     ]
    }
   ],
   "source": [
    "bins = np.linspace(start=1, stop=100, num=100)\n",
    "histogram, edges = np.histogram(distances, bins=bins, density=True)"
   ]
  },
  {
   "cell_type": "code",
   "execution_count": 31,
   "id": "59b249ed-2f6b-47c4-9319-7e8cf489ed09",
   "metadata": {},
   "outputs": [
    {
     "data": {
      "text/plain": [
       "array([  1.        ,   4.02020202,   7.04040404,  10.06060606,\n",
       "        13.08080808,  16.1010101 ,  19.12121212,  22.14141414,\n",
       "        25.16161616,  28.18181818,  31.2020202 ,  34.22222222,\n",
       "        37.24242424,  40.26262626,  43.28282828,  46.3030303 ,\n",
       "        49.32323232,  52.34343434,  55.36363636,  58.38383838,\n",
       "        61.4040404 ,  64.42424242,  67.44444444,  70.46464646,\n",
       "        73.48484848,  76.50505051,  79.52525253,  82.54545455,\n",
       "        85.56565657,  88.58585859,  91.60606061,  94.62626263,\n",
       "        97.64646465, 100.66666667, 103.68686869, 106.70707071,\n",
       "       109.72727273, 112.74747475, 115.76767677, 118.78787879,\n",
       "       121.80808081, 124.82828283, 127.84848485, 130.86868687,\n",
       "       133.88888889, 136.90909091, 139.92929293, 142.94949495,\n",
       "       145.96969697, 148.98989899, 152.01010101, 155.03030303,\n",
       "       158.05050505, 161.07070707, 164.09090909, 167.11111111,\n",
       "       170.13131313, 173.15151515, 176.17171717, 179.19191919,\n",
       "       182.21212121, 185.23232323, 188.25252525, 191.27272727,\n",
       "       194.29292929, 197.31313131, 200.33333333, 203.35353535,\n",
       "       206.37373737, 209.39393939, 212.41414141, 215.43434343,\n",
       "       218.45454545, 221.47474747, 224.49494949, 227.51515152,\n",
       "       230.53535354, 233.55555556, 236.57575758, 239.5959596 ,\n",
       "       242.61616162, 245.63636364, 248.65656566, 251.67676768,\n",
       "       254.6969697 , 257.71717172, 260.73737374, 263.75757576,\n",
       "       266.77777778, 269.7979798 , 272.81818182, 275.83838384,\n",
       "       278.85858586, 281.87878788, 284.8989899 , 287.91919192,\n",
       "       290.93939394, 293.95959596, 296.97979798, 300.        ])"
      ]
     },
     "execution_count": 72,
     "metadata": {},
     "output_type": "execute_result"
    }
   ],
   "source": [
    "bins = np.linspace(1, 10, 10)\n",
    "bins"
   ]
  },
  {
   "cell_type": "code",
   "execution_count": 54,
   "id": "38846583-93bb-4c9b-9c4a-5cbf7ca271bc",
   "metadata": {},
   "outputs": [],
   "source": [
    "# Norm bins first\n",
    "import random\n",
    "counts_list = []\n",
    "for j in range(5):\n",
    "    counts = np.ones(10)\n",
    "    for i in range(len(bins)):\n",
    "        counts[i] = random.randint(1,10)\n",
    "    counts_list.append(counts)\n",
    "counts_list = np.asarray(counts_list)"
   ]
  },
  {
   "cell_type": "code",
   "execution_count": 55,
   "id": "d94597d5-ee51-4796-ad14-2c94e8e8b7e3",
   "metadata": {},
   "outputs": [
    {
     "data": {
      "text/plain": [
       "array([[ 3.,  3.,  7.,  2.,  8., 10.,  3.,  6.,  5.,  6.,  9.,  9.,  6.,\n",
       "         5.,  2.,  3.,  5.,  6.,  7.,  8.,  2., 10.,  1., 10.,  5.,  5.,\n",
       "        10.,  2.,  6.,  3., 10.,  2.,  8., 10.,  3.,  3.,  6.,  5.,  2.,\n",
       "         6.,  3.,  2.,  2.,  9., 10.,  3.,  3.,  8.,  8.,  8.,  7.,  6.,\n",
       "         3.,  7.,  8.,  3.,  5.,  8.,  4.,  7.,  5.,  1.,  6., 10., 10.,\n",
       "        10.,  1.,  6.,  7., 10.,  3.,  3.,  9.,  5.,  3.,  5.,  7., 10.,\n",
       "         4.,  3.,  7.,  4.,  1.,  3.,  7.,  9.,  1.,  1.,  3.,  1.,  1.,\n",
       "         4.,  5., 10.,  9.,  4.,  7.,  7.,  6., 10.],\n",
       "       [ 7.,  4.,  5.,  5., 10.,  5.,  5.,  9.,  7.,  6.,  8.,  6.,  8.,\n",
       "         8.,  5.,  8.,  5.,  8.,  1.,  9.,  5.,  7.,  2.,  8.,  6., 10.,\n",
       "         4.,  4., 10.,  7.,  2., 10.,  9.,  2.,  5.,  9.,  5.,  8., 10.,\n",
       "         4.,  8.,  5.,  9., 10.,  9.,  1.,  7.,  6.,  1.,  8.,  4.,  7.,\n",
       "         4.,  8.,  6., 10.,  9.,  7.,  7.,  4., 10.,  9.,  2.,  3.,  2.,\n",
       "         7.,  7.,  4., 10.,  9.,  5.,  5., 10.,  2., 10.,  2.,  1.,  6.,\n",
       "         5.,  7.,  4.,  2.,  4.,  4.,  5.,  4.,  3.,  5.,  2.,  8.,  7.,\n",
       "         2.,  2., 10.,  6.,  5.,  5.,  5.,  3.,  6.],\n",
       "       [ 8.,  1.,  8.,  1.,  6.,  6.,  4.,  9.,  3.,  3.,  8.,  2.,  1.,\n",
       "         9.,  4.,  9.,  8.,  8.,  8.,  5.,  9.,  4.,  5.,  1.,  7.,  8.,\n",
       "         1.,  4.,  3.,  4.,  7.,  4.,  2., 10.,  8.,  1., 10.,  8.,  2.,\n",
       "         1.,  2., 10., 10.,  8.,  3.,  8., 10.,  5.,  5.,  9.,  2.,  8.,\n",
       "         3.,  6., 10.,  4.,  4.,  8.,  2.,  8.,  4.,  8., 10.,  6.,  9.,\n",
       "         8., 10.,  2.,  7.,  5.,  9.,  4.,  2.,  4.,  5.,  9.,  6.,  8.,\n",
       "         5.,  8.,  4.,  3.,  3.,  1.,  1.,  9.,  2.,  4.,  8.,  5.,  7.,\n",
       "         9.,  7.,  2.,  8.,  7.,  6.,  6.,  8., 10.],\n",
       "       [ 1.,  5.,  9.,  1.,  5.,  7.,  7.,  6., 10.,  8.,  5.,  8.,  9.,\n",
       "         9., 10.,  1.,  2.,  3.,  7.,  1.,  9.,  5.,  6.,  1.,  9.,  3.,\n",
       "         2.,  3.,  8.,  7., 10.,  4.,  5.,  3.,  6., 10.,  6.,  3.,  5.,\n",
       "         4.,  4.,  9., 10.,  9.,  8.,  1.,  1.,  4.,  4.,  9.,  3.,  9.,\n",
       "         4.,  1.,  2.,  8.,  3.,  3., 10.,  7.,  5.,  4.,  7., 10.,  8.,\n",
       "         2.,  3.,  4.,  1., 10.,  9.,  2.,  5.,  5.,  2.,  3.,  6.,  5.,\n",
       "         9.,  8.,  9.,  9.,  7.,  5.,  6.,  6.,  3.,  7.,  7.,  5.,  2.,\n",
       "         4.,  6.,  7.,  5.,  3., 10.,  9.,  6.,  1.],\n",
       "       [10.,  2.,  5.,  5.,  8.,  9.,  3.,  7.,  2., 10.,  3., 10.,  8.,\n",
       "         5.,  7.,  6.,  9.,  4.,  3.,  5., 10., 10.,  2.,  9.,  7.,  4.,\n",
       "         2.,  5., 10.,  6.,  9.,  8., 10., 10.,  4.,  7.,  9.,  8.,  2.,\n",
       "         6.,  5.,  9.,  9.,  6.,  3.,  3.,  4.,  8.,  9.,  3.,  9.,  9.,\n",
       "         4.,  9.,  8., 10.,  6.,  2.,  2.,  9.,  6.,  2.,  7.,  8.,  5.,\n",
       "         4.,  6.,  3.,  9.,  3.,  5.,  9.,  5.,  9.,  3., 10.,  8.,  1.,\n",
       "         5.,  4.,  2.,  6.,  3.,  1.,  6.,  2.,  7.,  7.,  5.,  5.,  3.,\n",
       "         8.,  3.,  5.,  8.,  5.,  9.,  8.,  3.,  6.]])"
      ]
     },
     "execution_count": 74,
     "metadata": {},
     "output_type": "execute_result"
    }
   ],
   "source": [
    "counts_list"
   ]
  },
  {
   "cell_type": "code",
   "execution_count": 58,
   "id": "35bb4d3e-fcc3-418e-912c-c51299d49d51",
   "metadata": {},
   "outputs": [],
   "source": [
    "normed_counts_list =[]\n",
    "for counts in counts_list:\n",
    "    counts = counts/counts.sum()\n",
    "    normed_counts_list.append(counts)\n",
    "normed_counts_list = np.asarray(normed_counts_list)"
   ]
  },
  {
   "cell_type": "code",
   "execution_count": 59,
   "id": "34d27b8c-244f-4340-90fe-67943c135e34",
   "metadata": {},
   "outputs": [
    {
     "data": {
      "text/plain": [
       "array([0.00819618, 0.00732663, 0.01388014, 0.01289257, 0.00970457,\n",
       "       0.01050879, 0.00579229, 0.00908464, 0.006478  , 0.00892226,\n",
       "       0.01310104, 0.00913526, 0.00593184, 0.01243959, 0.00836428,\n",
       "       0.00996198, 0.00938711, 0.00893272, 0.00760567, 0.01033698,\n",
       "       0.01235687, 0.00867154, 0.00869651, 0.00973873, 0.01233322,\n",
       "       0.00648982, 0.01236859, 0.0116139 , 0.00728157, 0.01090586,\n",
       "       0.00708393, 0.01350242, 0.00999064, 0.01050808, 0.00891185,\n",
       "       0.00912447, 0.01116005, 0.00523056, 0.01215297, 0.00808795,\n",
       "       0.01072789, 0.01143817, 0.00997419, 0.01316426, 0.01143447,\n",
       "       0.0117662 , 0.01022005, 0.00842367, 0.00734303, 0.00904835,\n",
       "       0.01271503, 0.01661489, 0.01130566, 0.00919465, 0.00957559,\n",
       "       0.01026348, 0.01410633, 0.01273013, 0.00769776, 0.00560561,\n",
       "       0.00785   , 0.00876821, 0.01054655, 0.00970767, 0.00969782,\n",
       "       0.0125829 , 0.01111592, 0.01010562, 0.00930363, 0.01001348,\n",
       "       0.00875339, 0.01021422, 0.00731916, 0.0110217 , 0.01011869,\n",
       "       0.00873269, 0.01212175, 0.01106998, 0.00729753, 0.01034756,\n",
       "       0.01027334, 0.00922674, 0.0109828 , 0.01016828, 0.0127079 ,\n",
       "       0.01159058, 0.0065685 , 0.00868282, 0.01153609, 0.01241741,\n",
       "       0.00657722, 0.00721148, 0.01002579, 0.01134069, 0.00973895,\n",
       "       0.01146389, 0.01044755, 0.01094651, 0.01534364, 0.00851985])"
      ]
     },
     "execution_count": 69,
     "metadata": {},
     "output_type": "execute_result"
    }
   ],
   "source": [
    "jmean = normed_counts_list.mean(axis=0)\n",
    "norm_jmean = jmean / np.sum(jmean)\n",
    "norm_jmean\n"
   ]
  },
  {
   "cell_type": "code",
   "execution_count": 60,
   "id": "07dfb7a9-83d7-4b95-b11a-29fb291b200c",
   "metadata": {},
   "outputs": [
    {
     "data": {
      "text/plain": [
       "1.0"
      ]
     },
     "execution_count": 70,
     "metadata": {},
     "output_type": "execute_result"
    }
   ],
   "source": [
    "np.sum(norm_jmean)"
   ]
  },
  {
   "cell_type": "code",
   "execution_count": 63,
   "id": "b225454a-2b5b-4275-ab5e-d213457a651b",
   "metadata": {},
   "outputs": [
    {
     "data": {
      "text/plain": [
       "array([0.12639405, 0.11524164, 0.08550186, 0.14498141, 0.08550186,\n",
       "       0.08550186, 0.09665428, 0.10408922, 0.08178439, 0.07434944])"
      ]
     },
     "execution_count": 63,
     "metadata": {},
     "output_type": "execute_result"
    }
   ],
   "source": [
    "# Don't normalise bins\n",
    "imean = counts_list.mean(axis=0)\n",
    "normed_imean = imean/np.sum(imean)\n",
    "normed_imean"
   ]
  },
  {
   "cell_type": "code",
   "execution_count": 64,
   "id": "abda950a-5faf-41d0-b063-b89597cbabae",
   "metadata": {},
   "outputs": [
    {
     "data": {
      "text/plain": [
       "1.0"
      ]
     },
     "execution_count": 64,
     "metadata": {},
     "output_type": "execute_result"
    }
   ],
   "source": [
    "np.sum(normed_imean)"
   ]
  },
  {
   "cell_type": "markdown",
   "id": "5e319c9f-35c5-4954-b44a-28c7ab569f10",
   "metadata": {},
   "source": [
    "# CHECK\n"
   ]
  },
  {
   "cell_type": "markdown",
   "id": "4eecf32b-1f73-4e84-be72-ea13a8c4076f",
   "metadata": {},
   "source": [
    "## Bins not normed"
   ]
  },
  {
   "cell_type": "code",
   "execution_count": 79,
   "id": "23f6e4cb-2311-41c4-81fe-bc41a14e7736",
   "metadata": {},
   "outputs": [
    {
     "name": "stdout",
     "output_type": "stream",
     "text": [
      "[178 176  84  64  22  12   8   6  10   8   6   8   4   2   6   6   8   6\n",
      "   6   4   4   6   4   2   2   2   2   4   0   2   4   0   4   4   4   2\n",
      "   4   6   2   4   4   4   4   4   4   4   4   4   2   2   4   2   6   6\n",
      "   2   4   6   2   2   4   0   2   2   4   4   2   4   4   4   2   4   4\n",
      "   4   4   4   2   2   4   4   8   4   0   0   2   0   0   0   0   0   0\n",
      "   0   0   0   0   0   0   0   0   0   0   0   0   0   0   0   0   0   0\n",
      "   0   0   0   0   0   0   0   0   0   0   0   0   0   0   0   0   0   0\n",
      "   0   0   0   0   0   0   0   0   0   0   0   0   0   0   0   0   0   0\n",
      "   0   0   0   0   0   0   0   0   0   0   0   0   0   0   0   0   0   0\n",
      "   0   0   0   0   0   0   0   0   0   0   0   0   0   0   0   0   0   0\n",
      "   0   0   0   0   0   0   0   0   0   0   0   0   0   0   0   0   0   0\n",
      "   0   0   0   0   0   0   0   0   0   0   0   0   0   0   0   0   0   0\n",
      "   0   0   0   0   0   0   0   0   0   0   0   0   0   0   0   0   0   0\n",
      "   0   0   0   0   0   0   0   0   0   0   0   0   0   0   0   0   0   0\n",
      "   0   0   0   0   0   0   0   0   0   0   0   0   0   0   0   0   0   0\n",
      "   0   0   0   0   0   0   0   0   0   0   0   0   0   0   0   0   0   0\n",
      "   0   0   0   0   0   0   0   0   0   0   0]\n"
     ]
    }
   ],
   "source": [
    "rcsb_100 = np.load(\"../data/rcsb/histogram_100_not_normed.npy\", allow_pickle=True)\n",
    "print(rcsb_100[0])\n",
    "alpha_100 = np.load(\"../data/alphafold/histogram_100_not_normed.npy\", allow_pickle=True)\n",
    "sim_100 = np.load(\"../data/simulations/3d/histogram_100_not_normed.npy\", allow_pickle=True)\n",
    "distances = np.linspace(1, 300, 300)[:-1]"
   ]
  },
  {
   "cell_type": "code",
   "execution_count": 12,
   "id": "b9e214c8-87a7-488f-903d-d1ae79bc9c0d",
   "metadata": {},
   "outputs": [],
   "source": [
    "pdb_mean_100 = np.mean(rcsb_100, axis=0)\n",
    "alpha_mean_100 = np.mean(alpha_100, axis=0)\n",
    "sim_mean_100 = np.mean(sim_100, axis=0)\n",
    "\n",
    "norm_pdb_mean_100 = pdb_mean_100 / np.sum(pdb_mean_100)\n",
    "norm_alpha_mean_100 = alpha_mean_100 / np.sum(alpha_mean_100)\n",
    "norm_sim_mean_100 = sim_mean_100 / np.sum(sim_mean_100)"
   ]
  },
  {
   "cell_type": "code",
   "execution_count": 13,
   "id": "2a3a8213-66e8-43ce-a542-0a507f5c23df",
   "metadata": {},
   "outputs": [
    {
     "data": {
      "text/plain": [
       "<matplotlib.legend.Legend at 0x16dc355a0>"
      ]
     },
     "execution_count": 13,
     "metadata": {},
     "output_type": "execute_result"
    },
    {
     "data": {
      "image/png": "[encoded data removed]",
      "text/plain": [
       "<Figure size 432x288 with 1 Axes>"
      ]
     },
     "metadata": {
      "needs_background": "light"
     },
     "output_type": "display_data"
    }
   ],
   "source": [
    "plt.scatter(distances, norm_pdb_mean_100, label=\"pdb mean 100\")\n",
    "plt.scatter(distances, norm_alpha_mean_100, label=\"alpha mean 100\")\n",
    "plt.scatter(distances, norm_sim_mean_100, label=\"sim mean 100\")\n",
    "plt.loglog()\n",
    "plt.legend()"
   ]
  },
  {
   "cell_type": "code",
   "execution_count": 10,
   "id": "19edee5e-9299-4587-8b21-cec8bb65410e",
   "metadata": {},
   "outputs": [
    {
     "data": {
      "text/plain": [
       "<matplotlib.legend.Legend at 0x16da0fa00>"
      ]
     },
     "execution_count": 10,
     "metadata": {},
     "output_type": "execute_result"
    },
    {
     "data": {
      "image/png": "[encoded data removed]",
      "text/plain": [
       "<Figure size 432x288 with 1 Axes>"
      ]
     },
     "metadata": {
      "needs_background": "light"
     },
     "output_type": "display_data"
    }
   ],
   "source": [
    "pdb_median_100 = np.median(rcsb_100, axis=0)\n",
    "alpha_median_100 = np.median(alpha_100, axis=0)\n",
    "sim_median_100 = np.median(sim_100, axis=0)\n",
    "\n",
    "norm_pdb_median_100 = pdb_median_100 / np.sum(pdb_median_100)\n",
    "norm_alpha_median_100 = alpha_median_100 / np.sum(alpha_median_100)\n",
    "norm_sim_median_100 = sim_median_100 / np.sum(sim_median_100)\n",
    "plt.scatter(distances, norm_pdb_median_100, label=\"pdb median 100\")\n",
    "plt.scatter(distances, norm_alpha_median_100, label=\"alpha median 100\")\n",
    "plt.scatter(distances, norm_sim_median_100, label=\"sim median 100\")\n",
    "plt.loglog()\n",
    "plt.legend()"
   ]
  },
  {
   "cell_type": "markdown",
   "id": "124f1ba0-4222-421f-b073-3fe5d3ae0b46",
   "metadata": {},
   "source": [
    "## 2d simulations with new method -> NOPE\n"
   ]
  },
  {
   "cell_type": "code",
   "execution_count": 205,
   "id": "945057fd-1414-4158-8c93-bea97d2150cf",
   "metadata": {},
   "outputs": [],
   "source": [
    "files = glob.glob(f\"../data/simulations/2d/2d_sim_no_circle_*\")\n",
    "histogram_list = []\n",
    "for file in files:\n",
    "    distances = np.loadtxt(file)\n",
    "    bins = np.linspace(start=1, stop=100, num=100)\n",
    "    histogram = np.histogram(distances, bins=bins, density=False)[0]\n",
    "    histogram_list.append(histogram)\n",
    "\n",
    "\n",
    "# sim_2d = np.load(\"../data/simulations/2d/histogram_not_normed.npy\", allow_pickle=True)\n",
    "sim_2d = histogram_list\n",
    "distances_500 = np.linspace(1, 100, 100)[:-1]\n",
    "# print(sim_2d.shape)"
   ]
  },
  {
   "cell_type": "code",
   "execution_count": 208,
   "id": "7a64f03f-8ad1-46f3-9dca-b8936d1e5327",
   "metadata": {},
   "outputs": [],
   "source": [
    "sim_2d_mean = np.median(sim_2d, axis=0)\n",
    "# normed_sim_2d_mean = sim_2d_mean / np.sum(sim_2d_mean)\n",
    "lower_bound, upper_bound = np.quantile(sim_2d, q=[0.05, 0.95], axis=0)\n",
    "# normed_lb = lower_bound / np.sum(sim_2d_mean)\n",
    "# normed_ub = upper_bound / np.sum(sim_2d_mean)"
   ]
  },
  {
   "cell_type": "code",
   "execution_count": 202,
   "id": "a3ef2006-9a8e-4f79-8bd2-c9bb9ef57a81",
   "metadata": {},
   "outputs": [],
   "source": [
    "# upper_bound\n",
    "# for i in range(sim_2d.shape[0]):\n",
    "#     print(sim_2d[i][15])\n",
    "#     print(np.quantile(sim_2d[i][15], 0.95))\n",
    "# sim_2d_mean[15]\n",
    "# lower_bound[15]\n",
    "# for i in range(len(sim_2d)):\n",
    "#     for j in range(len(sim_2d[i])):\n",
    "#         print(f\"val: {sim_2d[i][j]}; low: {lower_bound[j]}; high: {upper_bound[j]}\")"
   ]
  },
  {
   "cell_type": "code",
   "execution_count": 209,
   "id": "25b3e2fa-2d3e-467c-a63b-798b03691fb7",
   "metadata": {},
   "outputs": [
    {
     "data": {
      "image/png": "[encoded data removed]",
      "text/plain": [
       "<Figure size 432x288 with 1 Axes>"
      ]
     },
     "metadata": {
      "needs_background": "light"
     },
     "output_type": "display_data"
    },
    {
     "data": {
      "image/png": "[encoded data removed]",
      "text/plain": [
       "<Figure size 432x288 with 1 Axes>"
      ]
     },
     "metadata": {
      "needs_background": "light"
     },
     "output_type": "display_data"
    },
    {
     "data": {
      "image/png": "[encoded data removed]",
      "text/plain": [
       "<Figure size 432x288 with 1 Axes>"
      ]
     },
     "metadata": {
      "needs_background": "light"
     },
     "output_type": "display_data"
    },
    {
     "data": {
      "image/png": "[encoded data removed]",
      "text/plain": [
       "<Figure size 432x288 with 1 Axes>"
      ]
     },
     "metadata": {
      "needs_background": "light"
     },
     "output_type": "display_data"
    },
    {
     "data": {
      "image/png": "[encoded data removed]",
      "text/plain": [
       "<Figure size 432x288 with 1 Axes>"
      ]
     },
     "metadata": {
      "needs_background": "light"
     },
     "output_type": "display_data"
    },
    {
     "data": {
      "image/png": "[encoded data removed]",
      "text/plain": [
       "<Figure size 432x288 with 1 Axes>"
      ]
     },
     "metadata": {
      "needs_background": "light"
     },
     "output_type": "display_data"
    },
    {
     "data": {
      "image/png": "[encoded data removed]",
      "text/plain": [
       "<Figure size 432x288 with 1 Axes>"
      ]
     },
     "metadata": {
      "needs_background": "light"
     },
     "output_type": "display_data"
    },
    {
     "data": {
      "image/png": "[encoded data removed]",
      "text/plain": [
       "<Figure size 432x288 with 1 Axes>"
      ]
     },
     "metadata": {
      "needs_background": "light"
     },
     "output_type": "display_data"
    },
    {
     "data": {
      "image/png": "[encoded data removed]",
      "text/plain": [
       "<Figure size 432x288 with 1 Axes>"
      ]
     },
     "metadata": {
      "needs_background": "light"
     },
     "output_type": "display_data"
    },
    {
     "data": {
      "image/png": "[encoded data removed]",
      "text/plain": [
       "<Figure size 432x288 with 1 Axes>"
      ]
     },
     "metadata": {
      "needs_background": "light"
     },
     "output_type": "display_data"
    },
    {
     "data": {
      "image/png": "[encoded data removed]",
      "text/plain": [
       "<Figure size 432x288 with 1 Axes>"
      ]
     },
     "metadata": {
      "needs_background": "light"
     },
     "output_type": "display_data"
    },
    {
     "data": {
      "image/png": "[encoded data removed]",
      "text/plain": [
       "<Figure size 432x288 with 1 Axes>"
      ]
     },
     "metadata": {
      "needs_background": "light"
     },
     "output_type": "display_data"
    },
    {
     "data": {
      "image/png": "[encoded data removed]",
      "text/plain": [
       "<Figure size 432x288 with 1 Axes>"
      ]
     },
     "metadata": {
      "needs_background": "light"
     },
     "output_type": "display_data"
    },
    {
     "data": {
      "image/png": "[encoded data removed]",
      "text/plain": [
       "<Figure size 432x288 with 1 Axes>"
      ]
     },
     "metadata": {
      "needs_background": "light"
     },
     "output_type": "display_data"
    },
    {
     "data": {
      "image/png": "[encoded data removed]",
      "text/plain": [
       "<Figure size 432x288 with 1 Axes>"
      ]
     },
     "metadata": {
      "needs_background": "light"
     },
     "output_type": "display_data"
    }
   ],
   "source": [
    "import theory_functions\n",
    "\n",
    "e = np.arange(5, 8, 1)\n",
    "d = np.arange(0.05, 0.1, 0.01)\n",
    "\n",
    "x = np.linspace(4, 100, 250)\n",
    "chain = 500\n",
    "half_n_harmonic = theory_functions.harmonic_number(chain//2)\n",
    "\n",
    "for i in range(len(e)):\n",
    "    for j in range(len(d)):\n",
    "        theory = theory_functions.amino_acid_distance_distribution(x,chain, half_n_harmonic, e[i],d[j])\n",
    "        plt.plot(x, theory, label=f\"e:{e[i]}, d:{d[j]}\")\n",
    "        plt.scatter(distances_500,sim_2d_mean, label=\"2d sim mean\")\n",
    "        plt.fill_between(distances_500, upper_bound, lower_bound, label=\"cl\", alpha = 0.4, zorder=-1)\n",
    "        plt.legend()\n",
    "        plt.loglog()\n",
    "        plt.show()\n",
    "# plt.plot(distances_500, lower_bound)\n",
    "# plt.plot(distances_500, upper_bound)\n",
    "# plt.xlim(1, 250)\n",
    "# plt.ylim(0.0001, 0.001)\n",
    "# plt.loglog()"
   ]
  },
  {
   "cell_type": "code",
   "execution_count": 2,
   "id": "c1feaac7-b9d5-4535-badb-ca7532c46c21",
   "metadata": {},
   "outputs": [],
   "source": [
    "import pandas as pd\n",
    "df = pd.read_csv(\"../data/simulations/2d/simulation_stats.csv\")"
   ]
  },
  {
   "cell_type": "code",
   "execution_count": 135,
   "id": "0c040143-355a-4792-95d1-41f908b9e7d4",
   "metadata": {},
   "outputs": [
    {
     "name": "stdout",
     "output_type": "stream",
     "text": [
      "0.1\n"
     ]
    },
    {
     "data": {
      "text/plain": [
       "[]"
      ]
     },
     "execution_count": 135,
     "metadata": {},
     "output_type": "execute_result"
    },
    {
     "data": {
      "image/png": "[encoded data removed]",
      "text/plain": [
       "<Figure size 432x288 with 1 Axes>"
      ]
     },
     "metadata": {
      "needs_background": "light"
     },
     "output_type": "display_data"
    }
   ],
   "source": [
    "df = pd.read_csv(\"../data/simulations/2d/simulation_stats.csv\")\n",
    "print(df[\"mean\"][497])\n",
    "plt.plot(df[\"variable\"], df[\"mean\"])\n",
    "plt.plot(df[\"variable\"], df[\"lower_bound\"])\n",
    "plt.plot(df[\"variable\"], df[\"upper_bound\"])\n",
    "plt.loglog()"
   ]
  },
  {
   "cell_type": "code",
   "execution_count": 125,
   "id": "cbb8cc50-9879-4f31-8276-f626d2167898",
   "metadata": {},
   "outputs": [
    {
     "data": {
      "text/plain": [
       "[<matplotlib.lines.Line2D at 0x158511480>]"
      ]
     },
     "execution_count": 125,
     "metadata": {},
     "output_type": "execute_result"
    },
    {
     "data": {
      "image/png": "[encoded data removed]",
      "text/plain": [
       "<Figure size 432x288 with 1 Axes>"
      ]
     },
     "metadata": {
      "needs_background": "light"
     },
     "output_type": "display_data"
    }
   ],
   "source": [
    "files = glob.glob(f\"../data/simulations/2d/2d_sim_no_circle_*\")\n",
    "distances_list = []\n",
    "for file in files:\n",
    "    distances = np.zeros(500)\n",
    "    distances_list.append(distances)\n",
    "\n",
    "\n",
    "simulation_dataframe = pd.DataFrame(distances_list)\n",
    "melted_dataframe = simulation_dataframe.melt()\n",
    "df = melted_dataframe.groupby(\"variable\",as_index=False).agg(mean=(\"value\", np.mean),\n",
    "                                                             lower_bound=(\"value\", lambda val: np.quantile(val, q=1/3)),\n",
    "                                                              upper_bound=(\"value\", lambda val: np.quantile(val, q=2/3)))\n",
    "plt.plot(df[\"variable\"], df[\"mean\"])\n",
    "plt.plot(df[\"variable\"], df[\"lower_bound\"])\n",
    "plt.plot(df[\"variable\"], df[\"upper_bound\"])\n",
    "# plt.loglog()"
   ]
  },
  {
   "cell_type": "code",
   "execution_count": 174,
   "id": "68245899-5c69-446d-a34d-c10b73d67aa5",
   "metadata": {},
   "outputs": [],
   "source": [
    "import glob\n",
    "simulation_files = glob.glob(f\"../data/simulations/2d/2d_sim_*\")\n"
   ]
  },
  {
   "cell_type": "code",
   "execution_count": 175,
   "id": "f242ca68-381d-4e69-be06-70df28c09765",
   "metadata": {},
   "outputs": [
    {
     "name": "stdout",
     "output_type": "stream",
     "text": [
      "1\n",
      "2\n",
      "3\n",
      "4\n",
      "5\n",
      "6\n",
      "7\n",
      "8\n",
      "9\n",
      "10\n"
     ]
    }
   ],
   "source": [
    "histogram_list = []\n",
    "distances_list = []\n",
    "for file in simulation_files:\n",
    "    distances = np.loadtxt(file)\n",
    "    distances_list.append(distances)\n",
    "    print(len(distances_list))\n",
    "    bins = np.linspace(start=1, stop=500, num=500)\n",
    "    histogram = np.histogram(distances, bins=bins, density=False)[0]\n",
    "    # print(histogram)\n",
    "    histogram_list.append(histogram)"
   ]
  },
  {
   "cell_type": "code",
   "execution_count": 105,
   "id": "37d78281-6ef5-41f8-a97c-8507ad82510c",
   "metadata": {},
   "outputs": [],
   "source": [
    "# for i in range(len(distances_list)):\n",
    "#     for j in range(len(distances_list[i])):\n",
    "#         print(f\"dist: {distances_list[i][j]}; bin: {bins[j]};hist: {histogram_list[i][j]}\")\n",
    "#     print(\"___________________\")\n",
    "        "
   ]
  },
  {
   "cell_type": "code",
   "execution_count": 176,
   "id": "64cef6c8-b5e0-4e39-9c83-0468f878fac9",
   "metadata": {},
   "outputs": [],
   "source": [
    "sim_2d_mean = np.mean(histogram_list, axis=0)\n",
    "lb, ub = np.quantile(histogram_list, q=[1/3, 2/3], axis=0)"
   ]
  },
  {
   "cell_type": "code",
   "execution_count": 177,
   "id": "671284a3-b043-45ef-8865-36e97217fb94",
   "metadata": {},
   "outputs": [
    {
     "data": {
      "text/plain": [
       "[]"
      ]
     },
     "execution_count": 177,
     "metadata": {},
     "output_type": "execute_result"
    },
    {
     "data": {
      "image/png": "[encoded data removed]",
      "text/plain": [
       "<Figure size 432x288 with 1 Axes>"
      ]
     },
     "metadata": {
      "needs_background": "light"
     },
     "output_type": "display_data"
    }
   ],
   "source": [
    "plt.scatter(np.linspace(1, 500, 499),sim_2d_mean)\n",
    "\n",
    "plt.plot(np.linspace(1, 500, 499), lb)\n",
    "plt.plot(np.linspace(1, 500, 499), ub)\n",
    "plt.loglog()"
   ]
  },
  {
   "cell_type": "code",
   "execution_count": 4,
   "id": "1b9e6194-9e6d-4b32-becc-d3198ac9aaa4",
   "metadata": {},
   "outputs": [],
   "source": [
    "import numpy as np\n",
    "hist = np.load(\"../data/rcsb/histogram_100_not_normed.npy\", allow_pickle=True)\n",
    "dist = np.linspace(1, 300, 300)[:-1]"
   ]
  },
  {
   "cell_type": "code",
   "execution_count": 5,
   "id": "78d0107c-5255-430f-b988-754fdd926fd7",
   "metadata": {},
   "outputs": [
    {
     "data": {
      "text/plain": [
       "array([[178, 176,  84, ...,   0,   0,   0],\n",
       "       [200, 198,  68, ...,   0,   0,   0],\n",
       "       [206, 204,  80, ...,   0,   0,   0],\n",
       "       ...,\n",
       "       [214, 212, 114, ...,   0,   0,   0],\n",
       "       [190, 188,  60, ...,   0,   0,   0],\n",
       "       [170, 168, 124, ...,   0,   0,   0]])"
      ]
     },
     "execution_count": 5,
     "metadata": {},
     "output_type": "execute_result"
    }
   ],
   "source": [
    "hist"
   ]
  },
  {
   "cell_type": "code",
   "execution_count": 6,
   "id": "05e76121-89ce-4b19-ab4c-ac63c35f4958",
   "metadata": {},
   "outputs": [
    {
     "data": {
      "text/plain": [
       "array([  1.,   2.,   3.,   4.,   5.,   6.,   7.,   8.,   9.,  10.,  11.,\n",
       "        12.,  13.,  14.,  15.,  16.,  17.,  18.,  19.,  20.,  21.,  22.,\n",
       "        23.,  24.,  25.,  26.,  27.,  28.,  29.,  30.,  31.,  32.,  33.,\n",
       "        34.,  35.,  36.,  37.,  38.,  39.,  40.,  41.,  42.,  43.,  44.,\n",
       "        45.,  46.,  47.,  48.,  49.,  50.,  51.,  52.,  53.,  54.,  55.,\n",
       "        56.,  57.,  58.,  59.,  60.,  61.,  62.,  63.,  64.,  65.,  66.,\n",
       "        67.,  68.,  69.,  70.,  71.,  72.,  73.,  74.,  75.,  76.,  77.,\n",
       "        78.,  79.,  80.,  81.,  82.,  83.,  84.,  85.,  86.,  87.,  88.,\n",
       "        89.,  90.,  91.,  92.,  93.,  94.,  95.,  96.,  97.,  98.,  99.,\n",
       "       100., 101., 102., 103., 104., 105., 106., 107., 108., 109., 110.,\n",
       "       111., 112., 113., 114., 115., 116., 117., 118., 119., 120., 121.,\n",
       "       122., 123., 124., 125., 126., 127., 128., 129., 130., 131., 132.,\n",
       "       133., 134., 135., 136., 137., 138., 139., 140., 141., 142., 143.,\n",
       "       144., 145., 146., 147., 148., 149., 150., 151., 152., 153., 154.,\n",
       "       155., 156., 157., 158., 159., 160., 161., 162., 163., 164., 165.,\n",
       "       166., 167., 168., 169., 170., 171., 172., 173., 174., 175., 176.,\n",
       "       177., 178., 179., 180., 181., 182., 183., 184., 185., 186., 187.,\n",
       "       188., 189., 190., 191., 192., 193., 194., 195., 196., 197., 198.,\n",
       "       199., 200., 201., 202., 203., 204., 205., 206., 207., 208., 209.,\n",
       "       210., 211., 212., 213., 214., 215., 216., 217., 218., 219., 220.,\n",
       "       221., 222., 223., 224., 225., 226., 227., 228., 229., 230., 231.,\n",
       "       232., 233., 234., 235., 236., 237., 238., 239., 240., 241., 242.,\n",
       "       243., 244., 245., 246., 247., 248., 249., 250., 251., 252., 253.,\n",
       "       254., 255., 256., 257., 258., 259., 260., 261., 262., 263., 264.,\n",
       "       265., 266., 267., 268., 269., 270., 271., 272., 273., 274., 275.,\n",
       "       276., 277., 278., 279., 280., 281., 282., 283., 284., 285., 286.,\n",
       "       287., 288., 289., 290., 291., 292., 293., 294., 295., 296., 297.,\n",
       "       298., 299.])"
      ]
     },
     "execution_count": 6,
     "metadata": {},
     "output_type": "execute_result"
    }
   ],
   "source": [
    "dist"
   ]
  },
  {
   "cell_type": "code",
   "execution_count": 32,
   "id": "a1e6a891-e111-4e20-9430-5c770fcac60e",
   "metadata": {},
   "outputs": [
    {
     "data": {
      "text/plain": [
       "array([  6.        ,   7.01075269,   8.02150538,   9.03225806,\n",
       "        10.04301075,  11.05376344,  12.06451613,  13.07526882,\n",
       "        14.08602151,  15.09677419,  16.10752688,  17.11827957,\n",
       "        18.12903226,  19.13978495,  20.15053763,  21.16129032,\n",
       "        22.17204301,  23.1827957 ,  24.19354839,  25.20430108,\n",
       "        26.21505376,  27.22580645,  28.23655914,  29.24731183,\n",
       "        30.25806452,  31.2688172 ,  32.27956989,  33.29032258,\n",
       "        34.30107527,  35.31182796,  36.32258065,  37.33333333,\n",
       "        38.34408602,  39.35483871,  40.3655914 ,  41.37634409,\n",
       "        42.38709677,  43.39784946,  44.40860215,  45.41935484,\n",
       "        46.43010753,  47.44086022,  48.4516129 ,  49.46236559,\n",
       "        50.47311828,  51.48387097,  52.49462366,  53.50537634,\n",
       "        54.51612903,  55.52688172,  56.53763441,  57.5483871 ,\n",
       "        58.55913978,  59.56989247,  60.58064516,  61.59139785,\n",
       "        62.60215054,  63.61290323,  64.62365591,  65.6344086 ,\n",
       "        66.64516129,  67.65591398,  68.66666667,  69.67741935,\n",
       "        70.68817204,  71.69892473,  72.70967742,  73.72043011,\n",
       "        74.7311828 ,  75.74193548,  76.75268817,  77.76344086,\n",
       "        78.77419355,  79.78494624,  80.79569892,  81.80645161,\n",
       "        82.8172043 ,  83.82795699,  84.83870968,  85.84946237,\n",
       "        86.86021505,  87.87096774,  88.88172043,  89.89247312,\n",
       "        90.90322581,  91.91397849,  92.92473118,  93.93548387,\n",
       "        94.94623656,  95.95698925,  96.96774194,  97.97849462,\n",
       "        98.98924731, 100.        ])"
      ]
     },
     "execution_count": 32,
     "metadata": {},
     "output_type": "execute_result"
    }
   ],
   "source": [
    "mean = np.mean(hist, axis=0)\n",
    "norm_mean = mean / np.sum(mean)\n",
    "x = np.linspace(6, 100, 94)\n",
    "x\n"
   ]
  },
  {
   "cell_type": "code",
   "execution_count": 36,
   "id": "6f1fa300-1dc1-4b2a-b93a-c3d69415873b",
   "metadata": {},
   "outputs": [
    {
     "data": {
      "text/plain": [
       "95"
      ]
     },
     "execution_count": 36,
     "metadata": {},
     "output_type": "execute_result"
    }
   ],
   "source": [
    "y = np.linspace(1, 300, 300)\n",
    "len(y[5:100])"
   ]
  },
  {
   "cell_type": "code",
   "execution_count": 83,
   "id": "1757a81e-b2be-4027-b361-04a8606b6374",
   "metadata": {},
   "outputs": [
    {
     "name": "stderr",
     "output_type": "stream",
     "text": [
      "/Users/jasminguven/Projects/sequence_distance_distribution/scripts/theory_functions.py:67: RuntimeWarning: invalid value encountered in double_scalars\n",
      "  distribution = (((1 - f_low_k) / (1 - f_high_k)) ** exponent) * (dimensionality / f_high_k)\n"
     ]
    },
    {
     "name": "stdout",
     "output_type": "stream",
     "text": [
      " active_mask: array([0., 0., 0., 0.])\n",
      "        cost: 2.0573086695529026e-05\n",
      "         fun: array([ 9.01502097e-04,  2.16301754e-03,  1.66112167e-03,  1.37103601e-03,\n",
      "        4.62990193e-04, -3.66661229e-04, -5.95047514e-04, -8.01496843e-04,\n",
      "       -7.95565446e-04, -1.16756969e-03, -1.18105246e-03, -9.44884084e-04,\n",
      "       -1.21555032e-03, -9.24513488e-04, -8.99910743e-04, -9.44979264e-04,\n",
      "       -8.57297917e-04, -8.68168604e-04, -5.50553466e-04, -3.40403763e-05,\n",
      "       -8.22890111e-05, -7.65717973e-05,  6.97464521e-05,  2.11489095e-04,\n",
      "       -1.06699915e-05, -5.04140962e-05,  1.20584350e-05, -1.29440636e-04,\n",
      "       -2.18551991e-04, -2.21056835e-04, -4.71355285e-04, -5.27603730e-04,\n",
      "       -5.14278650e-04, -1.48839845e-04, -8.11606933e-05, -2.66874289e-04,\n",
      "       -4.03104329e-04, -6.01312810e-04, -9.43098844e-04, -8.75708193e-04,\n",
      "       -4.79976108e-04, -4.15977793e-04, -5.52466442e-04, -5.82789371e-04,\n",
      "       -5.44999112e-04, -6.74277769e-04, -6.33550494e-04, -5.32518857e-04,\n",
      "       -5.11278463e-04, -5.86294605e-04, -6.63852240e-04, -4.99892009e-04,\n",
      "       -4.78241350e-04, -6.13138171e-04, -5.15146684e-04, -4.70252737e-04,\n",
      "       -4.55284210e-04,  6.51215170e-05,  1.43195607e-04,  2.06893357e-04,\n",
      "        1.57613596e-04,  2.51051119e-04,  1.91287314e-04,  1.89618691e-04,\n",
      "        2.14699010e-04,  1.55776038e-04,  2.25440623e-04,  1.08620955e-04,\n",
      "        2.07309540e-04,  3.86992561e-04,  4.17720945e-04,  3.75201308e-04,\n",
      "        3.88939501e-04,  4.49156797e-04,  4.11764336e-04,  4.00928011e-04,\n",
      "        5.84295344e-04,  6.43304771e-04,  5.88632916e-04,  5.78717924e-04,\n",
      "        6.87064026e-04,  7.15790403e-04,  7.04502703e-04,  7.61897451e-04,\n",
      "        7.42420424e-04,  4.84857751e-04,  2.95966527e-04,  3.00843733e-04,\n",
      "        3.20774956e-04,  6.45569465e-04,  8.24207293e-04,  9.32412073e-04,\n",
      "        9.60973458e-04,  1.02430707e-03,  1.09551707e-03])\n",
      "        grad: array([-8.01102027e-08, -2.33937907e-07, -1.04594940e-07,  4.09817032e-05])\n",
      "         jac: array([[ 8.29682364e-05, -9.16391242e-04, -1.44529557e-04,\n",
      "         2.48914159e+01],\n",
      "       [ 7.17668612e-05, -9.36296023e-04, -1.72849691e-04,\n",
      "         2.14064081e+01],\n",
      "       [ 6.36498573e-05, -9.46079182e-04, -1.99295194e-04,\n",
      "         1.88659803e+01],\n",
      "       [ 5.74789691e-05, -9.49917140e-04, -2.24148657e-04,\n",
      "         1.69226949e+01],\n",
      "       [ 5.26172588e-05, -9.50046978e-04, -2.47617044e-04,\n",
      "         1.53820069e+01],\n",
      "       [ 4.86798227e-05, -9.47762297e-04, -2.69857678e-04,\n",
      "         1.41262726e+01],\n",
      "       [ 4.54199937e-05, -9.43856098e-04, -2.90993377e-04,\n",
      "         1.30800465e+01],\n",
      "       [ 4.26721999e-05, -9.38837873e-04, -3.11122568e-04,\n",
      "         1.21926472e+01],\n",
      "       [ 4.03210406e-05, -9.33047597e-04, -3.30325383e-04,\n",
      "         1.14287245e+01],\n",
      "       [ 3.82835482e-05, -9.26719680e-04, -3.48668837e-04,\n",
      "         1.07628422e+01],\n",
      "       [ 3.64984889e-05, -9.20020397e-04, -3.66209469e-04,\n",
      "         1.01762127e+01],\n",
      "       [ 3.49196538e-05, -9.13070177e-04, -3.82995634e-04,\n",
      "         9.65464553e+00],\n",
      "       [ 3.35114958e-05, -9.05958492e-04, -3.99069587e-04,\n",
      "         9.18721430e+00],\n",
      "       [ 3.22462011e-05, -8.98752994e-04, -4.14468286e-04,\n",
      "         8.76536289e+00],\n",
      "       [ 3.11016935e-05, -8.91505596e-04, -4.29224671e-04,\n",
      "         8.38229160e+00],\n",
      "       [ 3.00602097e-05, -8.84257063e-04, -4.43368253e-04,\n",
      "         8.03252515e+00],\n",
      "       [ 2.91072960e-05, -8.77039647e-04, -4.56925781e-04,\n",
      "         7.71160279e+00],\n",
      "       [ 2.82310659e-05, -8.69879265e-04, -4.69921711e-04,\n",
      "         7.41585187e+00],\n",
      "       [ 2.74216525e-05, -8.62797149e-04, -4.82378565e-04,\n",
      "         7.14221967e+00],\n",
      "       [ 2.66707952e-05, -8.55810798e-04, -4.94317088e-04,\n",
      "         6.88814678e+00],\n",
      "       [ 2.59715207e-05, -8.48934907e-04, -5.05756830e-04,\n",
      "         6.65147041e+00],\n",
      "       [ 2.53179054e-05, -8.42181808e-04, -5.16716056e-04,\n",
      "         6.43034969e+00],\n",
      "       [ 2.47048829e-05, -8.35562164e-04, -5.27211986e-04,\n",
      "         6.22320731e+00],\n",
      "       [ 2.41280920e-05, -8.29085090e-04, -5.37260984e-04,\n",
      "         6.02868351e+00],\n",
      "       [ 2.35837605e-05, -8.22758675e-04, -5.46878617e-04,\n",
      "         5.84559940e+00],\n",
      "       [ 2.30686074e-05, -8.16589975e-04, -5.56079807e-04,\n",
      "         5.67292752e+00],\n",
      "       [ 2.25797651e-05, -8.10585334e-04, -5.64878867e-04,\n",
      "         5.50976798e+00],\n",
      "       [ 2.21147191e-05, -8.04750421e-04, -5.73289584e-04,\n",
      "         5.35532901e+00],\n",
      "       [ 2.16712508e-05, -7.99090520e-04, -5.81325320e-04,\n",
      "         5.20891100e+00],\n",
      "       [ 2.12473991e-05, -7.93610297e-04, -5.88998959e-04,\n",
      "         5.06989324e+00],\n",
      "       [ 2.08414231e-05, -7.88314230e-04, -5.96323051e-04,\n",
      "         4.93772301e+00],\n",
      "       [ 2.04517719e-05, -7.83206436e-04, -6.03309807e-04,\n",
      "         4.81190634e+00],\n",
      "       [ 2.00770590e-05, -7.78290844e-04, -6.09971147e-04,\n",
      "         4.69200028e+00],\n",
      "       [ 1.97160431e-05, -7.73571138e-04, -6.16318638e-04,\n",
      "         4.57760640e+00],\n",
      "       [ 1.93676073e-05, -7.69050888e-04, -6.22363726e-04,\n",
      "         4.46836522e+00],\n",
      "       [ 1.90307458e-05, -7.64733576e-04, -6.28117443e-04,\n",
      "         4.36395149e+00],\n",
      "       [ 1.87045506e-05, -7.60622542e-04, -6.33590773e-04,\n",
      "         4.26407014e+00],\n",
      "       [ 1.83881977e-05, -7.56721097e-04, -6.38794367e-04,\n",
      "         4.16845281e+00],\n",
      "       [ 1.80809412e-05, -7.53032508e-04, -6.43738765e-04,\n",
      "         4.07685480e+00],\n",
      "       [ 1.77821002e-05, -7.49560040e-04, -6.48434247e-04,\n",
      "         3.98905253e+00],\n",
      "       [ 1.74910553e-05, -7.46306950e-04, -6.52891003e-04,\n",
      "         3.90484121e+00],\n",
      "       [ 1.72072406e-05, -7.43276524e-04, -6.57118976e-04,\n",
      "         3.82403292e+00],\n",
      "       [ 1.69301372e-05, -7.40472114e-04, -6.61128004e-04,\n",
      "         3.74645484e+00],\n",
      "       [ 1.66592713e-05, -7.37897095e-04, -6.64927722e-04,\n",
      "         3.67194776e+00],\n",
      "       [ 1.63942036e-05, -7.35554944e-04, -6.68527677e-04,\n",
      "         3.60036475e+00],\n",
      "       [ 1.61345328e-05, -7.33449242e-04, -6.71937200e-04,\n",
      "         3.53156997e+00],\n",
      "       [ 1.58798869e-05, -7.31583661e-04, -6.75165513e-04,\n",
      "         3.46543763e+00],\n",
      "       [ 1.56299212e-05, -7.29962031e-04, -6.78221704e-04,\n",
      "         3.40185108e+00],\n",
      "       [ 1.53843177e-05, -7.28588283e-04, -6.81114719e-04,\n",
      "         3.34070197e+00],\n",
      "       [ 1.51427809e-05, -7.27466509e-04, -6.83853337e-04,\n",
      "         3.28188956e+00],\n",
      "       [ 1.49050353e-05, -7.26601022e-04, -6.86446232e-04,\n",
      "         3.22532002e+00],\n",
      "       [ 1.46708235e-05, -7.25996311e-04, -6.88901937e-04,\n",
      "         3.17090590e+00],\n",
      "       [ 1.44399048e-05, -7.25657032e-04, -6.91228864e-04,\n",
      "         3.11856555e+00],\n",
      "       [ 1.42120550e-05, -7.25588117e-04, -6.93435256e-04,\n",
      "         3.06822272e+00],\n",
      "       [ 1.39870618e-05, -7.25794703e-04, -6.95529263e-04,\n",
      "         3.01980607e+00],\n",
      "       [ 1.37647255e-05, -7.26282209e-04, -6.97518899e-04,\n",
      "         2.97324884e+00],\n",
      "       [ 1.35448579e-05, -7.27056359e-04, -6.99412040e-04,\n",
      "         2.92848850e+00],\n",
      "       [ 1.33272809e-05, -7.28123092e-04, -7.01216415e-04,\n",
      "         2.88546645e+00],\n",
      "       [ 1.31118240e-05, -7.29488771e-04, -7.02939692e-04,\n",
      "         2.84412769e+00],\n",
      "       [ 1.28983255e-05, -7.31160039e-04, -7.04589326e-04,\n",
      "         2.80442064e+00],\n",
      "       [ 1.26866308e-05, -7.33143930e-04, -7.06172710e-04,\n",
      "         2.76629687e+00],\n",
      "       [ 1.24765908e-05, -7.35447806e-04, -7.07697074e-04,\n",
      "         2.72971090e+00],\n",
      "       [ 1.22680628e-05, -7.38079503e-04, -7.09169544e-04,\n",
      "         2.69462001e+00],\n",
      "       [ 1.20609090e-05, -7.41047256e-04, -7.10597122e-04,\n",
      "         2.66098409e+00],\n",
      "       [ 1.18549949e-05, -7.44359774e-04, -7.11986656e-04,\n",
      "         2.62876546e+00],\n",
      "       [ 1.16501897e-05, -7.48026251e-04, -7.13344911e-04,\n",
      "         2.59792873e+00],\n",
      "       [ 1.14463664e-05, -7.52056375e-04, -7.14678505e-04,\n",
      "         2.56844069e+00],\n",
      "       [ 1.12433998e-05, -7.56460398e-04, -7.15993944e-04,\n",
      "         2.54027017e+00],\n",
      "       [ 1.10411665e-05, -7.61249155e-04, -7.17297615e-04,\n",
      "         2.51338797e+00],\n",
      "       [ 1.08395457e-05, -7.66434088e-04, -7.18595794e-04,\n",
      "         2.48776671e+00],\n",
      "       [ 1.06384171e-05, -7.72027269e-04, -7.19894617e-04,\n",
      "         2.46338081e+00],\n",
      "       [ 1.04376604e-05, -7.78041466e-04, -7.21200111e-04,\n",
      "         2.44020633e+00],\n",
      "       [ 1.02371564e-05, -7.84490185e-04, -7.22518208e-04,\n",
      "         2.41822098e+00],\n",
      "       [ 1.00367861e-05, -7.91387662e-04, -7.23854707e-04,\n",
      "         2.39740399e+00],\n",
      "       [ 9.83643012e-06, -7.98748975e-04, -7.25215290e-04,\n",
      "         2.37773608e+00],\n",
      "       [ 9.63596663e-06, -8.06590048e-04, -7.26605545e-04,\n",
      "         2.35919941e+00],\n",
      "       [ 9.43527419e-06, -8.14927719e-04, -7.28030954e-04,\n",
      "         2.34177753e+00],\n",
      "       [ 9.23423018e-06, -8.23779740e-04, -7.29496867e-04,\n",
      "         2.32545530e+00],\n",
      "       [ 9.03270884e-06, -8.33164980e-04, -7.31008545e-04,\n",
      "         2.31021891e+00],\n",
      "       [ 8.83058338e-06, -8.43103281e-04, -7.32571144e-04,\n",
      "         2.29605582e+00],\n",
      "       [ 8.62772450e-06, -8.53615681e-04, -7.34189713e-04,\n",
      "         2.28295472e+00],\n",
      "       [ 8.42399979e-06, -8.64724422e-04, -7.35869217e-04,\n",
      "         2.27090551e+00],\n",
      "       [ 8.21927438e-06, -8.76452998e-04, -7.37614496e-04,\n",
      "         2.25989928e+00],\n",
      "       [ 8.01340981e-06, -8.88826300e-04, -7.39430332e-04,\n",
      "         2.24992831e+00],\n",
      "       [ 7.80626398e-06, -9.01870643e-04, -7.41321366e-04,\n",
      "         2.24098600e+00],\n",
      "       [ 7.59769228e-06, -9.15613856e-04, -7.43292187e-04,\n",
      "         2.23306692e+00],\n",
      "       [ 7.38754303e-06, -9.30085406e-04, -7.45347277e-04,\n",
      "         2.22616677e+00],\n",
      "       [ 7.17566326e-06, -9.45316492e-04, -7.47491026e-04,\n",
      "         2.22028238e+00],\n",
      "       [ 6.96189378e-06, -9.61340127e-04, -7.49727755e-04,\n",
      "         2.21541169e+00],\n",
      "       [ 6.74607048e-06, -9.78191268e-04, -7.52061699e-04,\n",
      "         2.21155378e+00],\n",
      "       [ 6.52802468e-06, -9.95906949e-04, -7.54496988e-04,\n",
      "         2.20870885e+00],\n",
      "       [ 6.30758058e-06, -1.01452640e-03, -7.57037697e-04,\n",
      "         2.20687822e+00],\n",
      "       [ 6.08455814e-06, -1.03409119e-03, -7.59687849e-04,\n",
      "         2.20606436e+00],\n",
      "       [ 5.85876967e-06, -1.05464536e-03, -7.62451350e-04,\n",
      "         2.20627090e+00],\n",
      "       [ 5.63002165e-06, -1.07623567e-03, -7.65332039e-04,\n",
      "         2.20750261e+00]])\n",
      "     message: 'The maximum number of function evaluations is exceeded.'\n",
      "        nfev: 400\n",
      "        njev: 394\n",
      "  optimality: 4.098170323735493e-05\n",
      "      status: 0\n",
      "     success: False\n",
      "           x: array([2.05297338e+02, 4.92334906e+00, 1.89952562e+00, 6.74041683e-04])\n"
     ]
    }
   ],
   "source": [
    "import theory_functions\n",
    "import scipy\n",
    "\n",
    "x = np.linspace(6, 100, 95)\n",
    "chain = 100\n",
    "harmonic = theory_functions.harmonic_number(chain//2)\n",
    "d_range = np.arange(0.006, 0.0066, 0.0001)\n",
    "e_range = np.arange(2, 6, 1)\n",
    "params = [chain, harmonic, e_range[1], d_range[0]]\n",
    "lsq_res = scipy.optimize.least_squares(theory_functions.vector_of_residuals, x0=params, args=(x, norm_mean[5:100]))\n",
    "print(lsq_res)\n"
   ]
  },
  {
   "cell_type": "code",
   "execution_count": 77,
   "id": "bcfa1733-ae41-470b-a691-097efff404e5",
   "metadata": {},
   "outputs": [
    {
     "data": {
      "text/plain": [
       "(0.001, 0.1)"
      ]
     },
     "execution_count": 77,
     "metadata": {},
     "output_type": "execute_result"
    },
    {
     "data": {
      "image/png": "[encoded data removed]",
      "text/plain": [
       "<Figure size 432x288 with 1 Axes>"
      ]
     },
     "metadata": {
      "needs_background": "light"
     },
     "output_type": "display_data"
    }
   ],
   "source": [
    "import matplotlib.pyplot as plt\n",
    "plt.scatter(dist, norm_mean)\n",
    "plt.plot(x, theory_functions.amino_acid_distance_distribution(x, *lsq_res.x), c=\"r\")\n",
    "plt.loglog()\n",
    "plt.xlim(5, 100)\n",
    "plt.ylim(0.001, 0.1)"
   ]
  },
  {
   "cell_type": "code",
   "execution_count": 78,
   "id": "13be4f39-a361-47b1-baed-c1efc2770579",
   "metadata": {},
   "outputs": [
    {
     "data": {
      "text/plain": [
       "array([[ 7.86141489e+11, -1.36213423e+09,  1.12696226e+10,\n",
       "        -2.89764531e+06],\n",
       "       [-1.36213423e+09,  2.90056341e+06, -2.09039501e+07,\n",
       "         5.04319240e+03],\n",
       "       [ 1.12696226e+10, -2.09039501e+07,  1.65120520e+08,\n",
       "        -4.15927275e+04],\n",
       "       [-2.89764531e+06,  5.04319240e+03, -4.15927275e+04,\n",
       "         1.06818304e+01]])"
      ]
     },
     "execution_count": 78,
     "metadata": {},
     "output_type": "execute_result"
    }
   ],
   "source": [
    "jacobian = lsq_res.jac\n",
    "hessian = np.matmul(jacobian.T, jacobian)\n",
    "covariance = np.linalg.inv(hessian)\n",
    "covariance\n"
   ]
  },
  {
   "cell_type": "code",
   "execution_count": 79,
   "id": "6a988477-7527-4318-8bcd-afa4ed94958a",
   "metadata": {},
   "outputs": [],
   "source": [
    "sigma = np.sqrt(np.diag(covariance))"
   ]
  },
  {
   "cell_type": "code",
   "execution_count": 80,
   "id": "8a811101-56ee-423d-ab2c-39675cf527cc",
   "metadata": {},
   "outputs": [
    {
     "data": {
      "text/plain": [
       "array([8.86646203e+05, 1.70310405e+03, 1.28499230e+04, 3.26830697e+00])"
      ]
     },
     "execution_count": 80,
     "metadata": {},
     "output_type": "execute_result"
    }
   ],
   "source": [
    "sigma"
   ]
  },
  {
   "cell_type": "code",
   "execution_count": 127,
   "id": "61427686-d9b4-428f-aa48-faf885bf6cf9",
   "metadata": {},
   "outputs": [
    {
     "name": "stdout",
     "output_type": "stream",
     "text": [
      "[ 251.94708258  326.11016147  542.72437297  597.87361851  605.74710762\n",
      "  606.77416109  850.01992835  665.19958331  705.9652287   712.40513639\n",
      "  746.24601283  536.73137206  539.94836977  585.4172464   610.69404517\n",
      "  629.00637386  660.58492059  681.80711616  745.6138471   427.6301753\n",
      "  438.05302449  453.42266405  969.70762428 1038.39602066 1012.44096251\n",
      " 1032.47023017 1080.56858451 1069.76023651 1072.50822507 1099.39153332\n",
      " 1052.7461572  1060.71838968 1087.878138   1236.72936485 1293.23230879\n",
      " 1246.74308028 1220.52979537 1172.66846711 1083.69691524 1122.17832222\n",
      " 1285.34627908 1336.2127031  1299.657827   1308.11496054 1345.98784873]\n"
     ]
    },
    {
     "name": "stderr",
     "output_type": "stream",
     "text": [
      "/var/folders/s3/bsl1r71j5vv92phr7p9f9skw0000gn/T/ipykernel_22118/1862548034.py:2: RuntimeWarning: invalid value encountered in true_divide\n",
      "  lb, ub = np.quantile(hist, q=[1/3, 2/3],axis=0)/norm_mean\n"
     ]
    }
   ],
   "source": [
    "import scipy\n",
    "lb, ub = np.quantile(hist, q=[1/3, 2/3],axis=0)/norm_mean\n",
    "weights = ub-lb\n",
    "print(weights[5:50])\n",
    "d_range = np.arange(0.001, 0.0016, 0.0001)\n",
    "e_range = np.arange(2, 4, 1)\n",
    "# params = [chain, harmonic, d_range[0], e_range[1]]\n",
    "x = np.linspace(6, 50, 45)\n",
    "chain = 100\n",
    "harmonic = theory_functions.harmonic_number(chain//2)\n",
    "parameters, cov = scipy.optimize.curve_fit(\n",
    "        f=theory_functions.amino_acid_distance_distribution,\n",
    "        sigma=weights[5:50],\n",
    "        xdata=x, ydata=norm_mean[5:50],\n",
    "        bounds=([chain - 1, harmonic - 0.00001, e_range[0], d_range[0]],\n",
    "                [chain, harmonic, e_range[-1], d_range[-1]]))\n",
    "\n"
   ]
  },
  {
   "cell_type": "code",
   "execution_count": 118,
   "id": "f7f36a3b-994e-4c53-b5b9-16461bbdd295",
   "metadata": {},
   "outputs": [
    {
     "name": "stdout",
     "output_type": "stream",
     "text": [
      "chain: 99.99448414514887, H_N/2: 4.499195338776269, e: 2.00000188997433, d: 0.0014341831133779757\n"
     ]
    }
   ],
   "source": [
    "print(f\"chain: {parameters[0]}, H_N/2: {parameters[1]}, e: {parameters[2]}, d: {parameters[3]}\")"
   ]
  },
  {
   "cell_type": "code",
   "execution_count": 119,
   "id": "670f8593-0ec0-4adf-bf8e-57f14be37850",
   "metadata": {},
   "outputs": [
    {
     "data": {
      "text/plain": [
       "array([2.56333000e+01, 2.13404255e+00, 8.24211805e-01, 3.65809352e-04])"
      ]
     },
     "execution_count": 119,
     "metadata": {},
     "output_type": "execute_result"
    }
   ],
   "source": [
    "sigma = np.sqrt(np.diag(cov))\n",
    "sigma"
   ]
  },
  {
   "cell_type": "code",
   "execution_count": 120,
   "id": "ee3ac4f4-a158-43b3-8dca-c26a55bd1888",
   "metadata": {},
   "outputs": [
    {
     "data": {
      "text/plain": [
       "(0.001, 0.1)"
      ]
     },
     "execution_count": 120,
     "metadata": {},
     "output_type": "execute_result"
    },
    {
     "data": {
      "image/png": "[encoded data removed]",
      "text/plain": [
       "<Figure size 432x288 with 1 Axes>"
      ]
     },
     "metadata": {
      "needs_background": "light"
     },
     "output_type": "display_data"
    }
   ],
   "source": [
    "import matplotlib.pyplot as plt\n",
    "plt.scatter(dist, norm_mean)\n",
    "plt.plot(x, theory_functions.amino_acid_distance_distribution(x, *parameters), c=\"r\")\n",
    "plt.loglog()\n",
    "plt.xlim(5, 100)\n",
    "plt.ylim(0.001, 0.1)"
   ]
  },
  {
   "cell_type": "code",
   "execution_count": 71,
   "id": "e459d66c-6218-496e-89f6-e1cfc85a334d",
   "metadata": {},
   "outputs": [
    {
     "name": "stderr",
     "output_type": "stream",
     "text": [
      "/var/folders/s3/bsl1r71j5vv92phr7p9f9skw0000gn/T/ipykernel_22118/895508851.py:2: RuntimeWarning: invalid value encountered in true_divide\n",
      "  lb = np.quantile(hist, q=[1/3,2/3],axis=0)[0]/norm_mean\n",
      "/var/folders/s3/bsl1r71j5vv92phr7p9f9skw0000gn/T/ipykernel_22118/895508851.py:3: RuntimeWarning: invalid value encountered in true_divide\n",
      "  ub = np.quantile(hist, q=[1/3,2/3],axis=0)[1]/norm_mean\n"
     ]
    }
   ],
   "source": [
    "import statsmodels.api as sm\n",
    "lb = np.quantile(hist, q=[1/3,2/3],axis=0)[0]/norm_mean\n",
    "ub = np.quantile(hist, q=[1/3,2/3],axis=0)[1]/norm_mean\n",
    "\n",
    "weights = ub-lb\n",
    "wls = sm.WLS(norm_mean[5:100], x, weights=weights[5:100])"
   ]
  },
  {
   "cell_type": "code",
   "execution_count": null,
   "id": "1b5c8180-b342-4d4f-ab2c-abf37e0232ef",
   "metadata": {},
   "outputs": [],
   "source": [
    "wls"
   ]
  },
  {
   "cell_type": "code",
   "execution_count": null,
   "id": "88b4330b-af06-40b5-8eea-7316faeeda57",
   "metadata": {},
   "outputs": [],
   "source": []
  }
 ],
 "metadata": {
  "kernelspec": {
   "display_name": "Python 3 (ipykernel)",
   "language": "python",
   "name": "python3"
  },
  "language_info": {
   "codemirror_mode": {
    "name": "ipython",
    "version": 3
   },
   "file_extension": ".py",
   "mimetype": "text/x-python",
   "name": "python",
   "nbconvert_exporter": "python",
   "pygments_lexer": "ipython3",
   "version": "3.10.2"
  }
 },
 "nbformat": 4,
 "nbformat_minor": 5
}
