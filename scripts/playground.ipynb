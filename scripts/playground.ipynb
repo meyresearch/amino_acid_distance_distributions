{
 "cells": [
  {
   "cell_type": "code",
   "execution_count": 33,
   "metadata": {},
   "outputs": [],
   "source": [
    "import functions\n",
    "import numpy as np\n",
    "import pandas as pd\n",
    "import protein_contact_map\n",
    "import matplotlib.pyplot as plt"
   ]
  },
  {
   "cell_type": "code",
   "execution_count": 97,
   "metadata": {},
   "outputs": [],
   "source": [
    "def pdb_to_adjacency(pdb_file: str) -> tuple:\n",
    "    \"\"\"\n",
    "    Convert given PDB file to an adjacency matrix\n",
    "    @param pdb_file: PDB file from RCSB or AlphaFold in each length range\n",
    "    @return: tuple of the adjacency and distance matrices as numpy arrays\n",
    "    \"\"\"\n",
    "    pcm = protein_contact_map.ProteinContactMap(pdb_file, default_threshold=21)\n",
    "    alpha_carbons = pcm.get_alpha_carbons\n",
    "    distance_array = protein_contact_map.get_distance_array(alpha_carbons)\n",
    "    distance_matrix = protein_contact_map.get_distance_matrix(alpha_carbons, distance_array)\n",
    "    adjacency_matrix = pcm.get_adjacency_matrix(alpha_carbons, distance_array)\n",
    "    return distance_matrix, adjacency_matrix"
   ]
  },
  {
   "cell_type": "code",
   "execution_count": 98,
   "metadata": {},
   "outputs": [],
   "source": [
    "def return_distance_histogram(log_file: str, given_algorithm: str, length_range: str, path_to_csvs: str) -> np.ndarray:\n",
    "    \"\"\"\n",
    "    Compute the amino acid distance distribution for PDB files in given range from adjacency matrix\n",
    "    and save in a numpy file.\n",
    "    @param log_file: file to save exceptions in\n",
    "    @param given_algorithm: alpha or rcsb\n",
    "    @param length_range: 100, 200 or 300\n",
    "    @param path_to_csvs: full path to csv files\n",
    "    @return: None\n",
    "    \"\"\"\n",
    "    dataframe = pd.read_csv(path_to_csvs)\n",
    "    pdb_files = dataframe[\"filename\"].to_numpy()\n",
    "    histogram_list = []\n",
    "    counter = 1\n",
    "    with open(log_file, \"w\") as log_file:\n",
    "        for pdb_file in pdb_files:\n",
    "            # print(f\"Progress: {counter}/{len(pdb_files)}\")\n",
    "            if given_algorithm == \"alpha\":\n",
    "                clean_pdb_filename = pdb_file.replace(\"/home/jguven/Projects/sequence_distance_distribution\", \"..\")\n",
    "            else:\n",
    "                clean_pdb_filename = pdb_file\n",
    "            try:\n",
    "                adjacency_matrix = pdb_to_adjacency(clean_pdb_filename)[1]\n",
    "                distances = functions.get_distances(adjacency_matrix)\n",
    "                # bins = np.linspace(start=1, stop=200, num=100)\n",
    "                bins = np.linspace(start=1, stop=350, num=350)\n",
    "                histogram = np.histogram(distances, bins=bins, density=False)[0]\n",
    "                histogram_list.append(histogram)\n",
    "                counter += 1\n",
    "            except FileNotFoundError:\n",
    "                traceback.print_exc(file=log_file)\n",
    "    histogram_array = np.asarray(histogram_list)\n",
    "    if not histogram_list:\n",
    "        print(\"Warning: Histogram list is empty. Check log file.\")\n",
    "    if given_algorithm == \"alpha\":\n",
    "        np.save(f\"histogram_alpha_{length_range}_20.npy\", histogram_array)\n",
    "    elif given_algorithm == \"rcsb\":\n",
    "        np.save(f\"histogram_{length_range}_20.npy\", histogram_array)\n",
    "\n"
   ]
  },
  {
   "cell_type": "markdown",
   "metadata": {},
   "source": [
    "# 300"
   ]
  },
  {
   "cell_type": "code",
   "execution_count": 91,
   "metadata": {},
   "outputs": [],
   "source": [
    "return_distance_histogram(log_file=\"log.txt\", given_algorithm=\"rcsb\", length_range=\"300\", path_to_csvs=\"../data/rcsb/secondary_structures_300.csv\")"
   ]
  },
  {
   "cell_type": "code",
   "execution_count": 92,
   "metadata": {},
   "outputs": [],
   "source": [
    "return_distance_histogram(log_file=\"log.txt\", given_algorithm=\"alpha\", length_range=\"300\", path_to_csvs=\"../data/alphafold/unique_secondary_structures_300.csv\")"
   ]
  },
  {
   "cell_type": "code",
   "execution_count": 130,
   "metadata": {},
   "outputs": [],
   "source": [
    "# threshold 21 Å\n",
    "hist = np.load(\"histogram_300_20.npy\", allow_pickle=True)\n",
    "# Threshold 15 Å\n",
    "hist_15 = np.load(\"histogram_300_15.npy\", allow_pickle=True)\n",
    "alpha_15 = np.load(\"histogram_alpha_300_15.npy\", allow_pickle=True)\n",
    "# Threshold 10 Å\n",
    "hist_10 = np.load(\"histogram_300_10.npy\", allow_pickle=True)\n",
    "# Threshold 8 Å\n",
    "histogram_300 = np.load(\"../data/rcsb/histogram_300_not_normed.npy\", allow_pickle=True)\n",
    "# 300 3D simulation\n",
    "simulation_300 = np.load(\"../data/simulations/3d/histogram_300_not_normed.npy\", allow_pickle=True)"
   ]
  },
  {
   "cell_type": "code",
   "execution_count": 131,
   "metadata": {},
   "outputs": [],
   "source": [
    "mean = np.mean(hist, axis=0)\n",
    "normed_mean_new_300 = mean / np.sum(mean)\n",
    "\n",
    "mean_10 = np.mean(hist_10, axis=0)\n",
    "normed_mean_10 = mean_10 / np.sum(mean_10)\n",
    "\n",
    "mean_15 = np.mean(hist_15, axis=0)\n",
    "normed_mean_15 = mean_15 / np.sum(mean_15)\n",
    "\n",
    "alpha_mean_15 = np.mean(alpha_15, axis=0)\n",
    "normed_alpha_mean_15 = alpha_mean_15 / np.sum(alpha_mean_15)\n",
    "\n",
    "sim_mean_300 = np.mean(simulation_300, axis=0)\n",
    "normed_sim_mean_300 = sim_mean_300 / np.sum(sim_mean_300)\n",
    "\n",
    "mean_300 = np.mean(histogram_300, axis=0)\n",
    "normed_mean_300 = mean_300 / np.sum(mean_300)\n",
    "\n",
    "\n",
    "distances = np.linspace(1, 350, 350)[:-1]"
   ]
  },
  {
   "cell_type": "code",
   "execution_count": 132,
   "metadata": {},
   "outputs": [
    {
     "data": {
      "text/plain": [
       "(0.0001, 0.19)"
      ]
     },
     "execution_count": 132,
     "metadata": {},
     "output_type": "execute_result"
    },
    {
     "data": {
      "image/png": "[encoded data removed]",
      "text/plain": [
       "<Figure size 432x288 with 1 Axes>"
      ]
     },
     "metadata": {
      "needs_background": "light"
     },
     "output_type": "display_data"
    }
   ],
   "source": [
    "plt.scatter(distances, normed_mean_new_300, label=\"threshold 21 Å\")\n",
    "plt.scatter(distances, normed_mean_15, label=\"threshold 15 Å\")\n",
    "plt.scatter(distances, normed_alpha_mean_15, label=\"AF threshold 15 Å\")\n",
    "plt.scatter(distances, normed_mean_10, label=\"threshold 10 Å\")\n",
    "plt.scatter(distances, normed_mean_300, label=\"threshold 8 Å\")\n",
    "# plt.scatter(distances, normed_sim_mean_300, label=\"3D simulation\")\n",
    "plt.loglog()\n",
    "plt.legend()\n",
    "plt.ylim(0.0001,0.19)\n",
    "# plt.xlim(3, 15)"
   ]
  },
  {
   "cell_type": "markdown",
   "metadata": {},
   "source": [
    "# 200"
   ]
  },
  {
   "cell_type": "code",
   "execution_count": 99,
   "metadata": {},
   "outputs": [],
   "source": [
    "return_distance_histogram(log_file=\"log.txt\", given_algorithm=\"rcsb\", length_range=\"200\", path_to_csvs=\"../data/rcsb/secondary_structures_200.csv\")"
   ]
  },
  {
   "cell_type": "code",
   "execution_count": 125,
   "metadata": {},
   "outputs": [],
   "source": [
    "# threshold 21 Å\n",
    "hist = np.load(\"histogram_200_20.npy\", allow_pickle=True)\n",
    "histogram_200 = np.load(\"../data/rcsb/histogram_200_not_normed.npy\", allow_pickle=True)\n",
    "simulation_200 = np.load(\"../data/simulations/3d/histogram_200_not_normed.npy\", allow_pickle=True)\n",
    "mean = np.mean(hist, axis=0)\n",
    "normed_mean_new_200 = mean / np.sum(mean)\n",
    "mean_200 = np.mean(histogram_200, axis=0)\n",
    "normed_mean_200 = mean_200 / np.sum(mean_200)\n",
    "sim_mean_200 = np.mean(simulation_200, axis=0)\n",
    "normed_sim_mean_200 = sim_mean_200 / np.sum(sim_mean_200)\n",
    "distances = np.linspace(1, 350, 350)[:-1]"
   ]
  },
  {
   "cell_type": "code",
   "execution_count": 126,
   "metadata": {},
   "outputs": [
    {
     "data": {
      "text/plain": [
       "(0.0001, 0.19)"
      ]
     },
     "execution_count": 126,
     "metadata": {},
     "output_type": "execute_result"
    },
    {
     "data": {
      "image/png": "[encoded data removed]",
      "text/plain": [
       "<Figure size 432x288 with 1 Axes>"
      ]
     },
     "metadata": {
      "needs_background": "light"
     },
     "output_type": "display_data"
    }
   ],
   "source": [
    "plt.scatter(distances, normed_mean_new_200, label=\"threshold 21 Å\")\n",
    "plt.scatter(distances, normed_mean_200, label=\"threshold 8 Å\")\n",
    "# plt.scatter(distances, normed_sim_mean_200, label=\"3D simulation\")\n",
    "plt.loglog()\n",
    "plt.legend()\n",
    "plt.ylim(0.0001,0.19)"
   ]
  },
  {
   "cell_type": "markdown",
   "metadata": {},
   "source": [
    "# 100"
   ]
  },
  {
   "cell_type": "code",
   "execution_count": 109,
   "metadata": {},
   "outputs": [],
   "source": [
    "return_distance_histogram(log_file=\"log.txt\", given_algorithm=\"rcsb\", length_range=\"100\", path_to_csvs=\"../data/rcsb/secondary_structures_100.csv\")"
   ]
  },
  {
   "cell_type": "code",
   "execution_count": 123,
   "metadata": {},
   "outputs": [],
   "source": [
    "# threshold 21 Å\n",
    "hist = np.load(\"histogram_100_20.npy\", allow_pickle=True)\n",
    "histogram_100 = np.load(\"../data/rcsb/histogram_100_not_normed.npy\", allow_pickle=True)\n",
    "simulation_100 = np.load(\"../data/simulations/3d/histogram_100_not_normed.npy\", allow_pickle=True)\n",
    "mean = np.mean(hist, axis=0)\n",
    "normed_mean_new_100 = mean / np.sum(mean)\n",
    "mean_100 = np.mean(histogram_100, axis=0)\n",
    "normed_mean_100 = mean_100 / np.sum(mean_100)\n",
    "sim_mean_100 = np.mean(simulation_100, axis=0)\n",
    "normed_sim_mean_100 = sim_mean_100 / np.sum(sim_mean_100)\n",
    "distances = np.linspace(1, 350, 350)[:-1]"
   ]
  },
  {
   "cell_type": "code",
   "execution_count": 124,
   "metadata": {},
   "outputs": [
    {
     "data": {
      "text/plain": [
       "(0.0001, 0.19)"
      ]
     },
     "execution_count": 124,
     "metadata": {},
     "output_type": "execute_result"
    },
    {
     "data": {
      "image/png": "[encoded data removed]",
      "text/plain": [
       "<Figure size 432x288 with 1 Axes>"
      ]
     },
     "metadata": {
      "needs_background": "light"
     },
     "output_type": "display_data"
    }
   ],
   "source": [
    "plt.scatter(distances, normed_mean_new_100, label=\"threshold 21 Å\")\n",
    "plt.scatter(distances, normed_mean_100, label=\"threshold 8 Å\")\n",
    "# plt.scatter(distances, normed_sim_mean_100, label=\"3D simulation\")\n",
    "\n",
    "plt.loglog()\n",
    "plt.legend()\n",
    "plt.ylim(0.0001,0.19)"
   ]
  },
  {
   "cell_type": "markdown",
   "metadata": {},
   "source": [
    "# Compare"
   ]
  },
  {
   "cell_type": "code",
   "execution_count": 133,
   "metadata": {},
   "outputs": [
    {
     "data": {
      "text/plain": [
       "<matplotlib.legend.Legend at 0x7f1fdb393310>"
      ]
     },
     "execution_count": 133,
     "metadata": {},
     "output_type": "execute_result"
    },
    {
     "data": {
      "image/png": "[encoded data removed]",
      "text/plain": [
       "<Figure size 432x288 with 1 Axes>"
      ]
     },
     "metadata": {
      "needs_background": "light"
     },
     "output_type": "display_data"
    }
   ],
   "source": [
    "plt.scatter(distances, normed_mean_new_100, label=\"100 new\")\n",
    "plt.scatter(distances, normed_mean_new_200, label=\"200 new\")\n",
    "plt.scatter(distances, normed_mean_new_300, label=\"300 new\")\n",
    "plt.loglog()\n",
    "plt.legend()"
   ]
  },
  {
   "cell_type": "code",
   "execution_count": 134,
   "metadata": {},
   "outputs": [
    {
     "data": {
      "text/plain": [
       "<matplotlib.legend.Legend at 0x7f1fdb385f90>"
      ]
     },
     "execution_count": 134,
     "metadata": {},
     "output_type": "execute_result"
    },
    {
     "data": {
      "image/png": "[encoded data removed]",
      "text/plain": [
       "<Figure size 432x288 with 1 Axes>"
      ]
     },
     "metadata": {
      "needs_background": "light"
     },
     "output_type": "display_data"
    }
   ],
   "source": [
    "plt.scatter(distances, normed_mean_100, label=\"100\")\n",
    "plt.scatter(distances, normed_mean_200, label=\"200\")\n",
    "plt.scatter(distances, normed_mean_300, label=\"300\")\n",
    "plt.loglog()\n",
    "plt.legend()"
   ]
  },
  {
   "cell_type": "code",
   "execution_count": null,
   "metadata": {},
   "outputs": [],
   "source": []
  }
 ],
 "metadata": {
  "kernelspec": {
   "display_name": "Python 3 (ipykernel)",
   "language": "python",
   "name": "python3"
  },
  "language_info": {
   "codemirror_mode": {
    "name": "ipython",
    "version": 3
   },
   "file_extension": ".py",
   "mimetype": "text/x-python",
   "name": "python",
   "nbconvert_exporter": "python",
   "pygments_lexer": "ipython3",
   "version": "3.10.4"
  }
 },
 "nbformat": 4,
 "nbformat_minor": 4
}
