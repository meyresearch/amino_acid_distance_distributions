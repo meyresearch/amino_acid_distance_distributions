{
 "cells": [
  {
   "cell_type": "code",
   "execution_count": 1,
   "id": "b16b5a5d-96d4-4ba3-955a-777fd03e5763",
   "metadata": {},
   "outputs": [],
   "source": [
    "import numpy as np\n",
    "import urllib"
   ]
  },
  {
   "cell_type": "code",
   "execution_count": 2,
   "id": "d6b4781c-0458-48c2-b07b-b831e648fd10",
   "metadata": {},
   "outputs": [],
   "source": [
    "data = np.load(\"../data/alphafold/range_100.npy\")\n"
   ]
  },
  {
   "cell_type": "code",
   "execution_count": 3,
   "id": "ec6d0d76-b20e-4b73-b1b0-d94e78bf2ebf",
   "metadata": {},
   "outputs": [
    {
     "name": "stdout",
     "output_type": "stream",
     "text": [
      "[]\n"
     ]
    }
   ],
   "source": [
    "print(data)"
   ]
  },
  {
   "cell_type": "code",
   "execution_count": 10,
   "id": "d29e94f9-be5c-4552-9cc7-9c9f9521f605",
   "metadata": {},
   "outputs": [
    {
     "data": {
      "text/plain": [
       "('X5IWT5.pdb', <http.client.HTTPMessage at 0x12fb5b7f0>)"
      ]
     },
     "execution_count": 10,
     "metadata": {},
     "output_type": "execute_result"
    }
   ],
   "source": [
    "uniprot_id = \"X5IWT5\"\n",
    "download = f\"https://alphafold.ebi.ac.uk/files/AF-{uniprot_id}-F1-model_v2.pdb\" \n",
    "file_name = uniprot_id + \".pdb\"\n",
    "urllib.request.urlretrieve(download, file_name)"
   ]
  },
  {
   "cell_type": "code",
   "execution_count": 8,
   "id": "180783ec-d621-450a-b495-c323e1b4a9a4",
   "metadata": {},
   "outputs": [
    {
     "name": "stderr",
     "output_type": "stream",
     "text": [
      "/Users/jasminguven/miniforge3/envs/jupyterlab/lib/python3.10/site-packages/tqdm/auto.py:22: TqdmWarning: IProgress not found. Please update jupyter and ipywidgets. See https://ipywidgets.readthedocs.io/en/stable/user_install.html\n",
      "  from .autonotebook import tqdm as notebook_tqdm\n"
     ]
    }
   ],
   "source": [
    "import MDAnalysis as mdA"
   ]
  },
  {
   "cell_type": "code",
   "execution_count": 11,
   "id": "b6f53d5e-fc38-48c3-be42-d7ed806ec7e1",
   "metadata": {},
   "outputs": [
    {
     "name": "stderr",
     "output_type": "stream",
     "text": [
      "/Users/jasminguven/miniforge3/envs/jupyterlab/lib/python3.10/site-packages/MDAnalysis/coordinates/PDB.py:429: UserWarning: 1 A^3 CRYST1 record, this is usually a placeholder. Unit cell dimensions will be set to None.\n",
      "  warnings.warn(\"1 A^3 CRYST1 record,\"\n"
     ]
    }
   ],
   "source": [
    "u = mdA.Universe(file_name)"
   ]
  },
  {
   "cell_type": "code",
   "execution_count": 12,
   "id": "f643b56a-4a84-4946-b978-1072e353eed6",
   "metadata": {},
   "outputs": [
    {
     "data": {
      "text/plain": [
       "array(['A'], dtype=object)"
      ]
     },
     "execution_count": 12,
     "metadata": {},
     "output_type": "execute_result"
    }
   ],
   "source": [
    "u.segments.segids"
   ]
  },
  {
   "cell_type": "code",
   "execution_count": 15,
   "id": "5d9c26cd-7eaf-4ad1-9ecd-41e972010489",
   "metadata": {},
   "outputs": [
    {
     "ename": "SelectionError",
     "evalue": "Selection failed: 'Unexpected token 'None''",
     "output_type": "error",
     "traceback": [
      "\u001b[0;31m---------------------------------------------------------------------------\u001b[0m",
      "\u001b[0;31mSelectionError\u001b[0m                            Traceback (most recent call last)",
      "Input \u001b[0;32mIn [15]\u001b[0m, in \u001b[0;36m<cell line: 1>\u001b[0;34m()\u001b[0m\n\u001b[0;32m----> 1\u001b[0m \u001b[43mu\u001b[49m\u001b[38;5;241;43m.\u001b[39;49m\u001b[43mselect_atoms\u001b[49m\u001b[43m(\u001b[49m\u001b[38;5;124;43m\"\u001b[39;49m\u001b[38;5;124;43maltLoc \u001b[39;49m\u001b[38;5;124;43m\"\u001b[39;49m\u001b[43m)\u001b[49m\n",
      "File \u001b[0;32m~/miniforge3/envs/jupyterlab/lib/python3.10/site-packages/MDAnalysis/core/universe.py:658\u001b[0m, in \u001b[0;36mUniverse.select_atoms\u001b[0;34m(self, *args, **kwargs)\u001b[0m\n\u001b[1;32m    651\u001b[0m \u001b[38;5;28;01mdef\u001b[39;00m \u001b[38;5;21mselect_atoms\u001b[39m(\u001b[38;5;28mself\u001b[39m, \u001b[38;5;241m*\u001b[39margs, \u001b[38;5;241m*\u001b[39m\u001b[38;5;241m*\u001b[39mkwargs):\n\u001b[1;32m    652\u001b[0m     \u001b[38;5;124;03m\"\"\"Select atoms.\u001b[39;00m\n\u001b[1;32m    653\u001b[0m \n\u001b[1;32m    654\u001b[0m \u001b[38;5;124;03m    See Also\u001b[39;00m\n\u001b[1;32m    655\u001b[0m \u001b[38;5;124;03m    --------\u001b[39;00m\n\u001b[1;32m    656\u001b[0m \u001b[38;5;124;03m    :meth:`MDAnalysis.core.groups.AtomGroup.select_atoms`\u001b[39;00m\n\u001b[1;32m    657\u001b[0m \u001b[38;5;124;03m    \"\"\"\u001b[39;00m\n\u001b[0;32m--> 658\u001b[0m     \u001b[38;5;28;01mreturn\u001b[39;00m \u001b[38;5;28;43mself\u001b[39;49m\u001b[38;5;241;43m.\u001b[39;49m\u001b[43matoms\u001b[49m\u001b[38;5;241;43m.\u001b[39;49m\u001b[43mselect_atoms\u001b[49m\u001b[43m(\u001b[49m\u001b[38;5;241;43m*\u001b[39;49m\u001b[43margs\u001b[49m\u001b[43m,\u001b[49m\u001b[43m \u001b[49m\u001b[38;5;241;43m*\u001b[39;49m\u001b[38;5;241;43m*\u001b[39;49m\u001b[43mkwargs\u001b[49m\u001b[43m)\u001b[49m\n",
      "File \u001b[0;32m~/miniforge3/envs/jupyterlab/lib/python3.10/site-packages/MDAnalysis/core/groups.py:3184\u001b[0m, in \u001b[0;36mAtomGroup.select_atoms\u001b[0;34m(self, sel, periodic, rtol, atol, updating, sorted, rdkit_kwargs, *othersel, **selgroups)\u001b[0m\n\u001b[1;32m   3179\u001b[0m     \u001b[38;5;28;01mif\u001b[39;00m \u001b[38;5;129;01mnot\u001b[39;00m \u001b[38;5;28misinstance\u001b[39m(thing, AtomGroup):\n\u001b[1;32m   3180\u001b[0m         \u001b[38;5;28;01mraise\u001b[39;00m \u001b[38;5;167;01mTypeError\u001b[39;00m(\u001b[38;5;124m\"\u001b[39m\u001b[38;5;124mPassed groups must be AtomGroups. \u001b[39m\u001b[38;5;124m\"\u001b[39m\n\u001b[1;32m   3181\u001b[0m                         \u001b[38;5;124m\"\u001b[39m\u001b[38;5;124mYou provided \u001b[39m\u001b[38;5;132;01m{}\u001b[39;00m\u001b[38;5;124m for group \u001b[39m\u001b[38;5;124m'\u001b[39m\u001b[38;5;132;01m{}\u001b[39;00m\u001b[38;5;124m'\u001b[39m\u001b[38;5;124m\"\u001b[39m\u001b[38;5;241m.\u001b[39mformat(\n\u001b[1;32m   3182\u001b[0m                             thing\u001b[38;5;241m.\u001b[39m\u001b[38;5;18m__class__\u001b[39m\u001b[38;5;241m.\u001b[39m\u001b[38;5;18m__name__\u001b[39m, group))\n\u001b[0;32m-> 3184\u001b[0m selections \u001b[38;5;241m=\u001b[39m \u001b[38;5;28;43mtuple\u001b[39;49m\u001b[43m(\u001b[49m\u001b[43m(\u001b[49m\u001b[43mselection\u001b[49m\u001b[38;5;241;43m.\u001b[39;49m\u001b[43mParser\u001b[49m\u001b[38;5;241;43m.\u001b[39;49m\u001b[43mparse\u001b[49m\u001b[43m(\u001b[49m\u001b[43ms\u001b[49m\u001b[43m,\u001b[49m\u001b[43m \u001b[49m\u001b[43mselgroups\u001b[49m\u001b[43m,\u001b[49m\n\u001b[1;32m   3185\u001b[0m \u001b[43m                                           \u001b[49m\u001b[43mperiodic\u001b[49m\u001b[38;5;241;43m=\u001b[39;49m\u001b[43mperiodic\u001b[49m\u001b[43m,\u001b[49m\n\u001b[1;32m   3186\u001b[0m \u001b[43m                                           \u001b[49m\u001b[43matol\u001b[49m\u001b[38;5;241;43m=\u001b[39;49m\u001b[43matol\u001b[49m\u001b[43m,\u001b[49m\u001b[43m \u001b[49m\u001b[43mrtol\u001b[49m\u001b[38;5;241;43m=\u001b[39;49m\u001b[43mrtol\u001b[49m\u001b[43m,\u001b[49m\n\u001b[1;32m   3187\u001b[0m \u001b[43m                                           \u001b[49m\u001b[38;5;28;43msorted\u001b[39;49m\u001b[38;5;241;43m=\u001b[39;49m\u001b[38;5;28;43msorted\u001b[39;49m\u001b[43m,\u001b[49m\n\u001b[1;32m   3188\u001b[0m \u001b[43m                                           \u001b[49m\u001b[43mrdkit_kwargs\u001b[49m\u001b[38;5;241;43m=\u001b[39;49m\u001b[43mrdkit_kwargs\u001b[49m\u001b[43m)\u001b[49m\n\u001b[1;32m   3189\u001b[0m \u001b[43m                    \u001b[49m\u001b[38;5;28;43;01mfor\u001b[39;49;00m\u001b[43m \u001b[49m\u001b[43ms\u001b[49m\u001b[43m \u001b[49m\u001b[38;5;129;43;01min\u001b[39;49;00m\u001b[43m \u001b[49m\u001b[43msel_strs\u001b[49m\u001b[43m)\u001b[49m\u001b[43m)\u001b[49m\n\u001b[1;32m   3190\u001b[0m \u001b[38;5;28;01mif\u001b[39;00m updating:\n\u001b[1;32m   3191\u001b[0m     atomgrp \u001b[38;5;241m=\u001b[39m UpdatingAtomGroup(\u001b[38;5;28mself\u001b[39m, selections, sel_strs)\n",
      "File \u001b[0;32m~/miniforge3/envs/jupyterlab/lib/python3.10/site-packages/MDAnalysis/core/groups.py:3184\u001b[0m, in \u001b[0;36m<genexpr>\u001b[0;34m(.0)\u001b[0m\n\u001b[1;32m   3179\u001b[0m     \u001b[38;5;28;01mif\u001b[39;00m \u001b[38;5;129;01mnot\u001b[39;00m \u001b[38;5;28misinstance\u001b[39m(thing, AtomGroup):\n\u001b[1;32m   3180\u001b[0m         \u001b[38;5;28;01mraise\u001b[39;00m \u001b[38;5;167;01mTypeError\u001b[39;00m(\u001b[38;5;124m\"\u001b[39m\u001b[38;5;124mPassed groups must be AtomGroups. \u001b[39m\u001b[38;5;124m\"\u001b[39m\n\u001b[1;32m   3181\u001b[0m                         \u001b[38;5;124m\"\u001b[39m\u001b[38;5;124mYou provided \u001b[39m\u001b[38;5;132;01m{}\u001b[39;00m\u001b[38;5;124m for group \u001b[39m\u001b[38;5;124m'\u001b[39m\u001b[38;5;132;01m{}\u001b[39;00m\u001b[38;5;124m'\u001b[39m\u001b[38;5;124m\"\u001b[39m\u001b[38;5;241m.\u001b[39mformat(\n\u001b[1;32m   3182\u001b[0m                             thing\u001b[38;5;241m.\u001b[39m\u001b[38;5;18m__class__\u001b[39m\u001b[38;5;241m.\u001b[39m\u001b[38;5;18m__name__\u001b[39m, group))\n\u001b[0;32m-> 3184\u001b[0m selections \u001b[38;5;241m=\u001b[39m \u001b[38;5;28mtuple\u001b[39m((\u001b[43mselection\u001b[49m\u001b[38;5;241;43m.\u001b[39;49m\u001b[43mParser\u001b[49m\u001b[38;5;241;43m.\u001b[39;49m\u001b[43mparse\u001b[49m\u001b[43m(\u001b[49m\u001b[43ms\u001b[49m\u001b[43m,\u001b[49m\u001b[43m \u001b[49m\u001b[43mselgroups\u001b[49m\u001b[43m,\u001b[49m\n\u001b[1;32m   3185\u001b[0m \u001b[43m                                           \u001b[49m\u001b[43mperiodic\u001b[49m\u001b[38;5;241;43m=\u001b[39;49m\u001b[43mperiodic\u001b[49m\u001b[43m,\u001b[49m\n\u001b[1;32m   3186\u001b[0m \u001b[43m                                           \u001b[49m\u001b[43matol\u001b[49m\u001b[38;5;241;43m=\u001b[39;49m\u001b[43matol\u001b[49m\u001b[43m,\u001b[49m\u001b[43m \u001b[49m\u001b[43mrtol\u001b[49m\u001b[38;5;241;43m=\u001b[39;49m\u001b[43mrtol\u001b[49m\u001b[43m,\u001b[49m\n\u001b[1;32m   3187\u001b[0m \u001b[43m                                           \u001b[49m\u001b[38;5;28;43msorted\u001b[39;49m\u001b[38;5;241;43m=\u001b[39;49m\u001b[38;5;28;43msorted\u001b[39;49m\u001b[43m,\u001b[49m\n\u001b[1;32m   3188\u001b[0m \u001b[43m                                           \u001b[49m\u001b[43mrdkit_kwargs\u001b[49m\u001b[38;5;241;43m=\u001b[39;49m\u001b[43mrdkit_kwargs\u001b[49m\u001b[43m)\u001b[49m\n\u001b[1;32m   3189\u001b[0m                     \u001b[38;5;28;01mfor\u001b[39;00m s \u001b[38;5;129;01min\u001b[39;00m sel_strs))\n\u001b[1;32m   3190\u001b[0m \u001b[38;5;28;01mif\u001b[39;00m updating:\n\u001b[1;32m   3191\u001b[0m     atomgrp \u001b[38;5;241m=\u001b[39m UpdatingAtomGroup(\u001b[38;5;28mself\u001b[39m, selections, sel_strs)\n",
      "File \u001b[0;32m~/miniforge3/envs/jupyterlab/lib/python3.10/site-packages/MDAnalysis/core/selection.py:1463\u001b[0m, in \u001b[0;36mSelectionParser.parse\u001b[0;34m(self, selectstr, selgroups, periodic, atol, rtol, sorted, rdkit_kwargs)\u001b[0m\n\u001b[1;32m   1461\u001b[0m tokens \u001b[38;5;241m=\u001b[39m selectstr\u001b[38;5;241m.\u001b[39mreplace(\u001b[38;5;124m'\u001b[39m\u001b[38;5;124m(\u001b[39m\u001b[38;5;124m'\u001b[39m, \u001b[38;5;124m'\u001b[39m\u001b[38;5;124m ( \u001b[39m\u001b[38;5;124m'\u001b[39m)\u001b[38;5;241m.\u001b[39mreplace(\u001b[38;5;124m'\u001b[39m\u001b[38;5;124m)\u001b[39m\u001b[38;5;124m'\u001b[39m, \u001b[38;5;124m'\u001b[39m\u001b[38;5;124m ) \u001b[39m\u001b[38;5;124m'\u001b[39m)\n\u001b[1;32m   1462\u001b[0m \u001b[38;5;28mself\u001b[39m\u001b[38;5;241m.\u001b[39mtokens \u001b[38;5;241m=\u001b[39m collections\u001b[38;5;241m.\u001b[39mdeque(tokens\u001b[38;5;241m.\u001b[39msplit() \u001b[38;5;241m+\u001b[39m [\u001b[38;5;28;01mNone\u001b[39;00m])\n\u001b[0;32m-> 1463\u001b[0m parsetree \u001b[38;5;241m=\u001b[39m \u001b[38;5;28;43mself\u001b[39;49m\u001b[38;5;241;43m.\u001b[39;49m\u001b[43mparse_expression\u001b[49m\u001b[43m(\u001b[49m\u001b[38;5;241;43m0\u001b[39;49m\u001b[43m)\u001b[49m\n\u001b[1;32m   1464\u001b[0m \u001b[38;5;28;01mif\u001b[39;00m \u001b[38;5;28mself\u001b[39m\u001b[38;5;241m.\u001b[39mtokens[\u001b[38;5;241m0\u001b[39m] \u001b[38;5;129;01mis\u001b[39;00m \u001b[38;5;129;01mnot\u001b[39;00m \u001b[38;5;28;01mNone\u001b[39;00m:\n\u001b[1;32m   1465\u001b[0m     \u001b[38;5;28;01mraise\u001b[39;00m SelectionError(\n\u001b[1;32m   1466\u001b[0m         \u001b[38;5;124m\"\u001b[39m\u001b[38;5;124mUnexpected token at end of selection string: \u001b[39m\u001b[38;5;124m'\u001b[39m\u001b[38;5;132;01m{0}\u001b[39;00m\u001b[38;5;124m'\u001b[39m\u001b[38;5;124m\"\u001b[39m\n\u001b[1;32m   1467\u001b[0m         \u001b[38;5;124m\"\u001b[39m\u001b[38;5;124m\"\u001b[39m\u001b[38;5;241m.\u001b[39mformat(\u001b[38;5;28mself\u001b[39m\u001b[38;5;241m.\u001b[39mtokens[\u001b[38;5;241m0\u001b[39m]))\n",
      "File \u001b[0;32m~/miniforge3/envs/jupyterlab/lib/python3.10/site-packages/MDAnalysis/core/selection.py:1471\u001b[0m, in \u001b[0;36mSelectionParser.parse_expression\u001b[0;34m(self, p)\u001b[0m\n\u001b[1;32m   1470\u001b[0m \u001b[38;5;28;01mdef\u001b[39;00m \u001b[38;5;21mparse_expression\u001b[39m(\u001b[38;5;28mself\u001b[39m, p):\n\u001b[0;32m-> 1471\u001b[0m     exp1 \u001b[38;5;241m=\u001b[39m \u001b[38;5;28;43mself\u001b[39;49m\u001b[38;5;241;43m.\u001b[39;49m\u001b[43m_parse_subexp\u001b[49m\u001b[43m(\u001b[49m\u001b[43m)\u001b[49m\n\u001b[1;32m   1472\u001b[0m     \u001b[38;5;28;01mwhile\u001b[39;00m (\u001b[38;5;28mself\u001b[39m\u001b[38;5;241m.\u001b[39mtokens[\u001b[38;5;241m0\u001b[39m] \u001b[38;5;129;01min\u001b[39;00m _OPERATIONS \u001b[38;5;129;01mand\u001b[39;00m\n\u001b[1;32m   1473\u001b[0m            _OPERATIONS[\u001b[38;5;28mself\u001b[39m\u001b[38;5;241m.\u001b[39mtokens[\u001b[38;5;241m0\u001b[39m]]\u001b[38;5;241m.\u001b[39mprecedence \u001b[38;5;241m>\u001b[39m\u001b[38;5;241m=\u001b[39m p):\n\u001b[1;32m   1474\u001b[0m         op \u001b[38;5;241m=\u001b[39m _OPERATIONS[\u001b[38;5;28mself\u001b[39m\u001b[38;5;241m.\u001b[39mtokens\u001b[38;5;241m.\u001b[39mpopleft()]\n",
      "File \u001b[0;32m~/miniforge3/envs/jupyterlab/lib/python3.10/site-packages/MDAnalysis/core/selection.py:1495\u001b[0m, in \u001b[0;36mSelectionParser._parse_subexp\u001b[0;34m(self)\u001b[0m\n\u001b[1;32m   1493\u001b[0m \u001b[38;5;28;01mexcept\u001b[39;00m \u001b[38;5;167;01mValueError\u001b[39;00m \u001b[38;5;28;01mas\u001b[39;00m e:\n\u001b[1;32m   1494\u001b[0m     errmsg \u001b[38;5;241m=\u001b[39m \u001b[38;5;124mf\u001b[39m\u001b[38;5;124m\"\u001b[39m\u001b[38;5;124mSelection failed: \u001b[39m\u001b[38;5;124m'\u001b[39m\u001b[38;5;132;01m{\u001b[39;00me\u001b[38;5;132;01m}\u001b[39;00m\u001b[38;5;124m'\u001b[39m\u001b[38;5;124m\"\u001b[39m\n\u001b[0;32m-> 1495\u001b[0m     \u001b[38;5;28;01mraise\u001b[39;00m SelectionError(errmsg) \u001b[38;5;28;01mfrom\u001b[39;00m \u001b[38;5;28mNone\u001b[39m\n",
      "\u001b[0;31mSelectionError\u001b[0m: Selection failed: 'Unexpected token 'None''"
     ]
    }
   ],
   "source": [
    "u.select_atoms(\"altLoc \")"
   ]
  },
  {
   "cell_type": "code",
   "execution_count": 2,
   "id": "6bfdcb4d-02e7-435d-af85-99a331a86d4c",
   "metadata": {},
   "outputs": [],
   "source": [
    "import matplotlib.pyplot as plt"
   ]
  },
  {
   "cell_type": "code",
   "execution_count": 6,
   "id": "05a21c00-ad9f-4acc-ae6b-b61c5052fd0a",
   "metadata": {},
   "outputs": [],
   "source": [
    "hist_data = np.load(\"../data/alphafold/histogram_100.npy\", allow_pickle=True)"
   ]
  },
  {
   "cell_type": "code",
   "execution_count": 27,
   "id": "b5e7c72d-1e88-483c-ba79-24b2b37c17cc",
   "metadata": {},
   "outputs": [
    {
     "data": {
      "text/plain": [
       "array([[0.27474651, 0.07359282, 0.01962475, ..., 0.        , 0.        ,\n",
       "        0.        ],\n",
       "       [0.29824184, 0.06766832, 0.01629052, ..., 0.        , 0.        ,\n",
       "        0.        ],\n",
       "       [0.26240024, 0.04584688, 0.02048478, ..., 0.        , 0.        ,\n",
       "        0.        ],\n",
       "       ...,\n",
       "       [0.26667119, 0.05826429, 0.00784327, ..., 0.        , 0.        ,\n",
       "        0.        ],\n",
       "       [0.28128447, 0.05846305, 0.01213384, ..., 0.        , 0.        ,\n",
       "        0.        ],\n",
       "       [0.29154501, 0.05706838, 0.01240617, ..., 0.        , 0.        ,\n",
       "        0.        ]])"
      ]
     },
     "execution_count": 27,
     "metadata": {},
     "output_type": "execute_result"
    }
   ],
   "source": [
    "hist_data"
   ]
  },
  {
   "cell_type": "code",
   "execution_count": 28,
   "id": "85c49d8e-b03e-4b6c-9e19-23680d5aa967",
   "metadata": {},
   "outputs": [
    {
     "data": {
      "text/plain": [
       "array([0.27474651, 0.07359282, 0.01962475, 0.01079361, 0.01177485,\n",
       "       0.0078499 , 0.00588743, 0.0078499 , 0.00588743, 0.00588743,\n",
       "       0.00588743, 0.00490619, 0.00392495, 0.00392495, 0.00588743,\n",
       "       0.        , 0.00196248, 0.00098124, 0.        , 0.00196248,\n",
       "       0.00294371, 0.00294371, 0.        , 0.        , 0.        ,\n",
       "       0.00098124, 0.00294371, 0.00392495, 0.00392495, 0.00392495,\n",
       "       0.00392495, 0.00196248, 0.00098124, 0.00294371, 0.00588743,\n",
       "       0.00098124, 0.00196248, 0.00098124, 0.00098124, 0.        ,\n",
       "       0.00098124, 0.        , 0.        , 0.        , 0.        ,\n",
       "       0.        , 0.        , 0.00098124, 0.        , 0.        ,\n",
       "       0.        , 0.        , 0.        , 0.        , 0.        ,\n",
       "       0.        , 0.        , 0.        , 0.        , 0.        ,\n",
       "       0.        , 0.        , 0.        , 0.        , 0.        ,\n",
       "       0.        , 0.        , 0.        , 0.        , 0.        ,\n",
       "       0.        , 0.        , 0.        , 0.        , 0.        ,\n",
       "       0.        , 0.        , 0.        , 0.        , 0.        ,\n",
       "       0.        , 0.        , 0.        , 0.        , 0.        ,\n",
       "       0.        , 0.        , 0.        , 0.        , 0.        ,\n",
       "       0.        , 0.        , 0.        , 0.        , 0.        ,\n",
       "       0.        , 0.        , 0.        , 0.        ])"
      ]
     },
     "execution_count": 28,
     "metadata": {},
     "output_type": "execute_result"
    }
   ],
   "source": [
    "hist_data[0]"
   ]
  },
  {
   "cell_type": "code",
   "execution_count": 7,
   "id": "82eda4a5-15c1-4749-be67-b2f98be528f8",
   "metadata": {},
   "outputs": [
    {
     "data": {
      "text/plain": [
       "[]"
      ]
     },
     "execution_count": 7,
     "metadata": {},
     "output_type": "execute_result"
    },
    {
     "data": {
      "image/png": "[encoded data removed]",
      "text/plain": [
       "<Figure size 432x288 with 1 Axes>"
      ]
     },
     "metadata": {
      "needs_background": "light"
     },
     "output_type": "display_data"
    }
   ],
   "source": [
    "mean = np.mean(hist_data, axis=0)\n",
    "std = np.std(hist_data, axis=0)\n",
    "plt.plot(mean, 'r')\n",
    "plt.plot(mean+std, 'b', alpha=0.5)\n",
    "plt.plot(mean-std, 'b', alpha=0.5)\n",
    "plt.loglog()"
   ]
  },
  {
   "cell_type": "code",
   "execution_count": 10,
   "id": "d73e4241-4606-48f8-b792-38f973c2d20b",
   "metadata": {},
   "outputs": [
    {
     "data": {
      "text/plain": [
       "(0.0005, 0.2)"
      ]
     },
     "execution_count": 10,
     "metadata": {},
     "output_type": "execute_result"
    },
    {
     "data": {
      "image/png": "[encoded data removed]",
      "text/plain": [
       "<Figure size 432x432 with 1 Axes>"
      ]
     },
     "metadata": {
      "needs_background": "light"
     },
     "output_type": "display_data"
    }
   ],
   "source": [
    "distance_distribution_array = np.linspace(start=1, stop=200, num=100)\n",
    "lower, median, upper = np.quantile(hist_data, [0.33,0.5,0.66], axis=0)\n",
    "fig = plt.figure(figsize=(6,6))\n",
    "median = np.median(hist_data, axis=0)\n",
    "plt.plot(np.array(distance_distribution_array[:-1]),median, 'r', marker = 'o', lw = 0)\n",
    "plt.fill_between(np.array(distance_distribution_array[:-1]), np.array(upper), np.array(lower),color= 'b', alpha=0.2)\n",
    "#plt.plot(lower, 'b', alpha=0.5)\n",
    "#plt.plot(mean, 'g')\n",
    "#plt.plot(mean+std, 'orange', alpha=0.5)\n",
    "#plt.plot(mean-std, 'orange', alpha=0.5)\n",
    "plt.loglog()\n",
    "plt.xlim(3,100)\n",
    "plt.ylim(0.0005,0.2)"
   ]
  },
  {
   "cell_type": "code",
   "execution_count": 19,
   "id": "24a14ac1-c01e-48f2-841b-812cf81ee12d",
   "metadata": {},
   "outputs": [],
   "source": [
    "hist_data = np.load(\"../data/alphafold/histogram_200.npy\", allow_pickle=True)"
   ]
  },
  {
   "cell_type": "code",
   "execution_count": 20,
   "id": "74cd4304-26ba-4d23-ac66-2341f1f97e6e",
   "metadata": {},
   "outputs": [
    {
     "data": {
      "text/plain": [
       "[]"
      ]
     },
     "execution_count": 20,
     "metadata": {},
     "output_type": "execute_result"
    },
    {
     "data": {
      "image/png": "[encoded data removed]",
      "text/plain": [
       "<Figure size 432x288 with 1 Axes>"
      ]
     },
     "metadata": {
      "needs_background": "light"
     },
     "output_type": "display_data"
    }
   ],
   "source": [
    "mean = np.mean(hist_data, axis=0)\n",
    "std = np.std(hist_data, axis=0)\n",
    "plt.plot(mean, 'r')\n",
    "plt.plot(mean+std, 'b', alpha=0.5)\n",
    "plt.plot(mean-std, 'b', alpha=0.5)\n",
    "plt.loglog()"
   ]
  },
  {
   "cell_type": "code",
   "execution_count": 22,
   "id": "aaf25d91-f75a-4cd6-b2f5-606b9c37f5d6",
   "metadata": {},
   "outputs": [
    {
     "data": {
      "text/plain": [
       "(0.0001, 0.2)"
      ]
     },
     "execution_count": 22,
     "metadata": {},
     "output_type": "execute_result"
    },
    {
     "data": {
      "image/png": "[encoded data removed]",
      "text/plain": [
       "<Figure size 432x432 with 1 Axes>"
      ]
     },
     "metadata": {
      "needs_background": "light"
     },
     "output_type": "display_data"
    }
   ],
   "source": [
    "distance_distribution_array = np.linspace(start=1, stop=200, num=100)\n",
    "lower, median, upper = np.quantile(hist_data, [0.33,0.5,0.66], axis=0)\n",
    "fig = plt.figure(figsize=(6,6))\n",
    "median = np.median(hist_data, axis=0)\n",
    "plt.plot(np.array(distance_distribution_array[:-1]),median, 'r', marker = 'o', lw = 0)\n",
    "plt.fill_between(np.array(distance_distribution_array[:-1]), np.array(upper), np.array(lower),color= 'b', alpha=0.2)\n",
    "#plt.plot(lower, 'b', alpha=0.5)\n",
    "#plt.plot(mean, 'g')\n",
    "#plt.plot(mean+std, 'orange', alpha=0.5)\n",
    "#plt.plot(mean-std, 'orange', alpha=0.5)\n",
    "plt.loglog()\n",
    "plt.xlim(4,200)\n",
    "plt.ylim(0.0001,0.2)"
   ]
  },
  {
   "cell_type": "code",
   "execution_count": 23,
   "id": "717e8f48-b8fe-43ab-8623-f8cce56f1547",
   "metadata": {},
   "outputs": [],
   "source": [
    "hist_data = np.load(\"../data/alphafold/histogram_300.npy\", allow_pickle=True)"
   ]
  },
  {
   "cell_type": "code",
   "execution_count": 24,
   "id": "5201b8f8-0d78-4693-bf33-30e847d03d1c",
   "metadata": {},
   "outputs": [
    {
     "data": {
      "text/plain": [
       "[]"
      ]
     },
     "execution_count": 24,
     "metadata": {},
     "output_type": "execute_result"
    },
    {
     "data": {
      "image/png": "[encoded data removed]",
      "text/plain": [
       "<Figure size 432x288 with 1 Axes>"
      ]
     },
     "metadata": {
      "needs_background": "light"
     },
     "output_type": "display_data"
    }
   ],
   "source": [
    "mean = np.mean(hist_data, axis=0)\n",
    "std = np.std(hist_data, axis=0)\n",
    "plt.plot(mean, 'r')\n",
    "plt.plot(mean+std, 'b', alpha=0.5)\n",
    "plt.plot(mean-std, 'b', alpha=0.5)\n",
    "plt.loglog()"
   ]
  },
  {
   "cell_type": "code",
   "execution_count": 25,
   "id": "22f1d0be-5b38-48e7-99f6-9b210a1a7d8d",
   "metadata": {},
   "outputs": [
    {
     "data": {
      "text/plain": [
       "(0.0001, 0.2)"
      ]
     },
     "execution_count": 25,
     "metadata": {},
     "output_type": "execute_result"
    },
    {
     "data": {
      "image/png": "[encoded data removed]",
      "text/plain": [
       "<Figure size 432x432 with 1 Axes>"
      ]
     },
     "metadata": {
      "needs_background": "light"
     },
     "output_type": "display_data"
    }
   ],
   "source": [
    "distance_distribution_array = np.linspace(start=1, stop=200, num=100)\n",
    "lower, median, upper = np.quantile(hist_data, [0.33,0.5,0.66], axis=0)\n",
    "fig = plt.figure(figsize=(6,6))\n",
    "median = np.median(hist_data, axis=0)\n",
    "plt.plot(np.array(distance_distribution_array[:-1]),median, 'r', marker = 'o', lw = 0)\n",
    "plt.fill_between(np.array(distance_distribution_array[:-1]), np.array(upper), np.array(lower),color= 'b', alpha=0.2)\n",
    "#plt.plot(lower, 'b', alpha=0.5)\n",
    "#plt.plot(mean, 'g')\n",
    "#plt.plot(mean+std, 'orange', alpha=0.5)\n",
    "#plt.plot(mean-std, 'orange', alpha=0.5)\n",
    "plt.loglog()\n",
    "plt.xlim(4,200)\n",
    "plt.ylim(0.0001,0.2)"
   ]
  },
  {
   "cell_type": "markdown",
   "id": "3c51af20-ac65-4155-8310-806bfbdf0b3b",
   "metadata": {},
   "source": [
    "## rcsb"
   ]
  },
  {
   "cell_type": "code",
   "execution_count": 8,
   "id": "e866fcb3-45c2-45d5-8c18-ba7c3a5860db",
   "metadata": {},
   "outputs": [],
   "source": [
    "hist_data = np.load(\"../data/rcsb/histogram_100.npy\", allow_pickle=True)"
   ]
  },
  {
   "cell_type": "code",
   "execution_count": 7,
   "id": "cdcadc73-faa6-43ea-be41-4014cb21d4f4",
   "metadata": {},
   "outputs": [
    {
     "data": {
      "text/plain": [
       "[]"
      ]
     },
     "execution_count": 7,
     "metadata": {},
     "output_type": "execute_result"
    },
    {
     "data": {
      "image/png": "[encoded data removed]",
      "text/plain": [
       "<Figure size 432x288 with 1 Axes>"
      ]
     },
     "metadata": {
      "needs_background": "light"
     },
     "output_type": "display_data"
    }
   ],
   "source": [
    "mean = np.mean(hist_data, axis=0)\n",
    "std = np.std(hist_data, axis=0)\n",
    "plt.plot(mean, 'r')\n",
    "plt.plot(mean+std, 'b', alpha=0.5)\n",
    "plt.plot(mean-std, 'b', alpha=0.5)\n",
    "plt.loglog()"
   ]
  },
  {
   "cell_type": "code",
   "execution_count": 8,
   "id": "2c19666c-82a1-4d4f-b3fa-b9d4b9541b9d",
   "metadata": {},
   "outputs": [
    {
     "data": {
      "text/plain": [
       "(0.0001, 0.2)"
      ]
     },
     "execution_count": 8,
     "metadata": {},
     "output_type": "execute_result"
    },
    {
     "data": {
      "image/png": "[encoded data removed]",
      "text/plain": [
       "<Figure size 432x432 with 1 Axes>"
      ]
     },
     "metadata": {
      "needs_background": "light"
     },
     "output_type": "display_data"
    }
   ],
   "source": [
    "distance_distribution_array = np.linspace(start=1, stop=200, num=100)\n",
    "lower, median, upper = np.quantile(hist_data, [0.33,0.5,0.66], axis=0)\n",
    "fig = plt.figure(figsize=(6,6))\n",
    "median = np.median(hist_data, axis=0)\n",
    "plt.plot(np.array(distance_distribution_array[:-1]),median, 'r', marker = 'o', lw = 0)\n",
    "plt.fill_between(np.array(distance_distribution_array[:-1]), np.array(upper), np.array(lower),color= 'b', alpha=0.2)\n",
    "#plt.plot(lower, 'b', alpha=0.5)\n",
    "#plt.plot(mean, 'g')\n",
    "#plt.plot(mean+std, 'orange', alpha=0.5)\n",
    "#plt.plot(mean-std, 'orange', alpha=0.5)\n",
    "plt.loglog()\n",
    "plt.xlim(4,200)\n",
    "plt.ylim(0.0001,0.2)"
   ]
  },
  {
   "cell_type": "code",
   "execution_count": 9,
   "id": "4bb22142-f920-4dc7-a855-e4aa8ec1df7c",
   "metadata": {},
   "outputs": [],
   "source": [
    "hist_data = np.load(\"../data/rcsb/histogram_200.npy\", allow_pickle=True)"
   ]
  },
  {
   "cell_type": "code",
   "execution_count": 10,
   "id": "af2c1b80-9939-4278-84a3-6a6f01f2058a",
   "metadata": {},
   "outputs": [
    {
     "data": {
      "text/plain": [
       "[]"
      ]
     },
     "execution_count": 10,
     "metadata": {},
     "output_type": "execute_result"
    },
    {
     "data": {
      "image/png": "[encoded data removed]",
      "text/plain": [
       "<Figure size 432x288 with 1 Axes>"
      ]
     },
     "metadata": {
      "needs_background": "light"
     },
     "output_type": "display_data"
    }
   ],
   "source": [
    "mean = np.mean(hist_data, axis=0)\n",
    "std = np.std(hist_data, axis=0)\n",
    "plt.plot(mean, 'r')\n",
    "plt.plot(mean+std, 'b', alpha=0.5)\n",
    "plt.plot(mean-std, 'b', alpha=0.5)\n",
    "plt.loglog()"
   ]
  },
  {
   "cell_type": "code",
   "execution_count": 11,
   "id": "6430f2ca-372a-4c0c-88cb-ae33855da718",
   "metadata": {},
   "outputs": [
    {
     "data": {
      "text/plain": [
       "(0.0001, 0.2)"
      ]
     },
     "execution_count": 11,
     "metadata": {},
     "output_type": "execute_result"
    },
    {
     "data": {
      "image/png": "[encoded data removed]",
      "text/plain": [
       "<Figure size 432x432 with 1 Axes>"
      ]
     },
     "metadata": {
      "needs_background": "light"
     },
     "output_type": "display_data"
    }
   ],
   "source": [
    "distance_distribution_array = np.linspace(start=1, stop=200, num=100)\n",
    "lower, median, upper = np.quantile(hist_data, [0.33,0.5,0.66], axis=0)\n",
    "fig = plt.figure(figsize=(6,6))\n",
    "median = np.median(hist_data, axis=0)\n",
    "plt.plot(np.array(distance_distribution_array[:-1]),median, 'r', marker = 'o', lw = 0)\n",
    "plt.fill_between(np.array(distance_distribution_array[:-1]), np.array(upper), np.array(lower),color= 'b', alpha=0.2)\n",
    "#plt.plot(lower, 'b', alpha=0.5)\n",
    "#plt.plot(mean, 'g')\n",
    "#plt.plot(mean+std, 'orange', alpha=0.5)\n",
    "#plt.plot(mean-std, 'orange', alpha=0.5)\n",
    "plt.loglog()\n",
    "plt.xlim(4,200)\n",
    "plt.ylim(0.0001,0.2)"
   ]
  },
  {
   "cell_type": "code",
   "execution_count": 13,
   "id": "85664677-3594-41b2-aeb1-be2426d1e96f",
   "metadata": {},
   "outputs": [],
   "source": [
    "hist_data = np.load(\"../data/rcsb/histogram_300.npy\", allow_pickle=True)"
   ]
  },
  {
   "cell_type": "code",
   "execution_count": 14,
   "id": "f7fbf6a9-1281-4f6a-84b4-25e5eaef489c",
   "metadata": {},
   "outputs": [
    {
     "data": {
      "text/plain": [
       "[]"
      ]
     },
     "execution_count": 14,
     "metadata": {},
     "output_type": "execute_result"
    },
    {
     "data": {
      "image/png": "[encoded data removed]",
      "text/plain": [
       "<Figure size 432x288 with 1 Axes>"
      ]
     },
     "metadata": {
      "needs_background": "light"
     },
     "output_type": "display_data"
    }
   ],
   "source": [
    "mean = np.mean(hist_data, axis=0)\n",
    "std = np.std(hist_data, axis=0)\n",
    "plt.plot(mean, 'r')\n",
    "plt.plot(mean+std, 'b', alpha=0.5)\n",
    "plt.plot(mean-std, 'b', alpha=0.5)\n",
    "plt.loglog()"
   ]
  },
  {
   "cell_type": "code",
   "execution_count": 15,
   "id": "46933561-ec7c-46b4-9cf5-335d05f663ad",
   "metadata": {},
   "outputs": [
    {
     "data": {
      "text/plain": [
       "(0.0001, 0.2)"
      ]
     },
     "execution_count": 15,
     "metadata": {},
     "output_type": "execute_result"
    },
    {
     "data": {
      "image/png": "[encoded data removed]",
      "text/plain": [
       "<Figure size 432x432 with 1 Axes>"
      ]
     },
     "metadata": {
      "needs_background": "light"
     },
     "output_type": "display_data"
    }
   ],
   "source": [
    "distance_distribution_array = np.linspace(start=1, stop=200, num=100)\n",
    "lower, median, upper = np.quantile(hist_data, [0.33,0.5,0.66], axis=0)\n",
    "fig = plt.figure(figsize=(6,6))\n",
    "median = np.median(hist_data, axis=0)\n",
    "plt.plot(np.array(distance_distribution_array[:-1]),median, 'r', marker = 'o', lw = 0)\n",
    "plt.fill_between(np.array(distance_distribution_array[:-1]), np.array(upper), np.array(lower),color= 'b', alpha=0.2)\n",
    "#plt.plot(lower, 'b', alpha=0.5)\n",
    "#plt.plot(mean, 'g')\n",
    "#plt.plot(mean+std, 'orange', alpha=0.5)\n",
    "#plt.plot(mean-std, 'orange', alpha=0.5)\n",
    "plt.loglog()\n",
    "plt.xlim(4,200)\n",
    "plt.ylim(0.0001,0.2)"
   ]
  },
  {
   "cell_type": "code",
   "execution_count": 1,
   "id": "78e27e1c-1f50-42f2-a81f-e264ee74429b",
   "metadata": {},
   "outputs": [],
   "source": [
    "import pandas as pd"
   ]
  },
  {
   "cell_type": "code",
   "execution_count": 6,
   "id": "00fdafb9-ada8-4413-851b-58783fba2f38",
   "metadata": {},
   "outputs": [],
   "source": [
    "rcsb = pd.read_csv(\"../data/rcsb/structures_100_raw.csv\")"
   ]
  },
  {
   "cell_type": "code",
   "execution_count": 7,
   "id": "669eb31c-ef8b-4ded-8a54-cc885a22960f",
   "metadata": {},
   "outputs": [
    {
     "data": {
      "text/html": [
       "<div>\n",
       "<style scoped>\n",
       "    .dataframe tbody tr th:only-of-type {\n",
       "        vertical-align: middle;\n",
       "    }\n",
       "\n",
       "    .dataframe tbody tr th {\n",
       "        vertical-align: top;\n",
       "    }\n",
       "\n",
       "    .dataframe thead th {\n",
       "        text-align: right;\n",
       "    }\n",
       "</style>\n",
       "<table border=\"1\" class=\"dataframe\">\n",
       "  <thead>\n",
       "    <tr style=\"text-align: right;\">\n",
       "      <th></th>\n",
       "      <th>Unnamed: 0</th>\n",
       "      <th>-</th>\n",
       "      <th>S</th>\n",
       "      <th>E</th>\n",
       "      <th>T</th>\n",
       "      <th>H</th>\n",
       "      <th>G</th>\n",
       "      <th>B</th>\n",
       "      <th>I</th>\n",
       "      <th>0</th>\n",
       "      <th>A</th>\n",
       "      <th>filename</th>\n",
       "    </tr>\n",
       "  </thead>\n",
       "  <tbody>\n",
       "    <tr>\n",
       "      <th>0</th>\n",
       "      <td>0</td>\n",
       "      <td>0.188889</td>\n",
       "      <td>0.100000</td>\n",
       "      <td>0.266667</td>\n",
       "      <td>0.144444</td>\n",
       "      <td>0.300000</td>\n",
       "      <td>NaN</td>\n",
       "      <td>NaN</td>\n",
       "      <td>NaN</td>\n",
       "      <td>NaN</td>\n",
       "      <td>NaN</td>\n",
       "      <td>../data/rcsb/pdb_files/pdb3irw.ent</td>\n",
       "    </tr>\n",
       "    <tr>\n",
       "      <th>1</th>\n",
       "      <td>1</td>\n",
       "      <td>0.228856</td>\n",
       "      <td>0.104478</td>\n",
       "      <td>0.398010</td>\n",
       "      <td>0.089552</td>\n",
       "      <td>0.129353</td>\n",
       "      <td>0.049751</td>\n",
       "      <td>NaN</td>\n",
       "      <td>NaN</td>\n",
       "      <td>NaN</td>\n",
       "      <td>NaN</td>\n",
       "      <td>../data/rcsb/pdb_files/pdb4rt5.ent</td>\n",
       "    </tr>\n",
       "    <tr>\n",
       "      <th>2</th>\n",
       "      <td>2</td>\n",
       "      <td>0.200000</td>\n",
       "      <td>0.047619</td>\n",
       "      <td>0.380952</td>\n",
       "      <td>0.109524</td>\n",
       "      <td>0.223810</td>\n",
       "      <td>0.038095</td>\n",
       "      <td>NaN</td>\n",
       "      <td>NaN</td>\n",
       "      <td>NaN</td>\n",
       "      <td>NaN</td>\n",
       "      <td>../data/rcsb/pdb_files/pdb7ab7.ent</td>\n",
       "    </tr>\n",
       "    <tr>\n",
       "      <th>3</th>\n",
       "      <td>3</td>\n",
       "      <td>0.207048</td>\n",
       "      <td>0.066079</td>\n",
       "      <td>0.515419</td>\n",
       "      <td>0.140969</td>\n",
       "      <td>0.061674</td>\n",
       "      <td>NaN</td>\n",
       "      <td>0.008811</td>\n",
       "      <td>NaN</td>\n",
       "      <td>NaN</td>\n",
       "      <td>NaN</td>\n",
       "      <td>../data/rcsb/pdb_files/pdb3cn2.ent</td>\n",
       "    </tr>\n",
       "    <tr>\n",
       "      <th>4</th>\n",
       "      <td>4</td>\n",
       "      <td>0.084906</td>\n",
       "      <td>0.056604</td>\n",
       "      <td>NaN</td>\n",
       "      <td>0.047170</td>\n",
       "      <td>0.707547</td>\n",
       "      <td>0.056604</td>\n",
       "      <td>NaN</td>\n",
       "      <td>0.047170</td>\n",
       "      <td>NaN</td>\n",
       "      <td>NaN</td>\n",
       "      <td>../data/rcsb/pdb_files/pdb5yo4.ent</td>\n",
       "    </tr>\n",
       "    <tr>\n",
       "      <th>...</th>\n",
       "      <td>...</td>\n",
       "      <td>...</td>\n",
       "      <td>...</td>\n",
       "      <td>...</td>\n",
       "      <td>...</td>\n",
       "      <td>...</td>\n",
       "      <td>...</td>\n",
       "      <td>...</td>\n",
       "      <td>...</td>\n",
       "      <td>...</td>\n",
       "      <td>...</td>\n",
       "      <td>...</td>\n",
       "    </tr>\n",
       "    <tr>\n",
       "      <th>12201</th>\n",
       "      <td>12201</td>\n",
       "      <td>0.164948</td>\n",
       "      <td>0.061856</td>\n",
       "      <td>0.453608</td>\n",
       "      <td>0.103093</td>\n",
       "      <td>0.185567</td>\n",
       "      <td>0.030928</td>\n",
       "      <td>NaN</td>\n",
       "      <td>NaN</td>\n",
       "      <td>NaN</td>\n",
       "      <td>NaN</td>\n",
       "      <td>../data/rcsb/pdb_files/pdb1r94.ent</td>\n",
       "    </tr>\n",
       "    <tr>\n",
       "      <th>12202</th>\n",
       "      <td>12202</td>\n",
       "      <td>0.123711</td>\n",
       "      <td>0.103093</td>\n",
       "      <td>NaN</td>\n",
       "      <td>0.082474</td>\n",
       "      <td>0.639175</td>\n",
       "      <td>NaN</td>\n",
       "      <td>NaN</td>\n",
       "      <td>0.051546</td>\n",
       "      <td>NaN</td>\n",
       "      <td>NaN</td>\n",
       "      <td>../data/rcsb/pdb_files/pdb1c15.ent</td>\n",
       "    </tr>\n",
       "    <tr>\n",
       "      <th>12203</th>\n",
       "      <td>12203</td>\n",
       "      <td>0.370370</td>\n",
       "      <td>0.046296</td>\n",
       "      <td>NaN</td>\n",
       "      <td>0.162037</td>\n",
       "      <td>0.402778</td>\n",
       "      <td>NaN</td>\n",
       "      <td>0.018519</td>\n",
       "      <td>NaN</td>\n",
       "      <td>NaN</td>\n",
       "      <td>NaN</td>\n",
       "      <td>../data/rcsb/pdb_files/pdb4ye1.ent</td>\n",
       "    </tr>\n",
       "    <tr>\n",
       "      <th>12204</th>\n",
       "      <td>12204</td>\n",
       "      <td>0.223235</td>\n",
       "      <td>0.084282</td>\n",
       "      <td>0.510251</td>\n",
       "      <td>0.111617</td>\n",
       "      <td>NaN</td>\n",
       "      <td>0.068337</td>\n",
       "      <td>0.002278</td>\n",
       "      <td>NaN</td>\n",
       "      <td>NaN</td>\n",
       "      <td>NaN</td>\n",
       "      <td>../data/rcsb/pdb_files/pdb5xj4.ent</td>\n",
       "    </tr>\n",
       "    <tr>\n",
       "      <th>12205</th>\n",
       "      <td>12205</td>\n",
       "      <td>0.197674</td>\n",
       "      <td>0.046512</td>\n",
       "      <td>NaN</td>\n",
       "      <td>0.069767</td>\n",
       "      <td>0.651163</td>\n",
       "      <td>0.034884</td>\n",
       "      <td>NaN</td>\n",
       "      <td>NaN</td>\n",
       "      <td>NaN</td>\n",
       "      <td>NaN</td>\n",
       "      <td>../data/rcsb/pdb_files/pdb1hb6.ent</td>\n",
       "    </tr>\n",
       "  </tbody>\n",
       "</table>\n",
       "<p>12206 rows × 12 columns</p>\n",
       "</div>"
      ],
      "text/plain": [
       "       Unnamed: 0         -         S         E         T         H         G  \\\n",
       "0               0  0.188889  0.100000  0.266667  0.144444  0.300000       NaN   \n",
       "1               1  0.228856  0.104478  0.398010  0.089552  0.129353  0.049751   \n",
       "2               2  0.200000  0.047619  0.380952  0.109524  0.223810  0.038095   \n",
       "3               3  0.207048  0.066079  0.515419  0.140969  0.061674       NaN   \n",
       "4               4  0.084906  0.056604       NaN  0.047170  0.707547  0.056604   \n",
       "...           ...       ...       ...       ...       ...       ...       ...   \n",
       "12201       12201  0.164948  0.061856  0.453608  0.103093  0.185567  0.030928   \n",
       "12202       12202  0.123711  0.103093       NaN  0.082474  0.639175       NaN   \n",
       "12203       12203  0.370370  0.046296       NaN  0.162037  0.402778       NaN   \n",
       "12204       12204  0.223235  0.084282  0.510251  0.111617       NaN  0.068337   \n",
       "12205       12205  0.197674  0.046512       NaN  0.069767  0.651163  0.034884   \n",
       "\n",
       "              B         I   0   A                            filename  \n",
       "0           NaN       NaN NaN NaN  ../data/rcsb/pdb_files/pdb3irw.ent  \n",
       "1           NaN       NaN NaN NaN  ../data/rcsb/pdb_files/pdb4rt5.ent  \n",
       "2           NaN       NaN NaN NaN  ../data/rcsb/pdb_files/pdb7ab7.ent  \n",
       "3      0.008811       NaN NaN NaN  ../data/rcsb/pdb_files/pdb3cn2.ent  \n",
       "4           NaN  0.047170 NaN NaN  ../data/rcsb/pdb_files/pdb5yo4.ent  \n",
       "...         ...       ...  ..  ..                                 ...  \n",
       "12201       NaN       NaN NaN NaN  ../data/rcsb/pdb_files/pdb1r94.ent  \n",
       "12202       NaN  0.051546 NaN NaN  ../data/rcsb/pdb_files/pdb1c15.ent  \n",
       "12203  0.018519       NaN NaN NaN  ../data/rcsb/pdb_files/pdb4ye1.ent  \n",
       "12204  0.002278       NaN NaN NaN  ../data/rcsb/pdb_files/pdb5xj4.ent  \n",
       "12205       NaN       NaN NaN NaN  ../data/rcsb/pdb_files/pdb1hb6.ent  \n",
       "\n",
       "[12206 rows x 12 columns]"
      ]
     },
     "execution_count": 7,
     "metadata": {},
     "output_type": "execute_result"
    }
   ],
   "source": [
    "rcsb"
   ]
  },
  {
   "cell_type": "code",
   "execution_count": 8,
   "id": "0b1dd013-f15d-425d-bc83-c8d913cfa535",
   "metadata": {},
   "outputs": [],
   "source": [
    "rcsb_clean = rcsb.fillna(0)"
   ]
  },
  {
   "cell_type": "code",
   "execution_count": 9,
   "id": "90428cf1-a5a2-4b14-abf3-97538bcd3e5f",
   "metadata": {},
   "outputs": [
    {
     "data": {
      "text/html": [
       "<div>\n",
       "<style scoped>\n",
       "    .dataframe tbody tr th:only-of-type {\n",
       "        vertical-align: middle;\n",
       "    }\n",
       "\n",
       "    .dataframe tbody tr th {\n",
       "        vertical-align: top;\n",
       "    }\n",
       "\n",
       "    .dataframe thead th {\n",
       "        text-align: right;\n",
       "    }\n",
       "</style>\n",
       "<table border=\"1\" class=\"dataframe\">\n",
       "  <thead>\n",
       "    <tr style=\"text-align: right;\">\n",
       "      <th></th>\n",
       "      <th>Unnamed: 0</th>\n",
       "      <th>-</th>\n",
       "      <th>S</th>\n",
       "      <th>E</th>\n",
       "      <th>T</th>\n",
       "      <th>H</th>\n",
       "      <th>G</th>\n",
       "      <th>B</th>\n",
       "      <th>I</th>\n",
       "      <th>0</th>\n",
       "      <th>A</th>\n",
       "      <th>filename</th>\n",
       "    </tr>\n",
       "  </thead>\n",
       "  <tbody>\n",
       "    <tr>\n",
       "      <th>0</th>\n",
       "      <td>0</td>\n",
       "      <td>0.188889</td>\n",
       "      <td>0.100000</td>\n",
       "      <td>0.266667</td>\n",
       "      <td>0.144444</td>\n",
       "      <td>0.300000</td>\n",
       "      <td>0.000000</td>\n",
       "      <td>0.000000</td>\n",
       "      <td>0.000000</td>\n",
       "      <td>0.0</td>\n",
       "      <td>0.0</td>\n",
       "      <td>../data/rcsb/pdb_files/pdb3irw.ent</td>\n",
       "    </tr>\n",
       "    <tr>\n",
       "      <th>1</th>\n",
       "      <td>1</td>\n",
       "      <td>0.228856</td>\n",
       "      <td>0.104478</td>\n",
       "      <td>0.398010</td>\n",
       "      <td>0.089552</td>\n",
       "      <td>0.129353</td>\n",
       "      <td>0.049751</td>\n",
       "      <td>0.000000</td>\n",
       "      <td>0.000000</td>\n",
       "      <td>0.0</td>\n",
       "      <td>0.0</td>\n",
       "      <td>../data/rcsb/pdb_files/pdb4rt5.ent</td>\n",
       "    </tr>\n",
       "    <tr>\n",
       "      <th>2</th>\n",
       "      <td>2</td>\n",
       "      <td>0.200000</td>\n",
       "      <td>0.047619</td>\n",
       "      <td>0.380952</td>\n",
       "      <td>0.109524</td>\n",
       "      <td>0.223810</td>\n",
       "      <td>0.038095</td>\n",
       "      <td>0.000000</td>\n",
       "      <td>0.000000</td>\n",
       "      <td>0.0</td>\n",
       "      <td>0.0</td>\n",
       "      <td>../data/rcsb/pdb_files/pdb7ab7.ent</td>\n",
       "    </tr>\n",
       "    <tr>\n",
       "      <th>3</th>\n",
       "      <td>3</td>\n",
       "      <td>0.207048</td>\n",
       "      <td>0.066079</td>\n",
       "      <td>0.515419</td>\n",
       "      <td>0.140969</td>\n",
       "      <td>0.061674</td>\n",
       "      <td>0.000000</td>\n",
       "      <td>0.008811</td>\n",
       "      <td>0.000000</td>\n",
       "      <td>0.0</td>\n",
       "      <td>0.0</td>\n",
       "      <td>../data/rcsb/pdb_files/pdb3cn2.ent</td>\n",
       "    </tr>\n",
       "    <tr>\n",
       "      <th>4</th>\n",
       "      <td>4</td>\n",
       "      <td>0.084906</td>\n",
       "      <td>0.056604</td>\n",
       "      <td>0.000000</td>\n",
       "      <td>0.047170</td>\n",
       "      <td>0.707547</td>\n",
       "      <td>0.056604</td>\n",
       "      <td>0.000000</td>\n",
       "      <td>0.047170</td>\n",
       "      <td>0.0</td>\n",
       "      <td>0.0</td>\n",
       "      <td>../data/rcsb/pdb_files/pdb5yo4.ent</td>\n",
       "    </tr>\n",
       "    <tr>\n",
       "      <th>...</th>\n",
       "      <td>...</td>\n",
       "      <td>...</td>\n",
       "      <td>...</td>\n",
       "      <td>...</td>\n",
       "      <td>...</td>\n",
       "      <td>...</td>\n",
       "      <td>...</td>\n",
       "      <td>...</td>\n",
       "      <td>...</td>\n",
       "      <td>...</td>\n",
       "      <td>...</td>\n",
       "      <td>...</td>\n",
       "    </tr>\n",
       "    <tr>\n",
       "      <th>12201</th>\n",
       "      <td>12201</td>\n",
       "      <td>0.164948</td>\n",
       "      <td>0.061856</td>\n",
       "      <td>0.453608</td>\n",
       "      <td>0.103093</td>\n",
       "      <td>0.185567</td>\n",
       "      <td>0.030928</td>\n",
       "      <td>0.000000</td>\n",
       "      <td>0.000000</td>\n",
       "      <td>0.0</td>\n",
       "      <td>0.0</td>\n",
       "      <td>../data/rcsb/pdb_files/pdb1r94.ent</td>\n",
       "    </tr>\n",
       "    <tr>\n",
       "      <th>12202</th>\n",
       "      <td>12202</td>\n",
       "      <td>0.123711</td>\n",
       "      <td>0.103093</td>\n",
       "      <td>0.000000</td>\n",
       "      <td>0.082474</td>\n",
       "      <td>0.639175</td>\n",
       "      <td>0.000000</td>\n",
       "      <td>0.000000</td>\n",
       "      <td>0.051546</td>\n",
       "      <td>0.0</td>\n",
       "      <td>0.0</td>\n",
       "      <td>../data/rcsb/pdb_files/pdb1c15.ent</td>\n",
       "    </tr>\n",
       "    <tr>\n",
       "      <th>12203</th>\n",
       "      <td>12203</td>\n",
       "      <td>0.370370</td>\n",
       "      <td>0.046296</td>\n",
       "      <td>0.000000</td>\n",
       "      <td>0.162037</td>\n",
       "      <td>0.402778</td>\n",
       "      <td>0.000000</td>\n",
       "      <td>0.018519</td>\n",
       "      <td>0.000000</td>\n",
       "      <td>0.0</td>\n",
       "      <td>0.0</td>\n",
       "      <td>../data/rcsb/pdb_files/pdb4ye1.ent</td>\n",
       "    </tr>\n",
       "    <tr>\n",
       "      <th>12204</th>\n",
       "      <td>12204</td>\n",
       "      <td>0.223235</td>\n",
       "      <td>0.084282</td>\n",
       "      <td>0.510251</td>\n",
       "      <td>0.111617</td>\n",
       "      <td>0.000000</td>\n",
       "      <td>0.068337</td>\n",
       "      <td>0.002278</td>\n",
       "      <td>0.000000</td>\n",
       "      <td>0.0</td>\n",
       "      <td>0.0</td>\n",
       "      <td>../data/rcsb/pdb_files/pdb5xj4.ent</td>\n",
       "    </tr>\n",
       "    <tr>\n",
       "      <th>12205</th>\n",
       "      <td>12205</td>\n",
       "      <td>0.197674</td>\n",
       "      <td>0.046512</td>\n",
       "      <td>0.000000</td>\n",
       "      <td>0.069767</td>\n",
       "      <td>0.651163</td>\n",
       "      <td>0.034884</td>\n",
       "      <td>0.000000</td>\n",
       "      <td>0.000000</td>\n",
       "      <td>0.0</td>\n",
       "      <td>0.0</td>\n",
       "      <td>../data/rcsb/pdb_files/pdb1hb6.ent</td>\n",
       "    </tr>\n",
       "  </tbody>\n",
       "</table>\n",
       "<p>12206 rows × 12 columns</p>\n",
       "</div>"
      ],
      "text/plain": [
       "       Unnamed: 0         -         S         E         T         H         G  \\\n",
       "0               0  0.188889  0.100000  0.266667  0.144444  0.300000  0.000000   \n",
       "1               1  0.228856  0.104478  0.398010  0.089552  0.129353  0.049751   \n",
       "2               2  0.200000  0.047619  0.380952  0.109524  0.223810  0.038095   \n",
       "3               3  0.207048  0.066079  0.515419  0.140969  0.061674  0.000000   \n",
       "4               4  0.084906  0.056604  0.000000  0.047170  0.707547  0.056604   \n",
       "...           ...       ...       ...       ...       ...       ...       ...   \n",
       "12201       12201  0.164948  0.061856  0.453608  0.103093  0.185567  0.030928   \n",
       "12202       12202  0.123711  0.103093  0.000000  0.082474  0.639175  0.000000   \n",
       "12203       12203  0.370370  0.046296  0.000000  0.162037  0.402778  0.000000   \n",
       "12204       12204  0.223235  0.084282  0.510251  0.111617  0.000000  0.068337   \n",
       "12205       12205  0.197674  0.046512  0.000000  0.069767  0.651163  0.034884   \n",
       "\n",
       "              B         I    0    A                            filename  \n",
       "0      0.000000  0.000000  0.0  0.0  ../data/rcsb/pdb_files/pdb3irw.ent  \n",
       "1      0.000000  0.000000  0.0  0.0  ../data/rcsb/pdb_files/pdb4rt5.ent  \n",
       "2      0.000000  0.000000  0.0  0.0  ../data/rcsb/pdb_files/pdb7ab7.ent  \n",
       "3      0.008811  0.000000  0.0  0.0  ../data/rcsb/pdb_files/pdb3cn2.ent  \n",
       "4      0.000000  0.047170  0.0  0.0  ../data/rcsb/pdb_files/pdb5yo4.ent  \n",
       "...         ...       ...  ...  ...                                 ...  \n",
       "12201  0.000000  0.000000  0.0  0.0  ../data/rcsb/pdb_files/pdb1r94.ent  \n",
       "12202  0.000000  0.051546  0.0  0.0  ../data/rcsb/pdb_files/pdb1c15.ent  \n",
       "12203  0.018519  0.000000  0.0  0.0  ../data/rcsb/pdb_files/pdb4ye1.ent  \n",
       "12204  0.002278  0.000000  0.0  0.0  ../data/rcsb/pdb_files/pdb5xj4.ent  \n",
       "12205  0.000000  0.000000  0.0  0.0  ../data/rcsb/pdb_files/pdb1hb6.ent  \n",
       "\n",
       "[12206 rows x 12 columns]"
      ]
     },
     "execution_count": 9,
     "metadata": {},
     "output_type": "execute_result"
    }
   ],
   "source": [
    "rcsb_clean"
   ]
  },
  {
   "cell_type": "code",
   "execution_count": 11,
   "id": "0cfefbdf-cfb2-460f-a796-204a8842c9d2",
   "metadata": {},
   "outputs": [
    {
     "data": {
      "text/html": [
       "<div>\n",
       "<style scoped>\n",
       "    .dataframe tbody tr th:only-of-type {\n",
       "        vertical-align: middle;\n",
       "    }\n",
       "\n",
       "    .dataframe tbody tr th {\n",
       "        vertical-align: top;\n",
       "    }\n",
       "\n",
       "    .dataframe thead th {\n",
       "        text-align: right;\n",
       "    }\n",
       "</style>\n",
       "<table border=\"1\" class=\"dataframe\">\n",
       "  <thead>\n",
       "    <tr style=\"text-align: right;\">\n",
       "      <th></th>\n",
       "      <th>Unnamed: 0</th>\n",
       "      <th>-</th>\n",
       "      <th>S</th>\n",
       "      <th>E</th>\n",
       "      <th>T</th>\n",
       "      <th>H</th>\n",
       "      <th>G</th>\n",
       "      <th>B</th>\n",
       "      <th>I</th>\n",
       "      <th>0</th>\n",
       "      <th>A</th>\n",
       "      <th>filename</th>\n",
       "      <th>beta</th>\n",
       "    </tr>\n",
       "  </thead>\n",
       "  <tbody>\n",
       "    <tr>\n",
       "      <th>0</th>\n",
       "      <td>0</td>\n",
       "      <td>0.188889</td>\n",
       "      <td>0.100000</td>\n",
       "      <td>0.266667</td>\n",
       "      <td>0.144444</td>\n",
       "      <td>0.300000</td>\n",
       "      <td>0.000000</td>\n",
       "      <td>0.000000</td>\n",
       "      <td>0.000000</td>\n",
       "      <td>0.0</td>\n",
       "      <td>0.0</td>\n",
       "      <td>../data/rcsb/pdb_files/pdb3irw.ent</td>\n",
       "      <td>0.266667</td>\n",
       "    </tr>\n",
       "    <tr>\n",
       "      <th>1</th>\n",
       "      <td>1</td>\n",
       "      <td>0.228856</td>\n",
       "      <td>0.104478</td>\n",
       "      <td>0.398010</td>\n",
       "      <td>0.089552</td>\n",
       "      <td>0.129353</td>\n",
       "      <td>0.049751</td>\n",
       "      <td>0.000000</td>\n",
       "      <td>0.000000</td>\n",
       "      <td>0.0</td>\n",
       "      <td>0.0</td>\n",
       "      <td>../data/rcsb/pdb_files/pdb4rt5.ent</td>\n",
       "      <td>0.398010</td>\n",
       "    </tr>\n",
       "    <tr>\n",
       "      <th>2</th>\n",
       "      <td>2</td>\n",
       "      <td>0.200000</td>\n",
       "      <td>0.047619</td>\n",
       "      <td>0.380952</td>\n",
       "      <td>0.109524</td>\n",
       "      <td>0.223810</td>\n",
       "      <td>0.038095</td>\n",
       "      <td>0.000000</td>\n",
       "      <td>0.000000</td>\n",
       "      <td>0.0</td>\n",
       "      <td>0.0</td>\n",
       "      <td>../data/rcsb/pdb_files/pdb7ab7.ent</td>\n",
       "      <td>0.380952</td>\n",
       "    </tr>\n",
       "    <tr>\n",
       "      <th>3</th>\n",
       "      <td>3</td>\n",
       "      <td>0.207048</td>\n",
       "      <td>0.066079</td>\n",
       "      <td>0.515419</td>\n",
       "      <td>0.140969</td>\n",
       "      <td>0.061674</td>\n",
       "      <td>0.000000</td>\n",
       "      <td>0.008811</td>\n",
       "      <td>0.000000</td>\n",
       "      <td>0.0</td>\n",
       "      <td>0.0</td>\n",
       "      <td>../data/rcsb/pdb_files/pdb3cn2.ent</td>\n",
       "      <td>0.524229</td>\n",
       "    </tr>\n",
       "    <tr>\n",
       "      <th>4</th>\n",
       "      <td>4</td>\n",
       "      <td>0.084906</td>\n",
       "      <td>0.056604</td>\n",
       "      <td>0.000000</td>\n",
       "      <td>0.047170</td>\n",
       "      <td>0.707547</td>\n",
       "      <td>0.056604</td>\n",
       "      <td>0.000000</td>\n",
       "      <td>0.047170</td>\n",
       "      <td>0.0</td>\n",
       "      <td>0.0</td>\n",
       "      <td>../data/rcsb/pdb_files/pdb5yo4.ent</td>\n",
       "      <td>0.000000</td>\n",
       "    </tr>\n",
       "    <tr>\n",
       "      <th>...</th>\n",
       "      <td>...</td>\n",
       "      <td>...</td>\n",
       "      <td>...</td>\n",
       "      <td>...</td>\n",
       "      <td>...</td>\n",
       "      <td>...</td>\n",
       "      <td>...</td>\n",
       "      <td>...</td>\n",
       "      <td>...</td>\n",
       "      <td>...</td>\n",
       "      <td>...</td>\n",
       "      <td>...</td>\n",
       "      <td>...</td>\n",
       "    </tr>\n",
       "    <tr>\n",
       "      <th>12201</th>\n",
       "      <td>12201</td>\n",
       "      <td>0.164948</td>\n",
       "      <td>0.061856</td>\n",
       "      <td>0.453608</td>\n",
       "      <td>0.103093</td>\n",
       "      <td>0.185567</td>\n",
       "      <td>0.030928</td>\n",
       "      <td>0.000000</td>\n",
       "      <td>0.000000</td>\n",
       "      <td>0.0</td>\n",
       "      <td>0.0</td>\n",
       "      <td>../data/rcsb/pdb_files/pdb1r94.ent</td>\n",
       "      <td>0.453608</td>\n",
       "    </tr>\n",
       "    <tr>\n",
       "      <th>12202</th>\n",
       "      <td>12202</td>\n",
       "      <td>0.123711</td>\n",
       "      <td>0.103093</td>\n",
       "      <td>0.000000</td>\n",
       "      <td>0.082474</td>\n",
       "      <td>0.639175</td>\n",
       "      <td>0.000000</td>\n",
       "      <td>0.000000</td>\n",
       "      <td>0.051546</td>\n",
       "      <td>0.0</td>\n",
       "      <td>0.0</td>\n",
       "      <td>../data/rcsb/pdb_files/pdb1c15.ent</td>\n",
       "      <td>0.000000</td>\n",
       "    </tr>\n",
       "    <tr>\n",
       "      <th>12203</th>\n",
       "      <td>12203</td>\n",
       "      <td>0.370370</td>\n",
       "      <td>0.046296</td>\n",
       "      <td>0.000000</td>\n",
       "      <td>0.162037</td>\n",
       "      <td>0.402778</td>\n",
       "      <td>0.000000</td>\n",
       "      <td>0.018519</td>\n",
       "      <td>0.000000</td>\n",
       "      <td>0.0</td>\n",
       "      <td>0.0</td>\n",
       "      <td>../data/rcsb/pdb_files/pdb4ye1.ent</td>\n",
       "      <td>0.018519</td>\n",
       "    </tr>\n",
       "    <tr>\n",
       "      <th>12204</th>\n",
       "      <td>12204</td>\n",
       "      <td>0.223235</td>\n",
       "      <td>0.084282</td>\n",
       "      <td>0.510251</td>\n",
       "      <td>0.111617</td>\n",
       "      <td>0.000000</td>\n",
       "      <td>0.068337</td>\n",
       "      <td>0.002278</td>\n",
       "      <td>0.000000</td>\n",
       "      <td>0.0</td>\n",
       "      <td>0.0</td>\n",
       "      <td>../data/rcsb/pdb_files/pdb5xj4.ent</td>\n",
       "      <td>0.512528</td>\n",
       "    </tr>\n",
       "    <tr>\n",
       "      <th>12205</th>\n",
       "      <td>12205</td>\n",
       "      <td>0.197674</td>\n",
       "      <td>0.046512</td>\n",
       "      <td>0.000000</td>\n",
       "      <td>0.069767</td>\n",
       "      <td>0.651163</td>\n",
       "      <td>0.034884</td>\n",
       "      <td>0.000000</td>\n",
       "      <td>0.000000</td>\n",
       "      <td>0.0</td>\n",
       "      <td>0.0</td>\n",
       "      <td>../data/rcsb/pdb_files/pdb1hb6.ent</td>\n",
       "      <td>0.000000</td>\n",
       "    </tr>\n",
       "  </tbody>\n",
       "</table>\n",
       "<p>12206 rows × 13 columns</p>\n",
       "</div>"
      ],
      "text/plain": [
       "       Unnamed: 0         -         S         E         T         H         G  \\\n",
       "0               0  0.188889  0.100000  0.266667  0.144444  0.300000  0.000000   \n",
       "1               1  0.228856  0.104478  0.398010  0.089552  0.129353  0.049751   \n",
       "2               2  0.200000  0.047619  0.380952  0.109524  0.223810  0.038095   \n",
       "3               3  0.207048  0.066079  0.515419  0.140969  0.061674  0.000000   \n",
       "4               4  0.084906  0.056604  0.000000  0.047170  0.707547  0.056604   \n",
       "...           ...       ...       ...       ...       ...       ...       ...   \n",
       "12201       12201  0.164948  0.061856  0.453608  0.103093  0.185567  0.030928   \n",
       "12202       12202  0.123711  0.103093  0.000000  0.082474  0.639175  0.000000   \n",
       "12203       12203  0.370370  0.046296  0.000000  0.162037  0.402778  0.000000   \n",
       "12204       12204  0.223235  0.084282  0.510251  0.111617  0.000000  0.068337   \n",
       "12205       12205  0.197674  0.046512  0.000000  0.069767  0.651163  0.034884   \n",
       "\n",
       "              B         I    0    A                            filename  \\\n",
       "0      0.000000  0.000000  0.0  0.0  ../data/rcsb/pdb_files/pdb3irw.ent   \n",
       "1      0.000000  0.000000  0.0  0.0  ../data/rcsb/pdb_files/pdb4rt5.ent   \n",
       "2      0.000000  0.000000  0.0  0.0  ../data/rcsb/pdb_files/pdb7ab7.ent   \n",
       "3      0.008811  0.000000  0.0  0.0  ../data/rcsb/pdb_files/pdb3cn2.ent   \n",
       "4      0.000000  0.047170  0.0  0.0  ../data/rcsb/pdb_files/pdb5yo4.ent   \n",
       "...         ...       ...  ...  ...                                 ...   \n",
       "12201  0.000000  0.000000  0.0  0.0  ../data/rcsb/pdb_files/pdb1r94.ent   \n",
       "12202  0.000000  0.051546  0.0  0.0  ../data/rcsb/pdb_files/pdb1c15.ent   \n",
       "12203  0.018519  0.000000  0.0  0.0  ../data/rcsb/pdb_files/pdb4ye1.ent   \n",
       "12204  0.002278  0.000000  0.0  0.0  ../data/rcsb/pdb_files/pdb5xj4.ent   \n",
       "12205  0.000000  0.000000  0.0  0.0  ../data/rcsb/pdb_files/pdb1hb6.ent   \n",
       "\n",
       "           beta  \n",
       "0      0.266667  \n",
       "1      0.398010  \n",
       "2      0.380952  \n",
       "3      0.524229  \n",
       "4      0.000000  \n",
       "...         ...  \n",
       "12201  0.453608  \n",
       "12202  0.000000  \n",
       "12203  0.018519  \n",
       "12204  0.512528  \n",
       "12205  0.000000  \n",
       "\n",
       "[12206 rows x 13 columns]"
      ]
     },
     "execution_count": 11,
     "metadata": {},
     "output_type": "execute_result"
    }
   ],
   "source": [
    "rcsb_clean[\"beta\"] = rcsb_clean[\"B\"] + rcsb_clean[\"E\"]\n",
    "rcsb_clean"
   ]
  },
  {
   "cell_type": "code",
   "execution_count": 15,
   "id": "e6892704-2c1b-4f19-aa30-342e72764316",
   "metadata": {},
   "outputs": [],
   "source": [
    "rcsb = rcsb_clean[[\"filename\", \"H\", \"beta\"]]\n",
    "rcsb = rcsb.rename(columns={\"H\":\"alpha\"})"
   ]
  },
  {
   "cell_type": "code",
   "execution_count": 16,
   "id": "fd83ad1e-cdbd-44c8-a47d-d5fc79fbe47c",
   "metadata": {},
   "outputs": [
    {
     "data": {
      "text/html": [
       "<div>\n",
       "<style scoped>\n",
       "    .dataframe tbody tr th:only-of-type {\n",
       "        vertical-align: middle;\n",
       "    }\n",
       "\n",
       "    .dataframe tbody tr th {\n",
       "        vertical-align: top;\n",
       "    }\n",
       "\n",
       "    .dataframe thead th {\n",
       "        text-align: right;\n",
       "    }\n",
       "</style>\n",
       "<table border=\"1\" class=\"dataframe\">\n",
       "  <thead>\n",
       "    <tr style=\"text-align: right;\">\n",
       "      <th></th>\n",
       "      <th>filename</th>\n",
       "      <th>alpha</th>\n",
       "      <th>beta</th>\n",
       "    </tr>\n",
       "  </thead>\n",
       "  <tbody>\n",
       "    <tr>\n",
       "      <th>0</th>\n",
       "      <td>../data/rcsb/pdb_files/pdb3irw.ent</td>\n",
       "      <td>0.300000</td>\n",
       "      <td>0.266667</td>\n",
       "    </tr>\n",
       "    <tr>\n",
       "      <th>1</th>\n",
       "      <td>../data/rcsb/pdb_files/pdb4rt5.ent</td>\n",
       "      <td>0.129353</td>\n",
       "      <td>0.398010</td>\n",
       "    </tr>\n",
       "    <tr>\n",
       "      <th>2</th>\n",
       "      <td>../data/rcsb/pdb_files/pdb7ab7.ent</td>\n",
       "      <td>0.223810</td>\n",
       "      <td>0.380952</td>\n",
       "    </tr>\n",
       "    <tr>\n",
       "      <th>3</th>\n",
       "      <td>../data/rcsb/pdb_files/pdb3cn2.ent</td>\n",
       "      <td>0.061674</td>\n",
       "      <td>0.524229</td>\n",
       "    </tr>\n",
       "    <tr>\n",
       "      <th>4</th>\n",
       "      <td>../data/rcsb/pdb_files/pdb5yo4.ent</td>\n",
       "      <td>0.707547</td>\n",
       "      <td>0.000000</td>\n",
       "    </tr>\n",
       "    <tr>\n",
       "      <th>...</th>\n",
       "      <td>...</td>\n",
       "      <td>...</td>\n",
       "      <td>...</td>\n",
       "    </tr>\n",
       "    <tr>\n",
       "      <th>12201</th>\n",
       "      <td>../data/rcsb/pdb_files/pdb1r94.ent</td>\n",
       "      <td>0.185567</td>\n",
       "      <td>0.453608</td>\n",
       "    </tr>\n",
       "    <tr>\n",
       "      <th>12202</th>\n",
       "      <td>../data/rcsb/pdb_files/pdb1c15.ent</td>\n",
       "      <td>0.639175</td>\n",
       "      <td>0.000000</td>\n",
       "    </tr>\n",
       "    <tr>\n",
       "      <th>12203</th>\n",
       "      <td>../data/rcsb/pdb_files/pdb4ye1.ent</td>\n",
       "      <td>0.402778</td>\n",
       "      <td>0.018519</td>\n",
       "    </tr>\n",
       "    <tr>\n",
       "      <th>12204</th>\n",
       "      <td>../data/rcsb/pdb_files/pdb5xj4.ent</td>\n",
       "      <td>0.000000</td>\n",
       "      <td>0.512528</td>\n",
       "    </tr>\n",
       "    <tr>\n",
       "      <th>12205</th>\n",
       "      <td>../data/rcsb/pdb_files/pdb1hb6.ent</td>\n",
       "      <td>0.651163</td>\n",
       "      <td>0.000000</td>\n",
       "    </tr>\n",
       "  </tbody>\n",
       "</table>\n",
       "<p>12206 rows × 3 columns</p>\n",
       "</div>"
      ],
      "text/plain": [
       "                                 filename     alpha      beta\n",
       "0      ../data/rcsb/pdb_files/pdb3irw.ent  0.300000  0.266667\n",
       "1      ../data/rcsb/pdb_files/pdb4rt5.ent  0.129353  0.398010\n",
       "2      ../data/rcsb/pdb_files/pdb7ab7.ent  0.223810  0.380952\n",
       "3      ../data/rcsb/pdb_files/pdb3cn2.ent  0.061674  0.524229\n",
       "4      ../data/rcsb/pdb_files/pdb5yo4.ent  0.707547  0.000000\n",
       "...                                   ...       ...       ...\n",
       "12201  ../data/rcsb/pdb_files/pdb1r94.ent  0.185567  0.453608\n",
       "12202  ../data/rcsb/pdb_files/pdb1c15.ent  0.639175  0.000000\n",
       "12203  ../data/rcsb/pdb_files/pdb4ye1.ent  0.402778  0.018519\n",
       "12204  ../data/rcsb/pdb_files/pdb5xj4.ent  0.000000  0.512528\n",
       "12205  ../data/rcsb/pdb_files/pdb1hb6.ent  0.651163  0.000000\n",
       "\n",
       "[12206 rows x 3 columns]"
      ]
     },
     "execution_count": 16,
     "metadata": {},
     "output_type": "execute_result"
    }
   ],
   "source": [
    "rcsb"
   ]
  },
  {
   "cell_type": "markdown",
   "id": "af69ee21-8df8-46a6-9228-ac60f371ec6b",
   "metadata": {},
   "source": [
    "## Simulations"
   ]
  },
  {
   "cell_type": "code",
   "execution_count": 4,
   "id": "bdf2462b-b10d-482a-8da1-70b1fbed918b",
   "metadata": {},
   "outputs": [],
   "source": [
    "sim = np.load(\"../data/simulations/3d/histogram_100.npy\", allow_pickle=True)"
   ]
  },
  {
   "cell_type": "code",
   "execution_count": 6,
   "id": "b0c69df0-9baf-443b-8fd3-a5f826034c7d",
   "metadata": {},
   "outputs": [],
   "source": [
    "x = np.linspace(start=1, stop=100, num=100)"
   ]
  },
  {
   "cell_type": "code",
   "execution_count": 12,
   "id": "439a4c13-50a4-4f34-8dae-af30e123a21a",
   "metadata": {},
   "outputs": [
    {
     "data": {
      "text/plain": [
       "(0.0001, 0.2)"
      ]
     },
     "execution_count": 12,
     "metadata": {},
     "output_type": "execute_result"
    },
    {
     "data": {
      "image/png": "[encoded data removed]",
      "text/plain": [
       "<Figure size 432x432 with 1 Axes>"
      ]
     },
     "metadata": {
      "needs_background": "light"
     },
     "output_type": "display_data"
    }
   ],
   "source": [
    "sim_lower, sim_median, sim_upper = np.quantile(sim, [0.33,0.5,0.66], axis=0)\n",
    "fig = plt.figure(figsize=(6,6))\n",
    "sim_median = np.median(sim, axis=0)\n",
    "plt.plot(np.array(x[:-1]),sim_median/np.sum(sim_median), 'r', marker = 'o', lw = 0)\n",
    "plt.fill_between(np.array(x[:-1]), np.array(sim_upper)/np.sum(sim_median), np.array(sim_lower)/np.sum(sim_median),color= 'b', alpha=0.2)\n",
    "#plt.plot(lower, 'b', alpha=0.5)\n",
    "#plt.plot(mean, 'g')\n",
    "#plt.plot(mean+std, 'orange', alpha=0.5)\n",
    "#plt.plot(mean-std, 'orange', alpha=0.5)\n",
    "\n",
    "distance_distribution_array = np.linspace(start=1, stop=200, num=100)\n",
    "lower, median, upper = np.quantile(hist_data, [0.33,0.5,0.66], axis=0)\n",
    "\n",
    "median = np.median(hist_data, axis=0)\n",
    "plt.plot(np.array(distance_distribution_array[:-1]),median/np.sum(median), 'r', marker = 'o', lw = 0)\n",
    "plt.fill_between(np.array(distance_distribution_array[:-1]), np.array(upper)/np.sum(median), np.array(lower)/np.sum(median),color= 'b', alpha=0.2)\n",
    "\n",
    "\n",
    "plt.loglog()\n",
    "plt.xlim(4,200)\n",
    "plt.ylim(0.0001,0.2)"
   ]
  },
  {
   "cell_type": "code",
   "execution_count": null,
   "id": "32fbbb6b-fae5-42dc-98f4-6fb19ee127c3",
   "metadata": {},
   "outputs": [],
   "source": []
  }
 ],
 "metadata": {
  "kernelspec": {
   "display_name": "Python 3 (ipykernel)",
   "language": "python",
   "name": "python3"
  },
  "language_info": {
   "codemirror_mode": {
    "name": "ipython",
    "version": 3
   },
   "file_extension": ".py",
   "mimetype": "text/x-python",
   "name": "python",
   "nbconvert_exporter": "python",
   "pygments_lexer": "ipython3",
   "version": "3.10.2"
  }
 },
 "nbformat": 4,
 "nbformat_minor": 5
}
