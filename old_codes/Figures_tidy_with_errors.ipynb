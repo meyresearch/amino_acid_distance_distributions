{
 "cells": [
  {
   "cell_type": "code",
   "execution_count": 1,
   "metadata": {},
   "outputs": [
    {
     "name": "stdout",
     "output_type": "stream",
     "text": [
      "Populating the interactive namespace from numpy and matplotlib\n"
     ]
    }
   ],
   "source": [
    "%pylab inline\n",
    "import seaborn as sbn\n",
    "import networkx as nx\n",
    "import pickle\n",
    "import scipy as sp\n",
    "import scipy.stats\n",
    "from scipy.optimize import curve_fit\n",
    "import glob\n",
    "import os\n",
    "from Bio.PDB import *\n",
    "from MDAnalysis import *\n",
    "import warnings\n",
    "warnings.filterwarnings('ignore')\n",
    "import pandas as pd"
   ]
  },
  {
   "cell_type": "code",
   "execution_count": 2,
   "metadata": {},
   "outputs": [
    {
     "data": {
      "text/plain": [
       "<Figure size 432x288 with 0 Axes>"
      ]
     },
     "metadata": {},
     "output_type": "display_data"
    }
   ],
   "source": [
    "sbn.set(font_scale=1.5)  # crazy big\n",
    "sbn.set_style(\"ticks\")\n",
    "sbn.despine()"
   ]
  },
  {
   "cell_type": "code",
   "execution_count": 3,
   "metadata": {},
   "outputs": [],
   "source": [
    "lengths = [3, 4, 5, 6, 7, 8, 9, 10, 11, 12, 13, 14, 16, 17, 19, 21, 23, 25, 28, 30, 33, 36, 40, 44, 48, 52, 58, 63, 69,\n",
    "           76, 83, 91, 100, 110, 120, 132, 145, 158, 174, 191, 209, 229, 251, 275, 302]\n",
    "# Some sensible index?\n",
    "heixdip = 2"
   ]
  },
  {
   "cell_type": "code",
   "execution_count": 4,
   "metadata": {},
   "outputs": [],
   "source": [
    "def func(x, a, b):\n",
    "    return a * x ** (-b)\n",
    "\n",
    "\n",
    "def func2(x, a):\n",
    "    return a / x\n",
    "\n",
    "\n",
    "def theofunc(x, C, N, ex):\n",
    "    return (C) * np.power(N / (2 * (-x ** 2 + N * x - N)), ex)\n",
    "\n",
    "\n",
    "def connected_component_subgraphs(G):\n",
    "    for c in nx.connected_components(G):\n",
    "        yield G.subgraph(c)"
   ]
  },
  {
   "cell_type": "code",
   "execution_count": 5,
   "metadata": {},
   "outputs": [],
   "source": [
    "## Simulations of a given length \n",
    "def get_sim_data_for_given_length(length):\n",
    "    sim_data_files = glob.glob('../data/simulation_data/Nora50_matrix_%s_*' %length)\n",
    "    link_length_list = []\n",
    "    sim_data_hist = None\n",
    "    for f in sim_data_files:\n",
    "        M = np.loadtxt(f) \n",
    "        M[M > 1] = 0\n",
    "        G = nx.from_numpy_matrix(M)\n",
    "        sim_Li = list(G.edges())\n",
    "        for link in sim_Li:\n",
    "            link_length_list.append(abs(link[0] - link[1]))\n",
    "        sim_data_hist, sim_data_edges = np.histogram(link_length_list, bins=range(3, 1000), normed=True)\n",
    "        # normalise over number of simulations:\n",
    "    sim_data_hist = sim_data_hist/len(sim_data_files)\n",
    "    return sim_data_hist, sim_data_edges\n"
   ]
  },
  {
   "cell_type": "markdown",
   "metadata": {},
   "source": [
    "## 100"
   ]
  },
  {
   "cell_type": "code",
   "execution_count": 10,
   "metadata": {},
   "outputs": [
    {
     "name": "stdout",
     "output_type": "stream",
     "text": [
      "On branch tidying_codes\r\n",
      "Your branch is up to date with 'origin/tidying_codes'.\r\n",
      "\r\n",
      "Changes to be committed:\r\n",
      "  (use \"git restore --staged <file>...\" to unstage)\r\n",
      "\t\u001b[32mdeleted:    __pycache__/PCN.cpython-39.pyc\u001b[m\r\n",
      "\t\u001b[32mdeleted:    __pycache__/functions.cpython-39.pyc\u001b[m\r\n",
      "\r\n",
      "Changes not staged for commit:\r\n",
      "  (use \"git add/rm <file>...\" to update what will be committed)\r\n",
      "  (use \"git restore <file>...\" to discard changes in working directory)\r\n",
      "\t\u001b[31mmodified:   PCN.py\u001b[m\r\n",
      "\t\u001b[31mdeleted:    Untitled.ipynb\u001b[m\r\n",
      "\t\u001b[31mmodified:   data_for_plotting/ids_100.npy\u001b[m\r\n",
      "\t\u001b[31mmodified:   data_for_plotting/ids_200.npy\u001b[m\r\n",
      "\t\u001b[31mmodified:   data_for_plotting/ids_300.npy\u001b[m\r\n",
      "\t\u001b[31mmodified:   data_for_plotting/means_100.npy\u001b[m\r\n",
      "\t\u001b[31mmodified:   data_for_plotting/means_200.npy\u001b[m\r\n",
      "\t\u001b[31mmodified:   data_for_plotting/means_300.npy\u001b[m\r\n",
      "\t\u001b[31mmodified:   data_for_plotting/medians_100.npy\u001b[m\r\n",
      "\t\u001b[31mmodified:   data_for_plotting/medians_200.npy\u001b[m\r\n",
      "\t\u001b[31mmodified:   data_for_plotting/medians_300.npy\u001b[m\r\n",
      "\t\u001b[31mmodified:   functions.py\u001b[m\r\n",
      "\t\u001b[31mmodified:   log.txt\u001b[m\r\n",
      "\t\u001b[31mmodified:   plot_link_lengths.ipynb\u001b[m\r\n",
      "\r\n",
      "Untracked files:\r\n",
      "  (use \"git add <file>...\" to include in what will be committed)\r\n",
      "\t\u001b[31m../data/data_info.txt\u001b[m\r\n",
      "\t\u001b[31m__pycache__/\u001b[m\r\n",
      "\t\u001b[31mexclude.py\u001b[m\r\n",
      "\r\n"
     ]
    }
   ],
   "source": [
    "!git status"
   ]
  },
  {
   "cell_type": "code",
   "execution_count": 6,
   "metadata": {},
   "outputs": [
    {
     "name": "stdout",
     "output_type": "stream",
     "text": [
      "60186\n"
     ]
    }
   ],
   "source": [
    "import numpy as np\n",
    "pdb_ids_100 = np.load('data_for_plotting/ids_100.npy')\n",
    "pdb_ids_200 = np.load('data_for_plotting/ids_200.npy')\n",
    "pdb_ids_300 = np.load('data_for_plotting/ids_300.npy')\n",
    "\n",
    "\n",
    "pdb_data_100 = np.load('data_for_plotting/means_100.npy')\n",
    "\n",
    "pdb_data_200 = np.load('data_for_plotting/means_200.npy')\n",
    "\n",
    "pdb_data_300 = np.load('data_for_plotting/means_300.npy')\n",
    "#pdb_data_100_err = np.load('sim_data_hist_std_100_curr.npy')\n",
    "\n",
    "excluded = np.load('../data/exclude.npy')\n",
    "print(len(excluded))"
   ]
  },
  {
   "cell_type": "code",
   "execution_count": 9,
   "metadata": {},
   "outputs": [
    {
     "data": {
      "text/plain": [
       "996"
      ]
     },
     "execution_count": 9,
     "metadata": {},
     "output_type": "execute_result"
    }
   ],
   "source": [
    "len(pdb_data_100)+len(pdb_data_200)+len(pdb_data_300)"
   ]
  },
  {
   "cell_type": "code",
   "execution_count": 21,
   "metadata": {},
   "outputs": [],
   "source": [
    "edges=range(3, 1000)\n",
    "bin_centers_pdb = edges[:-1] + np.diff(edges)/2\n",
    "#bin_centers_pdb"
   ]
  },
  {
   "cell_type": "code",
   "execution_count": null,
   "metadata": {},
   "outputs": [],
   "source": []
  },
  {
   "cell_type": "code",
   "execution_count": 22,
   "metadata": {},
   "outputs": [
    {
     "name": "stdout",
     "output_type": "stream",
     "text": [
      "1\n",
      "0.00012781186094069536\n"
     ]
    }
   ],
   "source": [
    "## pdb data\n",
    "bin_width= edges[1]-edges[0]\n",
    "print(bin_width)\n",
    "summing=0\n",
    "for i in range(len(pdb_data_100)):\n",
    "    summing = summing+pdb_data_100[i]*bin_width\n",
    "print(summing)\n",
    "pdb_data_100 = pdb_data_100/summing\n"
   ]
  },
  {
   "cell_type": "code",
   "execution_count": 23,
   "metadata": {},
   "outputs": [],
   "source": [
    "# Read simulation data of length 209\n",
    "sim_data, edges = get_sim_data_for_given_length('100')\n",
    "bin_centers = edges[:-1] + np.diff(edges)/2"
   ]
  },
  {
   "cell_type": "code",
   "execution_count": 24,
   "metadata": {},
   "outputs": [
    {
     "name": "stdout",
     "output_type": "stream",
     "text": [
      "0.033333333333333284\n"
     ]
    }
   ],
   "source": [
    "# Normalising simulation data\n",
    "bin_width= edges[1]-edges[0]\n",
    "\n",
    "summing=0\n",
    "for i in range(len(sim_data)):\n",
    "    summing = summing+sim_data[i]*bin_width\n",
    "print(summing)\n",
    "sim_data = sim_data/summing"
   ]
  },
  {
   "cell_type": "code",
   "execution_count": 25,
   "metadata": {},
   "outputs": [
    {
     "name": "stdout",
     "output_type": "stream",
     "text": [
      "pdb fit [0.12386884 0.8042866 ]\n"
     ]
    },
    {
     "data": {
      "image/png": "[encoded data removed]",
      "text/plain": [
       "<Figure size 576x288 with 1 Axes>"
      ]
     },
     "metadata": {},
     "output_type": "display_data"
    }
   ],
   "source": [
    "## Plotting\n",
    "plt.figure(figsize=(8,4))\n",
    "\n",
    "# plotting the simulation data\n",
    "plt.plot(bin_centers,sim_data, linewidth=0, marker='^', label='sim 100')\n",
    "#fit, ficov = curve_fit(func,bin_centers[heixdip:-1], sim_data[heixdip:-1])\n",
    "#print('sim fit', fit)\n",
    "#plt.plot(bin_centers, func(bin_centers, fit[0], fit[1]), ':',color ='k', lw=2)\n",
    "\n",
    "# plotting pdb data\n",
    "plt.plot(bin_centers_pdb,pdb_data_100, linewidth=0, marker='o', label='pdb 100')\n",
    "#plt.errorbar(bin_centers_pdb, pdb_data_100,yerr=pdb_data_100_err, linewidth=0, marker='o', label='pdb 100')\n",
    "fit, ficov = curve_fit(func,bin_centers_pdb[3:70], pdb_data_100[3:70])\n",
    "print('pdb fit', fit)\n",
    "plt.plot(bin_centers_pdb, func(bin_centers_pdb, fit[0], fit[1]), '--',color ='k', lw=2)\n",
    "\n",
    "# theory\n",
    "simlen = np.linspace(0, 100, num=50)\n",
    "plt.plot(np.array(simlen), theofunc(np.array(simlen), 0.19, 100.0, 0.9), label='theory', lw =2.5, color='purple')\n",
    "\n",
    "\n",
    "plt.yscale('log')\n",
    "plt.xscale('log')\n",
    "#plt.xlim([5, 80])\n",
    "#plt.ylim([0.0001, 0.1])\n",
    "plt.legend()\n",
    "sbn.despine()\n",
    "plt.ylabel(\"P(link lengths)\")\n",
    "plt.xlabel(\"link lengths in [a.u.]\")\n",
    "plt.savefig('both_100.pdf')"
   ]
  },
  {
   "cell_type": "markdown",
   "metadata": {},
   "source": [
    "## 200"
   ]
  },
  {
   "cell_type": "code",
   "execution_count": 13,
   "metadata": {},
   "outputs": [],
   "source": [
    "pdb_ids_200 = np.load('200_Ids.npy')\n",
    "pdb_data_200 = np.load('simdata_hist_200.npy')\n",
    "pdb_data_200_err = np.load('sim_data_hist_std_200_curr.npy')"
   ]
  },
  {
   "cell_type": "code",
   "execution_count": 14,
   "metadata": {},
   "outputs": [
    {
     "data": {
      "text/plain": [
       "array([2.40667591e-07, 2.46424687e-07, 7.57162643e-08, 4.35258124e-08,\n",
       "       3.39407930e-08, 2.92838750e-08, 2.59107243e-08, 2.42304328e-08,\n",
       "       2.38954570e-08, 2.43112694e-08, 2.60650614e-08, 2.91763200e-08,\n",
       "       2.79360642e-08, 2.86827227e-08, 3.19935444e-08, 3.49835428e-08,\n",
       "       3.85992066e-08, 3.72695406e-08, 3.88873992e-08, 3.76324460e-08,\n",
       "       3.28065709e-08, 3.04827785e-08, 2.99065749e-08, 2.67670133e-08,\n",
       "       2.61987853e-08, 2.39946527e-08, 2.27601888e-08, 2.28368039e-08,\n",
       "       2.43002131e-08, 2.35693170e-08, 2.18665538e-08, 2.09748374e-08,\n",
       "       2.10847776e-08, 2.02633441e-08, 1.95961508e-08, 1.90468927e-08,\n",
       "       1.87196289e-08, 1.85516381e-08, 1.79307404e-08, 1.81217557e-08,\n",
       "       1.78381297e-08, 1.63393490e-08, 1.62306858e-08, 1.53256148e-08,\n",
       "       1.49070670e-08, 1.43217487e-08, 1.48214904e-08, 1.46522221e-08,\n",
       "       1.39528465e-08, 1.34582604e-08, 1.40593182e-08, 1.53489906e-08,\n",
       "       1.60667920e-08, 1.57716297e-08, 1.40015806e-08, 1.33649662e-08,\n",
       "       1.35405222e-08, 1.31027753e-08, 1.29789905e-08, 1.37424651e-08,\n",
       "       1.42125758e-08, 1.42959422e-08, 1.41437545e-08, 1.36846091e-08,\n",
       "       1.22467358e-08, 1.10345848e-08, 1.02456439e-08, 1.06608205e-08,\n",
       "       1.02150992e-08, 1.02710552e-08, 1.08241283e-08, 1.06408873e-08,\n",
       "       1.10822028e-08, 1.14691698e-08, 1.23249710e-08, 1.36764397e-08,\n",
       "       1.40373426e-08, 1.49149801e-08, 1.43463117e-08, 1.46079692e-08,\n",
       "       1.47618549e-08, 1.39227626e-08, 1.32354721e-08, 1.43208063e-08,\n",
       "       1.30282204e-08, 1.24698848e-08, 1.23773676e-08, 1.26326342e-08,\n",
       "       1.17308115e-08, 1.12150412e-08, 1.11630409e-08, 1.01875535e-08,\n",
       "       9.40056451e-09, 9.90375924e-09, 9.52152193e-09, 9.20527976e-09,\n",
       "       8.68637932e-09, 9.67667324e-09, 9.97439003e-09, 1.03111316e-08,\n",
       "       9.65598565e-09, 8.98952857e-09, 8.30216499e-09, 8.04740396e-09,\n",
       "       8.89324847e-09, 9.56595363e-09, 1.05199678e-08, 8.91569870e-09,\n",
       "       7.92009828e-09, 7.97498182e-09, 7.73407157e-09, 7.08554892e-09,\n",
       "       6.95774240e-09, 7.03591425e-09, 7.30545843e-09, 7.67010158e-09,\n",
       "       7.60607570e-09, 7.48306911e-09, 8.24199299e-09, 7.98009224e-09,\n",
       "       8.34346786e-09, 8.28824298e-09, 9.63645127e-09, 1.11022225e-08,\n",
       "       1.23615933e-08, 1.34195089e-08, 1.11526686e-08, 1.04133098e-08,\n",
       "       1.09261087e-08, 1.10648449e-08, 1.15937249e-08, 9.81921169e-09,\n",
       "       8.21684203e-09, 7.78958404e-09, 7.32621816e-09, 7.38800428e-09,\n",
       "       9.90728421e-09, 1.15022414e-08, 1.12934348e-08, 8.45813466e-09,\n",
       "       7.19044503e-09, 6.53601812e-09, 6.41226726e-09, 6.37066929e-09,\n",
       "       6.53631923e-09, 6.47090673e-09, 6.63063991e-09, 6.44867930e-09,\n",
       "       6.58633634e-09, 6.29479722e-09, 6.45888569e-09, 6.32869238e-09,\n",
       "       6.00450635e-09, 5.85183692e-09, 5.95403764e-09, 6.02248646e-09,\n",
       "       6.08666187e-09, 5.91423677e-09, 6.76786066e-09, 6.41629357e-09,\n",
       "       5.78051686e-09, 6.25333675e-09, 6.01046540e-09, 5.52777625e-09,\n",
       "       5.14773552e-09, 4.80313815e-09, 4.74789388e-09, 4.77160634e-09,\n",
       "       4.47817941e-09, 4.52469897e-09, 4.91990587e-09, 5.19646368e-09,\n",
       "       4.95231441e-09, 4.64916954e-09, 4.38508346e-09, 4.24739126e-09,\n",
       "       4.27172373e-09, 4.31045043e-09, 3.89124010e-09, 4.07170304e-09,\n",
       "       4.51110056e-09, 4.16587948e-09, 3.43474326e-09, 3.38458705e-09,\n",
       "       3.12851217e-09, 3.21813671e-09, 2.79684095e-09, 2.66606315e-09,\n",
       "       2.65489418e-09, 2.68199915e-09, 2.62034173e-09, 3.16784766e-09,\n",
       "       5.59227474e-09, 6.91483727e-09, 7.26704483e-09, 5.50417501e-09,\n",
       "       3.92897965e-09, 2.82604496e-09, 2.65818780e-09, 2.48667495e-09,\n",
       "       2.29091419e-09, 1.96037493e-09, 1.87542513e-09, 1.37365390e-09,\n",
       "       1.15589202e-09, 9.64738077e-10, 8.31254868e-10, 6.61230146e-10,\n",
       "       3.75903483e-10, 2.64830079e-10, 0.00000000e+00, 0.00000000e+00,\n",
       "       0.00000000e+00, 0.00000000e+00, 0.00000000e+00, 0.00000000e+00,\n",
       "       0.00000000e+00, 0.00000000e+00, 0.00000000e+00, 0.00000000e+00,\n",
       "       0.00000000e+00, 0.00000000e+00, 0.00000000e+00, 0.00000000e+00,\n",
       "       0.00000000e+00, 0.00000000e+00, 0.00000000e+00, 0.00000000e+00,\n",
       "       0.00000000e+00, 0.00000000e+00, 0.00000000e+00, 0.00000000e+00,\n",
       "       0.00000000e+00, 0.00000000e+00, 0.00000000e+00, 0.00000000e+00,\n",
       "       0.00000000e+00, 0.00000000e+00, 0.00000000e+00, 0.00000000e+00,\n",
       "       0.00000000e+00, 0.00000000e+00, 0.00000000e+00, 0.00000000e+00,\n",
       "       0.00000000e+00, 0.00000000e+00, 0.00000000e+00, 0.00000000e+00,\n",
       "       0.00000000e+00, 0.00000000e+00, 0.00000000e+00, 0.00000000e+00,\n",
       "       0.00000000e+00, 0.00000000e+00, 0.00000000e+00, 0.00000000e+00,\n",
       "       0.00000000e+00, 0.00000000e+00, 0.00000000e+00, 0.00000000e+00,\n",
       "       0.00000000e+00, 0.00000000e+00, 0.00000000e+00, 0.00000000e+00,\n",
       "       0.00000000e+00, 0.00000000e+00, 0.00000000e+00, 0.00000000e+00,\n",
       "       0.00000000e+00, 0.00000000e+00, 0.00000000e+00, 0.00000000e+00,\n",
       "       0.00000000e+00, 0.00000000e+00, 0.00000000e+00, 0.00000000e+00,\n",
       "       0.00000000e+00, 0.00000000e+00, 0.00000000e+00, 0.00000000e+00,\n",
       "       0.00000000e+00, 0.00000000e+00, 0.00000000e+00, 0.00000000e+00,\n",
       "       0.00000000e+00, 0.00000000e+00, 0.00000000e+00, 0.00000000e+00,\n",
       "       0.00000000e+00, 0.00000000e+00, 0.00000000e+00, 0.00000000e+00,\n",
       "       0.00000000e+00, 0.00000000e+00, 0.00000000e+00, 0.00000000e+00,\n",
       "       0.00000000e+00, 0.00000000e+00, 0.00000000e+00, 0.00000000e+00,\n",
       "       0.00000000e+00, 0.00000000e+00, 0.00000000e+00, 0.00000000e+00,\n",
       "       0.00000000e+00, 0.00000000e+00, 0.00000000e+00, 0.00000000e+00,\n",
       "       0.00000000e+00, 0.00000000e+00, 0.00000000e+00, 0.00000000e+00,\n",
       "       0.00000000e+00, 0.00000000e+00, 0.00000000e+00, 0.00000000e+00,\n",
       "       0.00000000e+00, 0.00000000e+00, 0.00000000e+00, 0.00000000e+00,\n",
       "       0.00000000e+00, 0.00000000e+00, 0.00000000e+00, 0.00000000e+00,\n",
       "       0.00000000e+00, 0.00000000e+00, 0.00000000e+00, 0.00000000e+00,\n",
       "       0.00000000e+00, 0.00000000e+00, 0.00000000e+00, 0.00000000e+00,\n",
       "       0.00000000e+00, 0.00000000e+00, 0.00000000e+00, 0.00000000e+00,\n",
       "       0.00000000e+00, 0.00000000e+00, 0.00000000e+00, 0.00000000e+00,\n",
       "       0.00000000e+00, 0.00000000e+00, 0.00000000e+00, 0.00000000e+00,\n",
       "       0.00000000e+00, 0.00000000e+00, 0.00000000e+00, 0.00000000e+00,\n",
       "       0.00000000e+00, 0.00000000e+00, 0.00000000e+00, 0.00000000e+00,\n",
       "       0.00000000e+00, 0.00000000e+00, 0.00000000e+00, 0.00000000e+00,\n",
       "       0.00000000e+00, 0.00000000e+00, 0.00000000e+00, 0.00000000e+00,\n",
       "       0.00000000e+00, 0.00000000e+00, 0.00000000e+00, 0.00000000e+00,\n",
       "       0.00000000e+00, 0.00000000e+00, 0.00000000e+00, 0.00000000e+00,\n",
       "       0.00000000e+00, 0.00000000e+00, 0.00000000e+00, 0.00000000e+00,\n",
       "       0.00000000e+00, 0.00000000e+00, 0.00000000e+00, 0.00000000e+00,\n",
       "       0.00000000e+00, 0.00000000e+00, 0.00000000e+00, 0.00000000e+00,\n",
       "       0.00000000e+00, 0.00000000e+00, 0.00000000e+00, 0.00000000e+00,\n",
       "       0.00000000e+00, 0.00000000e+00, 0.00000000e+00, 0.00000000e+00,\n",
       "       0.00000000e+00, 0.00000000e+00, 0.00000000e+00, 0.00000000e+00,\n",
       "       0.00000000e+00, 0.00000000e+00, 0.00000000e+00, 0.00000000e+00,\n",
       "       0.00000000e+00, 0.00000000e+00, 0.00000000e+00, 0.00000000e+00,\n",
       "       0.00000000e+00, 0.00000000e+00, 0.00000000e+00, 0.00000000e+00,\n",
       "       0.00000000e+00, 0.00000000e+00, 0.00000000e+00, 0.00000000e+00,\n",
       "       0.00000000e+00, 0.00000000e+00, 0.00000000e+00, 0.00000000e+00,\n",
       "       0.00000000e+00, 0.00000000e+00, 0.00000000e+00, 0.00000000e+00,\n",
       "       0.00000000e+00, 0.00000000e+00, 0.00000000e+00, 0.00000000e+00,\n",
       "       0.00000000e+00, 0.00000000e+00, 0.00000000e+00, 0.00000000e+00,\n",
       "       0.00000000e+00, 0.00000000e+00, 0.00000000e+00, 0.00000000e+00,\n",
       "       0.00000000e+00, 0.00000000e+00, 0.00000000e+00, 0.00000000e+00,\n",
       "       0.00000000e+00, 0.00000000e+00, 0.00000000e+00, 0.00000000e+00,\n",
       "       0.00000000e+00, 0.00000000e+00, 0.00000000e+00, 0.00000000e+00,\n",
       "       0.00000000e+00, 0.00000000e+00, 0.00000000e+00, 0.00000000e+00,\n",
       "       0.00000000e+00, 0.00000000e+00, 0.00000000e+00, 0.00000000e+00,\n",
       "       0.00000000e+00, 0.00000000e+00, 0.00000000e+00, 0.00000000e+00,\n",
       "       0.00000000e+00, 0.00000000e+00, 0.00000000e+00, 0.00000000e+00,\n",
       "       0.00000000e+00, 0.00000000e+00, 0.00000000e+00, 0.00000000e+00,\n",
       "       0.00000000e+00, 0.00000000e+00, 0.00000000e+00, 0.00000000e+00,\n",
       "       0.00000000e+00, 0.00000000e+00, 0.00000000e+00, 0.00000000e+00,\n",
       "       0.00000000e+00, 0.00000000e+00, 0.00000000e+00, 0.00000000e+00,\n",
       "       0.00000000e+00, 0.00000000e+00, 0.00000000e+00, 0.00000000e+00,\n",
       "       0.00000000e+00, 0.00000000e+00, 0.00000000e+00, 0.00000000e+00,\n",
       "       0.00000000e+00, 0.00000000e+00, 0.00000000e+00, 0.00000000e+00,\n",
       "       0.00000000e+00, 0.00000000e+00, 0.00000000e+00, 0.00000000e+00,\n",
       "       0.00000000e+00, 0.00000000e+00, 0.00000000e+00, 0.00000000e+00,\n",
       "       0.00000000e+00, 0.00000000e+00, 0.00000000e+00, 0.00000000e+00,\n",
       "       0.00000000e+00, 0.00000000e+00, 0.00000000e+00, 0.00000000e+00,\n",
       "       0.00000000e+00, 0.00000000e+00, 0.00000000e+00, 0.00000000e+00,\n",
       "       0.00000000e+00, 0.00000000e+00, 0.00000000e+00, 0.00000000e+00,\n",
       "       0.00000000e+00, 0.00000000e+00, 0.00000000e+00, 0.00000000e+00,\n",
       "       0.00000000e+00, 0.00000000e+00, 0.00000000e+00, 0.00000000e+00,\n",
       "       0.00000000e+00, 0.00000000e+00, 0.00000000e+00, 0.00000000e+00,\n",
       "       0.00000000e+00, 0.00000000e+00, 0.00000000e+00, 0.00000000e+00,\n",
       "       0.00000000e+00, 0.00000000e+00, 0.00000000e+00, 0.00000000e+00,\n",
       "       0.00000000e+00, 0.00000000e+00, 0.00000000e+00, 0.00000000e+00,\n",
       "       0.00000000e+00, 0.00000000e+00, 0.00000000e+00, 0.00000000e+00,\n",
       "       0.00000000e+00, 0.00000000e+00, 0.00000000e+00, 0.00000000e+00,\n",
       "       0.00000000e+00, 0.00000000e+00, 0.00000000e+00, 0.00000000e+00,\n",
       "       0.00000000e+00, 0.00000000e+00, 0.00000000e+00, 0.00000000e+00,\n",
       "       0.00000000e+00, 0.00000000e+00, 0.00000000e+00, 0.00000000e+00,\n",
       "       0.00000000e+00, 0.00000000e+00, 0.00000000e+00, 0.00000000e+00,\n",
       "       0.00000000e+00, 0.00000000e+00, 0.00000000e+00, 0.00000000e+00,\n",
       "       0.00000000e+00, 0.00000000e+00, 0.00000000e+00, 0.00000000e+00,\n",
       "       0.00000000e+00, 0.00000000e+00, 0.00000000e+00, 0.00000000e+00,\n",
       "       0.00000000e+00, 0.00000000e+00, 0.00000000e+00, 0.00000000e+00,\n",
       "       0.00000000e+00, 0.00000000e+00, 0.00000000e+00, 0.00000000e+00,\n",
       "       0.00000000e+00, 0.00000000e+00, 0.00000000e+00, 0.00000000e+00,\n",
       "       0.00000000e+00, 0.00000000e+00, 0.00000000e+00, 0.00000000e+00,\n",
       "       0.00000000e+00, 0.00000000e+00, 0.00000000e+00, 0.00000000e+00,\n",
       "       0.00000000e+00, 0.00000000e+00, 0.00000000e+00, 0.00000000e+00,\n",
       "       0.00000000e+00, 0.00000000e+00, 0.00000000e+00, 0.00000000e+00,\n",
       "       0.00000000e+00, 0.00000000e+00, 0.00000000e+00, 0.00000000e+00,\n",
       "       0.00000000e+00, 0.00000000e+00, 0.00000000e+00, 0.00000000e+00,\n",
       "       0.00000000e+00, 0.00000000e+00, 0.00000000e+00, 0.00000000e+00,\n",
       "       0.00000000e+00, 0.00000000e+00, 0.00000000e+00, 0.00000000e+00,\n",
       "       0.00000000e+00, 0.00000000e+00, 0.00000000e+00, 0.00000000e+00,\n",
       "       0.00000000e+00, 0.00000000e+00, 0.00000000e+00, 0.00000000e+00,\n",
       "       0.00000000e+00, 0.00000000e+00, 0.00000000e+00, 0.00000000e+00,\n",
       "       0.00000000e+00, 0.00000000e+00, 0.00000000e+00, 0.00000000e+00,\n",
       "       0.00000000e+00, 0.00000000e+00, 0.00000000e+00, 0.00000000e+00,\n",
       "       0.00000000e+00, 0.00000000e+00, 0.00000000e+00, 0.00000000e+00,\n",
       "       0.00000000e+00, 0.00000000e+00, 0.00000000e+00, 0.00000000e+00,\n",
       "       0.00000000e+00, 0.00000000e+00, 0.00000000e+00, 0.00000000e+00,\n",
       "       0.00000000e+00, 0.00000000e+00, 0.00000000e+00, 0.00000000e+00,\n",
       "       0.00000000e+00, 0.00000000e+00, 0.00000000e+00, 0.00000000e+00,\n",
       "       0.00000000e+00, 0.00000000e+00, 0.00000000e+00, 0.00000000e+00,\n",
       "       0.00000000e+00, 0.00000000e+00, 0.00000000e+00, 0.00000000e+00,\n",
       "       0.00000000e+00, 0.00000000e+00, 0.00000000e+00, 0.00000000e+00,\n",
       "       0.00000000e+00, 0.00000000e+00, 0.00000000e+00, 0.00000000e+00,\n",
       "       0.00000000e+00, 0.00000000e+00, 0.00000000e+00, 0.00000000e+00,\n",
       "       0.00000000e+00, 0.00000000e+00, 0.00000000e+00, 0.00000000e+00,\n",
       "       0.00000000e+00, 0.00000000e+00, 0.00000000e+00, 0.00000000e+00,\n",
       "       0.00000000e+00, 0.00000000e+00, 0.00000000e+00, 0.00000000e+00,\n",
       "       0.00000000e+00, 0.00000000e+00, 0.00000000e+00, 0.00000000e+00,\n",
       "       0.00000000e+00, 0.00000000e+00, 0.00000000e+00, 0.00000000e+00,\n",
       "       0.00000000e+00, 0.00000000e+00, 0.00000000e+00, 0.00000000e+00,\n",
       "       0.00000000e+00, 0.00000000e+00, 0.00000000e+00, 0.00000000e+00,\n",
       "       0.00000000e+00, 0.00000000e+00, 0.00000000e+00, 0.00000000e+00,\n",
       "       0.00000000e+00, 0.00000000e+00, 0.00000000e+00, 0.00000000e+00,\n",
       "       0.00000000e+00, 0.00000000e+00, 0.00000000e+00, 0.00000000e+00,\n",
       "       0.00000000e+00, 0.00000000e+00, 0.00000000e+00, 0.00000000e+00,\n",
       "       0.00000000e+00, 0.00000000e+00, 0.00000000e+00, 0.00000000e+00,\n",
       "       0.00000000e+00, 0.00000000e+00, 0.00000000e+00, 0.00000000e+00,\n",
       "       0.00000000e+00, 0.00000000e+00, 0.00000000e+00, 0.00000000e+00,\n",
       "       0.00000000e+00, 0.00000000e+00, 0.00000000e+00, 0.00000000e+00,\n",
       "       0.00000000e+00, 0.00000000e+00, 0.00000000e+00, 0.00000000e+00,\n",
       "       0.00000000e+00, 0.00000000e+00, 0.00000000e+00, 0.00000000e+00,\n",
       "       0.00000000e+00, 0.00000000e+00, 0.00000000e+00, 0.00000000e+00,\n",
       "       0.00000000e+00, 0.00000000e+00, 0.00000000e+00, 0.00000000e+00,\n",
       "       0.00000000e+00, 0.00000000e+00, 0.00000000e+00, 0.00000000e+00,\n",
       "       0.00000000e+00, 0.00000000e+00, 0.00000000e+00, 0.00000000e+00,\n",
       "       0.00000000e+00, 0.00000000e+00, 0.00000000e+00, 0.00000000e+00,\n",
       "       0.00000000e+00, 0.00000000e+00, 0.00000000e+00, 0.00000000e+00,\n",
       "       0.00000000e+00, 0.00000000e+00, 0.00000000e+00, 0.00000000e+00,\n",
       "       0.00000000e+00, 0.00000000e+00, 0.00000000e+00, 0.00000000e+00,\n",
       "       0.00000000e+00, 0.00000000e+00, 0.00000000e+00, 0.00000000e+00,\n",
       "       0.00000000e+00, 0.00000000e+00, 0.00000000e+00, 0.00000000e+00,\n",
       "       0.00000000e+00, 0.00000000e+00, 0.00000000e+00, 0.00000000e+00,\n",
       "       0.00000000e+00, 0.00000000e+00, 0.00000000e+00, 0.00000000e+00,\n",
       "       0.00000000e+00, 0.00000000e+00, 0.00000000e+00, 0.00000000e+00,\n",
       "       0.00000000e+00, 0.00000000e+00, 0.00000000e+00, 0.00000000e+00,\n",
       "       0.00000000e+00, 0.00000000e+00, 0.00000000e+00, 0.00000000e+00,\n",
       "       0.00000000e+00, 0.00000000e+00, 0.00000000e+00, 0.00000000e+00,\n",
       "       0.00000000e+00, 0.00000000e+00, 0.00000000e+00, 0.00000000e+00,\n",
       "       0.00000000e+00, 0.00000000e+00, 0.00000000e+00, 0.00000000e+00,\n",
       "       0.00000000e+00, 0.00000000e+00, 0.00000000e+00, 0.00000000e+00,\n",
       "       0.00000000e+00, 0.00000000e+00, 0.00000000e+00, 0.00000000e+00,\n",
       "       0.00000000e+00, 0.00000000e+00, 0.00000000e+00, 0.00000000e+00,\n",
       "       0.00000000e+00, 0.00000000e+00, 0.00000000e+00, 0.00000000e+00,\n",
       "       0.00000000e+00, 0.00000000e+00, 0.00000000e+00, 0.00000000e+00,\n",
       "       0.00000000e+00, 0.00000000e+00, 0.00000000e+00, 0.00000000e+00,\n",
       "       0.00000000e+00, 0.00000000e+00, 0.00000000e+00, 0.00000000e+00,\n",
       "       0.00000000e+00, 0.00000000e+00, 0.00000000e+00, 0.00000000e+00,\n",
       "       0.00000000e+00, 0.00000000e+00, 0.00000000e+00, 0.00000000e+00,\n",
       "       0.00000000e+00, 0.00000000e+00, 0.00000000e+00, 0.00000000e+00,\n",
       "       0.00000000e+00, 0.00000000e+00, 0.00000000e+00, 0.00000000e+00,\n",
       "       0.00000000e+00, 0.00000000e+00, 0.00000000e+00, 0.00000000e+00,\n",
       "       0.00000000e+00, 0.00000000e+00, 0.00000000e+00, 0.00000000e+00,\n",
       "       0.00000000e+00, 0.00000000e+00, 0.00000000e+00, 0.00000000e+00,\n",
       "       0.00000000e+00, 0.00000000e+00, 0.00000000e+00, 0.00000000e+00,\n",
       "       0.00000000e+00, 0.00000000e+00, 0.00000000e+00, 0.00000000e+00,\n",
       "       0.00000000e+00, 0.00000000e+00, 0.00000000e+00, 0.00000000e+00,\n",
       "       0.00000000e+00, 0.00000000e+00, 0.00000000e+00, 0.00000000e+00,\n",
       "       0.00000000e+00, 0.00000000e+00, 0.00000000e+00, 0.00000000e+00,\n",
       "       0.00000000e+00, 0.00000000e+00, 0.00000000e+00, 0.00000000e+00,\n",
       "       0.00000000e+00, 0.00000000e+00, 0.00000000e+00, 0.00000000e+00,\n",
       "       0.00000000e+00, 0.00000000e+00, 0.00000000e+00, 0.00000000e+00,\n",
       "       0.00000000e+00, 0.00000000e+00, 0.00000000e+00, 0.00000000e+00,\n",
       "       0.00000000e+00, 0.00000000e+00, 0.00000000e+00, 0.00000000e+00,\n",
       "       0.00000000e+00, 0.00000000e+00, 0.00000000e+00, 0.00000000e+00,\n",
       "       0.00000000e+00, 0.00000000e+00, 0.00000000e+00, 0.00000000e+00,\n",
       "       0.00000000e+00, 0.00000000e+00, 0.00000000e+00, 0.00000000e+00,\n",
       "       0.00000000e+00, 0.00000000e+00, 0.00000000e+00, 0.00000000e+00,\n",
       "       0.00000000e+00, 0.00000000e+00, 0.00000000e+00, 0.00000000e+00,\n",
       "       0.00000000e+00, 0.00000000e+00, 0.00000000e+00, 0.00000000e+00,\n",
       "       0.00000000e+00, 0.00000000e+00, 0.00000000e+00, 0.00000000e+00,\n",
       "       0.00000000e+00, 0.00000000e+00, 0.00000000e+00, 0.00000000e+00,\n",
       "       0.00000000e+00, 0.00000000e+00, 0.00000000e+00, 0.00000000e+00,\n",
       "       0.00000000e+00, 0.00000000e+00, 0.00000000e+00, 0.00000000e+00,\n",
       "       0.00000000e+00, 0.00000000e+00, 0.00000000e+00, 0.00000000e+00,\n",
       "       0.00000000e+00, 0.00000000e+00, 0.00000000e+00, 0.00000000e+00,\n",
       "       0.00000000e+00, 0.00000000e+00, 0.00000000e+00, 0.00000000e+00,\n",
       "       0.00000000e+00, 0.00000000e+00, 0.00000000e+00, 0.00000000e+00,\n",
       "       0.00000000e+00, 0.00000000e+00, 0.00000000e+00, 0.00000000e+00,\n",
       "       0.00000000e+00, 0.00000000e+00, 0.00000000e+00, 0.00000000e+00,\n",
       "       0.00000000e+00, 0.00000000e+00, 0.00000000e+00, 0.00000000e+00,\n",
       "       0.00000000e+00, 0.00000000e+00, 0.00000000e+00, 0.00000000e+00,\n",
       "       0.00000000e+00, 0.00000000e+00, 0.00000000e+00, 0.00000000e+00,\n",
       "       0.00000000e+00, 0.00000000e+00, 0.00000000e+00, 0.00000000e+00,\n",
       "       0.00000000e+00, 0.00000000e+00, 0.00000000e+00, 0.00000000e+00,\n",
       "       0.00000000e+00, 0.00000000e+00, 0.00000000e+00, 0.00000000e+00])"
      ]
     },
     "execution_count": 14,
     "metadata": {},
     "output_type": "execute_result"
    }
   ],
   "source": [
    "pdb_data_200_err"
   ]
  },
  {
   "cell_type": "code",
   "execution_count": 15,
   "metadata": {},
   "outputs": [
    {
     "data": {
      "text/plain": [
       "array(['2UKD', '2ULL', '2V5T', ..., '1OTM', '1OTO', '1OTN'], dtype='<U4')"
      ]
     },
     "execution_count": 15,
     "metadata": {},
     "output_type": "execute_result"
    }
   ],
   "source": [
    "pdb_ids_200"
   ]
  },
  {
   "cell_type": "code",
   "execution_count": 16,
   "metadata": {},
   "outputs": [],
   "source": [
    "edges=range(3, 1000)\n",
    "bin_centers_pdb = edges[:-1] + np.diff(edges)/2"
   ]
  },
  {
   "cell_type": "code",
   "execution_count": 17,
   "metadata": {},
   "outputs": [
    {
     "name": "stdout",
     "output_type": "stream",
     "text": [
      "0.0002478929102627663\n"
     ]
    }
   ],
   "source": [
    "## pdb data\n",
    "bin_width= edges[1]-edges[0]\n",
    "summing=0\n",
    "for i in range(len(pdb_data_200)):\n",
    "    summing = summing+pdb_data_200[i]*bin_width\n",
    "print(summing)\n",
    "pdb_data_200 = pdb_data_200/summing"
   ]
  },
  {
   "cell_type": "code",
   "execution_count": 18,
   "metadata": {},
   "outputs": [],
   "source": [
    "# Read simulation data of length 209\n",
    "sim_data, edges = get_sim_data_for_given_length('209')\n",
    "bin_centers = edges[:-1] + np.diff(edges)/2"
   ]
  },
  {
   "cell_type": "code",
   "execution_count": 19,
   "metadata": {},
   "outputs": [
    {
     "name": "stdout",
     "output_type": "stream",
     "text": [
      "0.03333333333333333\n"
     ]
    }
   ],
   "source": [
    "# Normalising simulation data\n",
    "bin_width= edges[1]-edges[0]\n",
    "summing=0\n",
    "for i in range(len(sim_data)):\n",
    "    summing = summing+sim_data[i]*bin_width\n",
    "print(summing)\n",
    "sim_data = sim_data/summing"
   ]
  },
  {
   "cell_type": "code",
   "execution_count": 20,
   "metadata": {},
   "outputs": [
    {
     "name": "stdout",
     "output_type": "stream",
     "text": [
      "sim fit [0.18559857 0.95246984]\n",
      "pdb fit [0.08018373 0.73338327]\n"
     ]
    },
    {
     "data": {
      "image/png": "[encoded data removed]",
      "text/plain": [
       "<Figure size 576x288 with 1 Axes>"
      ]
     },
     "metadata": {},
     "output_type": "display_data"
    }
   ],
   "source": [
    "## Plotting\n",
    "plt.figure(figsize=(8,4))\n",
    "\n",
    "# plotting the simulation data\n",
    "plt.plot(bin_centers,sim_data, linewidth=0, marker='^', label='sim 200')\n",
    "fit, ficov = curve_fit(func,bin_centers[heixdip:-1], sim_data[heixdip:-1])\n",
    "print('sim fit', fit)\n",
    "plt.plot(bin_centers, func(bin_centers, fit[0], fit[1]), ':',color ='k', lw=2)\n",
    "\n",
    "# plotting pdb data\n",
    "plt.plot(bin_centers_pdb,pdb_data_200, linewidth=0, marker='o', label='pdb 200')\n",
    "fit, ficov = curve_fit(func,bin_centers_pdb[5:100], pdb_data_200[5:100])\n",
    "print('pdb fit', fit)\n",
    "plt.plot(bin_centers_pdb, func(bin_centers_pdb, fit[0], fit[1]), '--',color ='k', lw=2)\n",
    "\n",
    "# theory\n",
    "simlen = np.linspace(0, 100, num=50)\n",
    "plt.plot(np.array(simlen), theofunc(np.array(simlen), 0.18, 200.0, 0.82), label='theory', lw =2.5, color='purple')\n",
    "\n",
    "\n",
    "plt.yscale('log')\n",
    "plt.xscale('log')\n",
    "plt.xlim([5, 100])\n",
    "plt.ylim([0.0001, 0.1])\n",
    "plt.legend()\n",
    "sbn.despine()\n",
    "plt.ylabel(\"P(link lengths)\")\n",
    "plt.xlabel(\"link lengths in [a.u.]\")\n",
    "plt.savefig('both_200.pdf')"
   ]
  },
  {
   "cell_type": "markdown",
   "metadata": {},
   "source": [
    "## 300"
   ]
  },
  {
   "cell_type": "code",
   "execution_count": 21,
   "metadata": {},
   "outputs": [],
   "source": [
    "pdb_ids_300 = np.load('300_Ids.npy')\n",
    "pdb_data_300 = np.load('simdata_hist_300.npy')\n",
    "pdb_data_300_err = np.load('sim_data_hist_std_300_curr.npy')"
   ]
  },
  {
   "cell_type": "code",
   "execution_count": 22,
   "metadata": {},
   "outputs": [
    {
     "data": {
      "text/plain": [
       "array([3.59318388e-07, 3.67770434e-07, 1.32906738e-07, 7.20533047e-08,\n",
       "       5.57908880e-08, 5.81678648e-08, 5.54369351e-08, 4.88474079e-08,\n",
       "       5.11452495e-08, 4.93075333e-08, 5.22336430e-08, 5.61360388e-08,\n",
       "       5.37737922e-08, 4.87438042e-08, 4.98478212e-08, 4.71425774e-08,\n",
       "       4.95638572e-08, 5.37903771e-08, 6.35249969e-08, 7.34886804e-08,\n",
       "       7.68318689e-08, 8.17935767e-08, 7.62875766e-08, 6.34577523e-08,\n",
       "       5.75001330e-08, 5.29939775e-08, 5.05010353e-08, 5.11694640e-08,\n",
       "       5.21038504e-08, 4.93533721e-08, 4.69452520e-08, 4.41729762e-08,\n",
       "       4.44426100e-08, 4.36199432e-08, 4.29166277e-08, 4.07938868e-08,\n",
       "       3.79777897e-08, 3.42047548e-08, 3.75085390e-08, 4.29041873e-08,\n",
       "       4.71934401e-08, 4.53016340e-08, 3.89075953e-08, 3.60814069e-08,\n",
       "       3.87581639e-08, 3.69121144e-08, 3.51064060e-08, 3.61229625e-08,\n",
       "       3.23796929e-08, 3.01612951e-08, 2.85259105e-08, 2.62410728e-08,\n",
       "       2.59777617e-08, 2.79399537e-08, 2.66983789e-08, 2.75967878e-08,\n",
       "       2.65602988e-08, 2.57172459e-08, 2.65260418e-08, 2.79742617e-08,\n",
       "       2.85934234e-08, 2.74697788e-08, 2.89686073e-08, 2.65549397e-08,\n",
       "       2.40078740e-08, 2.19141709e-08, 2.49791179e-08, 2.47614178e-08,\n",
       "       2.55798021e-08, 2.71850629e-08, 3.04592795e-08, 2.98212914e-08,\n",
       "       2.72313293e-08, 2.31505797e-08, 2.21159686e-08, 2.28006906e-08,\n",
       "       2.06554205e-08, 2.18217492e-08, 2.36007500e-08, 2.41909678e-08,\n",
       "       2.38476144e-08, 2.19468674e-08, 2.11887472e-08, 2.03541433e-08,\n",
       "       2.17514954e-08, 2.21596056e-08, 2.11152828e-08, 1.93874633e-08,\n",
       "       1.92733261e-08, 1.79639252e-08, 1.77628222e-08, 1.72423416e-08,\n",
       "       1.67321252e-08, 1.65243763e-08, 1.69347664e-08, 1.72281417e-08,\n",
       "       1.69544085e-08, 1.59680376e-08, 1.60778320e-08, 1.66810422e-08,\n",
       "       1.69183154e-08, 1.78430387e-08, 2.01873987e-08, 1.89918459e-08,\n",
       "       1.76120609e-08, 1.78235224e-08, 1.60444857e-08, 1.57287810e-08,\n",
       "       1.53633936e-08, 1.53865637e-08, 1.46585339e-08, 1.35487181e-08,\n",
       "       1.42672701e-08, 1.35579504e-08, 1.38798511e-08, 1.38747056e-08,\n",
       "       1.39013901e-08, 1.39994623e-08, 1.35793711e-08, 1.38420634e-08,\n",
       "       1.54909832e-08, 1.70624757e-08, 1.62435982e-08, 1.53111567e-08,\n",
       "       1.46520580e-08, 1.53547959e-08, 1.55319758e-08, 1.59097758e-08,\n",
       "       1.55488032e-08, 1.19806058e-08, 1.17539892e-08, 1.12162695e-08,\n",
       "       1.12532916e-08, 1.07425720e-08, 1.09922476e-08, 1.27564991e-08,\n",
       "       1.11748267e-08, 1.14547479e-08, 1.06315400e-08, 1.05633886e-08,\n",
       "       1.01520964e-08, 1.08671779e-08, 1.10777180e-08, 1.11009537e-08,\n",
       "       1.07990493e-08, 1.07278547e-08, 1.03171677e-08, 9.84718567e-09,\n",
       "       9.65752562e-09, 9.90138194e-09, 9.58126838e-09, 9.92799590e-09,\n",
       "       1.14250861e-08, 9.91872678e-09, 1.00699573e-08, 1.04476665e-08,\n",
       "       1.04543680e-08, 9.84828390e-09, 1.11408450e-08, 9.82939120e-09,\n",
       "       9.52839702e-09, 1.00810149e-08, 9.83127536e-09, 9.89819810e-09,\n",
       "       9.77169397e-09, 9.88577113e-09, 9.54745208e-09, 9.23302384e-09,\n",
       "       9.19027386e-09, 8.03273910e-09, 7.87700559e-09, 8.49004642e-09,\n",
       "       8.29908057e-09, 7.94626614e-09, 7.84491869e-09, 7.61198600e-09,\n",
       "       8.02695402e-09, 7.53849276e-09, 8.02139859e-09, 7.49291713e-09,\n",
       "       8.23556709e-09, 8.28365207e-09, 8.43296942e-09, 8.43100112e-09,\n",
       "       8.55545602e-09, 8.38014406e-09, 8.27994867e-09, 8.17449262e-09,\n",
       "       7.82347422e-09, 7.68430025e-09, 7.61178506e-09, 7.31964455e-09,\n",
       "       7.63789408e-09, 8.09794176e-09, 8.37352039e-09, 8.05383604e-09,\n",
       "       8.24854601e-09, 7.27033770e-09, 6.88039645e-09, 8.03816894e-09,\n",
       "       8.25717879e-09, 7.81176628e-09, 8.01706426e-09, 8.99387304e-09,\n",
       "       9.48474579e-09, 8.30125854e-09, 8.06292364e-09, 7.75794476e-09,\n",
       "       7.80966597e-09, 8.15227741e-09, 8.49438815e-09, 8.66841717e-09,\n",
       "       8.15477982e-09, 7.94657946e-09, 7.50297685e-09, 7.73190663e-09,\n",
       "       7.51978145e-09, 7.31886918e-09, 7.18430848e-09, 7.50570675e-09,\n",
       "       8.29823505e-09, 8.79580969e-09, 8.14984289e-09, 7.89516432e-09,\n",
       "       8.04431262e-09, 9.28146510e-09, 9.39229553e-09, 1.01010405e-08,\n",
       "       9.32515061e-09, 8.96081192e-09, 8.29577748e-09, 8.21817046e-09,\n",
       "       8.14076935e-09, 8.32561716e-09, 8.55311657e-09, 9.44519467e-09,\n",
       "       9.43570237e-09, 9.83917141e-09, 9.76785355e-09, 1.00477553e-08,\n",
       "       9.76895791e-09, 9.07255318e-09, 9.19705825e-09, 9.33349927e-09,\n",
       "       1.00430063e-08, 9.18828693e-09, 9.62998375e-09, 9.48397859e-09,\n",
       "       9.95664369e-09, 9.54798652e-09, 8.93302263e-09, 8.67347868e-09,\n",
       "       9.43354585e-09, 1.00356159e-08, 9.91134812e-09, 9.57767436e-09,\n",
       "       9.07810251e-09, 9.13303227e-09, 9.00318184e-09, 8.22598023e-09,\n",
       "       7.73812577e-09, 6.94525150e-09, 6.84394459e-09, 7.44375640e-09,\n",
       "       9.52981172e-09, 1.10615726e-08, 9.98465811e-09, 8.82290058e-09,\n",
       "       7.18633523e-09, 7.04551034e-09, 6.78107074e-09, 7.30434078e-09,\n",
       "       7.03369348e-09, 6.88579484e-09, 7.64046940e-09, 7.89699834e-09,\n",
       "       7.83744482e-09, 6.86404280e-09, 5.99783415e-09, 5.67364390e-09,\n",
       "       5.01113806e-09, 4.94208053e-09, 4.83995660e-09, 5.39386571e-09,\n",
       "       5.15213876e-09, 5.30514327e-09, 5.39422812e-09, 4.92192353e-09,\n",
       "       5.28606917e-09, 5.31595908e-09, 5.15373504e-09, 5.24876393e-09,\n",
       "       5.02062435e-09, 4.66413623e-09, 4.20170986e-09, 3.70556229e-09,\n",
       "       3.60490123e-09, 2.89334435e-09, 2.86305957e-09, 2.40465747e-09,\n",
       "       2.29512973e-09, 2.30579556e-09, 2.00034960e-09, 1.79263696e-09,\n",
       "       1.43089958e-09, 1.11713808e-09, 7.52358016e-10, 7.73608110e-10,\n",
       "       6.74110369e-10, 6.00717421e-10, 0.00000000e+00, 0.00000000e+00,\n",
       "       0.00000000e+00, 0.00000000e+00, 0.00000000e+00, 0.00000000e+00,\n",
       "       0.00000000e+00, 0.00000000e+00, 0.00000000e+00, 0.00000000e+00,\n",
       "       0.00000000e+00, 0.00000000e+00, 0.00000000e+00, 0.00000000e+00,\n",
       "       0.00000000e+00, 0.00000000e+00, 0.00000000e+00, 0.00000000e+00,\n",
       "       0.00000000e+00, 0.00000000e+00, 0.00000000e+00, 0.00000000e+00,\n",
       "       0.00000000e+00, 0.00000000e+00, 0.00000000e+00, 0.00000000e+00,\n",
       "       0.00000000e+00, 0.00000000e+00, 0.00000000e+00, 0.00000000e+00,\n",
       "       0.00000000e+00, 0.00000000e+00, 0.00000000e+00, 0.00000000e+00,\n",
       "       0.00000000e+00, 0.00000000e+00, 0.00000000e+00, 0.00000000e+00,\n",
       "       0.00000000e+00, 0.00000000e+00, 0.00000000e+00, 0.00000000e+00,\n",
       "       0.00000000e+00, 0.00000000e+00, 0.00000000e+00, 0.00000000e+00,\n",
       "       0.00000000e+00, 0.00000000e+00, 0.00000000e+00, 0.00000000e+00,\n",
       "       0.00000000e+00, 0.00000000e+00, 0.00000000e+00, 0.00000000e+00,\n",
       "       0.00000000e+00, 0.00000000e+00, 0.00000000e+00, 0.00000000e+00,\n",
       "       0.00000000e+00, 0.00000000e+00, 0.00000000e+00, 0.00000000e+00,\n",
       "       0.00000000e+00, 0.00000000e+00, 0.00000000e+00, 0.00000000e+00,\n",
       "       0.00000000e+00, 0.00000000e+00, 0.00000000e+00, 0.00000000e+00,\n",
       "       0.00000000e+00, 0.00000000e+00, 0.00000000e+00, 0.00000000e+00,\n",
       "       0.00000000e+00, 0.00000000e+00, 0.00000000e+00, 0.00000000e+00,\n",
       "       0.00000000e+00, 0.00000000e+00, 0.00000000e+00, 0.00000000e+00,\n",
       "       0.00000000e+00, 0.00000000e+00, 0.00000000e+00, 0.00000000e+00,\n",
       "       0.00000000e+00, 0.00000000e+00, 0.00000000e+00, 0.00000000e+00,\n",
       "       0.00000000e+00, 0.00000000e+00, 0.00000000e+00, 0.00000000e+00,\n",
       "       0.00000000e+00, 0.00000000e+00, 0.00000000e+00, 0.00000000e+00,\n",
       "       0.00000000e+00, 0.00000000e+00, 0.00000000e+00, 0.00000000e+00,\n",
       "       0.00000000e+00, 0.00000000e+00, 0.00000000e+00, 0.00000000e+00,\n",
       "       0.00000000e+00, 0.00000000e+00, 0.00000000e+00, 0.00000000e+00,\n",
       "       0.00000000e+00, 0.00000000e+00, 0.00000000e+00, 0.00000000e+00,\n",
       "       0.00000000e+00, 0.00000000e+00, 0.00000000e+00, 0.00000000e+00,\n",
       "       0.00000000e+00, 0.00000000e+00, 0.00000000e+00, 0.00000000e+00,\n",
       "       0.00000000e+00, 0.00000000e+00, 0.00000000e+00, 0.00000000e+00,\n",
       "       0.00000000e+00, 0.00000000e+00, 0.00000000e+00, 0.00000000e+00,\n",
       "       0.00000000e+00, 0.00000000e+00, 0.00000000e+00, 0.00000000e+00,\n",
       "       0.00000000e+00, 0.00000000e+00, 0.00000000e+00, 0.00000000e+00,\n",
       "       0.00000000e+00, 0.00000000e+00, 0.00000000e+00, 0.00000000e+00,\n",
       "       0.00000000e+00, 0.00000000e+00, 0.00000000e+00, 0.00000000e+00,\n",
       "       0.00000000e+00, 0.00000000e+00, 0.00000000e+00, 0.00000000e+00,\n",
       "       0.00000000e+00, 0.00000000e+00, 0.00000000e+00, 0.00000000e+00,\n",
       "       0.00000000e+00, 0.00000000e+00, 0.00000000e+00, 0.00000000e+00,\n",
       "       0.00000000e+00, 0.00000000e+00, 0.00000000e+00, 0.00000000e+00,\n",
       "       0.00000000e+00, 0.00000000e+00, 0.00000000e+00, 0.00000000e+00,\n",
       "       0.00000000e+00, 0.00000000e+00, 0.00000000e+00, 0.00000000e+00,\n",
       "       0.00000000e+00, 0.00000000e+00, 0.00000000e+00, 0.00000000e+00,\n",
       "       0.00000000e+00, 0.00000000e+00, 0.00000000e+00, 0.00000000e+00,\n",
       "       0.00000000e+00, 0.00000000e+00, 0.00000000e+00, 0.00000000e+00,\n",
       "       0.00000000e+00, 0.00000000e+00, 0.00000000e+00, 0.00000000e+00,\n",
       "       0.00000000e+00, 0.00000000e+00, 0.00000000e+00, 0.00000000e+00,\n",
       "       0.00000000e+00, 0.00000000e+00, 0.00000000e+00, 0.00000000e+00,\n",
       "       0.00000000e+00, 0.00000000e+00, 0.00000000e+00, 0.00000000e+00,\n",
       "       0.00000000e+00, 0.00000000e+00, 0.00000000e+00, 0.00000000e+00,\n",
       "       0.00000000e+00, 0.00000000e+00, 0.00000000e+00, 0.00000000e+00,\n",
       "       0.00000000e+00, 0.00000000e+00, 0.00000000e+00, 0.00000000e+00,\n",
       "       0.00000000e+00, 0.00000000e+00, 0.00000000e+00, 0.00000000e+00,\n",
       "       0.00000000e+00, 0.00000000e+00, 0.00000000e+00, 0.00000000e+00,\n",
       "       0.00000000e+00, 0.00000000e+00, 0.00000000e+00, 0.00000000e+00,\n",
       "       0.00000000e+00, 0.00000000e+00, 0.00000000e+00, 0.00000000e+00,\n",
       "       0.00000000e+00, 0.00000000e+00, 0.00000000e+00, 0.00000000e+00,\n",
       "       0.00000000e+00, 0.00000000e+00, 0.00000000e+00, 0.00000000e+00,\n",
       "       0.00000000e+00, 0.00000000e+00, 0.00000000e+00, 0.00000000e+00,\n",
       "       0.00000000e+00, 0.00000000e+00, 0.00000000e+00, 0.00000000e+00,\n",
       "       0.00000000e+00, 0.00000000e+00, 0.00000000e+00, 0.00000000e+00,\n",
       "       0.00000000e+00, 0.00000000e+00, 0.00000000e+00, 0.00000000e+00,\n",
       "       0.00000000e+00, 0.00000000e+00, 0.00000000e+00, 0.00000000e+00,\n",
       "       0.00000000e+00, 0.00000000e+00, 0.00000000e+00, 0.00000000e+00,\n",
       "       0.00000000e+00, 0.00000000e+00, 0.00000000e+00, 0.00000000e+00,\n",
       "       0.00000000e+00, 0.00000000e+00, 0.00000000e+00, 0.00000000e+00,\n",
       "       0.00000000e+00, 0.00000000e+00, 0.00000000e+00, 0.00000000e+00,\n",
       "       0.00000000e+00, 0.00000000e+00, 0.00000000e+00, 0.00000000e+00,\n",
       "       0.00000000e+00, 0.00000000e+00, 0.00000000e+00, 0.00000000e+00,\n",
       "       0.00000000e+00, 0.00000000e+00, 0.00000000e+00, 0.00000000e+00,\n",
       "       0.00000000e+00, 0.00000000e+00, 0.00000000e+00, 0.00000000e+00,\n",
       "       0.00000000e+00, 0.00000000e+00, 0.00000000e+00, 0.00000000e+00,\n",
       "       0.00000000e+00, 0.00000000e+00, 0.00000000e+00, 0.00000000e+00,\n",
       "       0.00000000e+00, 0.00000000e+00, 0.00000000e+00, 0.00000000e+00,\n",
       "       0.00000000e+00, 0.00000000e+00, 0.00000000e+00, 0.00000000e+00,\n",
       "       0.00000000e+00, 0.00000000e+00, 0.00000000e+00, 0.00000000e+00,\n",
       "       0.00000000e+00, 0.00000000e+00, 0.00000000e+00, 0.00000000e+00,\n",
       "       0.00000000e+00, 0.00000000e+00, 0.00000000e+00, 0.00000000e+00,\n",
       "       0.00000000e+00, 0.00000000e+00, 0.00000000e+00, 0.00000000e+00,\n",
       "       0.00000000e+00, 0.00000000e+00, 0.00000000e+00, 0.00000000e+00,\n",
       "       0.00000000e+00, 0.00000000e+00, 0.00000000e+00, 0.00000000e+00,\n",
       "       0.00000000e+00, 0.00000000e+00, 0.00000000e+00, 0.00000000e+00,\n",
       "       0.00000000e+00, 0.00000000e+00, 0.00000000e+00, 0.00000000e+00,\n",
       "       0.00000000e+00, 0.00000000e+00, 0.00000000e+00, 0.00000000e+00,\n",
       "       0.00000000e+00, 0.00000000e+00, 0.00000000e+00, 0.00000000e+00,\n",
       "       0.00000000e+00, 0.00000000e+00, 0.00000000e+00, 0.00000000e+00,\n",
       "       0.00000000e+00, 0.00000000e+00, 0.00000000e+00, 0.00000000e+00,\n",
       "       0.00000000e+00, 0.00000000e+00, 0.00000000e+00, 0.00000000e+00,\n",
       "       0.00000000e+00, 0.00000000e+00, 0.00000000e+00, 0.00000000e+00,\n",
       "       0.00000000e+00, 0.00000000e+00, 0.00000000e+00, 0.00000000e+00,\n",
       "       0.00000000e+00, 0.00000000e+00, 0.00000000e+00, 0.00000000e+00,\n",
       "       0.00000000e+00, 0.00000000e+00, 0.00000000e+00, 0.00000000e+00,\n",
       "       0.00000000e+00, 0.00000000e+00, 0.00000000e+00, 0.00000000e+00,\n",
       "       0.00000000e+00, 0.00000000e+00, 0.00000000e+00, 0.00000000e+00,\n",
       "       0.00000000e+00, 0.00000000e+00, 0.00000000e+00, 0.00000000e+00,\n",
       "       0.00000000e+00, 0.00000000e+00, 0.00000000e+00, 0.00000000e+00,\n",
       "       0.00000000e+00, 0.00000000e+00, 0.00000000e+00, 0.00000000e+00,\n",
       "       0.00000000e+00, 0.00000000e+00, 0.00000000e+00, 0.00000000e+00,\n",
       "       0.00000000e+00, 0.00000000e+00, 0.00000000e+00, 0.00000000e+00,\n",
       "       0.00000000e+00, 0.00000000e+00, 0.00000000e+00, 0.00000000e+00,\n",
       "       0.00000000e+00, 0.00000000e+00, 0.00000000e+00, 0.00000000e+00,\n",
       "       0.00000000e+00, 0.00000000e+00, 0.00000000e+00, 0.00000000e+00,\n",
       "       0.00000000e+00, 0.00000000e+00, 0.00000000e+00, 0.00000000e+00,\n",
       "       0.00000000e+00, 0.00000000e+00, 0.00000000e+00, 0.00000000e+00,\n",
       "       0.00000000e+00, 0.00000000e+00, 0.00000000e+00, 0.00000000e+00,\n",
       "       0.00000000e+00, 0.00000000e+00, 0.00000000e+00, 0.00000000e+00,\n",
       "       0.00000000e+00, 0.00000000e+00, 0.00000000e+00, 0.00000000e+00,\n",
       "       0.00000000e+00, 0.00000000e+00, 0.00000000e+00, 0.00000000e+00,\n",
       "       0.00000000e+00, 0.00000000e+00, 0.00000000e+00, 0.00000000e+00,\n",
       "       0.00000000e+00, 0.00000000e+00, 0.00000000e+00, 0.00000000e+00,\n",
       "       0.00000000e+00, 0.00000000e+00, 0.00000000e+00, 0.00000000e+00,\n",
       "       0.00000000e+00, 0.00000000e+00, 0.00000000e+00, 0.00000000e+00,\n",
       "       0.00000000e+00, 0.00000000e+00, 0.00000000e+00, 0.00000000e+00,\n",
       "       0.00000000e+00, 0.00000000e+00, 0.00000000e+00, 0.00000000e+00,\n",
       "       0.00000000e+00, 0.00000000e+00, 0.00000000e+00, 0.00000000e+00,\n",
       "       0.00000000e+00, 0.00000000e+00, 0.00000000e+00, 0.00000000e+00,\n",
       "       0.00000000e+00, 0.00000000e+00, 0.00000000e+00, 0.00000000e+00,\n",
       "       0.00000000e+00, 0.00000000e+00, 0.00000000e+00, 0.00000000e+00,\n",
       "       0.00000000e+00, 0.00000000e+00, 0.00000000e+00, 0.00000000e+00,\n",
       "       0.00000000e+00, 0.00000000e+00, 0.00000000e+00, 0.00000000e+00,\n",
       "       0.00000000e+00, 0.00000000e+00, 0.00000000e+00, 0.00000000e+00,\n",
       "       0.00000000e+00, 0.00000000e+00, 0.00000000e+00, 0.00000000e+00,\n",
       "       0.00000000e+00, 0.00000000e+00, 0.00000000e+00, 0.00000000e+00,\n",
       "       0.00000000e+00, 0.00000000e+00, 0.00000000e+00, 0.00000000e+00,\n",
       "       0.00000000e+00, 0.00000000e+00, 0.00000000e+00, 0.00000000e+00,\n",
       "       0.00000000e+00, 0.00000000e+00, 0.00000000e+00, 0.00000000e+00,\n",
       "       0.00000000e+00, 0.00000000e+00, 0.00000000e+00, 0.00000000e+00,\n",
       "       0.00000000e+00, 0.00000000e+00, 0.00000000e+00, 0.00000000e+00,\n",
       "       0.00000000e+00, 0.00000000e+00, 0.00000000e+00, 0.00000000e+00,\n",
       "       0.00000000e+00, 0.00000000e+00, 0.00000000e+00, 0.00000000e+00,\n",
       "       0.00000000e+00, 0.00000000e+00, 0.00000000e+00, 0.00000000e+00,\n",
       "       0.00000000e+00, 0.00000000e+00, 0.00000000e+00, 0.00000000e+00,\n",
       "       0.00000000e+00, 0.00000000e+00, 0.00000000e+00, 0.00000000e+00,\n",
       "       0.00000000e+00, 0.00000000e+00, 0.00000000e+00, 0.00000000e+00,\n",
       "       0.00000000e+00, 0.00000000e+00, 0.00000000e+00, 0.00000000e+00,\n",
       "       0.00000000e+00, 0.00000000e+00, 0.00000000e+00, 0.00000000e+00,\n",
       "       0.00000000e+00, 0.00000000e+00, 0.00000000e+00, 0.00000000e+00,\n",
       "       0.00000000e+00, 0.00000000e+00, 0.00000000e+00, 0.00000000e+00,\n",
       "       0.00000000e+00, 0.00000000e+00, 0.00000000e+00, 0.00000000e+00,\n",
       "       0.00000000e+00, 0.00000000e+00, 0.00000000e+00, 0.00000000e+00,\n",
       "       0.00000000e+00, 0.00000000e+00, 0.00000000e+00, 0.00000000e+00,\n",
       "       0.00000000e+00, 0.00000000e+00, 0.00000000e+00, 0.00000000e+00,\n",
       "       0.00000000e+00, 0.00000000e+00, 0.00000000e+00, 0.00000000e+00,\n",
       "       0.00000000e+00, 0.00000000e+00, 0.00000000e+00, 0.00000000e+00,\n",
       "       0.00000000e+00, 0.00000000e+00, 0.00000000e+00, 0.00000000e+00,\n",
       "       0.00000000e+00, 0.00000000e+00, 0.00000000e+00, 0.00000000e+00,\n",
       "       0.00000000e+00, 0.00000000e+00, 0.00000000e+00, 0.00000000e+00,\n",
       "       0.00000000e+00, 0.00000000e+00, 0.00000000e+00, 0.00000000e+00,\n",
       "       0.00000000e+00, 0.00000000e+00, 0.00000000e+00, 0.00000000e+00,\n",
       "       0.00000000e+00, 0.00000000e+00, 0.00000000e+00, 0.00000000e+00,\n",
       "       0.00000000e+00, 0.00000000e+00, 0.00000000e+00, 0.00000000e+00,\n",
       "       0.00000000e+00, 0.00000000e+00, 0.00000000e+00, 0.00000000e+00,\n",
       "       0.00000000e+00, 0.00000000e+00, 0.00000000e+00, 0.00000000e+00,\n",
       "       0.00000000e+00, 0.00000000e+00, 0.00000000e+00, 0.00000000e+00,\n",
       "       0.00000000e+00, 0.00000000e+00, 0.00000000e+00, 0.00000000e+00,\n",
       "       0.00000000e+00, 0.00000000e+00, 0.00000000e+00, 0.00000000e+00,\n",
       "       0.00000000e+00, 0.00000000e+00, 0.00000000e+00, 0.00000000e+00,\n",
       "       0.00000000e+00, 0.00000000e+00, 0.00000000e+00, 0.00000000e+00,\n",
       "       0.00000000e+00, 0.00000000e+00, 0.00000000e+00, 0.00000000e+00,\n",
       "       0.00000000e+00, 0.00000000e+00, 0.00000000e+00, 0.00000000e+00,\n",
       "       0.00000000e+00, 0.00000000e+00, 0.00000000e+00, 0.00000000e+00,\n",
       "       0.00000000e+00, 0.00000000e+00, 0.00000000e+00, 0.00000000e+00,\n",
       "       0.00000000e+00, 0.00000000e+00, 0.00000000e+00, 0.00000000e+00,\n",
       "       0.00000000e+00, 0.00000000e+00, 0.00000000e+00, 0.00000000e+00,\n",
       "       0.00000000e+00, 0.00000000e+00, 0.00000000e+00, 0.00000000e+00,\n",
       "       0.00000000e+00, 0.00000000e+00, 0.00000000e+00, 0.00000000e+00,\n",
       "       0.00000000e+00, 0.00000000e+00, 0.00000000e+00, 0.00000000e+00,\n",
       "       0.00000000e+00, 0.00000000e+00, 0.00000000e+00, 0.00000000e+00,\n",
       "       0.00000000e+00, 0.00000000e+00, 0.00000000e+00, 0.00000000e+00,\n",
       "       0.00000000e+00, 0.00000000e+00, 0.00000000e+00, 0.00000000e+00,\n",
       "       0.00000000e+00, 0.00000000e+00, 0.00000000e+00, 0.00000000e+00])"
      ]
     },
     "execution_count": 22,
     "metadata": {},
     "output_type": "execute_result"
    }
   ],
   "source": [
    "pdb_data_300_err"
   ]
  },
  {
   "cell_type": "code",
   "execution_count": 23,
   "metadata": {},
   "outputs": [
    {
     "data": {
      "text/plain": [
       "array(['6MDW', '3V1N', '2V0D', ..., '1ORB', '1NXY', '1NYM'], dtype='<U4')"
      ]
     },
     "execution_count": 23,
     "metadata": {},
     "output_type": "execute_result"
    }
   ],
   "source": [
    "pdb_ids_300"
   ]
  },
  {
   "cell_type": "code",
   "execution_count": 24,
   "metadata": {},
   "outputs": [],
   "source": [
    "edges=range(3, 1000)\n",
    "bin_centers_pdb = edges[:-1] + np.diff(edges)/2"
   ]
  },
  {
   "cell_type": "code",
   "execution_count": 25,
   "metadata": {},
   "outputs": [
    {
     "name": "stdout",
     "output_type": "stream",
     "text": [
      "0.0008045052292839894\n"
     ]
    }
   ],
   "source": [
    "## pdb data\n",
    "bin_width= edges[1]-edges[0]\n",
    "summing=0\n",
    "for i in range(len(pdb_data_300)):\n",
    "    summing = summing+pdb_data_300[i]*bin_width\n",
    "print(summing)\n",
    "pdb_data_300 = pdb_data_300/summing"
   ]
  },
  {
   "cell_type": "code",
   "execution_count": 26,
   "metadata": {},
   "outputs": [],
   "source": [
    "# Read simulation data of length 209\n",
    "sim_data, edges = get_sim_data_for_given_length('302')\n",
    "bin_centers = edges[:-1] + np.diff(edges)/2"
   ]
  },
  {
   "cell_type": "code",
   "execution_count": 27,
   "metadata": {},
   "outputs": [
    {
     "name": "stdout",
     "output_type": "stream",
     "text": [
      "0.035714285714285754\n"
     ]
    }
   ],
   "source": [
    "# Normalising simulation data\n",
    "bin_width= edges[1]-edges[0]\n",
    "summing=0\n",
    "for i in range(len(sim_data)):\n",
    "    summing = summing+sim_data[i]*bin_width\n",
    "print(summing)\n",
    "sim_data = sim_data/summing"
   ]
  },
  {
   "cell_type": "code",
   "execution_count": 28,
   "metadata": {},
   "outputs": [
    {
     "name": "stdout",
     "output_type": "stream",
     "text": [
      "sim fit [0.1142027  0.84397591]\n",
      "pdb fit [0.08073835 0.75406456]\n"
     ]
    },
    {
     "data": {
      "image/png": "[encoded data removed]",
      "text/plain": [
       "<Figure size 576x288 with 1 Axes>"
      ]
     },
     "metadata": {},
     "output_type": "display_data"
    }
   ],
   "source": [
    "## Plotting\n",
    "plt.figure(figsize=(8,4))\n",
    "\n",
    "# plotting the simulation data\n",
    "plt.plot(bin_centers,sim_data, linewidth=0, marker='^', label='sim 300')\n",
    "fit, ficov = curve_fit(func,bin_centers[heixdip:-1], sim_data[heixdip:-1])\n",
    "print('sim fit', fit)\n",
    "plt.plot(bin_centers, func(bin_centers, fit[0], fit[1]), ':',color ='k', lw=2)\n",
    "\n",
    "# plotting pdb data\n",
    "plt.plot(bin_centers_pdb,pdb_data_300, linewidth=0, marker='o', label='pdb 300')\n",
    "fit, ficov = curve_fit(func,bin_centers_pdb[5:100], pdb_data_300[5:100])\n",
    "print('pdb fit', fit)\n",
    "plt.plot(bin_centers_pdb, func(bin_centers_pdb, fit[0], fit[1]), '--',color ='k', lw=2)\n",
    "\n",
    "# theory\n",
    "simlen = np.linspace(0, 200, num=50)\n",
    "plt.plot(np.array(simlen), theofunc(np.array(simlen),  0.1, 300.0, 0.7), label='theory', lw =2.5, color='purple')\n",
    "\n",
    "\n",
    "plt.yscale('log')\n",
    "plt.xscale('log')\n",
    "plt.xlim([5, 100])\n",
    "plt.ylim([0.0001, 0.1])\n",
    "plt.legend()\n",
    "sbn.despine()\n",
    "plt.ylabel(\"P(link lengths)\")\n",
    "plt.xlabel(\"link lengths in [a.u.]\")\n",
    "plt.savefig('both_300.pdf')"
   ]
  },
  {
   "cell_type": "markdown",
   "metadata": {},
   "source": [
    "## 400"
   ]
  },
  {
   "cell_type": "code",
   "execution_count": 29,
   "metadata": {},
   "outputs": [],
   "source": [
    "pdb_ids_400 = np.load('400_Ids.npy')\n",
    "pdb_data_400 = np.load('simdata_hist_400.npy')\n",
    "pdb_data_400_err = np.load('sim_data_hist_std_400_curr.npy')"
   ]
  },
  {
   "cell_type": "code",
   "execution_count": 30,
   "metadata": {},
   "outputs": [
    {
     "data": {
      "text/plain": [
       "array([7.24423107e-06, 6.88152217e-06, 2.53493907e-06, 1.94319183e-06,\n",
       "       1.76594495e-06, 1.83456747e-06, 1.11841619e-06, 6.87587555e-07,\n",
       "       7.20377778e-07, 7.87695065e-07, 7.45921058e-07, 8.64377984e-07,\n",
       "       8.92252528e-07, 9.96738826e-07, 1.09402678e-06, 9.81464786e-07,\n",
       "       9.48204193e-07, 8.87026913e-07, 9.58131134e-07, 1.00903459e-06,\n",
       "       9.21196221e-07, 8.15102001e-07, 6.78824905e-07, 5.39159397e-07,\n",
       "       5.08707569e-07, 5.08394481e-07, 5.81923125e-07, 5.67062429e-07,\n",
       "       5.82227334e-07, 5.81383693e-07, 5.13474258e-07, 4.99161060e-07,\n",
       "       6.05688441e-07, 6.24566367e-07, 6.50777681e-07, 6.70416334e-07,\n",
       "       6.58563401e-07, 6.28769629e-07, 6.13287697e-07, 6.13838527e-07,\n",
       "       6.19523961e-07, 6.93153308e-07, 8.06330091e-07, 6.17238399e-07,\n",
       "       5.48924822e-07, 5.08850580e-07, 4.59607343e-07, 4.03989974e-07,\n",
       "       4.07929997e-07, 3.86540554e-07, 3.45068727e-07, 3.84110439e-07,\n",
       "       3.64531481e-07, 3.40779954e-07, 2.82845906e-07, 2.65379288e-07,\n",
       "       2.81610534e-07, 3.51266910e-07, 3.64623600e-07, 4.29724621e-07,\n",
       "       3.01144971e-07, 2.72345206e-07, 3.01934901e-07, 3.20645775e-07,\n",
       "       2.59844081e-07, 2.16269759e-07, 2.21420371e-07, 2.15971526e-07,\n",
       "       2.40244486e-07, 2.52456904e-07, 2.65811877e-07, 2.62426523e-07,\n",
       "       2.49380587e-07, 2.44683946e-07, 2.34301449e-07, 2.08636212e-07,\n",
       "       2.10302432e-07, 2.27236757e-07, 2.14648077e-07, 2.17817114e-07,\n",
       "       2.64289753e-07, 2.89902241e-07, 2.92172208e-07, 2.90053852e-07,\n",
       "       2.50948275e-07, 2.68219872e-07, 2.99607919e-07, 3.67704601e-07,\n",
       "       3.15536199e-07, 2.25836382e-07, 2.33080121e-07, 2.13231621e-07,\n",
       "       2.06871359e-07, 2.02564231e-07, 2.29417284e-07, 2.20209020e-07,\n",
       "       2.15263966e-07, 1.99805205e-07, 1.69838554e-07, 1.68982836e-07,\n",
       "       1.78473869e-07, 2.08663043e-07, 2.00864986e-07, 1.92388266e-07,\n",
       "       2.15439803e-07, 1.56225948e-07, 1.35978663e-07, 1.42863659e-07,\n",
       "       1.53901767e-07, 1.51065207e-07, 1.56306282e-07, 1.58309744e-07,\n",
       "       1.68868007e-07, 1.80608685e-07, 2.05602813e-07, 2.25120615e-07,\n",
       "       2.01772937e-07, 2.23377250e-07, 1.95765373e-07, 2.30129269e-07,\n",
       "       2.79725404e-07, 3.13781023e-07, 3.77973600e-07, 3.12030503e-07,\n",
       "       3.02051238e-07, 2.09961696e-07, 1.54550268e-07, 1.38192024e-07,\n",
       "       1.53778576e-07, 1.08894577e-07, 9.99542142e-08, 1.16892315e-07,\n",
       "       1.15887222e-07, 1.17230340e-07, 1.26591320e-07, 1.19233940e-07,\n",
       "       1.06523921e-07, 1.40079881e-07, 1.38445966e-07, 1.34904603e-07,\n",
       "       1.40530050e-07, 1.43920709e-07, 1.91505161e-07, 2.06159137e-07,\n",
       "       3.05682954e-07, 4.03987023e-07, 3.56849004e-07, 2.60737193e-07,\n",
       "       2.09669814e-07, 1.89279892e-07, 1.92912471e-07, 2.06377577e-07,\n",
       "       2.13204253e-07, 2.02178173e-07, 2.00325185e-07, 1.72144451e-07,\n",
       "       1.70236669e-07, 1.56094496e-07, 1.67217403e-07, 1.54091014e-07,\n",
       "       2.12405405e-07, 2.32029198e-07, 2.82536346e-07, 2.02159050e-07,\n",
       "       1.35869150e-07, 1.25327771e-07, 1.37684167e-07, 1.61182372e-07,\n",
       "       1.41158282e-07, 1.64098030e-07, 1.45168861e-07, 1.31194310e-07,\n",
       "       1.31955932e-07, 1.28319197e-07, 1.20497122e-07, 1.22214101e-07,\n",
       "       1.18567061e-07, 1.21893309e-07, 1.22337888e-07, 1.31356609e-07,\n",
       "       1.41946384e-07, 1.42533108e-07, 1.44959322e-07, 1.16692152e-07,\n",
       "       1.33235876e-07, 1.56808954e-07, 1.77755143e-07, 1.96768411e-07,\n",
       "       1.62779981e-07, 1.28557347e-07, 1.40894780e-07, 1.65389061e-07,\n",
       "       1.49470825e-07, 1.31246315e-07, 1.11118325e-07, 1.27986744e-07,\n",
       "       1.17988085e-07, 1.24955871e-07, 1.28626992e-07, 1.31569765e-07,\n",
       "       1.31849069e-07, 1.25651761e-07, 1.32557821e-07, 1.09446413e-07,\n",
       "       1.05254802e-07, 1.06547256e-07, 1.15728990e-07, 1.15922962e-07,\n",
       "       1.26438531e-07, 1.16183450e-07, 1.19576664e-07, 1.28366039e-07,\n",
       "       1.10596346e-07, 1.33037112e-07, 1.50789662e-07, 1.74576660e-07,\n",
       "       1.01686184e-07, 1.51149725e-07, 1.32081682e-07, 1.25301432e-07,\n",
       "       9.43827860e-08, 9.49630320e-08, 1.12059872e-07, 1.02903146e-07,\n",
       "       9.73345617e-08, 1.07577970e-07, 1.34064511e-07, 1.34890206e-07,\n",
       "       1.41398345e-07, 1.33145525e-07, 1.20107967e-07, 1.17118181e-07,\n",
       "       1.03719687e-07, 1.03260436e-07, 1.07486483e-07, 1.23561510e-07,\n",
       "       1.19874084e-07, 1.46611469e-07, 1.46159728e-07, 1.28573283e-07,\n",
       "       1.35605380e-07, 1.51027996e-07, 1.43205186e-07, 1.24632191e-07,\n",
       "       1.23953679e-07, 1.29774933e-07, 1.18929103e-07, 1.00322311e-07,\n",
       "       1.40306877e-07, 1.29725739e-07, 8.94771934e-08, 7.91679790e-08,\n",
       "       7.88686720e-08, 1.04067155e-07, 1.18295355e-07, 1.21620169e-07,\n",
       "       1.21916807e-07, 1.35288091e-07, 1.80135830e-07, 1.92505676e-07,\n",
       "       2.36720112e-07, 2.38011873e-07, 2.46997520e-07, 2.37257858e-07,\n",
       "       2.34075914e-07, 2.08457459e-07, 2.06684525e-07, 2.06501599e-07,\n",
       "       2.03985680e-07, 2.14619679e-07, 2.02395924e-07, 1.80182141e-07,\n",
       "       1.61992250e-07, 1.62067190e-07, 1.55584102e-07, 1.33590349e-07,\n",
       "       1.17629572e-07, 9.63329073e-08, 9.23374942e-08, 1.04104565e-07,\n",
       "       1.04689437e-07, 1.12865010e-07, 1.21959576e-07, 2.04019907e-07,\n",
       "       1.64889400e-07, 1.32610818e-07, 1.71797607e-07, 2.24283680e-07,\n",
       "       1.66038176e-07, 1.90445715e-07, 1.75877187e-07, 1.20718536e-07,\n",
       "       1.28998321e-07, 1.31276426e-07, 1.19614786e-07, 1.08779310e-07,\n",
       "       9.71311775e-08, 8.99249858e-08, 1.01944953e-07, 8.97715143e-08,\n",
       "       7.87059995e-08, 7.41660330e-08, 8.05455160e-08, 8.75459920e-08,\n",
       "       7.05432447e-08, 6.43911152e-08, 6.03801866e-08, 6.85999044e-08,\n",
       "       6.65778928e-08, 7.31765048e-08, 6.96607661e-08, 5.91519575e-08,\n",
       "       5.75284289e-08, 6.41358909e-08, 7.37349885e-08, 9.59710852e-08,\n",
       "       8.94214448e-08, 7.95306044e-08, 7.69462119e-08, 8.09947495e-08,\n",
       "       1.14682412e-07, 1.42277941e-07, 1.26345221e-07, 1.11877238e-07,\n",
       "       1.63345372e-07, 1.49401091e-07, 1.47230679e-07, 1.17369598e-07,\n",
       "       9.27351704e-08, 1.05814457e-07, 1.31332621e-07, 1.05758453e-07,\n",
       "       1.19328088e-07, 1.18232416e-07, 1.76698562e-07, 2.03176030e-07,\n",
       "       1.90340701e-07, 1.36657402e-07, 1.57510728e-07, 1.66620431e-07,\n",
       "       2.32521063e-07, 1.44313745e-07, 1.18569348e-07, 1.07284902e-07,\n",
       "       7.97362541e-08, 9.26398086e-08, 9.33416806e-08, 8.67149874e-08,\n",
       "       8.98182096e-08, 8.37397315e-08, 8.98117799e-08, 1.09393224e-07,\n",
       "       1.51675596e-07, 2.11643323e-07, 2.75577550e-07, 1.74887120e-07,\n",
       "       1.32698119e-07, 1.09916471e-07, 1.60706786e-07, 1.40193653e-07,\n",
       "       1.07430594e-07, 7.12541211e-08, 6.35875837e-08, 5.51368229e-08,\n",
       "       4.86706330e-08, 4.55276446e-08, 4.35863819e-08, 4.82377291e-08,\n",
       "       5.18975315e-08, 6.24584309e-08, 6.17199194e-08, 7.19139377e-08,\n",
       "       5.09238068e-08, 5.16196824e-08, 5.54553314e-08, 4.43628013e-08,\n",
       "       4.83813866e-08, 5.66276883e-08, 6.98738838e-08, 6.74256995e-08,\n",
       "       3.71489661e-08, 3.97779935e-08, 2.74695620e-08, 2.91598842e-08,\n",
       "       3.10415775e-08, 2.55748568e-08, 2.59845463e-08, 3.00121280e-08,\n",
       "       3.43892617e-08, 3.07415925e-08, 1.88889716e-08, 2.20913064e-08,\n",
       "       2.67095218e-08, 1.78779536e-08, 1.53616515e-08, 2.13521500e-08,\n",
       "       1.59589181e-08, 1.18556306e-08, 6.87267607e-09, 0.00000000e+00,\n",
       "       4.88170989e-09, 9.76341979e-09, 9.76341979e-09, 9.76341979e-09,\n",
       "       0.00000000e+00, 0.00000000e+00, 0.00000000e+00, 0.00000000e+00,\n",
       "       0.00000000e+00, 0.00000000e+00, 0.00000000e+00, 0.00000000e+00,\n",
       "       0.00000000e+00, 0.00000000e+00, 0.00000000e+00, 0.00000000e+00,\n",
       "       0.00000000e+00, 0.00000000e+00, 0.00000000e+00, 0.00000000e+00,\n",
       "       0.00000000e+00, 0.00000000e+00, 0.00000000e+00, 0.00000000e+00,\n",
       "       0.00000000e+00, 0.00000000e+00, 0.00000000e+00, 0.00000000e+00,\n",
       "       0.00000000e+00, 0.00000000e+00, 0.00000000e+00, 0.00000000e+00,\n",
       "       0.00000000e+00, 0.00000000e+00, 0.00000000e+00, 0.00000000e+00,\n",
       "       0.00000000e+00, 0.00000000e+00, 0.00000000e+00, 0.00000000e+00,\n",
       "       0.00000000e+00, 0.00000000e+00, 0.00000000e+00, 0.00000000e+00,\n",
       "       0.00000000e+00, 0.00000000e+00, 0.00000000e+00, 0.00000000e+00,\n",
       "       0.00000000e+00, 0.00000000e+00, 0.00000000e+00, 0.00000000e+00,\n",
       "       0.00000000e+00, 0.00000000e+00, 0.00000000e+00, 0.00000000e+00,\n",
       "       0.00000000e+00, 0.00000000e+00, 0.00000000e+00, 0.00000000e+00,\n",
       "       0.00000000e+00, 0.00000000e+00, 0.00000000e+00, 0.00000000e+00,\n",
       "       0.00000000e+00, 0.00000000e+00, 0.00000000e+00, 0.00000000e+00,\n",
       "       0.00000000e+00, 0.00000000e+00, 0.00000000e+00, 0.00000000e+00,\n",
       "       0.00000000e+00, 0.00000000e+00, 0.00000000e+00, 0.00000000e+00,\n",
       "       0.00000000e+00, 0.00000000e+00, 0.00000000e+00, 0.00000000e+00,\n",
       "       0.00000000e+00, 0.00000000e+00, 0.00000000e+00, 0.00000000e+00,\n",
       "       0.00000000e+00, 0.00000000e+00, 0.00000000e+00, 0.00000000e+00,\n",
       "       0.00000000e+00, 0.00000000e+00, 0.00000000e+00, 0.00000000e+00,\n",
       "       0.00000000e+00, 0.00000000e+00, 0.00000000e+00, 0.00000000e+00,\n",
       "       0.00000000e+00, 0.00000000e+00, 0.00000000e+00, 0.00000000e+00,\n",
       "       0.00000000e+00, 0.00000000e+00, 0.00000000e+00, 0.00000000e+00,\n",
       "       0.00000000e+00, 0.00000000e+00, 0.00000000e+00, 0.00000000e+00,\n",
       "       0.00000000e+00, 0.00000000e+00, 0.00000000e+00, 0.00000000e+00,\n",
       "       0.00000000e+00, 0.00000000e+00, 0.00000000e+00, 0.00000000e+00,\n",
       "       0.00000000e+00, 0.00000000e+00, 0.00000000e+00, 0.00000000e+00,\n",
       "       0.00000000e+00, 0.00000000e+00, 0.00000000e+00, 0.00000000e+00,\n",
       "       0.00000000e+00, 0.00000000e+00, 0.00000000e+00, 0.00000000e+00,\n",
       "       0.00000000e+00, 0.00000000e+00, 0.00000000e+00, 0.00000000e+00,\n",
       "       0.00000000e+00, 0.00000000e+00, 0.00000000e+00, 0.00000000e+00,\n",
       "       0.00000000e+00, 0.00000000e+00, 0.00000000e+00, 0.00000000e+00,\n",
       "       0.00000000e+00, 0.00000000e+00, 0.00000000e+00, 0.00000000e+00,\n",
       "       0.00000000e+00, 0.00000000e+00, 0.00000000e+00, 0.00000000e+00,\n",
       "       0.00000000e+00, 0.00000000e+00, 0.00000000e+00, 0.00000000e+00,\n",
       "       0.00000000e+00, 0.00000000e+00, 0.00000000e+00, 0.00000000e+00,\n",
       "       0.00000000e+00, 0.00000000e+00, 0.00000000e+00, 0.00000000e+00,\n",
       "       0.00000000e+00, 0.00000000e+00, 0.00000000e+00, 0.00000000e+00,\n",
       "       0.00000000e+00, 0.00000000e+00, 0.00000000e+00, 0.00000000e+00,\n",
       "       0.00000000e+00, 0.00000000e+00, 0.00000000e+00, 0.00000000e+00,\n",
       "       0.00000000e+00, 0.00000000e+00, 0.00000000e+00, 0.00000000e+00,\n",
       "       0.00000000e+00, 0.00000000e+00, 0.00000000e+00, 0.00000000e+00,\n",
       "       0.00000000e+00, 0.00000000e+00, 0.00000000e+00, 0.00000000e+00,\n",
       "       0.00000000e+00, 0.00000000e+00, 0.00000000e+00, 0.00000000e+00,\n",
       "       0.00000000e+00, 0.00000000e+00, 0.00000000e+00, 0.00000000e+00,\n",
       "       0.00000000e+00, 0.00000000e+00, 0.00000000e+00, 0.00000000e+00,\n",
       "       0.00000000e+00, 0.00000000e+00, 0.00000000e+00, 0.00000000e+00,\n",
       "       0.00000000e+00, 0.00000000e+00, 0.00000000e+00, 0.00000000e+00,\n",
       "       0.00000000e+00, 0.00000000e+00, 0.00000000e+00, 0.00000000e+00,\n",
       "       0.00000000e+00, 0.00000000e+00, 0.00000000e+00, 0.00000000e+00,\n",
       "       0.00000000e+00, 0.00000000e+00, 0.00000000e+00, 0.00000000e+00,\n",
       "       0.00000000e+00, 0.00000000e+00, 0.00000000e+00, 0.00000000e+00,\n",
       "       0.00000000e+00, 0.00000000e+00, 0.00000000e+00, 0.00000000e+00,\n",
       "       0.00000000e+00, 0.00000000e+00, 0.00000000e+00, 0.00000000e+00,\n",
       "       0.00000000e+00, 0.00000000e+00, 0.00000000e+00, 0.00000000e+00,\n",
       "       0.00000000e+00, 0.00000000e+00, 0.00000000e+00, 0.00000000e+00,\n",
       "       0.00000000e+00, 0.00000000e+00, 0.00000000e+00, 0.00000000e+00,\n",
       "       0.00000000e+00, 0.00000000e+00, 0.00000000e+00, 0.00000000e+00,\n",
       "       0.00000000e+00, 0.00000000e+00, 0.00000000e+00, 0.00000000e+00,\n",
       "       0.00000000e+00, 0.00000000e+00, 0.00000000e+00, 0.00000000e+00,\n",
       "       0.00000000e+00, 0.00000000e+00, 0.00000000e+00, 0.00000000e+00,\n",
       "       0.00000000e+00, 0.00000000e+00, 0.00000000e+00, 0.00000000e+00,\n",
       "       0.00000000e+00, 0.00000000e+00, 0.00000000e+00, 0.00000000e+00,\n",
       "       0.00000000e+00, 0.00000000e+00, 0.00000000e+00, 0.00000000e+00,\n",
       "       0.00000000e+00, 0.00000000e+00, 0.00000000e+00, 0.00000000e+00,\n",
       "       0.00000000e+00, 0.00000000e+00, 0.00000000e+00, 0.00000000e+00,\n",
       "       0.00000000e+00, 0.00000000e+00, 0.00000000e+00, 0.00000000e+00,\n",
       "       0.00000000e+00, 0.00000000e+00, 0.00000000e+00, 0.00000000e+00,\n",
       "       0.00000000e+00, 0.00000000e+00, 0.00000000e+00, 0.00000000e+00,\n",
       "       0.00000000e+00, 0.00000000e+00, 0.00000000e+00, 0.00000000e+00,\n",
       "       0.00000000e+00, 0.00000000e+00, 0.00000000e+00, 0.00000000e+00,\n",
       "       0.00000000e+00, 0.00000000e+00, 0.00000000e+00, 0.00000000e+00,\n",
       "       0.00000000e+00, 0.00000000e+00, 0.00000000e+00, 0.00000000e+00,\n",
       "       0.00000000e+00, 0.00000000e+00, 0.00000000e+00, 0.00000000e+00,\n",
       "       0.00000000e+00, 0.00000000e+00, 0.00000000e+00, 0.00000000e+00,\n",
       "       0.00000000e+00, 0.00000000e+00, 0.00000000e+00, 0.00000000e+00,\n",
       "       0.00000000e+00, 0.00000000e+00, 0.00000000e+00, 0.00000000e+00,\n",
       "       0.00000000e+00, 0.00000000e+00, 0.00000000e+00, 0.00000000e+00,\n",
       "       0.00000000e+00, 0.00000000e+00, 0.00000000e+00, 0.00000000e+00,\n",
       "       0.00000000e+00, 0.00000000e+00, 0.00000000e+00, 0.00000000e+00,\n",
       "       0.00000000e+00, 0.00000000e+00, 0.00000000e+00, 0.00000000e+00,\n",
       "       0.00000000e+00, 0.00000000e+00, 0.00000000e+00, 0.00000000e+00,\n",
       "       0.00000000e+00, 0.00000000e+00, 0.00000000e+00, 0.00000000e+00,\n",
       "       0.00000000e+00, 0.00000000e+00, 0.00000000e+00, 0.00000000e+00,\n",
       "       0.00000000e+00, 0.00000000e+00, 0.00000000e+00, 0.00000000e+00,\n",
       "       0.00000000e+00, 0.00000000e+00, 0.00000000e+00, 0.00000000e+00,\n",
       "       0.00000000e+00, 0.00000000e+00, 0.00000000e+00, 0.00000000e+00,\n",
       "       0.00000000e+00, 0.00000000e+00, 0.00000000e+00, 0.00000000e+00,\n",
       "       0.00000000e+00, 0.00000000e+00, 0.00000000e+00, 0.00000000e+00,\n",
       "       0.00000000e+00, 0.00000000e+00, 0.00000000e+00, 0.00000000e+00,\n",
       "       0.00000000e+00, 0.00000000e+00, 0.00000000e+00, 0.00000000e+00,\n",
       "       0.00000000e+00, 0.00000000e+00, 0.00000000e+00, 0.00000000e+00,\n",
       "       0.00000000e+00, 0.00000000e+00, 0.00000000e+00, 0.00000000e+00,\n",
       "       0.00000000e+00, 0.00000000e+00, 0.00000000e+00, 0.00000000e+00,\n",
       "       0.00000000e+00, 0.00000000e+00, 0.00000000e+00, 0.00000000e+00,\n",
       "       0.00000000e+00, 0.00000000e+00, 0.00000000e+00, 0.00000000e+00,\n",
       "       0.00000000e+00, 0.00000000e+00, 0.00000000e+00, 0.00000000e+00,\n",
       "       0.00000000e+00, 0.00000000e+00, 0.00000000e+00, 0.00000000e+00,\n",
       "       0.00000000e+00, 0.00000000e+00, 0.00000000e+00, 0.00000000e+00,\n",
       "       0.00000000e+00, 0.00000000e+00, 0.00000000e+00, 0.00000000e+00,\n",
       "       0.00000000e+00, 0.00000000e+00, 0.00000000e+00, 0.00000000e+00,\n",
       "       0.00000000e+00, 0.00000000e+00, 0.00000000e+00, 0.00000000e+00,\n",
       "       0.00000000e+00, 0.00000000e+00, 0.00000000e+00, 0.00000000e+00,\n",
       "       0.00000000e+00, 0.00000000e+00, 0.00000000e+00, 0.00000000e+00,\n",
       "       0.00000000e+00, 0.00000000e+00, 0.00000000e+00, 0.00000000e+00,\n",
       "       0.00000000e+00, 0.00000000e+00, 0.00000000e+00, 0.00000000e+00,\n",
       "       0.00000000e+00, 0.00000000e+00, 0.00000000e+00, 0.00000000e+00,\n",
       "       0.00000000e+00, 0.00000000e+00, 0.00000000e+00, 0.00000000e+00,\n",
       "       0.00000000e+00, 0.00000000e+00, 0.00000000e+00, 0.00000000e+00,\n",
       "       0.00000000e+00, 0.00000000e+00, 0.00000000e+00, 0.00000000e+00,\n",
       "       0.00000000e+00, 0.00000000e+00, 0.00000000e+00, 0.00000000e+00,\n",
       "       0.00000000e+00, 0.00000000e+00, 0.00000000e+00, 0.00000000e+00,\n",
       "       0.00000000e+00, 0.00000000e+00, 0.00000000e+00, 0.00000000e+00,\n",
       "       0.00000000e+00, 0.00000000e+00, 0.00000000e+00, 0.00000000e+00,\n",
       "       0.00000000e+00, 0.00000000e+00, 0.00000000e+00, 0.00000000e+00,\n",
       "       0.00000000e+00, 0.00000000e+00, 0.00000000e+00, 0.00000000e+00,\n",
       "       0.00000000e+00, 0.00000000e+00, 0.00000000e+00, 0.00000000e+00,\n",
       "       0.00000000e+00, 0.00000000e+00, 0.00000000e+00, 0.00000000e+00,\n",
       "       0.00000000e+00, 0.00000000e+00, 0.00000000e+00, 0.00000000e+00,\n",
       "       0.00000000e+00, 0.00000000e+00, 0.00000000e+00, 0.00000000e+00,\n",
       "       0.00000000e+00, 0.00000000e+00, 0.00000000e+00, 0.00000000e+00,\n",
       "       0.00000000e+00, 0.00000000e+00, 0.00000000e+00, 0.00000000e+00,\n",
       "       0.00000000e+00, 0.00000000e+00, 0.00000000e+00, 0.00000000e+00,\n",
       "       0.00000000e+00, 0.00000000e+00, 0.00000000e+00, 0.00000000e+00,\n",
       "       0.00000000e+00, 0.00000000e+00, 0.00000000e+00, 0.00000000e+00,\n",
       "       0.00000000e+00, 0.00000000e+00, 0.00000000e+00, 0.00000000e+00,\n",
       "       0.00000000e+00, 0.00000000e+00, 0.00000000e+00, 0.00000000e+00,\n",
       "       0.00000000e+00, 0.00000000e+00, 0.00000000e+00, 0.00000000e+00,\n",
       "       0.00000000e+00, 0.00000000e+00, 0.00000000e+00, 0.00000000e+00,\n",
       "       0.00000000e+00, 0.00000000e+00, 0.00000000e+00, 0.00000000e+00,\n",
       "       0.00000000e+00, 0.00000000e+00, 0.00000000e+00, 0.00000000e+00,\n",
       "       0.00000000e+00, 0.00000000e+00, 0.00000000e+00, 0.00000000e+00,\n",
       "       0.00000000e+00, 0.00000000e+00, 0.00000000e+00, 0.00000000e+00,\n",
       "       0.00000000e+00, 0.00000000e+00, 0.00000000e+00, 0.00000000e+00,\n",
       "       0.00000000e+00, 0.00000000e+00, 0.00000000e+00, 0.00000000e+00,\n",
       "       0.00000000e+00, 0.00000000e+00, 0.00000000e+00, 0.00000000e+00,\n",
       "       0.00000000e+00, 0.00000000e+00, 0.00000000e+00, 0.00000000e+00,\n",
       "       0.00000000e+00, 0.00000000e+00, 0.00000000e+00, 0.00000000e+00,\n",
       "       0.00000000e+00, 0.00000000e+00, 0.00000000e+00, 0.00000000e+00,\n",
       "       0.00000000e+00, 0.00000000e+00, 0.00000000e+00, 0.00000000e+00,\n",
       "       0.00000000e+00, 0.00000000e+00, 0.00000000e+00, 0.00000000e+00,\n",
       "       0.00000000e+00, 0.00000000e+00, 0.00000000e+00, 0.00000000e+00,\n",
       "       0.00000000e+00, 0.00000000e+00, 0.00000000e+00, 0.00000000e+00,\n",
       "       0.00000000e+00, 0.00000000e+00, 0.00000000e+00, 0.00000000e+00,\n",
       "       0.00000000e+00, 0.00000000e+00, 0.00000000e+00, 0.00000000e+00,\n",
       "       0.00000000e+00, 0.00000000e+00, 0.00000000e+00, 0.00000000e+00])"
      ]
     },
     "execution_count": 30,
     "metadata": {},
     "output_type": "execute_result"
    }
   ],
   "source": [
    "pdb_data_400_err"
   ]
  },
  {
   "cell_type": "code",
   "execution_count": 31,
   "metadata": {},
   "outputs": [
    {
     "data": {
      "text/plain": [
       "array(['4PST', '1M40', '4EQJ', '4PGU'], dtype='<U4')"
      ]
     },
     "execution_count": 31,
     "metadata": {},
     "output_type": "execute_result"
    }
   ],
   "source": [
    "pdb_ids_400"
   ]
  },
  {
   "cell_type": "code",
   "execution_count": 32,
   "metadata": {},
   "outputs": [],
   "source": [
    "edges=range(3, 1000)\n",
    "bin_centers_pdb = edges[:-1] + np.diff(edges)/2"
   ]
  },
  {
   "cell_type": "code",
   "execution_count": 33,
   "metadata": {},
   "outputs": [
    {
     "name": "stdout",
     "output_type": "stream",
     "text": [
      "0.24999999999999992\n"
     ]
    }
   ],
   "source": [
    "## pdb data\n",
    "bin_width= edges[1]-edges[0]\n",
    "summing=0\n",
    "for i in range(len(pdb_data_400)):\n",
    "    summing = summing+pdb_data_400[i]*bin_width\n",
    "print(summing)\n",
    "pdb_data_400 = pdb_data_400/summing"
   ]
  },
  {
   "cell_type": "code",
   "execution_count": 34,
   "metadata": {},
   "outputs": [],
   "source": [
    "# Read simulation data of length 398\n",
    "sim_data, edges = get_sim_data_for_given_length('398')\n",
    "bin_centers = edges[:-1] + np.diff(edges)/2"
   ]
  },
  {
   "cell_type": "code",
   "execution_count": 35,
   "metadata": {},
   "outputs": [
    {
     "name": "stdout",
     "output_type": "stream",
     "text": [
      "0.033333333333333326\n"
     ]
    }
   ],
   "source": [
    "# Normalising simulation data\n",
    "bin_width= edges[1]-edges[0]\n",
    "summing=0\n",
    "for i in range(len(sim_data)):\n",
    "    summing = summing+sim_data[i]*bin_width\n",
    "print(summing)\n",
    "sim_data = sim_data/summing"
   ]
  },
  {
   "cell_type": "code",
   "execution_count": 36,
   "metadata": {},
   "outputs": [
    {
     "name": "stdout",
     "output_type": "stream",
     "text": [
      "sim fit [0.10362094 0.82982762]\n",
      "pdb fit [19.83333508  2.85869864]\n"
     ]
    },
    {
     "data": {
      "image/png": "[encoded data removed]",
      "text/plain": [
       "<Figure size 576x288 with 1 Axes>"
      ]
     },
     "metadata": {},
     "output_type": "display_data"
    }
   ],
   "source": [
    "## Plotting\n",
    "plt.figure(figsize=(8,4))\n",
    "\n",
    "# plotting the simulation data\n",
    "plt.plot(bin_centers,sim_data, linewidth=0, marker='^', label='sim 400')\n",
    "fit, ficov = curve_fit(func,bin_centers[heixdip:-1], sim_data[heixdip:-1])\n",
    "print('sim fit', fit)\n",
    "plt.plot(bin_centers, func(bin_centers, fit[0], fit[1]), ':',color ='k', lw=2, label='fit sim')\n",
    "\n",
    "# plotting pdb data\n",
    "plt.plot(bin_centers_pdb,pdb_data_400, linewidth=0, marker='o', label='pdb 400')\n",
    "fit, ficov = curve_fit(func,bin_centers_pdb[4:200], pdb_data_400[4:200])\n",
    "print('pdb fit', fit)\n",
    "plt.plot(bin_centers_pdb, func(bin_centers_pdb, fit[0], fit[1]), '--',color ='k', lw=2, label='fit pdb')\n",
    "\n",
    "# theory\n",
    "simlen = np.linspace(0, 200, num=50)\n",
    "plt.plot(np.array(simlen), theofunc(np.array(simlen), 0.1, 400.0, 0.7), label='theory', lw =2.5, color='purple')\n",
    "\n",
    "\n",
    "plt.yscale('log')\n",
    "plt.xscale('log')\n",
    "plt.xlim([4, 200])\n",
    "plt.ylim([0.001, 0.1])\n",
    "plt.legend()\n",
    "sbn.despine()\n",
    "plt.ylabel(\"P(residue distance)\")\n",
    "plt.xlabel(\"residue distance\")\n",
    "\n",
    "plt.savefig('both_400.pdf')\n",
    "\n"
   ]
  },
  {
   "cell_type": "markdown",
   "metadata": {},
   "source": [
    "## 200 old"
   ]
  },
  {
   "cell_type": "code",
   "execution_count": 37,
   "metadata": {},
   "outputs": [],
   "source": [
    "def get_pdb_data_for_given_length_range(pdb_files, lower_bound, upper_bound, verbose=False):   \n",
    "    t = 8.0\n",
    "    linklengths = []\n",
    "    link_length_list = []\n",
    "    pdb_count = 0\n",
    "    sim_data_hist = []\n",
    "    sim_data_edges = None\n",
    "    for pdb in pdb_files:\n",
    "        u = Universe(pdb)\n",
    "        calphas = u.select_atoms(\"name CA and segid \" + u.residues.segments.segids[0])\n",
    "        if verbose:\n",
    "            print(len(calphas))\n",
    "        if lower_bound <= len(calphas) <= upper_bound:\n",
    "            r = calphas.positions\n",
    "            maxdist = 0\n",
    "            G = nx.empty_graph(len(r))\n",
    "            avd = 0\n",
    "            for i in range(len(r)):\n",
    "                for j in range(i):\n",
    "                    dist = np.linalg.norm(r[i] - r[j])\n",
    "                    maxdist = max(dist, maxdist)\n",
    "                    avd += dist ** 2\n",
    "                    if dist < t:\n",
    "                        G.add_edge(i, j)\n",
    "                        linklengths.append(dist)\n",
    "            avd = np.sqrt(avd) / (len(r))\n",
    "            # take largest component\n",
    "            if len(G.edges()) > 0:\n",
    "                G = list(connected_component_subgraphs(G))[0]\n",
    "                lena = len(G.nodes())\n",
    "                Li = list(set(G.edges()) - set(nx.cycle_graph(lena).edges()))\n",
    "                \n",
    "                for link in Li:\n",
    "                    link_length_list.append(abs(link[0] - link[1]))\n",
    "            pdb_count +=1\n",
    "        print(link_length_list)\n",
    "        sim_data_hist, sim_data_edges = np.histogram(link_length_list, bins=range(3, 1000), normed=True)\n",
    "            \n",
    "    if sim_data_hist is not None:\n",
    "        sim_data_hist = sim_data_hist/pdb_count\n",
    "    return sim_data_hist, sim_data_edges\n",
    "\n",
    "    "
   ]
  },
  {
   "cell_type": "code",
   "execution_count": 38,
   "metadata": {},
   "outputs": [],
   "source": [
    "# Read simulation data of length 209\n",
    "sim_data, edges = get_sim_data_for_given_length('209')\n",
    "bin_centers = edges[:-1] + np.diff(edges)/2"
   ]
  },
  {
   "cell_type": "code",
   "execution_count": 39,
   "metadata": {},
   "outputs": [
    {
     "name": "stdout",
     "output_type": "stream",
     "text": [
      "0.03333333333333333\n"
     ]
    }
   ],
   "source": [
    "# Normalising simulation data\n",
    "bin_width= edges[1]-edges[0]\n",
    "summing=0\n",
    "for i in range(len(sim_data)):\n",
    "    summing = summing+sim_data[i]*bin_width\n",
    "print(summing)\n",
    "sim_data = sim_data/summing"
   ]
  },
  {
   "cell_type": "code",
   "execution_count": 40,
   "metadata": {},
   "outputs": [
    {
     "ename": "NameError",
     "evalue": "name 'pdb_data' is not defined",
     "output_type": "error",
     "traceback": [
      "\u001b[0;31m---------------------------------------------------------------------------\u001b[0m",
      "\u001b[0;31mNameError\u001b[0m                                 Traceback (most recent call last)",
      "\u001b[0;32m/var/folders/s3/bsl1r71j5vv92phr7p9f9skw0000gn/T/ipykernel_68882/3329301232.py\u001b[0m in \u001b[0;36m<module>\u001b[0;34m\u001b[0m\n\u001b[1;32m      2\u001b[0m \u001b[0mbin_width\u001b[0m\u001b[0;34m=\u001b[0m \u001b[0medges\u001b[0m\u001b[0;34m[\u001b[0m\u001b[0;36m1\u001b[0m\u001b[0;34m]\u001b[0m\u001b[0;34m-\u001b[0m\u001b[0medges\u001b[0m\u001b[0;34m[\u001b[0m\u001b[0;36m0\u001b[0m\u001b[0;34m]\u001b[0m\u001b[0;34m\u001b[0m\u001b[0;34m\u001b[0m\u001b[0m\n\u001b[1;32m      3\u001b[0m \u001b[0msumming\u001b[0m\u001b[0;34m=\u001b[0m\u001b[0;36m0\u001b[0m\u001b[0;34m\u001b[0m\u001b[0;34m\u001b[0m\u001b[0m\n\u001b[0;32m----> 4\u001b[0;31m \u001b[0;32mfor\u001b[0m \u001b[0mi\u001b[0m \u001b[0;32min\u001b[0m \u001b[0mrange\u001b[0m\u001b[0;34m(\u001b[0m\u001b[0mlen\u001b[0m\u001b[0;34m(\u001b[0m\u001b[0mpdb_data\u001b[0m\u001b[0;34m)\u001b[0m\u001b[0;34m)\u001b[0m\u001b[0;34m:\u001b[0m\u001b[0;34m\u001b[0m\u001b[0;34m\u001b[0m\u001b[0m\n\u001b[0m\u001b[1;32m      5\u001b[0m     \u001b[0msumming\u001b[0m \u001b[0;34m=\u001b[0m \u001b[0msumming\u001b[0m\u001b[0;34m+\u001b[0m\u001b[0mpdb_data\u001b[0m\u001b[0;34m[\u001b[0m\u001b[0mi\u001b[0m\u001b[0;34m]\u001b[0m\u001b[0;34m*\u001b[0m\u001b[0mbin_width\u001b[0m\u001b[0;34m\u001b[0m\u001b[0;34m\u001b[0m\u001b[0m\n\u001b[1;32m      6\u001b[0m \u001b[0mprint\u001b[0m\u001b[0;34m(\u001b[0m\u001b[0msumming\u001b[0m\u001b[0;34m)\u001b[0m\u001b[0;34m\u001b[0m\u001b[0;34m\u001b[0m\u001b[0m\n",
      "\u001b[0;31mNameError\u001b[0m: name 'pdb_data' is not defined"
     ]
    }
   ],
   "source": [
    "# Normalising pdb data\n",
    "bin_width= edges[1]-edges[0]\n",
    "summing=0\n",
    "for i in range(len(pdb_data)):\n",
    "    summing = summing+pdb_data[i]*bin_width\n",
    "print(summing)\n",
    "pdb_data = pdb_data/summing"
   ]
  },
  {
   "cell_type": "code",
   "execution_count": null,
   "metadata": {},
   "outputs": [],
   "source": [
    "## Plotting\n",
    "plt.figure(figsize=(8,4))\n",
    "\n",
    "# plotting the simulation data\n",
    "plt.plot(bin_centers,sim_data, linewidth=0, marker='^', label='sim 200')\n",
    "fit, ficov = curve_fit(func,bin_centers[heixdip:-1], sim_data[heixdip:-1])\n",
    "print('sim fit', fit)\n",
    "plt.plot(bin_centers, func(bin_centers, fit[0], fit[1]), ':',color ='k', lw=2)\n",
    "\n",
    "# plotting pdb data\n",
    "plt.plot(bin_centers_pdb,pdb_data, linewidth=0, marker='o', label='pdb 200')\n",
    "fit, ficov = curve_fit(func,bin_centers_pdb[4:100], pdb_data[4:100])\n",
    "print('pdb fit', fit)\n",
    "plt.plot(bin_centers_pdb, func(bin_centers_pdb, fit[0], fit[1]), '--',color ='k', lw=2)\n",
    "\n",
    "# theory\n",
    "simlen = np.linspace(0, 100, num=50)\n",
    "plt.plot(np.array(simlen), theofunc(np.array(simlen),  0.1, 400.0, 0.7), label='theory', lw =2.5, color='purple')\n",
    "\n",
    "\n",
    "plt.yscale('log')\n",
    "plt.xscale('log')\n",
    "plt.xlim([6, 100])\n",
    "plt.ylim([0.001, 0.1])\n",
    "plt.legend()\n",
    "sbn.despine()\n",
    "plt.ylabel(\"P(link lengths)\")\n",
    "plt.xlabel(\"link lengths in [a.u.]\")\n",
    "plt.savefig('both_200.pdf')\n"
   ]
  },
  {
   "cell_type": "markdown",
   "metadata": {},
   "source": [
    "## 400"
   ]
  },
  {
   "cell_type": "code",
   "execution_count": null,
   "metadata": {},
   "outputs": [],
   "source": [
    "pdb_files = glob.glob(\"../data/idp/*.pdb\")\n",
    "#pdb_files = glob.glob(\"../data/idp/*.pdb\")\n",
    "pdb_data, edges_pdb = get_pdb_data_for_given_length_range(pdb_files,380,420)\n",
    "bin_centers_pdb = edges_pdb[:-1] + np.diff(edges_pdb)/2"
   ]
  },
  {
   "cell_type": "code",
   "execution_count": null,
   "metadata": {},
   "outputs": [],
   "source": [
    "# Read simulation data of length 398\n",
    "sim_data, edges = get_sim_data_for_given_length('398')\n",
    "bin_centers = edges[:-1] + np.diff(edges)/2"
   ]
  },
  {
   "cell_type": "code",
   "execution_count": null,
   "metadata": {},
   "outputs": [],
   "source": [
    "# Normalising simulation data\n",
    "bin_width= edges[1]-edges[0]\n",
    "summing=0\n",
    "for i in range(len(sim_data)):\n",
    "    summing = summing+sim_data[i]*bin_width\n",
    "print(summing)\n",
    "sim_data = sim_data/summing"
   ]
  },
  {
   "cell_type": "code",
   "execution_count": null,
   "metadata": {},
   "outputs": [],
   "source": [
    "# Normalising pdb data\n",
    "bin_width= edges[1]-edges[0]\n",
    "summing=0\n",
    "for i in range(len(pdb_data)):\n",
    "    summing = summing+pdb_data[i]*bin_width\n",
    "print(summing)\n",
    "pdb_data = pdb_data/summing"
   ]
  },
  {
   "cell_type": "code",
   "execution_count": null,
   "metadata": {},
   "outputs": [],
   "source": [
    "## Plotting\n",
    "plt.figure(figsize=(8,4))\n",
    "\n",
    "# plotting the simulation data\n",
    "plt.plot(bin_centers,sim_data, linewidth=0, marker='^', label='sim 400')\n",
    "fit, ficov = curve_fit(func,bin_centers[heixdip:-1], sim_data[heixdip:-1])\n",
    "print('sim fit', fit)\n",
    "plt.plot(bin_centers, func(bin_centers, fit[0], fit[1]), ':',color ='k', lw=2, label='fit sim')\n",
    "\n",
    "# plotting pdb data\n",
    "plt.plot(bin_centers_pdb,pdb_data, linewidth=0, marker='o', label='pdb 400')\n",
    "fit, ficov = curve_fit(func,bin_centers_pdb[4:200], pdb_data[4:200])\n",
    "print('pdb fit', fit)\n",
    "plt.plot(bin_centers_pdb, func(bin_centers_pdb, fit[0], fit[1]), '--',color ='k', lw=2, label='fit pdb')\n",
    "\n",
    "# theory\n",
    "simlen = np.linspace(0, 200, num=50)\n",
    "plt.plot(np.array(simlen), theofunc(np.array(simlen), 0.1, 400.0, 0.7), label='theory', lw =2.5, color='purple')\n",
    "\n",
    "\n",
    "plt.yscale('log')\n",
    "plt.xscale('log')\n",
    "plt.xlim([4, 200])\n",
    "plt.ylim([0.001, 0.1])\n",
    "plt.legend()\n",
    "sbn.despine()\n",
    "plt.ylabel(\"P(residue distance)\")\n",
    "plt.xlabel(\"residue distance\")\n",
    "\n",
    "plt.savefig('both_400.pdf')\n"
   ]
  },
  {
   "cell_type": "markdown",
   "metadata": {},
   "source": [
    "## GPCRs"
   ]
  },
  {
   "cell_type": "markdown",
   "metadata": {},
   "source": [
    "### 2.1 Downloading GPCRS:"
   ]
  },
  {
   "cell_type": "code",
   "execution_count": null,
   "metadata": {},
   "outputs": [],
   "source": [
    "import urllib\n",
    "import pandas as pd\n",
    "query = pd.read_csv('../data/trans_membrane_helical/200_300.csv')"
   ]
  },
  {
   "cell_type": "code",
   "execution_count": null,
   "metadata": {},
   "outputs": [],
   "source": [
    "for pdb in query.columns:\n",
    "    #print (pdb)\n",
    "    download = 'https://files.rcsb.org/download/%s.pdb' %pdb\n",
    "    #print(download)\n",
    "    urllib.request.urlretrieve(download, '../data/trans_membrane_helical/200_300/'+pdb+'.pdb')"
   ]
  },
  {
   "cell_type": "code",
   "execution_count": null,
   "metadata": {
    "scrolled": true
   },
   "outputs": [],
   "source": [
    "pdb_files = glob.glob(\"../data/trans_membrane_helical/200_300/*.pdb\")\n",
    "pdb_data, edges_pdb = get_pdb_data_for_given_length_range(pdb_files, 190,220, verbose=True)"
   ]
  },
  {
   "cell_type": "code",
   "execution_count": null,
   "metadata": {},
   "outputs": [],
   "source": [
    "# plotting pdb data\n",
    "bin_centers_pdb = edges_pdb[:-1] + np.diff(edges_pdb)/2\n",
    "plt.plot(bin_centers_pdb,pdb_data, linewidth=0, marker='o', label='sim 200')\n",
    "fit, ficov = curve_fit(func,bin_centers_pdb[heixdip:-1], pdb_data[heixdip:-1])\n",
    "print('sim fit', fit)\n",
    "plt.plot(bin_centers_pdb, func(bin_centers_pdb, fit[0], fit[1]), '--',color ='k', lw=2)\n",
    "\n",
    "plt.yscale('log')\n",
    "plt.xscale('log')\n",
    "#plt.xlim([5, 100])\n",
    "#plt.ylim([0.01, 200])\n",
    "#plt.legend()\n",
    "sbn.despine()\n",
    "plt.ylabel(\"P(link lengths)\")\n",
    "plt.xlabel(\"link lengths in [a.u.]\")"
   ]
  },
  {
   "cell_type": "markdown",
   "metadata": {},
   "source": [
    "## PDB Statistics"
   ]
  },
  {
   "cell_type": "code",
   "execution_count": 31,
   "metadata": {},
   "outputs": [],
   "source": [
    "data = pd.read_csv('../data/pdb_statistics/residue_count.csv', names=['Residue Count', 'Number of Proteins'])"
   ]
  },
  {
   "cell_type": "code",
   "execution_count": 32,
   "metadata": {},
   "outputs": [
    {
     "data": {
      "image/png": "[encoded data removed]",
      "text/plain": [
       "<Figure size 576x288 with 1 Axes>"
      ]
     },
     "metadata": {
      "needs_background": "light"
     },
     "output_type": "display_data"
    }
   ],
   "source": [
    "ax = data.plot.bar(x='Residue Count', y='Number of Proteins', rot=90, figsize=(8,4), legend=False)\n",
    "ax.set_ylabel(\"Number of Entries\")\n",
    "sbn.despine()\n",
    "plt.savefig('../paper/figures/pdb_statistics.pdf')"
   ]
  },
  {
   "cell_type": "code",
   "execution_count": null,
   "metadata": {},
   "outputs": [],
   "source": []
  }
 ],
 "metadata": {
  "kernelspec": {
   "display_name": "Python 3 (ipykernel)",
   "language": "python",
   "name": "python3"
  },
  "language_info": {
   "codemirror_mode": {
    "name": "ipython",
    "version": 3
   },
   "file_extension": ".py",
   "mimetype": "text/x-python",
   "name": "python",
   "nbconvert_exporter": "python",
   "pygments_lexer": "ipython3",
   "version": "3.9.7"
  }
 },
 "nbformat": 4,
 "nbformat_minor": 4
}
