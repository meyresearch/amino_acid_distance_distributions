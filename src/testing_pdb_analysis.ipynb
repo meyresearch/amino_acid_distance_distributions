{
 "cells": [
  {
   "cell_type": "code",
   "execution_count": 1,
   "metadata": {},
   "outputs": [
    {
     "name": "stdout",
     "output_type": "stream",
     "text": [
      "Populating the interactive namespace from numpy and matplotlib\n"
     ]
    }
   ],
   "source": [
    "%pylab inline\n",
    "import seaborn as sbn\n",
    "import networkx as nx\n",
    "import pickle\n",
    "import scipy as sp\n",
    "import scipy.stats\n",
    "from scipy.optimize import curve_fit\n",
    "import glob\n",
    "import os\n",
    "from Bio.PDB import *\n",
    "from MDAnalysis import *\n",
    "import warnings\n",
    "warnings.filterwarnings('ignore')"
   ]
  },
  {
   "cell_type": "code",
   "execution_count": 2,
   "metadata": {},
   "outputs": [],
   "source": [
    "def connected_component_subgraphs(G):\n",
    "    for c in nx.connected_components(G):\n",
    "        yield G.subgraph(c)"
   ]
  },
  {
   "cell_type": "code",
   "execution_count": null,
   "metadata": {},
   "outputs": [],
   "source": [
    "def get_pdb_data_for_given_length_range(pdb_files, lower_bound, upper_bound, verbose=False):   \n",
    "    t = 8.0\n",
    "    linklengths = []\n",
    "    pdb_count = 0\n",
    "    sim_data_hist = None\n",
    "    sim_data_edges = None\n",
    "    for pdb in pdb_files:\n",
    "        u = Universe(pdb)\n",
    "        calphas = u.select_atoms(\"name CA and segid \" + u.residues.segments.segids[0])\n",
    "        if verbose:\n",
    "            print(len(calphas))\n",
    "        if lower_bound <= len(calphas) <= upper_bound:\n",
    "            r = calphas.positions\n",
    "            maxdist = 0\n",
    "            G = nx.empty_graph(len(r))\n",
    "            avd = 0\n",
    "            for i in range(len(r)):\n",
    "                for j in range(i):\n",
    "                    dist = np.linalg.norm(r[i] - r[j])\n",
    "                    maxdist = max(dist, maxdist)\n",
    "                    avd += dist ** 2\n",
    "                    if dist < t:\n",
    "                        G.add_edge(i, j)\n",
    "                        linklengths.append(dist)\n",
    "            avd = np.sqrt(avd) / (len(r))\n",
    "            # take largest component\n",
    "            if len(G.edges()) > 0:\n",
    "                G = list(connected_component_subgraphs(G))[0]\n",
    "                lena = len(G.nodes())\n",
    "                Li = list(set(G.edges()) - set(nx.cycle_graph(lena).edges()))\n",
    "                link_length_list = []\n",
    "                for link in Li:\n",
    "                    link_length_list.append(abs(link[0] - link[1]))\n",
    "                sim_data_hist, sim_data_edges = np.histogram(link_length_list, bins=range(3, 1000), normed=True)\n",
    "            pdb_count +=1\n",
    "    if sim_data_hist is not None:\n",
    "        sim_data_hist = sim_data_hist/pdb_count\n",
    "    return sim_data_hist, sim_data_edges"
   ]
  },
  {
   "cell_type": "code",
   "execution_count": 28,
   "metadata": {},
   "outputs": [],
   "source": [
    "def do_analysis(calphas, link_length_list, t=8.0):\n",
    "    linklengths = []\n",
    "    r = calphas.positions\n",
    "    maxdist = 0\n",
    "    G = nx.empty_graph(len(r))\n",
    "    avd = 0\n",
    "    for i in range(len(r)):\n",
    "        for j in range(i):\n",
    "            dist = np.linalg.norm(r[i] - r[j])\n",
    "            maxdist = max(dist, maxdist)\n",
    "            avd += dist ** 2\n",
    "            if dist < t:\n",
    "                G.add_edge(i, j)\n",
    "                linklengths.append(dist)\n",
    "    avd = np.sqrt(avd) / (len(r))\n",
    "    # take largest component\n",
    "    if len(G.edges()) > 0:\n",
    "        G = list(connected_component_subgraphs(G))[0]\n",
    "        lena = len(G.nodes())\n",
    "        Li = list(set(G.edges()) - set(nx.cycle_graph(lena).edges()))\n",
    "        for link in Li:\n",
    "            #return(abs(link[0]-link[1]))\n",
    "            link_length_list.append(abs(link[0] - link[1]))"
   ]
  },
  {
   "cell_type": "code",
   "execution_count": 34,
   "metadata": {},
   "outputs": [],
   "source": [
    "import urllib\n",
    "import pandas as pd\n",
    "query = pd.read_csv('../data/mix.txt')\n"
   ]
  },
  {
   "cell_type": "code",
   "execution_count": 35,
   "metadata": {},
   "outputs": [
    {
     "data": {
      "text/plain": [
       "Index(['3UQI', '3V2L', '3V2B', '3UPV', '3V1O', '3V1Q', '3V1R', '3UPS', '3V3L',\n",
       "       '3URC', '3V2G', '3V2I', '3V2J', '3V2K', '3V2M', '3V2N', '3UQA', '3UQB',\n",
       "       '3V1N', '3UQ3', '3V3H', '3V3I', '3UQH', '3UQ8', '3V1W', '3UQ0', '3UPQ',\n",
       "       '3UQ2', '3URI', '3URJ', '3URL', '3V3M', '3URE', '3URF', '3V38', '3UR9',\n",
       "       '3V1V', '3UPW', '3UPX', '3V1X', '3UPZ', '3V1P', '3V1U', '3UQW', '3UQX',\n",
       "       '3V39', '3UQP', '3V33', '3UQU', '3V4J'],\n",
       "      dtype='object')"
      ]
     },
     "execution_count": 35,
     "metadata": {},
     "output_type": "execute_result"
    }
   ],
   "source": [
    "query.columns"
   ]
  },
  {
   "cell_type": "code",
   "execution_count": 36,
   "metadata": {},
   "outputs": [
    {
     "name": "stdout",
     "output_type": "stream",
     "text": [
      "108\n",
      "124\n",
      "180\n",
      "125\n",
      "165\n",
      "157\n",
      "165\n",
      "113\n",
      "89\n",
      "218\n",
      "252\n",
      "191\n",
      "258\n",
      "246\n",
      "258\n",
      "45\n",
      "194\n",
      "196\n",
      "290\n",
      "258\n",
      "263\n",
      "262\n",
      "159\n",
      "322\n",
      "358\n",
      "313\n",
      "313\n",
      "318\n",
      "328\n",
      "328\n",
      "329\n",
      "316\n",
      "199\n",
      "156\n",
      "349\n",
      "166\n",
      "319\n",
      "412\n",
      "447\n",
      "313\n",
      "465\n",
      "229\n",
      "417\n",
      "376\n",
      "383\n",
      "419\n",
      "377\n",
      "163\n",
      "378\n",
      "187\n"
     ]
    }
   ],
   "source": [
    "hundred = []\n",
    "twohundered = []\n",
    "threehundred = []\n",
    "fourhundred = []\n",
    "ll_100 = []\n",
    "ll_200 = []\n",
    "ll_300 = []\n",
    "ll_400 = []\n",
    "for pdb in query.columns:\n",
    "    #print (pdb)\n",
    "    download = 'https://files.rcsb.org/download/%s.pdb' %pdb\n",
    "    #print(download)\n",
    "    file_name = '../data/temp/'+pdb+'.pdb'\n",
    "    urllib.request.urlretrieve(download, file_name)\n",
    "    u = Universe(file_name)\n",
    "    calphas = u.select_atoms(\"name CA and segid \" + u.residues.segments.segids[0])\n",
    "    chain_len = len(calphas)\n",
    "    print(chain_len)\n",
    "    if chain_len in range(85,115):\n",
    "        hundred.append(pdb)\n",
    "        do_analysis(calphas, ll_100)\n",
    "        #print(len(ll_100))\n",
    "    if chain_len in range(185,215):\n",
    "        twohundered.append(pdb)\n",
    "        do_analysis(calphas, ll_200)\n",
    "    if chain_len in range(285,315):\n",
    "        threehundred.append(pdb)\n",
    "        do_analysis(calphas, ll_300)\n",
    "    if chain_len in range(385,415):\n",
    "        fourhundred.append(pdb)\n",
    "        do_analysis(calphas, ll_400)\n",
    "    os.remove(file_name)\n",
    "# data for length 100\n",
    "sim_data_hist_100, sim_data_edges = np.histogram(ll_100, bins=range(3, 1000), normed=True)\n",
    "sim_data_hist_100 = sim_data_hist_100/len(hundred)\n",
    "np.save('simdata_hist_100.npy', sim_data_hist_100)\n",
    "\n",
    "# data for length 200\n",
    "sim_data_hist_200, sim_data_edges = np.histogram(ll_200, bins=range(3, 1000), normed=True)\n",
    "sim_data_hist_200 = sim_data_hist_200/len(hundred)\n",
    "np.save('simdata_hist_200.npy', sim_data_hist_200)\n",
    "\n",
    "# data for length 300\n",
    "sim_data_hist_300, sim_data_edges = np.histogram(ll_300, bins=range(3, 1000), normed=True)\n",
    "sim_data_hist_300 = sim_data_hist_300/len(hundred)\n",
    "np.save('simdata_hist_300.npy', sim_data_hist_300)\n",
    "\n",
    "# data for length 400\n",
    "sim_data_hist_400, sim_data_edges = np.histogram(ll_400, bins=range(3, 1000), normed=True)\n",
    "sim_data_hist_400 = sim_data_hist_400/len(hundred)\n",
    "np.save('simdata_hist_400.npy', sim_data_hist_400)"
   ]
  },
  {
   "cell_type": "code",
   "execution_count": 37,
   "metadata": {},
   "outputs": [
    {
     "data": {
      "image/png": "[encoded data removed]",
      "text/plain": [
       "<Figure size 432x288 with 1 Axes>"
      ]
     },
     "metadata": {
      "needs_background": "light"
     },
     "output_type": "display_data"
    }
   ],
   "source": [
    "plot(sim_data_hist_100)\n",
    "plot(sim_data_hist_200)\n",
    "plot(sim_data_hist_300)\n",
    "plot(sim_data_hist_400)\n",
    "plt.yscale('log')\n",
    "plt.xscale('log')"
   ]
  },
  {
   "cell_type": "code",
   "execution_count": 38,
   "metadata": {},
   "outputs": [],
   "source": [
    "np.save('simdata_hist_100.npy', sim_data_hist_100)"
   ]
  },
  {
   "cell_type": "code",
   "execution_count": 48,
   "metadata": {},
   "outputs": [],
   "source": [
    "np.save('300_Ids.npy',threehundred)"
   ]
  },
  {
   "cell_type": "code",
   "execution_count": 41,
   "metadata": {},
   "outputs": [
    {
     "data": {
      "text/plain": [
       "['3UQI', '3UPS', '3V3L']"
      ]
     },
     "execution_count": 41,
     "metadata": {},
     "output_type": "execute_result"
    }
   ],
   "source": [
    "hundred"
   ]
  },
  {
   "cell_type": "code",
   "execution_count": 42,
   "metadata": {},
   "outputs": [
    {
     "data": {
      "text/plain": [
       "['3V2I', '3UQA', '3UQB', '3URE', '3V4J']"
      ]
     },
     "execution_count": 42,
     "metadata": {},
     "output_type": "execute_result"
    }
   ],
   "source": [
    "twohundered"
   ]
  },
  {
   "cell_type": "code",
   "execution_count": 43,
   "metadata": {},
   "outputs": [
    {
     "data": {
      "text/plain": [
       "['3UPW']"
      ]
     },
     "execution_count": 43,
     "metadata": {},
     "output_type": "execute_result"
    }
   ],
   "source": [
    "fourhundred"
   ]
  },
  {
   "cell_type": "code",
   "execution_count": 47,
   "metadata": {},
   "outputs": [
    {
     "data": {
      "text/plain": [
       "50"
      ]
     },
     "execution_count": 47,
     "metadata": {},
     "output_type": "execute_result"
    }
   ],
   "source": [
    "len(query.columns)"
   ]
  },
  {
   "cell_type": "code",
   "execution_count": null,
   "metadata": {},
   "outputs": [],
   "source": []
  }
 ],
 "metadata": {
  "kernelspec": {
   "display_name": "Python 3",
   "language": "python",
   "name": "python3"
  },
  "language_info": {
   "codemirror_mode": {
    "name": "ipython",
    "version": 3
   },
   "file_extension": ".py",
   "mimetype": "text/x-python",
   "name": "python",
   "nbconvert_exporter": "python",
   "pygments_lexer": "ipython3",
   "version": "3.9.2"
  }
 },
 "nbformat": 4,
 "nbformat_minor": 4
}
