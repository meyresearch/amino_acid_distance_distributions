{
 "cells": [
  {
   "cell_type": "markdown",
   "metadata": {},
   "source": [
    "# Plot link lengths\n"
   ]
  },
  {
   "cell_type": "markdown",
   "metadata": {},
   "source": [
    "### Imports"
   ]
  },
  {
   "cell_type": "code",
   "execution_count": 6,
   "metadata": {},
   "outputs": [
    {
     "name": "stdout",
     "output_type": "stream",
     "text": [
      "Populating the interactive namespace from numpy and matplotlib\n"
     ]
    }
   ],
   "source": [
    "%pylab inline\n",
    "import seaborn as sbn\n",
    "import networkx as nx\n",
    "import pickle\n",
    "import scipy as sp\n",
    "import scipy.stats\n",
    "from scipy.optimize import curve_fit\n",
    "import glob\n",
    "import os\n",
    "import Bio\n",
    "import MDAnalysis as mda\n",
    "import numpy as np \n",
    "import warnings\n",
    "warnings.filterwarnings('ignore')"
   ]
  },
  {
   "cell_type": "markdown",
   "metadata": {},
   "source": [
    "## Theory function definitions\n"
   ]
  },
  {
   "cell_type": "code",
   "execution_count": 51,
   "metadata": {},
   "outputs": [],
   "source": [
    "def nth_harmonic(n):\n",
    "    '''\n",
    "    Compute the nth harmonic number, i.e. the sum of the reciprocals of the first n natural numbers.\n",
    "    \n",
    "    Parameters\n",
    "    ----------\n",
    "    n: int\n",
    "        The number of natural numbers for the harmonic.\n",
    "    \n",
    "    Return\n",
    "    ------\n",
    "    harmonic: float\n",
    "        The nth harmonic number.\n",
    "    '''\n",
    "    # Ensure n is an integer\n",
    "    N = int(n)\n",
    "    # Initialise the harmonic number as 1\n",
    "    harmonic = 1.00\n",
    "    for i in range(2, N + 1):\n",
    "        harmonic += 1/i\n",
    "    return harmonic\n",
    "\n",
    "\n",
    "def f_high(link_length, chain_length, half_N_harmonic):\n",
    "    '''\n",
    "    Calculate f for k >> 1. \n",
    "    \n",
    "    Parameters\n",
    "    ----------\n",
    "    link_length: int\n",
    "        The separation s betweeen each link. Bounds: 2 <= s < N/2\n",
    "    chain_length: int\n",
    "        The chain length, i.e. number N of C-alphas in a chain. \n",
    "        Also the maxium possible links at the start. \n",
    "    half_N_harmonic: float\n",
    "        The \"N/2\"-th harmonic number. \n",
    "    \n",
    "    Return\n",
    "    ------\n",
    "    f_high: float\n",
    "        The sequence distribution evaluated at a given link_length, \n",
    "        with k >> 1.\n",
    "    '''\n",
    "    H_s = nth_harmonic(link_length)\n",
    "    f_high = (2/N) * (((half_N_harmonic - H_s + 1) / (half_N_harmonic - 1)) * link_length - (half_N_harmonic / (half_N_harmonic - 1)))\n",
    "    return f_high\n",
    "\n",
    "\n",
    "def f_low(link_length, chain_length):\n",
    "    '''\n",
    "    Calculate f for k << N/2. \n",
    "    \n",
    "    Parameters\n",
    "    ----------\n",
    "    link_length: int\n",
    "        The separation s betweeen each link. Bounds: 2 <= s < N/2\n",
    "    chain_length: int\n",
    "        The chain length, i.e. number N of C-alphas in a chain. \n",
    "        Also the maxium possible links at the start. \n",
    "\n",
    "    Return\n",
    "    ------\n",
    "    f_low: float\n",
    "        The sequence distribution evaluated at a given link_length, \n",
    "        with k << N/2.\n",
    "    '''\n",
    "    f_low = - (2/chain_length**2) * link_length**2 + ((2/chain_length) + (6/chain_length))*link_length - ((2/chain_length) + (4/chain_length**2))\n",
    "    return f_low\n",
    "\n",
    "def P_link_lengths(link_length, chain_length, half_N_harmonic, a, A):\n",
    "    '''\n",
    "    Evaluate the probability distribution of the realised residue distances\n",
    "    of all added links, as given by the final approximation in Eq.(12) with\n",
    "    all C_k = A.\n",
    "    \n",
    "    Parameters\n",
    "    ----------\n",
    "    link_length: int\n",
    "        The separation s betweeen each link. Bounds: 2 <= s < N/2\n",
    "    chain_length: int\n",
    "        The chain length, i.e. number N of C-alphas in a chain. \n",
    "        Also the maxium possible links at the start. \n",
    "    half_N_harmonic: float\n",
    "        The \"N/2\"-th harmonic number. \n",
    "    a: int\n",
    "        The number of steps used from Eq.(7).\n",
    "    A: int \n",
    "        The factor from the geometric series in Eq.(12), i.e. C_k = A.\n",
    "    \n",
    "    Return\n",
    "    ------\n",
    "    P: float\n",
    "        Probability distribution of the realised residue distances \n",
    "        of all added links.\n",
    "    '''\n",
    "    f_l = f_low(link_length, chain_length)\n",
    "    f_h = f_high(link_length, chain_length, half_N_harmonic)\n",
    "    P = (((1-f_l)/(1-f_h))**a) * (A/f_h)\n",
    "    return P\n",
    "\n",
    "def P_in_link_lengths(link_length, chain_length, half_N_harmonic, a, k):\n",
    "    '''\n",
    "    Evaluate the probability distribution of the realised residue distances\n",
    "    of all added links, as given by Eq.(12), with N/(N-3) approx. 1 and \n",
    "    C_k not all set to C.\n",
    "    \n",
    "    Parameters\n",
    "    ----------\n",
    "    link_length: int\n",
    "        The separation s betweeen each link. Bounds: 2 <= s < N/2\n",
    "    chain_length: int\n",
    "        The chain length, i.e. number N of C-alphas in a chain. \n",
    "        Also the maxium possible links at the start. \n",
    "    half_N_harmonic: float\n",
    "        The \"N/2\"-th harmonic number. \n",
    "    a: int\n",
    "        The number of steps used from Eq.(7).\n",
    "    k: int \n",
    "        The power k used in Eq.(11), i.e. the step number.\n",
    "    \n",
    "    Return\n",
    "    ------\n",
    "    P_in: float\n",
    "        Probability distribution of the realised residue distances \n",
    "        of all added links.\n",
    "    '''\n",
    "    \n",
    "    sum_range_C_k = range(2, N//2)\n",
    "    \n",
    "    for s in sum_range_C_k:\n",
    "        f_low = f_low(s, chain_length)\n",
    "        f_high = f_high(s, chain_length, half_N_harmonic)\n",
    "        C_k = sum(F_k(f_low, f_high, chain_length, a, k))\n",
    "    \n",
    "    f_low = f_low(link_length, chain_length)\n",
    "    f_high = f_high(link_length, chain_length, half_N_harmonic)\n",
    "    P_in = (F_k(f_low, f_high, chain_length, a, k))/C_k\n",
    "    return P_in\n",
    "\n",
    "def F_k(f_low, f_high, chain_length, a, k):\n",
    "    '''\n",
    "    Calculate the F_k distribution as given in Eq.(11). \n",
    "    That is, create the pool from which we draw links at step k. \n",
    "    \n",
    "    Parameters\n",
    "    ----------\n",
    "    f_low: float\n",
    "        The sequence distribution evaluated at a given link_length, \n",
    "        with k << N/2.\n",
    "    f_high: float\n",
    "        The sequence distribution evaluated at a given link_length, \n",
    "        with k >> 1.\n",
    "    chain_length: int\n",
    "        The chain length, i.e. number N of C-alphas in a chain. \n",
    "        Also the maxium possible links at the start. \n",
    "    a: int\n",
    "        The number of steps used from Eq.(7).\n",
    "    k: int\n",
    "        The power k used in Eq.(11), i.e. the step number.\n",
    "\n",
    "    Return\n",
    "    ------\n",
    "    F_k: float\n",
    "        The function given in Eq.(11).\n",
    "    '''\n",
    "    F_k = chain_length * (((1 - f_low)/(1 - f_high))**a) * (1 - f_high)**k\n",
    "    return F_k\n"
   ]
  },
  {
   "cell_type": "markdown",
   "metadata": {},
   "source": [
    "## Functions for plotting"
   ]
  },
  {
   "cell_type": "code",
   "execution_count": 52,
   "metadata": {},
   "outputs": [],
   "source": [
    "def get_simulation_data(length):\n",
    "    '''\n",
    "    Get simulation data for a given length.\n",
    "    \n",
    "    Parameters\n",
    "    ----------\n",
    "    length: str\n",
    "        Link length: 100, 200 or 300.\n",
    "    \n",
    "    Return\n",
    "    ------\n",
    "    sim_data_tuple: tuple\n",
    "        A tuple containing the simulation data histogram and the\n",
    "        data edges from the histogram.\n",
    "    '''\n",
    "    simulation_data_files = glob.glob(f'../data/K50/Nora50_matrix_{length}_*')\n",
    "    link_length_list = []\n",
    "    histogram_list = None\n",
    "    # Loop over simulation files\n",
    "    for file in simulation_data_files:\n",
    "        matrix = np.loadtxt(file)\n",
    "        '-----------------------'\n",
    "        matrix[matrix > 1] = 0 # ???\n",
    "        '-----------------------'\n",
    "        protein_graph = nx.from_numpy_matrix(matrix)\n",
    "        links = list(protein_graph.edges())\n",
    "        for link in links:\n",
    "            link_length_list.append(abs(link[0] - link[1]))\n",
    "        histogram, edges = np.histogram(link_length_list, bins = range(3, 1000), density = True)\n",
    "    # Normalise over the number of simulations\n",
    "    histogram = histogram / len(simulation_data_files)\n",
    "    sim_data_tuple = (histogram, edges)\n",
    "    return sim_data_tuple\n",
    "\n",
    "    \n",
    "    \n",
    "def normalise_data(data_array, bin_width):\n",
    "    '''\n",
    "    Take a data array and width of bins and normalise the data array.\n",
    "    \n",
    "    Parameters\n",
    "    ----------\n",
    "    data_array: np.ndarray\n",
    "        Array of data to be normalised\n",
    "    bin_width: int\n",
    "        Width of a bin from the histogram.\n",
    "   \n",
    "    Return\n",
    "    ------\n",
    "    normalised_array: np.ndarray\n",
    "        Normalised data array.\n",
    "    '''\n",
    "    data_sum = 0\n",
    "    for i in range(len(data_array)):\n",
    "        data_sum += data_array[i] * bin_width\n",
    "    normalised_array = data_array / data_sum\n",
    "    return normalised_array\n",
    "\n"
   ]
  },
  {
   "cell_type": "code",
   "execution_count": 39,
   "metadata": {},
   "outputs": [],
   "source": [
    "def get_sim_data_for_given_length(length):\n",
    "    sim_data_files = glob.glob('../data/K50/Nora50_matrix_%s_*' %length)\n",
    "    link_length_list = []\n",
    "    sim_data_hist = None\n",
    "    for f in sim_data_files:\n",
    "        M = np.loadtxt(f) \n",
    "        M[M > 1] = 0\n",
    "        G = nx.from_numpy_matrix(M)\n",
    "        sim_Li = list(G.edges())\n",
    "        for link in sim_Li:\n",
    "            link_length_list.append(abs(link[0] - link[1]))\n",
    "        sim_data_hist, sim_data_edges = np.histogram(link_length_list, bins=range(3, 1000), normed=True)\n",
    "        # normalise over number of simulations:\n",
    "    sim_data_hist = sim_data_hist/len(sim_data_files)\n",
    "    return sim_data_hist, sim_data_edges\n",
    "\n",
    "data, edges = get_sim_data_for_given_length(length)"
   ]
  },
  {
   "cell_type": "code",
   "execution_count": 55,
   "metadata": {},
   "outputs": [
    {
     "data": {
      "image/png": "[encoded data removed]",
      "text/plain": [
       "<Figure size 576x288 with 1 Axes>"
      ]
     },
     "metadata": {
      "needs_background": "light"
     },
     "output_type": "display_data"
    },
    {
     "data": {
      "image/png": "[encoded data removed]",
      "text/plain": [
       "<Figure size 576x288 with 1 Axes>"
      ]
     },
     "metadata": {
      "needs_background": "light"
     },
     "output_type": "display_data"
    },
    {
     "data": {
      "image/png": "[encoded data removed]",
      "text/plain": [
       "<Figure size 576x288 with 1 Axes>"
      ]
     },
     "metadata": {
      "needs_background": "light"
     },
     "output_type": "display_data"
    }
   ],
   "source": [
    "link_length_ranges = ['100', '200', '300']\n",
    "\n",
    "for link_length in link_length_ranges:\n",
    "    \n",
    "    # Load PDB data\n",
    "    pdb_ids = np.load(f'data_for_plotting/ids_{link_length}.npy')\n",
    "    pdb_mean_data = np.load(f'data_for_plotting/means_{link_length}.npy')\n",
    "    pdb_median_data = np.load(f'data_for_plotting/medians_{link_length}.npy')\n",
    "    \n",
    "    # Load simulation data\n",
    "    if link_length == '200':\n",
    "        sim_data, sim_edges = get_simulation_data('209')\n",
    "    elif link_length == '300':\n",
    "        sim_data, sim_edges = get_simulation_data('302')\n",
    "    else: \n",
    "        sim_data, sim_edges = get_simulation_data(link_length)\n",
    "    #sim_data, sim_edges = get_sim_data_for_given_length(link_length)\n",
    "    # Get PDB bin widths and centres\n",
    "    pdb_edges = range(3, 1000)\n",
    "    pdb_bin_centres = pdb_edges[:-1] + np.diff(pdb_edges)/2\n",
    "    pdb_bin_width = pdb_edges[1] - pdb_edges[0]\n",
    "    \n",
    "    # Get simulation bin widths and centres\n",
    "    sim_bin_centres = sim_edges[:-1] + np.diff(sim_edges)/2\n",
    "    sim_bin_width = sim_edges[1] - sim_edges[0]\n",
    "    \n",
    "    # Normalise PDB data\n",
    "    pdb_mean_data = normalise_data(pdb_mean_data, pdb_bin_width)\n",
    "    pdb_median_data = normalise_data(pdb_median_data, pdb_bin_width)\n",
    "    \n",
    "    # Normalise simulation data\n",
    "    sim_data = normalise_data(sim_data, sim_bin_width)\n",
    "    \n",
    "    # Plotting\n",
    "    fig = plt.figure(figsize = (8,4))\n",
    "    ax = fig.add_subplot()\n",
    "    \n",
    "    # Plot PDB data\n",
    "    ax.scatter(pdb_bin_centres, pdb_mean_data, marker = '.', label = f'PDB {link_length} means')\n",
    "    ax.scatter(pdb_bin_centres, pdb_median_data, marker = '+', label = f'PDB {link_length} medians')\n",
    "\n",
    "    # Plot simulation data \n",
    "    ax.scatter(sim_bin_centres, sim_data, marker = '^', label = f'SIM {link_length}')\n",
    "    \n",
    "    # Plot theory \n",
    "    N=1000\n",
    "    H_N_2=nth_harmonic(N//2)\n",
    "    A=1\n",
    "    a=6\n",
    "    sumrange=range(2,N//2)\n",
    "    plotrange=range(20,N//2)\n",
    "    ax.plot(sumrange,[P_link_lengths(s,N,H_N_2,a,A) for s in sumrange],label='P')\n",
    "    \n",
    "    \n",
    "    ax.set_yscale('log')\n",
    "    ax.set_xscale('log')\n",
    "    ax.set_xlim([5,100])\n",
    "#    ax.set_ylim([0.0001, 0.0001])\n",
    "    ax.legend()\n",
    "    ax.set_ylabel('P(s)')\n",
    "    ax.set_xlabel('s / a.u.')\n",
    "    plt.show()"
   ]
  },
  {
   "cell_type": "code",
   "execution_count": 9,
   "metadata": {},
   "outputs": [
    {
     "data": {
      "text/plain": [
       "range(3, 999)"
      ]
     },
     "execution_count": 9,
     "metadata": {},
     "output_type": "execute_result"
    }
   ],
   "source": []
  },
  {
   "cell_type": "code",
   "execution_count": 14,
   "metadata": {},
   "outputs": [],
   "source": [
    "pdb_ids_100 = np.load('data_for_plotting/ids_100.npy')\n",
    "pdb_means_100 = np.load('data_for_plotting/data_mean_list_100.npy')\n",
    "#pdb_medians_100 = np.load('data_for_plotting/data_median_list_100.npy')"
   ]
  },
  {
   "cell_type": "code",
   "execution_count": 15,
   "metadata": {},
   "outputs": [],
   "source": [
    "edges = range(3, 1000)\n",
    "pdb_bin_centres = edges[:-1] + np.diff(edges)/2"
   ]
  },
  {
   "cell_type": "code",
   "execution_count": 29,
   "metadata": {},
   "outputs": [
    {
     "data": {
      "image/png": "[encoded data removed]",
      "text/plain": [
       "<Figure size 432x288 with 1 Axes>"
      ]
     },
     "metadata": {
      "needs_background": "light"
     },
     "output_type": "display_data"
    }
   ],
   "source": [
    "fig = plt.figure()\n",
    "ax = fig.add_subplot()\n",
    "ax.scatter(pdb_bin_centres, pdb_means_100, marker = \"x\")\n",
    "ax.set_yscale('log')\n",
    "ax.set_xscale('log')\n",
    "ax.set_xlim(4,100)\n",
    "ax.set_ylim(0.000001, 0.001) # Why are we cutting it off? What is the justification?\n",
    "plt.show()"
   ]
  },
  {
   "cell_type": "code",
   "execution_count": null,
   "metadata": {},
   "outputs": [],
   "source": []
  }
 ],
 "metadata": {
  "kernelspec": {
   "display_name": "Python 3",
   "language": "python",
   "name": "python3"
  },
  "language_info": {
   "codemirror_mode": {
    "name": "ipython",
    "version": 3
   },
   "file_extension": ".py",
   "mimetype": "text/x-python",
   "name": "python",
   "nbconvert_exporter": "python",
   "pygments_lexer": "ipython3",
   "version": "3.9.7"
  }
 },
 "nbformat": 4,
 "nbformat_minor": 4
}
