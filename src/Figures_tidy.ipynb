{
 "cells": [
  {
   "cell_type": "code",
   "execution_count": 1,
   "metadata": {},
   "outputs": [
    {
     "name": "stdout",
     "output_type": "stream",
     "text": [
      "Populating the interactive namespace from numpy and matplotlib\n"
     ]
    }
   ],
   "source": [
    "%pylab inline\n",
    "import seaborn as sbn\n",
    "import networkx as nx\n",
    "import pickle\n",
    "import scipy as sp\n",
    "import scipy.stats\n",
    "from scipy.optimize import curve_fit\n",
    "import glob\n",
    "import os\n",
    "from Bio.PDB import *\n",
    "from MDAnalysis import *\n",
    "import warnings\n",
    "warnings.filterwarnings('ignore')"
   ]
  },
  {
   "cell_type": "code",
   "execution_count": 39,
   "metadata": {},
   "outputs": [
    {
     "data": {
      "text/plain": [
       "<Figure size 432x288 with 0 Axes>"
      ]
     },
     "metadata": {},
     "output_type": "display_data"
    }
   ],
   "source": [
    "sbn.set(font_scale=1.2)  # crazy big\n",
    "sbn.set_style(\"ticks\")\n",
    "sbn.despine()"
   ]
  },
  {
   "cell_type": "code",
   "execution_count": 60,
   "metadata": {},
   "outputs": [],
   "source": [
    "lengths = [3, 4, 5, 6, 7, 8, 9, 10, 11, 12, 13, 14, 16, 17, 19, 21, 23, 25, 28, 30, 33, 36, 40, 44, 48, 52, 58, 63, 69,\n",
    "           76, 83, 91, 100, 110, 120, 132, 145, 158, 174, 191, 209, 229, 251, 275, 302]\n",
    "# Some sensible index?\n",
    "heixdip = 2"
   ]
  },
  {
   "cell_type": "code",
   "execution_count": 61,
   "metadata": {},
   "outputs": [],
   "source": [
    "def func(x, a, b):\n",
    "    return a * x ** (-b)\n",
    "\n",
    "\n",
    "def func2(x, a):\n",
    "    return a / x\n",
    "\n",
    "\n",
    "def theofunc(x, C, N, ex):\n",
    "    return (C) * np.power(N / (2 * (-x ** 2 + N * x - N)), ex)\n",
    "\n",
    "\n",
    "def connected_component_subgraphs(G):\n",
    "    for c in nx.connected_components(G):\n",
    "        yield G.subgraph(c)"
   ]
  },
  {
   "cell_type": "code",
   "execution_count": 5,
   "metadata": {},
   "outputs": [],
   "source": [
    "## Simulations of a given length \n",
    "def get_sim_data_for_given_length(length):\n",
    "    sim_data_files = glob.glob('../data/K50/Nora50_matrix_%s_*' %length)\n",
    "    link_length_list = []\n",
    "    for f in sim_data_files:\n",
    "        M = np.loadtxt(f)\n",
    "        M[M > 1] = 0\n",
    "        G = nx.from_numpy_matrix(M)\n",
    "        sim_Li = list(G.edges())\n",
    "        for link in sim_Li:\n",
    "            link_length_list.append(abs(link[0] - link[1]))\n",
    "        sim_data_hist, sim_data_edges = np.histogram(link_length_list, bins=range(3, 1000))\n",
    "        # normalise over number of simulations:\n",
    "    sim_data_hist = sim_data_hist/len(sim_data_files)\n",
    "    return sim_data_hist, sim_data_edges"
   ]
  },
  {
   "cell_type": "code",
   "execution_count": 58,
   "metadata": {},
   "outputs": [],
   "source": [
    "def get_pdb_data_for_given_length_range(pdb_files, lower_bound, upper_bound, verbose=False):   \n",
    "    t = 8.0\n",
    "    linklengths = []\n",
    "    pdb_count = 0\n",
    "    sim_data_hist = None\n",
    "    sim_data_edges = None\n",
    "    for pdb in pdb_files:\n",
    "        u = Universe(pdb)\n",
    "        calphas = u.select_atoms(\"name CA and segid \" + u.residues.segments.segids[0])\n",
    "        if verbose:\n",
    "            print(len(calphas))\n",
    "        if lower_bound <= len(calphas) <= upper_bound:\n",
    "            r = calphas.positions\n",
    "            maxdist = 0\n",
    "            G = nx.empty_graph(len(r))\n",
    "            avd = 0\n",
    "            for i in range(len(r)):\n",
    "                for j in range(i):\n",
    "                    dist = np.linalg.norm(r[i] - r[j])\n",
    "                    maxdist = max(dist, maxdist)\n",
    "                    avd += dist ** 2\n",
    "                    if dist < t:\n",
    "                        G.add_edge(i, j)\n",
    "                        linklengths.append(dist)\n",
    "            avd = np.sqrt(avd) / (len(r))\n",
    "            # take largest component\n",
    "            if len(G.edges()) > 0:\n",
    "                G = list(connected_component_subgraphs(G))[0]\n",
    "                lena = len(G.nodes())\n",
    "                Li = list(set(G.edges()) - set(nx.cycle_graph(lena).edges()))\n",
    "                link_length_list = []\n",
    "                for link in Li:\n",
    "                    link_length_list.append(abs(link[0] - link[1]))\n",
    "                sim_data_hist, sim_data_edges = np.histogram(link_length_list, bins=range(3, 1000))\n",
    "            pdb_count +=1\n",
    "    if sim_data_hist is not None:\n",
    "        sim_data_hist = sim_data_hist/pdb_count\n",
    "    return sim_data_hist, sim_data_edges\n",
    "\n",
    "    "
   ]
  },
  {
   "cell_type": "code",
   "execution_count": 7,
   "metadata": {},
   "outputs": [],
   "source": [
    "pdb_data, edges_pdb = get_pdb_data_for_given_length_range(190,210)\n",
    "bin_centers_pdb = edges_pdb[:-1] + np.diff(edges_pdb)/2"
   ]
  },
  {
   "cell_type": "code",
   "execution_count": 8,
   "metadata": {},
   "outputs": [],
   "source": [
    "# Read simulation data of length 209\n",
    "sim_data, edges = get_sim_data_for_given_length('209')\n",
    "bin_centers = edges[:-1] + np.diff(edges)/2"
   ]
  },
  {
   "cell_type": "code",
   "execution_count": 9,
   "metadata": {},
   "outputs": [
    {
     "name": "stdout",
     "output_type": "stream",
     "text": [
      "sim fit [87.99991279  0.96216007]\n",
      "sim fit [17.03377984  1.30239328]\n"
     ]
    },
    {
     "data": {
      "text/plain": [
       "Text(0.5, 0, 'link lengths in [a.u.]')"
      ]
     },
     "execution_count": 9,
     "metadata": {},
     "output_type": "execute_result"
    },
    {
     "data": {
      "image/png": "[encoded data removed]",
      "text/plain": [
       "<Figure size 576x432 with 1 Axes>"
      ]
     },
     "metadata": {},
     "output_type": "display_data"
    }
   ],
   "source": [
    "## Plotting\n",
    "plt.figure(figsize=(8,6))\n",
    "\n",
    "# plotting the simulation data\n",
    "plt.plot(bin_centers,sim_data, linewidth=0, marker='^', label='sim 200')\n",
    "fit, ficov = curve_fit(func,bin_centers[heixdip:-1], sim_data[heixdip:-1])\n",
    "print('sim fit', fit)\n",
    "plt.plot(bin_centers, func(bin_centers, fit[0], fit[1]), '--',color ='k', lw=2)\n",
    "\n",
    "# plotting pdb data\n",
    "plt.plot(bin_centers_pdb,pdb_data, linewidth=0, marker='o', label='sim 200')\n",
    "fit, ficov = curve_fit(func,bin_centers_pdb[heixdip:-1], pdb_data[heixdip:-1])\n",
    "print('pdb fit', fit)\n",
    "plt.plot(bin_centers_pdb, func(bin_centers_pdb, fit[0], fit[1]), '--',color ='k', lw=2)\n",
    "\n",
    "# theory\n",
    "simlen = np.linspace(0, 100, num=50)\n",
    "plt.plot(np.array(simlen), theofunc(np.array(simlen), 80.0, 200.0, 0.8), label='theory', lw =2.5, color='purple')\n",
    "\n",
    "\n",
    "plt.yscale('log')\n",
    "plt.xscale('log')\n",
    "plt.xlim([4, 100])\n",
    "plt.ylim([0.01, 200])\n",
    "#plt.legend()\n",
    "sbn.despine()\n",
    "plt.ylabel(\"P(link lengths)\")\n",
    "plt.xlabel(\"link lengths in [a.u.]\")\n",
    "\n"
   ]
  },
  {
   "cell_type": "code",
   "execution_count": null,
   "metadata": {},
   "outputs": [],
   "source": []
  },
  {
   "cell_type": "markdown",
   "metadata": {},
   "source": [
    "## GPCRs"
   ]
  },
  {
   "cell_type": "markdown",
   "metadata": {},
   "source": [
    "### 2.1 Downloading GPCRS:"
   ]
  },
  {
   "cell_type": "code",
   "execution_count": 66,
   "metadata": {},
   "outputs": [],
   "source": [
    "import urllib\n",
    "query = pd.read_csv('../data/trans_membrane_helical/200_300.csv')"
   ]
  },
  {
   "cell_type": "code",
   "execution_count": 72,
   "metadata": {},
   "outputs": [],
   "source": [
    "for pdb in query.columns:\n",
    "    #print (pdb)\n",
    "    download = 'https://files.rcsb.org/download/%s.pdb' %pdb\n",
    "    #print(download)\n",
    "    urllib.request.urlretrieve(download, '../data/trans_membrane_helical/200_300/'+pdb+'.pdb')"
   ]
  },
  {
   "cell_type": "code",
   "execution_count": 73,
   "metadata": {},
   "outputs": [
    {
     "name": "stdout",
     "output_type": "stream",
     "text": [
      "156\n",
      "230\n",
      "229\n",
      "197\n",
      "182\n",
      "106\n",
      "203\n",
      "176\n",
      "52\n",
      "191\n",
      "244\n",
      "446\n",
      "267\n",
      "235\n",
      "105\n",
      "239\n",
      "264\n",
      "189\n",
      "202\n",
      "234\n",
      "231\n",
      "203\n",
      "189\n",
      "174\n",
      "223\n",
      "256\n",
      "106\n",
      "189\n",
      "86\n",
      "261\n",
      "195\n",
      "204\n",
      "268\n",
      "227\n",
      "181\n",
      "104\n",
      "198\n",
      "257\n",
      "100\n",
      "264\n",
      "272\n",
      "231\n",
      "269\n",
      "222\n",
      "215\n",
      "232\n",
      "273\n",
      "224\n",
      "188\n",
      "225\n",
      "271\n",
      "264\n",
      "267\n",
      "259\n",
      "23\n",
      "230\n",
      "222\n",
      "234\n",
      "221\n",
      "224\n",
      "250\n",
      "216\n",
      "195\n",
      "180\n",
      "229\n",
      "207\n",
      "207\n",
      "207\n",
      "212\n",
      "308\n",
      "231\n",
      "225\n",
      "274\n",
      "228\n",
      "249\n",
      "139\n",
      "181\n",
      "225\n",
      "264\n",
      "240\n",
      "192\n",
      "178\n",
      "280\n",
      "106\n",
      "106\n",
      "251\n",
      "275\n",
      "231\n",
      "293\n",
      "99\n",
      "139\n",
      "428\n",
      "233\n",
      "234\n",
      "235\n",
      "296\n",
      "239\n",
      "25\n",
      "271\n",
      "175\n"
     ]
    }
   ],
   "source": [
    "pdb_files = glob.glob(\"../data/trans_membrane_helical/200_300/*.pdb\")\n",
    "pdb_data, edges_pdb = get_pdb_data_for_given_length_range(pdb_files, 190,220, verbose=True)"
   ]
  },
  {
   "cell_type": "code",
   "execution_count": 76,
   "metadata": {},
   "outputs": [
    {
     "name": "stdout",
     "output_type": "stream",
     "text": [
      "sim fit [2.96797448 1.05283627]\n"
     ]
    },
    {
     "data": {
      "text/plain": [
       "Text(0.5, 0, 'link lengths in [a.u.]')"
      ]
     },
     "execution_count": 76,
     "metadata": {},
     "output_type": "execute_result"
    },
    {
     "data": {
      "image/png": "[encoded data removed]",
      "text/plain": [
       "<Figure size 432x288 with 1 Axes>"
      ]
     },
     "metadata": {},
     "output_type": "display_data"
    }
   ],
   "source": [
    "# plotting pdb data\n",
    "bin_centers_pdb = edges_pdb[:-1] + np.diff(edges_pdb)/2\n",
    "plt.plot(bin_centers_pdb,pdb_data, linewidth=0, marker='o', label='sim 200')\n",
    "fit, ficov = curve_fit(func,bin_centers_pdb[heixdip:-1], pdb_data[heixdip:-1])\n",
    "print('sim fit', fit)\n",
    "plt.plot(bin_centers_pdb, func(bin_centers_pdb, fit[0], fit[1]), '--',color ='k', lw=2)\n",
    "\n",
    "plt.yscale('log')\n",
    "plt.xscale('log')\n",
    "plt.xlim([5, 100])\n",
    "plt.ylim([0.01, 200])\n",
    "#plt.legend()\n",
    "sbn.despine()\n",
    "plt.ylabel(\"P(link lengths)\")\n",
    "plt.xlabel(\"link lengths in [a.u.]\")"
   ]
  },
  {
   "cell_type": "markdown",
   "metadata": {},
   "source": [
    "## PDB Statistics"
   ]
  },
  {
   "cell_type": "code",
   "execution_count": 28,
   "metadata": {},
   "outputs": [],
   "source": [
    "import pandas as pd"
   ]
  },
  {
   "cell_type": "code",
   "execution_count": 29,
   "metadata": {},
   "outputs": [],
   "source": [
    "data = pd.read_csv('../data/pdb_statistics/residue_count.csv', names=['Residue Count', 'Number of Proteins'])"
   ]
  },
  {
   "cell_type": "code",
   "execution_count": 42,
   "metadata": {},
   "outputs": [
    {
     "data": {
      "image/png": "[encoded data removed]",
      "text/plain": [
       "<Figure size 576x288 with 1 Axes>"
      ]
     },
     "metadata": {},
     "output_type": "display_data"
    }
   ],
   "source": [
    "ax = data.plot.bar(x='Residue Count', y='Number of Proteins', rot=90, figsize=(8,4), legend=False)\n",
    "ax.set_ylabel(\"Number of Entries\")\n",
    "sbn.despine()"
   ]
  },
  {
   "cell_type": "code",
   "execution_count": null,
   "metadata": {},
   "outputs": [],
   "source": []
  }
 ],
 "metadata": {
  "kernelspec": {
   "display_name": "Python 3",
   "language": "python",
   "name": "python3"
  },
  "language_info": {
   "codemirror_mode": {
    "name": "ipython",
    "version": 3
   },
   "file_extension": ".py",
   "mimetype": "text/x-python",
   "name": "python",
   "nbconvert_exporter": "python",
   "pygments_lexer": "ipython3",
   "version": "3.8.2"
  }
 },
 "nbformat": 4,
 "nbformat_minor": 4
}
