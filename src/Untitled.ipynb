{
 "cells": [
  {
   "cell_type": "markdown",
   "id": "65defd11",
   "metadata": {},
   "source": [
    "# Plotting link lengths"
   ]
  },
  {
   "cell_type": "markdown",
   "id": "ce87084d",
   "metadata": {},
   "source": [
    "## Imports"
   ]
  },
  {
   "cell_type": "code",
   "execution_count": 4,
   "id": "44a9f63c",
   "metadata": {},
   "outputs": [
    {
     "name": "stdout",
     "output_type": "stream",
     "text": [
      "Populating the interactive namespace from numpy and matplotlib\n"
     ]
    }
   ],
   "source": [
    "%pylab inline\n",
    "import numpy as np\n",
    "import glob"
   ]
  },
  {
   "cell_type": "markdown",
   "id": "65c46c0e",
   "metadata": {},
   "source": [
    "## Defining fitting functions"
   ]
  },
  {
   "cell_type": "code",
   "execution_count": 5,
   "id": "2cf5c825",
   "metadata": {},
   "outputs": [],
   "source": [
    "def theory_function(x, C, N, ex):\n",
    "    '''Return the theoretical fit.'''\n",
    "    return C * np.power(N / (2 * (- x ** 2 + N * x - N)), ex)"
   ]
  },
  {
   "cell_type": "markdown",
   "id": "417ec86f",
   "metadata": {},
   "source": [
    "## Simulated data for given lengths"
   ]
  },
  {
   "cell_type": "code",
   "execution_count": 6,
   "id": "03a63907",
   "metadata": {},
   "outputs": [],
   "source": [
    "def get_sim_data_for_given_length(length):\n",
    "    '''Get link length data from simulated files'''\n",
    "    sim_data_files = glob.glob(f'../data/K50/Nora50_matrix_{length}_*')\n",
    "    link_length_list = []\n",
    "    sim_data_hist = None\n",
    "    # Loop over simulation data files\n",
    "    for file in sim_data_files:\n",
    "        # Create a matrix from data\n",
    "        matrix = np.loadtxt(file)\n",
    "        matrix[matrix > 1] = 0\n",
    "        # Create graph from matrix\n",
    "        graph = nx.from_numpy_matrix(matrix)\n",
    "        # Get links as graph edges\n",
    "        simulation_links = list(graph.edges())\n",
    "        # Loop over links\n",
    "        for link in simulation_links:\n",
    "            # Get link lengths\n",
    "            link_length_list.append(abs(link[0]-link[1]))\n",
    "        sim_data_hist, sim_data_edges = np.histogram(link_length_list, bins = range(3, 1000), density = True)\n",
    "    # Normalise over number of simulations:\n",
    "    sim_data_hist = sim_data_hist / len(sim_data_files)\n",
    "    return sim_data_hist, sim_data_edges"
   ]
  },
  {
   "cell_type": "markdown",
   "id": "e1e7783a",
   "metadata": {},
   "source": [
    "## 85 - 115\n"
   ]
  },
  {
   "cell_type": "code",
   "execution_count": 7,
   "id": "51df4046",
   "metadata": {},
   "outputs": [],
   "source": [
    "PDB_ids_100 = np.load('data_for_plotting/ids_100.npy')\n",
    "PDB_data_100 = np.load('data_for_plotting/data_mean_list_100.npy')\n",
    "# Add error list here"
   ]
  },
  {
   "cell_type": "code",
   "execution_count": null,
   "id": "9e04562f",
   "metadata": {},
   "outputs": [],
   "source": [
    "edges = range(3, 1000)\n",
    "bin_centres = edges[:-1] + np."
   ]
  }
 ],
 "metadata": {
  "kernelspec": {
   "display_name": "Python 3 (ipykernel)",
   "language": "python",
   "name": "python3"
  },
  "language_info": {
   "codemirror_mode": {
    "name": "ipython",
    "version": 3
   },
   "file_extension": ".py",
   "mimetype": "text/x-python",
   "name": "python",
   "nbconvert_exporter": "python",
   "pygments_lexer": "ipython3",
   "version": "3.9.7"
  }
 },
 "nbformat": 4,
 "nbformat_minor": 5
}
