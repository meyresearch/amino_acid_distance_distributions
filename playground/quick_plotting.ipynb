{
 "cells": [
  {
   "cell_type": "code",
   "execution_count": 1,
   "id": "b16b5a5d-96d4-4ba3-955a-777fd03e5763",
   "metadata": {},
   "outputs": [],
   "source": [
    "import numpy as np\n",
    "import urllib"
   ]
  },
  {
   "cell_type": "code",
   "execution_count": 2,
   "id": "d6b4781c-0458-48c2-b07b-b831e648fd10",
   "metadata": {},
   "outputs": [],
   "source": [
    "data = np.load(\"../data/alphafold/range_100.npy\")\n"
   ]
  },
  {
   "cell_type": "code",
   "execution_count": 3,
   "id": "ec6d0d76-b20e-4b73-b1b0-d94e78bf2ebf",
   "metadata": {},
   "outputs": [
    {
     "name": "stdout",
     "output_type": "stream",
     "text": [
      "[]\n"
     ]
    }
   ],
   "source": [
    "print(data)"
   ]
  },
  {
   "cell_type": "code",
   "execution_count": 10,
   "id": "d29e94f9-be5c-4552-9cc7-9c9f9521f605",
   "metadata": {},
   "outputs": [
    {
     "data": {
      "text/plain": [
       "('X5IWT5.pdb', <http.client.HTTPMessage at 0x12fb5b7f0>)"
      ]
     },
     "execution_count": 10,
     "metadata": {},
     "output_type": "execute_result"
    }
   ],
   "source": [
    "uniprot_id = \"X5IWT5\"\n",
    "download = f\"https://alphafold.ebi.ac.uk/files/AF-{uniprot_id}-F1-model_v2.pdb\" \n",
    "file_name = uniprot_id + \".pdb\"\n",
    "urllib.request.urlretrieve(download, file_name)"
   ]
  },
  {
   "cell_type": "code",
   "execution_count": 8,
   "id": "180783ec-d621-450a-b495-c323e1b4a9a4",
   "metadata": {},
   "outputs": [
    {
     "name": "stderr",
     "output_type": "stream",
     "text": [
      "/Users/jasminguven/miniforge3/envs/jupyterlab/lib/python3.10/site-packages/tqdm/auto.py:22: TqdmWarning: IProgress not found. Please update jupyter and ipywidgets. See https://ipywidgets.readthedocs.io/en/stable/user_install.html\n",
      "  from .autonotebook import tqdm as notebook_tqdm\n"
     ]
    }
   ],
   "source": [
    "import MDAnalysis as mdA"
   ]
  },
  {
   "cell_type": "code",
   "execution_count": 11,
   "id": "b6f53d5e-fc38-48c3-be42-d7ed806ec7e1",
   "metadata": {},
   "outputs": [
    {
     "name": "stderr",
     "output_type": "stream",
     "text": [
      "/Users/jasminguven/miniforge3/envs/jupyterlab/lib/python3.10/site-packages/MDAnalysis/coordinates/PDB.py:429: UserWarning: 1 A^3 CRYST1 record, this is usually a placeholder. Unit cell dimensions will be set to None.\n",
      "  warnings.warn(\"1 A^3 CRYST1 record,\"\n"
     ]
    }
   ],
   "source": [
    "u = mdA.Universe(file_name)"
   ]
  },
  {
   "cell_type": "code",
   "execution_count": 12,
   "id": "f643b56a-4a84-4946-b978-1072e353eed6",
   "metadata": {},
   "outputs": [
    {
     "data": {
      "text/plain": [
       "array(['A'], dtype=object)"
      ]
     },
     "execution_count": 12,
     "metadata": {},
     "output_type": "execute_result"
    }
   ],
   "source": [
    "u.segments.segids"
   ]
  },
  {
   "cell_type": "code",
   "execution_count": 15,
   "id": "5d9c26cd-7eaf-4ad1-9ecd-41e972010489",
   "metadata": {},
   "outputs": [
    {
     "ename": "SelectionError",
     "evalue": "Selection failed: 'Unexpected token 'None''",
     "output_type": "error",
     "traceback": [
      "\u001b[0;31m---------------------------------------------------------------------------\u001b[0m",
      "\u001b[0;31mSelectionError\u001b[0m                            Traceback (most recent call last)",
      "Input \u001b[0;32mIn [15]\u001b[0m, in \u001b[0;36m<cell line: 1>\u001b[0;34m()\u001b[0m\n\u001b[0;32m----> 1\u001b[0m \u001b[43mu\u001b[49m\u001b[38;5;241;43m.\u001b[39;49m\u001b[43mselect_atoms\u001b[49m\u001b[43m(\u001b[49m\u001b[38;5;124;43m\"\u001b[39;49m\u001b[38;5;124;43maltLoc \u001b[39;49m\u001b[38;5;124;43m\"\u001b[39;49m\u001b[43m)\u001b[49m\n",
      "File \u001b[0;32m~/miniforge3/envs/jupyterlab/lib/python3.10/site-packages/MDAnalysis/core/universe.py:658\u001b[0m, in \u001b[0;36mUniverse.select_atoms\u001b[0;34m(self, *args, **kwargs)\u001b[0m\n\u001b[1;32m    651\u001b[0m \u001b[38;5;28;01mdef\u001b[39;00m \u001b[38;5;21mselect_atoms\u001b[39m(\u001b[38;5;28mself\u001b[39m, \u001b[38;5;241m*\u001b[39margs, \u001b[38;5;241m*\u001b[39m\u001b[38;5;241m*\u001b[39mkwargs):\n\u001b[1;32m    652\u001b[0m     \u001b[38;5;124;03m\"\"\"Select atoms.\u001b[39;00m\n\u001b[1;32m    653\u001b[0m \n\u001b[1;32m    654\u001b[0m \u001b[38;5;124;03m    See Also\u001b[39;00m\n\u001b[1;32m    655\u001b[0m \u001b[38;5;124;03m    --------\u001b[39;00m\n\u001b[1;32m    656\u001b[0m \u001b[38;5;124;03m    :meth:`MDAnalysis.core.groups.AtomGroup.select_atoms`\u001b[39;00m\n\u001b[1;32m    657\u001b[0m \u001b[38;5;124;03m    \"\"\"\u001b[39;00m\n\u001b[0;32m--> 658\u001b[0m     \u001b[38;5;28;01mreturn\u001b[39;00m \u001b[38;5;28;43mself\u001b[39;49m\u001b[38;5;241;43m.\u001b[39;49m\u001b[43matoms\u001b[49m\u001b[38;5;241;43m.\u001b[39;49m\u001b[43mselect_atoms\u001b[49m\u001b[43m(\u001b[49m\u001b[38;5;241;43m*\u001b[39;49m\u001b[43margs\u001b[49m\u001b[43m,\u001b[49m\u001b[43m \u001b[49m\u001b[38;5;241;43m*\u001b[39;49m\u001b[38;5;241;43m*\u001b[39;49m\u001b[43mkwargs\u001b[49m\u001b[43m)\u001b[49m\n",
      "File \u001b[0;32m~/miniforge3/envs/jupyterlab/lib/python3.10/site-packages/MDAnalysis/core/groups.py:3184\u001b[0m, in \u001b[0;36mAtomGroup.select_atoms\u001b[0;34m(self, sel, periodic, rtol, atol, updating, sorted, rdkit_kwargs, *othersel, **selgroups)\u001b[0m\n\u001b[1;32m   3179\u001b[0m     \u001b[38;5;28;01mif\u001b[39;00m \u001b[38;5;129;01mnot\u001b[39;00m \u001b[38;5;28misinstance\u001b[39m(thing, AtomGroup):\n\u001b[1;32m   3180\u001b[0m         \u001b[38;5;28;01mraise\u001b[39;00m \u001b[38;5;167;01mTypeError\u001b[39;00m(\u001b[38;5;124m\"\u001b[39m\u001b[38;5;124mPassed groups must be AtomGroups. \u001b[39m\u001b[38;5;124m\"\u001b[39m\n\u001b[1;32m   3181\u001b[0m                         \u001b[38;5;124m\"\u001b[39m\u001b[38;5;124mYou provided \u001b[39m\u001b[38;5;132;01m{}\u001b[39;00m\u001b[38;5;124m for group \u001b[39m\u001b[38;5;124m'\u001b[39m\u001b[38;5;132;01m{}\u001b[39;00m\u001b[38;5;124m'\u001b[39m\u001b[38;5;124m\"\u001b[39m\u001b[38;5;241m.\u001b[39mformat(\n\u001b[1;32m   3182\u001b[0m                             thing\u001b[38;5;241m.\u001b[39m\u001b[38;5;18m__class__\u001b[39m\u001b[38;5;241m.\u001b[39m\u001b[38;5;18m__name__\u001b[39m, group))\n\u001b[0;32m-> 3184\u001b[0m selections \u001b[38;5;241m=\u001b[39m \u001b[38;5;28;43mtuple\u001b[39;49m\u001b[43m(\u001b[49m\u001b[43m(\u001b[49m\u001b[43mselection\u001b[49m\u001b[38;5;241;43m.\u001b[39;49m\u001b[43mParser\u001b[49m\u001b[38;5;241;43m.\u001b[39;49m\u001b[43mparse\u001b[49m\u001b[43m(\u001b[49m\u001b[43ms\u001b[49m\u001b[43m,\u001b[49m\u001b[43m \u001b[49m\u001b[43mselgroups\u001b[49m\u001b[43m,\u001b[49m\n\u001b[1;32m   3185\u001b[0m \u001b[43m                                           \u001b[49m\u001b[43mperiodic\u001b[49m\u001b[38;5;241;43m=\u001b[39;49m\u001b[43mperiodic\u001b[49m\u001b[43m,\u001b[49m\n\u001b[1;32m   3186\u001b[0m \u001b[43m                                           \u001b[49m\u001b[43matol\u001b[49m\u001b[38;5;241;43m=\u001b[39;49m\u001b[43matol\u001b[49m\u001b[43m,\u001b[49m\u001b[43m \u001b[49m\u001b[43mrtol\u001b[49m\u001b[38;5;241;43m=\u001b[39;49m\u001b[43mrtol\u001b[49m\u001b[43m,\u001b[49m\n\u001b[1;32m   3187\u001b[0m \u001b[43m                                           \u001b[49m\u001b[38;5;28;43msorted\u001b[39;49m\u001b[38;5;241;43m=\u001b[39;49m\u001b[38;5;28;43msorted\u001b[39;49m\u001b[43m,\u001b[49m\n\u001b[1;32m   3188\u001b[0m \u001b[43m                                           \u001b[49m\u001b[43mrdkit_kwargs\u001b[49m\u001b[38;5;241;43m=\u001b[39;49m\u001b[43mrdkit_kwargs\u001b[49m\u001b[43m)\u001b[49m\n\u001b[1;32m   3189\u001b[0m \u001b[43m                    \u001b[49m\u001b[38;5;28;43;01mfor\u001b[39;49;00m\u001b[43m \u001b[49m\u001b[43ms\u001b[49m\u001b[43m \u001b[49m\u001b[38;5;129;43;01min\u001b[39;49;00m\u001b[43m \u001b[49m\u001b[43msel_strs\u001b[49m\u001b[43m)\u001b[49m\u001b[43m)\u001b[49m\n\u001b[1;32m   3190\u001b[0m \u001b[38;5;28;01mif\u001b[39;00m updating:\n\u001b[1;32m   3191\u001b[0m     atomgrp \u001b[38;5;241m=\u001b[39m UpdatingAtomGroup(\u001b[38;5;28mself\u001b[39m, selections, sel_strs)\n",
      "File \u001b[0;32m~/miniforge3/envs/jupyterlab/lib/python3.10/site-packages/MDAnalysis/core/groups.py:3184\u001b[0m, in \u001b[0;36m<genexpr>\u001b[0;34m(.0)\u001b[0m\n\u001b[1;32m   3179\u001b[0m     \u001b[38;5;28;01mif\u001b[39;00m \u001b[38;5;129;01mnot\u001b[39;00m \u001b[38;5;28misinstance\u001b[39m(thing, AtomGroup):\n\u001b[1;32m   3180\u001b[0m         \u001b[38;5;28;01mraise\u001b[39;00m \u001b[38;5;167;01mTypeError\u001b[39;00m(\u001b[38;5;124m\"\u001b[39m\u001b[38;5;124mPassed groups must be AtomGroups. \u001b[39m\u001b[38;5;124m\"\u001b[39m\n\u001b[1;32m   3181\u001b[0m                         \u001b[38;5;124m\"\u001b[39m\u001b[38;5;124mYou provided \u001b[39m\u001b[38;5;132;01m{}\u001b[39;00m\u001b[38;5;124m for group \u001b[39m\u001b[38;5;124m'\u001b[39m\u001b[38;5;132;01m{}\u001b[39;00m\u001b[38;5;124m'\u001b[39m\u001b[38;5;124m\"\u001b[39m\u001b[38;5;241m.\u001b[39mformat(\n\u001b[1;32m   3182\u001b[0m                             thing\u001b[38;5;241m.\u001b[39m\u001b[38;5;18m__class__\u001b[39m\u001b[38;5;241m.\u001b[39m\u001b[38;5;18m__name__\u001b[39m, group))\n\u001b[0;32m-> 3184\u001b[0m selections \u001b[38;5;241m=\u001b[39m \u001b[38;5;28mtuple\u001b[39m((\u001b[43mselection\u001b[49m\u001b[38;5;241;43m.\u001b[39;49m\u001b[43mParser\u001b[49m\u001b[38;5;241;43m.\u001b[39;49m\u001b[43mparse\u001b[49m\u001b[43m(\u001b[49m\u001b[43ms\u001b[49m\u001b[43m,\u001b[49m\u001b[43m \u001b[49m\u001b[43mselgroups\u001b[49m\u001b[43m,\u001b[49m\n\u001b[1;32m   3185\u001b[0m \u001b[43m                                           \u001b[49m\u001b[43mperiodic\u001b[49m\u001b[38;5;241;43m=\u001b[39;49m\u001b[43mperiodic\u001b[49m\u001b[43m,\u001b[49m\n\u001b[1;32m   3186\u001b[0m \u001b[43m                                           \u001b[49m\u001b[43matol\u001b[49m\u001b[38;5;241;43m=\u001b[39;49m\u001b[43matol\u001b[49m\u001b[43m,\u001b[49m\u001b[43m \u001b[49m\u001b[43mrtol\u001b[49m\u001b[38;5;241;43m=\u001b[39;49m\u001b[43mrtol\u001b[49m\u001b[43m,\u001b[49m\n\u001b[1;32m   3187\u001b[0m \u001b[43m                                           \u001b[49m\u001b[38;5;28;43msorted\u001b[39;49m\u001b[38;5;241;43m=\u001b[39;49m\u001b[38;5;28;43msorted\u001b[39;49m\u001b[43m,\u001b[49m\n\u001b[1;32m   3188\u001b[0m \u001b[43m                                           \u001b[49m\u001b[43mrdkit_kwargs\u001b[49m\u001b[38;5;241;43m=\u001b[39;49m\u001b[43mrdkit_kwargs\u001b[49m\u001b[43m)\u001b[49m\n\u001b[1;32m   3189\u001b[0m                     \u001b[38;5;28;01mfor\u001b[39;00m s \u001b[38;5;129;01min\u001b[39;00m sel_strs))\n\u001b[1;32m   3190\u001b[0m \u001b[38;5;28;01mif\u001b[39;00m updating:\n\u001b[1;32m   3191\u001b[0m     atomgrp \u001b[38;5;241m=\u001b[39m UpdatingAtomGroup(\u001b[38;5;28mself\u001b[39m, selections, sel_strs)\n",
      "File \u001b[0;32m~/miniforge3/envs/jupyterlab/lib/python3.10/site-packages/MDAnalysis/core/selection.py:1463\u001b[0m, in \u001b[0;36mSelectionParser.parse\u001b[0;34m(self, selectstr, selgroups, periodic, atol, rtol, sorted, rdkit_kwargs)\u001b[0m\n\u001b[1;32m   1461\u001b[0m tokens \u001b[38;5;241m=\u001b[39m selectstr\u001b[38;5;241m.\u001b[39mreplace(\u001b[38;5;124m'\u001b[39m\u001b[38;5;124m(\u001b[39m\u001b[38;5;124m'\u001b[39m, \u001b[38;5;124m'\u001b[39m\u001b[38;5;124m ( \u001b[39m\u001b[38;5;124m'\u001b[39m)\u001b[38;5;241m.\u001b[39mreplace(\u001b[38;5;124m'\u001b[39m\u001b[38;5;124m)\u001b[39m\u001b[38;5;124m'\u001b[39m, \u001b[38;5;124m'\u001b[39m\u001b[38;5;124m ) \u001b[39m\u001b[38;5;124m'\u001b[39m)\n\u001b[1;32m   1462\u001b[0m \u001b[38;5;28mself\u001b[39m\u001b[38;5;241m.\u001b[39mtokens \u001b[38;5;241m=\u001b[39m collections\u001b[38;5;241m.\u001b[39mdeque(tokens\u001b[38;5;241m.\u001b[39msplit() \u001b[38;5;241m+\u001b[39m [\u001b[38;5;28;01mNone\u001b[39;00m])\n\u001b[0;32m-> 1463\u001b[0m parsetree \u001b[38;5;241m=\u001b[39m \u001b[38;5;28;43mself\u001b[39;49m\u001b[38;5;241;43m.\u001b[39;49m\u001b[43mparse_expression\u001b[49m\u001b[43m(\u001b[49m\u001b[38;5;241;43m0\u001b[39;49m\u001b[43m)\u001b[49m\n\u001b[1;32m   1464\u001b[0m \u001b[38;5;28;01mif\u001b[39;00m \u001b[38;5;28mself\u001b[39m\u001b[38;5;241m.\u001b[39mtokens[\u001b[38;5;241m0\u001b[39m] \u001b[38;5;129;01mis\u001b[39;00m \u001b[38;5;129;01mnot\u001b[39;00m \u001b[38;5;28;01mNone\u001b[39;00m:\n\u001b[1;32m   1465\u001b[0m     \u001b[38;5;28;01mraise\u001b[39;00m SelectionError(\n\u001b[1;32m   1466\u001b[0m         \u001b[38;5;124m\"\u001b[39m\u001b[38;5;124mUnexpected token at end of selection string: \u001b[39m\u001b[38;5;124m'\u001b[39m\u001b[38;5;132;01m{0}\u001b[39;00m\u001b[38;5;124m'\u001b[39m\u001b[38;5;124m\"\u001b[39m\n\u001b[1;32m   1467\u001b[0m         \u001b[38;5;124m\"\u001b[39m\u001b[38;5;124m\"\u001b[39m\u001b[38;5;241m.\u001b[39mformat(\u001b[38;5;28mself\u001b[39m\u001b[38;5;241m.\u001b[39mtokens[\u001b[38;5;241m0\u001b[39m]))\n",
      "File \u001b[0;32m~/miniforge3/envs/jupyterlab/lib/python3.10/site-packages/MDAnalysis/core/selection.py:1471\u001b[0m, in \u001b[0;36mSelectionParser.parse_expression\u001b[0;34m(self, p)\u001b[0m\n\u001b[1;32m   1470\u001b[0m \u001b[38;5;28;01mdef\u001b[39;00m \u001b[38;5;21mparse_expression\u001b[39m(\u001b[38;5;28mself\u001b[39m, p):\n\u001b[0;32m-> 1471\u001b[0m     exp1 \u001b[38;5;241m=\u001b[39m \u001b[38;5;28;43mself\u001b[39;49m\u001b[38;5;241;43m.\u001b[39;49m\u001b[43m_parse_subexp\u001b[49m\u001b[43m(\u001b[49m\u001b[43m)\u001b[49m\n\u001b[1;32m   1472\u001b[0m     \u001b[38;5;28;01mwhile\u001b[39;00m (\u001b[38;5;28mself\u001b[39m\u001b[38;5;241m.\u001b[39mtokens[\u001b[38;5;241m0\u001b[39m] \u001b[38;5;129;01min\u001b[39;00m _OPERATIONS \u001b[38;5;129;01mand\u001b[39;00m\n\u001b[1;32m   1473\u001b[0m            _OPERATIONS[\u001b[38;5;28mself\u001b[39m\u001b[38;5;241m.\u001b[39mtokens[\u001b[38;5;241m0\u001b[39m]]\u001b[38;5;241m.\u001b[39mprecedence \u001b[38;5;241m>\u001b[39m\u001b[38;5;241m=\u001b[39m p):\n\u001b[1;32m   1474\u001b[0m         op \u001b[38;5;241m=\u001b[39m _OPERATIONS[\u001b[38;5;28mself\u001b[39m\u001b[38;5;241m.\u001b[39mtokens\u001b[38;5;241m.\u001b[39mpopleft()]\n",
      "File \u001b[0;32m~/miniforge3/envs/jupyterlab/lib/python3.10/site-packages/MDAnalysis/core/selection.py:1495\u001b[0m, in \u001b[0;36mSelectionParser._parse_subexp\u001b[0;34m(self)\u001b[0m\n\u001b[1;32m   1493\u001b[0m \u001b[38;5;28;01mexcept\u001b[39;00m \u001b[38;5;167;01mValueError\u001b[39;00m \u001b[38;5;28;01mas\u001b[39;00m e:\n\u001b[1;32m   1494\u001b[0m     errmsg \u001b[38;5;241m=\u001b[39m \u001b[38;5;124mf\u001b[39m\u001b[38;5;124m\"\u001b[39m\u001b[38;5;124mSelection failed: \u001b[39m\u001b[38;5;124m'\u001b[39m\u001b[38;5;132;01m{\u001b[39;00me\u001b[38;5;132;01m}\u001b[39;00m\u001b[38;5;124m'\u001b[39m\u001b[38;5;124m\"\u001b[39m\n\u001b[0;32m-> 1495\u001b[0m     \u001b[38;5;28;01mraise\u001b[39;00m SelectionError(errmsg) \u001b[38;5;28;01mfrom\u001b[39;00m \u001b[38;5;28mNone\u001b[39m\n",
      "\u001b[0;31mSelectionError\u001b[0m: Selection failed: 'Unexpected token 'None''"
     ]
    }
   ],
   "source": [
    "u.select_atoms(\"altLoc \")"
   ]
  },
  {
   "cell_type": "code",
   "execution_count": 2,
   "id": "6bfdcb4d-02e7-435d-af85-99a331a86d4c",
   "metadata": {},
   "outputs": [],
   "source": [
    "import matplotlib.pyplot as plt"
   ]
  },
  {
   "cell_type": "code",
   "execution_count": 6,
   "id": "05a21c00-ad9f-4acc-ae6b-b61c5052fd0a",
   "metadata": {},
   "outputs": [],
   "source": [
    "hist_data = np.load(\"../data/alphafold/histogram_100.npy\", allow_pickle=True)"
   ]
  },
  {
   "cell_type": "code",
   "execution_count": 27,
   "id": "b5e7c72d-1e88-483c-ba79-24b2b37c17cc",
   "metadata": {},
   "outputs": [
    {
     "data": {
      "text/plain": [
       "array([[0.27474651, 0.07359282, 0.01962475, ..., 0.        , 0.        ,\n",
       "        0.        ],\n",
       "       [0.29824184, 0.06766832, 0.01629052, ..., 0.        , 0.        ,\n",
       "        0.        ],\n",
       "       [0.26240024, 0.04584688, 0.02048478, ..., 0.        , 0.        ,\n",
       "        0.        ],\n",
       "       ...,\n",
       "       [0.26667119, 0.05826429, 0.00784327, ..., 0.        , 0.        ,\n",
       "        0.        ],\n",
       "       [0.28128447, 0.05846305, 0.01213384, ..., 0.        , 0.        ,\n",
       "        0.        ],\n",
       "       [0.29154501, 0.05706838, 0.01240617, ..., 0.        , 0.        ,\n",
       "        0.        ]])"
      ]
     },
     "execution_count": 27,
     "metadata": {},
     "output_type": "execute_result"
    }
   ],
   "source": [
    "hist_data"
   ]
  },
  {
   "cell_type": "code",
   "execution_count": 28,
   "id": "85c49d8e-b03e-4b6c-9e19-23680d5aa967",
   "metadata": {},
   "outputs": [
    {
     "data": {
      "text/plain": [
       "array([0.27474651, 0.07359282, 0.01962475, 0.01079361, 0.01177485,\n",
       "       0.0078499 , 0.00588743, 0.0078499 , 0.00588743, 0.00588743,\n",
       "       0.00588743, 0.00490619, 0.00392495, 0.00392495, 0.00588743,\n",
       "       0.        , 0.00196248, 0.00098124, 0.        , 0.00196248,\n",
       "       0.00294371, 0.00294371, 0.        , 0.        , 0.        ,\n",
       "       0.00098124, 0.00294371, 0.00392495, 0.00392495, 0.00392495,\n",
       "       0.00392495, 0.00196248, 0.00098124, 0.00294371, 0.00588743,\n",
       "       0.00098124, 0.00196248, 0.00098124, 0.00098124, 0.        ,\n",
       "       0.00098124, 0.        , 0.        , 0.        , 0.        ,\n",
       "       0.        , 0.        , 0.00098124, 0.        , 0.        ,\n",
       "       0.        , 0.        , 0.        , 0.        , 0.        ,\n",
       "       0.        , 0.        , 0.        , 0.        , 0.        ,\n",
       "       0.        , 0.        , 0.        , 0.        , 0.        ,\n",
       "       0.        , 0.        , 0.        , 0.        , 0.        ,\n",
       "       0.        , 0.        , 0.        , 0.        , 0.        ,\n",
       "       0.        , 0.        , 0.        , 0.        , 0.        ,\n",
       "       0.        , 0.        , 0.        , 0.        , 0.        ,\n",
       "       0.        , 0.        , 0.        , 0.        , 0.        ,\n",
       "       0.        , 0.        , 0.        , 0.        , 0.        ,\n",
       "       0.        , 0.        , 0.        , 0.        ])"
      ]
     },
     "execution_count": 28,
     "metadata": {},
     "output_type": "execute_result"
    }
   ],
   "source": [
    "hist_data[0]"
   ]
  },
  {
   "cell_type": "code",
   "execution_count": 7,
   "id": "82eda4a5-15c1-4749-be67-b2f98be528f8",
   "metadata": {},
   "outputs": [
    {
     "data": {
      "text/plain": [
       "[]"
      ]
     },
     "execution_count": 7,
     "metadata": {},
     "output_type": "execute_result"
    },
    {
     "data": {
      "image/png": "[encoded data removed]",
      "text/plain": [
       "<Figure size 432x288 with 1 Axes>"
      ]
     },
     "metadata": {
      "needs_background": "light"
     },
     "output_type": "display_data"
    }
   ],
   "source": [
    "mean = np.mean(hist_data, axis=0)\n",
    "std = np.std(hist_data, axis=0)\n",
    "plt.plot(mean, 'r')\n",
    "plt.plot(mean+std, 'b', alpha=0.5)\n",
    "plt.plot(mean-std, 'b', alpha=0.5)\n",
    "plt.loglog()"
   ]
  },
  {
   "cell_type": "code",
   "execution_count": 10,
   "id": "d73e4241-4606-48f8-b792-38f973c2d20b",
   "metadata": {},
   "outputs": [
    {
     "data": {
      "text/plain": [
       "(0.0005, 0.2)"
      ]
     },
     "execution_count": 10,
     "metadata": {},
     "output_type": "execute_result"
    },
    {
     "data": {
      "image/png": "[encoded data removed]",
      "text/plain": [
       "<Figure size 432x432 with 1 Axes>"
      ]
     },
     "metadata": {
      "needs_background": "light"
     },
     "output_type": "display_data"
    }
   ],
   "source": [
    "distance_distribution_array = np.linspace(start=1, stop=200, num=100)\n",
    "lower, median, upper = np.quantile(hist_data, [0.33,0.5,0.66], axis=0)\n",
    "fig = plt.figure(figsize=(6,6))\n",
    "median = np.median(hist_data, axis=0)\n",
    "plt.plot(np.array(distance_distribution_array[:-1]),median, 'r', marker = 'o', lw = 0)\n",
    "plt.fill_between(np.array(distance_distribution_array[:-1]), np.array(upper), np.array(lower),color= 'b', alpha=0.2)\n",
    "#plt.plot(lower, 'b', alpha=0.5)\n",
    "#plt.plot(mean, 'g')\n",
    "#plt.plot(mean+std, 'orange', alpha=0.5)\n",
    "#plt.plot(mean-std, 'orange', alpha=0.5)\n",
    "plt.loglog()\n",
    "plt.xlim(3,100)\n",
    "plt.ylim(0.0005,0.2)"
   ]
  },
  {
   "cell_type": "code",
   "execution_count": 19,
   "id": "24a14ac1-c01e-48f2-841b-812cf81ee12d",
   "metadata": {},
   "outputs": [],
   "source": [
    "hist_data = np.load(\"../data/alphafold/histogram_200.npy\", allow_pickle=True)"
   ]
  },
  {
   "cell_type": "code",
   "execution_count": 20,
   "id": "74cd4304-26ba-4d23-ac66-2341f1f97e6e",
   "metadata": {},
   "outputs": [
    {
     "data": {
      "text/plain": [
       "[]"
      ]
     },
     "execution_count": 20,
     "metadata": {},
     "output_type": "execute_result"
    },
    {
     "data": {
      "image/png": "[encoded data removed]",
      "text/plain": [
       "<Figure size 432x288 with 1 Axes>"
      ]
     },
     "metadata": {
      "needs_background": "light"
     },
     "output_type": "display_data"
    }
   ],
   "source": [
    "mean = np.mean(hist_data, axis=0)\n",
    "std = np.std(hist_data, axis=0)\n",
    "plt.plot(mean, 'r')\n",
    "plt.plot(mean+std, 'b', alpha=0.5)\n",
    "plt.plot(mean-std, 'b', alpha=0.5)\n",
    "plt.loglog()"
   ]
  },
  {
   "cell_type": "code",
   "execution_count": 22,
   "id": "aaf25d91-f75a-4cd6-b2f5-606b9c37f5d6",
   "metadata": {},
   "outputs": [
    {
     "data": {
      "text/plain": [
       "(0.0001, 0.2)"
      ]
     },
     "execution_count": 22,
     "metadata": {},
     "output_type": "execute_result"
    },
    {
     "data": {
      "image/png": "[encoded data removed]",
      "text/plain": [
       "<Figure size 432x432 with 1 Axes>"
      ]
     },
     "metadata": {
      "needs_background": "light"
     },
     "output_type": "display_data"
    }
   ],
   "source": [
    "distance_distribution_array = np.linspace(start=1, stop=200, num=100)\n",
    "lower, median, upper = np.quantile(hist_data, [0.33,0.5,0.66], axis=0)\n",
    "fig = plt.figure(figsize=(6,6))\n",
    "median = np.median(hist_data, axis=0)\n",
    "plt.plot(np.array(distance_distribution_array[:-1]),median, 'r', marker = 'o', lw = 0)\n",
    "plt.fill_between(np.array(distance_distribution_array[:-1]), np.array(upper), np.array(lower),color= 'b', alpha=0.2)\n",
    "#plt.plot(lower, 'b', alpha=0.5)\n",
    "#plt.plot(mean, 'g')\n",
    "#plt.plot(mean+std, 'orange', alpha=0.5)\n",
    "#plt.plot(mean-std, 'orange', alpha=0.5)\n",
    "plt.loglog()\n",
    "plt.xlim(4,200)\n",
    "plt.ylim(0.0001,0.2)"
   ]
  },
  {
   "cell_type": "code",
   "execution_count": 23,
   "id": "717e8f48-b8fe-43ab-8623-f8cce56f1547",
   "metadata": {},
   "outputs": [],
   "source": [
    "hist_data = np.load(\"../data/alphafold/histogram_300.npy\", allow_pickle=True)"
   ]
  },
  {
   "cell_type": "code",
   "execution_count": 24,
   "id": "5201b8f8-0d78-4693-bf33-30e847d03d1c",
   "metadata": {},
   "outputs": [
    {
     "data": {
      "text/plain": [
       "[]"
      ]
     },
     "execution_count": 24,
     "metadata": {},
     "output_type": "execute_result"
    },
    {
     "data": {
      "image/png": "[encoded data removed]",
      "text/plain": [
       "<Figure size 432x288 with 1 Axes>"
      ]
     },
     "metadata": {
      "needs_background": "light"
     },
     "output_type": "display_data"
    }
   ],
   "source": [
    "mean = np.mean(hist_data, axis=0)\n",
    "std = np.std(hist_data, axis=0)\n",
    "plt.plot(mean, 'r')\n",
    "plt.plot(mean+std, 'b', alpha=0.5)\n",
    "plt.plot(mean-std, 'b', alpha=0.5)\n",
    "plt.loglog()"
   ]
  },
  {
   "cell_type": "code",
   "execution_count": 25,
   "id": "22f1d0be-5b38-48e7-99f6-9b210a1a7d8d",
   "metadata": {},
   "outputs": [
    {
     "data": {
      "text/plain": [
       "(0.0001, 0.2)"
      ]
     },
     "execution_count": 25,
     "metadata": {},
     "output_type": "execute_result"
    },
    {
     "data": {
      "image/png": "[encoded data removed]",
      "text/plain": [
       "<Figure size 432x432 with 1 Axes>"
      ]
     },
     "metadata": {
      "needs_background": "light"
     },
     "output_type": "display_data"
    }
   ],
   "source": [
    "distance_distribution_array = np.linspace(start=1, stop=200, num=100)\n",
    "lower, median, upper = np.quantile(hist_data, [0.33,0.5,0.66], axis=0)\n",
    "fig = plt.figure(figsize=(6,6))\n",
    "median = np.median(hist_data, axis=0)\n",
    "plt.plot(np.array(distance_distribution_array[:-1]),median, 'r', marker = 'o', lw = 0)\n",
    "plt.fill_between(np.array(distance_distribution_array[:-1]), np.array(upper), np.array(lower),color= 'b', alpha=0.2)\n",
    "#plt.plot(lower, 'b', alpha=0.5)\n",
    "#plt.plot(mean, 'g')\n",
    "#plt.plot(mean+std, 'orange', alpha=0.5)\n",
    "#plt.plot(mean-std, 'orange', alpha=0.5)\n",
    "plt.loglog()\n",
    "plt.xlim(4,200)\n",
    "plt.ylim(0.0001,0.2)"
   ]
  },
  {
   "cell_type": "markdown",
   "id": "3c51af20-ac65-4155-8310-806bfbdf0b3b",
   "metadata": {},
   "source": [
    "## rcsb"
   ]
  },
  {
   "cell_type": "code",
   "execution_count": 29,
   "id": "e866fcb3-45c2-45d5-8c18-ba7c3a5860db",
   "metadata": {},
   "outputs": [],
   "source": [
    "hist_data = np.load(\"../data/rcsb/histogram_100.npy\", allow_pickle=True)"
   ]
  },
  {
   "cell_type": "code",
   "execution_count": 36,
   "id": "cdcadc73-faa6-43ea-be41-4014cb21d4f4",
   "metadata": {},
   "outputs": [
    {
     "data": {
      "text/plain": [
       "[]"
      ]
     },
     "execution_count": 36,
     "metadata": {},
     "output_type": "execute_result"
    },
    {
     "data": {
      "image/png": "[encoded data removed]",
      "text/plain": [
       "<Figure size 432x288 with 1 Axes>"
      ]
     },
     "metadata": {
      "needs_background": "light"
     },
     "output_type": "display_data"
    }
   ],
   "source": [
    "mean = np.mean(hist_data, axis=0)\n",
    "std = np.std(hist_data, axis=0)\n",
    "plt.plot(mean, 'r')\n",
    "plt.plot(mean+std, 'b', alpha=0.5)\n",
    "plt.plot(mean-std, 'b', alpha=0.5)\n",
    "plt.loglog()"
   ]
  },
  {
   "cell_type": "code",
   "execution_count": 39,
   "id": "2c19666c-82a1-4d4f-b3fa-b9d4b9541b9d",
   "metadata": {},
   "outputs": [
    {
     "name": "stdout",
     "output_type": "stream",
     "text": [
      "0.8663401473373467\n"
     ]
    },
    {
     "data": {
      "text/plain": [
       "(0.0001, 0.2)"
      ]
     },
     "execution_count": 39,
     "metadata": {},
     "output_type": "execute_result"
    },
    {
     "data": {
      "image/png": "[encoded data removed]",
      "text/plain": [
       "<Figure size 432x432 with 1 Axes>"
      ]
     },
     "metadata": {
      "needs_background": "light"
     },
     "output_type": "display_data"
    }
   ],
   "source": [
    "distance_distribution_array = np.linspace(start=1, stop=100, num=100)\n",
    "lower, median, upper = np.quantile(hist_data, [0.33,0.5,0.66], axis=0)\n",
    "fig = plt.figure(figsize=(6,6))\n",
    "median = np.median(hist_data, axis=0)\n",
    "print(np.sum(median))\n",
    "plt.plot(np.array(distance_distribution_array[:-1]),median, 'r', marker = 'o', lw = 0)\n",
    "plt.fill_between(np.array(distance_distribution_array[:-1]), np.array(upper), np.array(lower),color= 'b', alpha=0.2)\n",
    "#plt.plot(lower, 'b', alpha=0.5)\n",
    "#plt.plot(mean, 'g')\n",
    "#plt.plot(mean+std, 'orange', alpha=0.5)\n",
    "#plt.plot(mean-std, 'orange', alpha=0.5)\n",
    "plt.loglog()\n",
    "plt.xlim(4,110)\n",
    "plt.ylim(0.0001,0.2)"
   ]
  },
  {
   "cell_type": "code",
   "execution_count": 42,
   "id": "33406445-6658-40e4-ad3d-c5551ddddfd6",
   "metadata": {},
   "outputs": [
    {
     "name": "stdout",
     "output_type": "stream",
     "text": [
      "[0.2244898  0.22196796 0.0986692  0.07790841 0.02277904 0.01590457\n",
      " 0.0122549  0.0106383  0.00954198 0.00956938 0.00932401 0.00863931\n",
      " 0.00792079 0.00757576 0.00728155 0.00724638 0.00684932 0.00659703\n",
      " 0.00626305 0.0060241  0.00581395 0.00557362 0.004914   0.00442478\n",
      " 0.00277008 0.0037594  0.0037594  0.00261097 0.00239234 0.00246914\n",
      " 0.00231481 0.00217865 0.00230415 0.0023753  0.00218818 0.00225479\n",
      " 0.00234742 0.00236128 0.0021978  0.00207685 0.00222717 0.00224215\n",
      " 0.00218818 0.00226244 0.00228311 0.00211416 0.00210526 0.00212089\n",
      " 0.0021645  0.00208333 0.00204499 0.00198413 0.00198807 0.\n",
      " 0.         0.         0.         0.         0.         0.\n",
      " 0.         0.         0.         0.         0.         0.\n",
      " 0.         0.         0.         0.         0.         0.\n",
      " 0.         0.         0.         0.         0.         0.\n",
      " 0.         0.         0.         0.         0.         0.\n",
      " 0.         0.         0.         0.         0.         0.\n",
      " 0.         0.         0.         0.         0.         0.\n",
      " 0.         0.         0.        ]\n",
      "0.8663401473373467\n",
      "[0.25912431 0.25621341 0.11389198 0.0899282  0.02629342 0.01835835\n",
      " 0.0141456  0.01227959 0.01101413 0.01104575 0.01076253 0.00997219\n",
      " 0.00914282 0.00874455 0.00840496 0.00836436 0.00790603 0.00761483\n",
      " 0.00722932 0.0069535  0.00671094 0.00643352 0.00567214 0.00510744\n",
      " 0.00319745 0.0043394  0.0043394  0.00301379 0.00276144 0.00285008\n",
      " 0.00267195 0.00251477 0.00265963 0.00274176 0.00252578 0.00260267\n",
      " 0.00270958 0.00272558 0.00253688 0.00239726 0.00257078 0.00258807\n",
      " 0.00252578 0.0026115  0.00263534 0.00244034 0.00243007 0.00244811\n",
      " 0.00249844 0.00240475 0.00236049 0.00229024 0.00229479 0.\n",
      " 0.         0.         0.         0.         0.         0.\n",
      " 0.         0.         0.         0.         0.         0.\n",
      " 0.         0.         0.         0.         0.         0.\n",
      " 0.         0.         0.         0.         0.         0.\n",
      " 0.         0.         0.         0.         0.         0.\n",
      " 0.         0.         0.         0.         0.         0.\n",
      " 0.         0.         0.         0.         0.         0.\n",
      " 0.         0.         0.        ]\n",
      "1.0\n"
     ]
    }
   ],
   "source": [
    "median = np.median(hist_data, axis=0)\n",
    "print(median)\n",
    "sum_of_medians = np.sum(median)\n",
    "print(sum_of_medians)\n",
    "norm_median = median / sum_of_medians\n",
    "print(norm_median)\n",
    "sum_of_norm = np.sum(norm_median)\n",
    "print(sum_of_norm)"
   ]
  },
  {
   "cell_type": "code",
   "execution_count": 9,
   "id": "4bb22142-f920-4dc7-a855-e4aa8ec1df7c",
   "metadata": {},
   "outputs": [],
   "source": [
    "hist_data = np.load(\"../data/rcsb/histogram_200.npy\", allow_pickle=True)"
   ]
  },
  {
   "cell_type": "code",
   "execution_count": 10,
   "id": "af2c1b80-9939-4278-84a3-6a6f01f2058a",
   "metadata": {},
   "outputs": [
    {
     "data": {
      "text/plain": [
       "[]"
      ]
     },
     "execution_count": 10,
     "metadata": {},
     "output_type": "execute_result"
    },
    {
     "data": {
      "image/png": "[encoded data removed]",
      "text/plain": [
       "<Figure size 432x288 with 1 Axes>"
      ]
     },
     "metadata": {
      "needs_background": "light"
     },
     "output_type": "display_data"
    }
   ],
   "source": [
    "mean = np.mean(hist_data, axis=0)\n",
    "std = np.std(hist_data, axis=0)\n",
    "plt.plot(mean, 'r')\n",
    "plt.plot(mean+std, 'b', alpha=0.5)\n",
    "plt.plot(mean-std, 'b', alpha=0.5)\n",
    "plt.loglog()"
   ]
  },
  {
   "cell_type": "code",
   "execution_count": 11,
   "id": "6430f2ca-372a-4c0c-88cb-ae33855da718",
   "metadata": {},
   "outputs": [
    {
     "data": {
      "text/plain": [
       "(0.0001, 0.2)"
      ]
     },
     "execution_count": 11,
     "metadata": {},
     "output_type": "execute_result"
    },
    {
     "data": {
      "image/png": "[encoded data removed]",
      "text/plain": [
       "<Figure size 432x432 with 1 Axes>"
      ]
     },
     "metadata": {
      "needs_background": "light"
     },
     "output_type": "display_data"
    }
   ],
   "source": [
    "distance_distribution_array = np.linspace(start=1, stop=200, num=100)\n",
    "lower, median, upper = np.quantile(hist_data, [0.33,0.5,0.66], axis=0)\n",
    "fig = plt.figure(figsize=(6,6))\n",
    "median = np.median(hist_data, axis=0)\n",
    "plt.plot(np.array(distance_distribution_array[:-1]),median, 'r', marker = 'o', lw = 0)\n",
    "plt.fill_between(np.array(distance_distribution_array[:-1]), np.array(upper), np.array(lower),color= 'b', alpha=0.2)\n",
    "#plt.plot(lower, 'b', alpha=0.5)\n",
    "#plt.plot(mean, 'g')\n",
    "#plt.plot(mean+std, 'orange', alpha=0.5)\n",
    "#plt.plot(mean-std, 'orange', alpha=0.5)\n",
    "plt.loglog()\n",
    "plt.xlim(4,200)\n",
    "plt.ylim(0.0001,0.2)"
   ]
  },
  {
   "cell_type": "code",
   "execution_count": 13,
   "id": "85664677-3594-41b2-aeb1-be2426d1e96f",
   "metadata": {},
   "outputs": [],
   "source": [
    "hist_data = np.load(\"../data/rcsb/histogram_300.npy\", allow_pickle=True)"
   ]
  },
  {
   "cell_type": "code",
   "execution_count": 14,
   "id": "f7fbf6a9-1281-4f6a-84b4-25e5eaef489c",
   "metadata": {},
   "outputs": [
    {
     "data": {
      "text/plain": [
       "[]"
      ]
     },
     "execution_count": 14,
     "metadata": {},
     "output_type": "execute_result"
    },
    {
     "data": {
      "image/png": "[encoded data removed]",
      "text/plain": [
       "<Figure size 432x288 with 1 Axes>"
      ]
     },
     "metadata": {
      "needs_background": "light"
     },
     "output_type": "display_data"
    }
   ],
   "source": [
    "mean = np.mean(hist_data, axis=0)\n",
    "std = np.std(hist_data, axis=0)\n",
    "plt.plot(mean, 'r')\n",
    "plt.plot(mean+std, 'b', alpha=0.5)\n",
    "plt.plot(mean-std, 'b', alpha=0.5)\n",
    "plt.loglog()"
   ]
  },
  {
   "cell_type": "code",
   "execution_count": 15,
   "id": "46933561-ec7c-46b4-9cf5-335d05f663ad",
   "metadata": {},
   "outputs": [
    {
     "data": {
      "text/plain": [
       "(0.0001, 0.2)"
      ]
     },
     "execution_count": 15,
     "metadata": {},
     "output_type": "execute_result"
    },
    {
     "data": {
      "image/png": "[encoded data removed]",
      "text/plain": [
       "<Figure size 432x432 with 1 Axes>"
      ]
     },
     "metadata": {
      "needs_background": "light"
     },
     "output_type": "display_data"
    }
   ],
   "source": [
    "distance_distribution_array = np.linspace(start=1, stop=200, num=100)\n",
    "lower, median, upper = np.quantile(hist_data, [0.33,0.5,0.66], axis=0)\n",
    "fig = plt.figure(figsize=(6,6))\n",
    "median = np.median(hist_data, axis=0)\n",
    "plt.plot(np.array(distance_distribution_array[:-1]),median, 'r', marker = 'o', lw = 0)\n",
    "plt.fill_between(np.array(distance_distribution_array[:-1]), np.array(upper), np.array(lower),color= 'b', alpha=0.2)\n",
    "#plt.plot(lower, 'b', alpha=0.5)\n",
    "#plt.plot(mean, 'g')\n",
    "#plt.plot(mean+std, 'orange', alpha=0.5)\n",
    "#plt.plot(mean-std, 'orange', alpha=0.5)\n",
    "plt.loglog()\n",
    "plt.xlim(4,200)\n",
    "plt.ylim(0.0001,0.2)"
   ]
  },
  {
   "cell_type": "code",
   "execution_count": 1,
   "id": "78e27e1c-1f50-42f2-a81f-e264ee74429b",
   "metadata": {},
   "outputs": [],
   "source": [
    "import pandas as pd"
   ]
  },
  {
   "cell_type": "code",
   "execution_count": 6,
   "id": "00fdafb9-ada8-4413-851b-58783fba2f38",
   "metadata": {},
   "outputs": [],
   "source": [
    "rcsb = pd.read_csv(\"../data/rcsb/structures_100_raw.csv\")"
   ]
  },
  {
   "cell_type": "code",
   "execution_count": 7,
   "id": "669eb31c-ef8b-4ded-8a54-cc885a22960f",
   "metadata": {},
   "outputs": [
    {
     "data": {
      "text/html": [
       "<div>\n",
       "<style scoped>\n",
       "    .dataframe tbody tr th:only-of-type {\n",
       "        vertical-align: middle;\n",
       "    }\n",
       "\n",
       "    .dataframe tbody tr th {\n",
       "        vertical-align: top;\n",
       "    }\n",
       "\n",
       "    .dataframe thead th {\n",
       "        text-align: right;\n",
       "    }\n",
       "</style>\n",
       "<table border=\"1\" class=\"dataframe\">\n",
       "  <thead>\n",
       "    <tr style=\"text-align: right;\">\n",
       "      <th></th>\n",
       "      <th>Unnamed: 0</th>\n",
       "      <th>-</th>\n",
       "      <th>S</th>\n",
       "      <th>E</th>\n",
       "      <th>T</th>\n",
       "      <th>H</th>\n",
       "      <th>G</th>\n",
       "      <th>B</th>\n",
       "      <th>I</th>\n",
       "      <th>0</th>\n",
       "      <th>A</th>\n",
       "      <th>filename</th>\n",
       "    </tr>\n",
       "  </thead>\n",
       "  <tbody>\n",
       "    <tr>\n",
       "      <th>0</th>\n",
       "      <td>0</td>\n",
       "      <td>0.188889</td>\n",
       "      <td>0.100000</td>\n",
       "      <td>0.266667</td>\n",
       "      <td>0.144444</td>\n",
       "      <td>0.300000</td>\n",
       "      <td>NaN</td>\n",
       "      <td>NaN</td>\n",
       "      <td>NaN</td>\n",
       "      <td>NaN</td>\n",
       "      <td>NaN</td>\n",
       "      <td>../data/rcsb/pdb_files/pdb3irw.ent</td>\n",
       "    </tr>\n",
       "    <tr>\n",
       "      <th>1</th>\n",
       "      <td>1</td>\n",
       "      <td>0.228856</td>\n",
       "      <td>0.104478</td>\n",
       "      <td>0.398010</td>\n",
       "      <td>0.089552</td>\n",
       "      <td>0.129353</td>\n",
       "      <td>0.049751</td>\n",
       "      <td>NaN</td>\n",
       "      <td>NaN</td>\n",
       "      <td>NaN</td>\n",
       "      <td>NaN</td>\n",
       "      <td>../data/rcsb/pdb_files/pdb4rt5.ent</td>\n",
       "    </tr>\n",
       "    <tr>\n",
       "      <th>2</th>\n",
       "      <td>2</td>\n",
       "      <td>0.200000</td>\n",
       "      <td>0.047619</td>\n",
       "      <td>0.380952</td>\n",
       "      <td>0.109524</td>\n",
       "      <td>0.223810</td>\n",
       "      <td>0.038095</td>\n",
       "      <td>NaN</td>\n",
       "      <td>NaN</td>\n",
       "      <td>NaN</td>\n",
       "      <td>NaN</td>\n",
       "      <td>../data/rcsb/pdb_files/pdb7ab7.ent</td>\n",
       "    </tr>\n",
       "    <tr>\n",
       "      <th>3</th>\n",
       "      <td>3</td>\n",
       "      <td>0.207048</td>\n",
       "      <td>0.066079</td>\n",
       "      <td>0.515419</td>\n",
       "      <td>0.140969</td>\n",
       "      <td>0.061674</td>\n",
       "      <td>NaN</td>\n",
       "      <td>0.008811</td>\n",
       "      <td>NaN</td>\n",
       "      <td>NaN</td>\n",
       "      <td>NaN</td>\n",
       "      <td>../data/rcsb/pdb_files/pdb3cn2.ent</td>\n",
       "    </tr>\n",
       "    <tr>\n",
       "      <th>4</th>\n",
       "      <td>4</td>\n",
       "      <td>0.084906</td>\n",
       "      <td>0.056604</td>\n",
       "      <td>NaN</td>\n",
       "      <td>0.047170</td>\n",
       "      <td>0.707547</td>\n",
       "      <td>0.056604</td>\n",
       "      <td>NaN</td>\n",
       "      <td>0.047170</td>\n",
       "      <td>NaN</td>\n",
       "      <td>NaN</td>\n",
       "      <td>../data/rcsb/pdb_files/pdb5yo4.ent</td>\n",
       "    </tr>\n",
       "    <tr>\n",
       "      <th>...</th>\n",
       "      <td>...</td>\n",
       "      <td>...</td>\n",
       "      <td>...</td>\n",
       "      <td>...</td>\n",
       "      <td>...</td>\n",
       "      <td>...</td>\n",
       "      <td>...</td>\n",
       "      <td>...</td>\n",
       "      <td>...</td>\n",
       "      <td>...</td>\n",
       "      <td>...</td>\n",
       "      <td>...</td>\n",
       "    </tr>\n",
       "    <tr>\n",
       "      <th>12201</th>\n",
       "      <td>12201</td>\n",
       "      <td>0.164948</td>\n",
       "      <td>0.061856</td>\n",
       "      <td>0.453608</td>\n",
       "      <td>0.103093</td>\n",
       "      <td>0.185567</td>\n",
       "      <td>0.030928</td>\n",
       "      <td>NaN</td>\n",
       "      <td>NaN</td>\n",
       "      <td>NaN</td>\n",
       "      <td>NaN</td>\n",
       "      <td>../data/rcsb/pdb_files/pdb1r94.ent</td>\n",
       "    </tr>\n",
       "    <tr>\n",
       "      <th>12202</th>\n",
       "      <td>12202</td>\n",
       "      <td>0.123711</td>\n",
       "      <td>0.103093</td>\n",
       "      <td>NaN</td>\n",
       "      <td>0.082474</td>\n",
       "      <td>0.639175</td>\n",
       "      <td>NaN</td>\n",
       "      <td>NaN</td>\n",
       "      <td>0.051546</td>\n",
       "      <td>NaN</td>\n",
       "      <td>NaN</td>\n",
       "      <td>../data/rcsb/pdb_files/pdb1c15.ent</td>\n",
       "    </tr>\n",
       "    <tr>\n",
       "      <th>12203</th>\n",
       "      <td>12203</td>\n",
       "      <td>0.370370</td>\n",
       "      <td>0.046296</td>\n",
       "      <td>NaN</td>\n",
       "      <td>0.162037</td>\n",
       "      <td>0.402778</td>\n",
       "      <td>NaN</td>\n",
       "      <td>0.018519</td>\n",
       "      <td>NaN</td>\n",
       "      <td>NaN</td>\n",
       "      <td>NaN</td>\n",
       "      <td>../data/rcsb/pdb_files/pdb4ye1.ent</td>\n",
       "    </tr>\n",
       "    <tr>\n",
       "      <th>12204</th>\n",
       "      <td>12204</td>\n",
       "      <td>0.223235</td>\n",
       "      <td>0.084282</td>\n",
       "      <td>0.510251</td>\n",
       "      <td>0.111617</td>\n",
       "      <td>NaN</td>\n",
       "      <td>0.068337</td>\n",
       "      <td>0.002278</td>\n",
       "      <td>NaN</td>\n",
       "      <td>NaN</td>\n",
       "      <td>NaN</td>\n",
       "      <td>../data/rcsb/pdb_files/pdb5xj4.ent</td>\n",
       "    </tr>\n",
       "    <tr>\n",
       "      <th>12205</th>\n",
       "      <td>12205</td>\n",
       "      <td>0.197674</td>\n",
       "      <td>0.046512</td>\n",
       "      <td>NaN</td>\n",
       "      <td>0.069767</td>\n",
       "      <td>0.651163</td>\n",
       "      <td>0.034884</td>\n",
       "      <td>NaN</td>\n",
       "      <td>NaN</td>\n",
       "      <td>NaN</td>\n",
       "      <td>NaN</td>\n",
       "      <td>../data/rcsb/pdb_files/pdb1hb6.ent</td>\n",
       "    </tr>\n",
       "  </tbody>\n",
       "</table>\n",
       "<p>12206 rows × 12 columns</p>\n",
       "</div>"
      ],
      "text/plain": [
       "       Unnamed: 0         -         S         E         T         H         G  \\\n",
       "0               0  0.188889  0.100000  0.266667  0.144444  0.300000       NaN   \n",
       "1               1  0.228856  0.104478  0.398010  0.089552  0.129353  0.049751   \n",
       "2               2  0.200000  0.047619  0.380952  0.109524  0.223810  0.038095   \n",
       "3               3  0.207048  0.066079  0.515419  0.140969  0.061674       NaN   \n",
       "4               4  0.084906  0.056604       NaN  0.047170  0.707547  0.056604   \n",
       "...           ...       ...       ...       ...       ...       ...       ...   \n",
       "12201       12201  0.164948  0.061856  0.453608  0.103093  0.185567  0.030928   \n",
       "12202       12202  0.123711  0.103093       NaN  0.082474  0.639175       NaN   \n",
       "12203       12203  0.370370  0.046296       NaN  0.162037  0.402778       NaN   \n",
       "12204       12204  0.223235  0.084282  0.510251  0.111617       NaN  0.068337   \n",
       "12205       12205  0.197674  0.046512       NaN  0.069767  0.651163  0.034884   \n",
       "\n",
       "              B         I   0   A                            filename  \n",
       "0           NaN       NaN NaN NaN  ../data/rcsb/pdb_files/pdb3irw.ent  \n",
       "1           NaN       NaN NaN NaN  ../data/rcsb/pdb_files/pdb4rt5.ent  \n",
       "2           NaN       NaN NaN NaN  ../data/rcsb/pdb_files/pdb7ab7.ent  \n",
       "3      0.008811       NaN NaN NaN  ../data/rcsb/pdb_files/pdb3cn2.ent  \n",
       "4           NaN  0.047170 NaN NaN  ../data/rcsb/pdb_files/pdb5yo4.ent  \n",
       "...         ...       ...  ..  ..                                 ...  \n",
       "12201       NaN       NaN NaN NaN  ../data/rcsb/pdb_files/pdb1r94.ent  \n",
       "12202       NaN  0.051546 NaN NaN  ../data/rcsb/pdb_files/pdb1c15.ent  \n",
       "12203  0.018519       NaN NaN NaN  ../data/rcsb/pdb_files/pdb4ye1.ent  \n",
       "12204  0.002278       NaN NaN NaN  ../data/rcsb/pdb_files/pdb5xj4.ent  \n",
       "12205       NaN       NaN NaN NaN  ../data/rcsb/pdb_files/pdb1hb6.ent  \n",
       "\n",
       "[12206 rows x 12 columns]"
      ]
     },
     "execution_count": 7,
     "metadata": {},
     "output_type": "execute_result"
    }
   ],
   "source": [
    "rcsb"
   ]
  },
  {
   "cell_type": "code",
   "execution_count": 8,
   "id": "0b1dd013-f15d-425d-bc83-c8d913cfa535",
   "metadata": {},
   "outputs": [],
   "source": [
    "rcsb_clean = rcsb.fillna(0)"
   ]
  },
  {
   "cell_type": "code",
   "execution_count": 9,
   "id": "90428cf1-a5a2-4b14-abf3-97538bcd3e5f",
   "metadata": {},
   "outputs": [
    {
     "data": {
      "text/html": [
       "<div>\n",
       "<style scoped>\n",
       "    .dataframe tbody tr th:only-of-type {\n",
       "        vertical-align: middle;\n",
       "    }\n",
       "\n",
       "    .dataframe tbody tr th {\n",
       "        vertical-align: top;\n",
       "    }\n",
       "\n",
       "    .dataframe thead th {\n",
       "        text-align: right;\n",
       "    }\n",
       "</style>\n",
       "<table border=\"1\" class=\"dataframe\">\n",
       "  <thead>\n",
       "    <tr style=\"text-align: right;\">\n",
       "      <th></th>\n",
       "      <th>Unnamed: 0</th>\n",
       "      <th>-</th>\n",
       "      <th>S</th>\n",
       "      <th>E</th>\n",
       "      <th>T</th>\n",
       "      <th>H</th>\n",
       "      <th>G</th>\n",
       "      <th>B</th>\n",
       "      <th>I</th>\n",
       "      <th>0</th>\n",
       "      <th>A</th>\n",
       "      <th>filename</th>\n",
       "    </tr>\n",
       "  </thead>\n",
       "  <tbody>\n",
       "    <tr>\n",
       "      <th>0</th>\n",
       "      <td>0</td>\n",
       "      <td>0.188889</td>\n",
       "      <td>0.100000</td>\n",
       "      <td>0.266667</td>\n",
       "      <td>0.144444</td>\n",
       "      <td>0.300000</td>\n",
       "      <td>0.000000</td>\n",
       "      <td>0.000000</td>\n",
       "      <td>0.000000</td>\n",
       "      <td>0.0</td>\n",
       "      <td>0.0</td>\n",
       "      <td>../data/rcsb/pdb_files/pdb3irw.ent</td>\n",
       "    </tr>\n",
       "    <tr>\n",
       "      <th>1</th>\n",
       "      <td>1</td>\n",
       "      <td>0.228856</td>\n",
       "      <td>0.104478</td>\n",
       "      <td>0.398010</td>\n",
       "      <td>0.089552</td>\n",
       "      <td>0.129353</td>\n",
       "      <td>0.049751</td>\n",
       "      <td>0.000000</td>\n",
       "      <td>0.000000</td>\n",
       "      <td>0.0</td>\n",
       "      <td>0.0</td>\n",
       "      <td>../data/rcsb/pdb_files/pdb4rt5.ent</td>\n",
       "    </tr>\n",
       "    <tr>\n",
       "      <th>2</th>\n",
       "      <td>2</td>\n",
       "      <td>0.200000</td>\n",
       "      <td>0.047619</td>\n",
       "      <td>0.380952</td>\n",
       "      <td>0.109524</td>\n",
       "      <td>0.223810</td>\n",
       "      <td>0.038095</td>\n",
       "      <td>0.000000</td>\n",
       "      <td>0.000000</td>\n",
       "      <td>0.0</td>\n",
       "      <td>0.0</td>\n",
       "      <td>../data/rcsb/pdb_files/pdb7ab7.ent</td>\n",
       "    </tr>\n",
       "    <tr>\n",
       "      <th>3</th>\n",
       "      <td>3</td>\n",
       "      <td>0.207048</td>\n",
       "      <td>0.066079</td>\n",
       "      <td>0.515419</td>\n",
       "      <td>0.140969</td>\n",
       "      <td>0.061674</td>\n",
       "      <td>0.000000</td>\n",
       "      <td>0.008811</td>\n",
       "      <td>0.000000</td>\n",
       "      <td>0.0</td>\n",
       "      <td>0.0</td>\n",
       "      <td>../data/rcsb/pdb_files/pdb3cn2.ent</td>\n",
       "    </tr>\n",
       "    <tr>\n",
       "      <th>4</th>\n",
       "      <td>4</td>\n",
       "      <td>0.084906</td>\n",
       "      <td>0.056604</td>\n",
       "      <td>0.000000</td>\n",
       "      <td>0.047170</td>\n",
       "      <td>0.707547</td>\n",
       "      <td>0.056604</td>\n",
       "      <td>0.000000</td>\n",
       "      <td>0.047170</td>\n",
       "      <td>0.0</td>\n",
       "      <td>0.0</td>\n",
       "      <td>../data/rcsb/pdb_files/pdb5yo4.ent</td>\n",
       "    </tr>\n",
       "    <tr>\n",
       "      <th>...</th>\n",
       "      <td>...</td>\n",
       "      <td>...</td>\n",
       "      <td>...</td>\n",
       "      <td>...</td>\n",
       "      <td>...</td>\n",
       "      <td>...</td>\n",
       "      <td>...</td>\n",
       "      <td>...</td>\n",
       "      <td>...</td>\n",
       "      <td>...</td>\n",
       "      <td>...</td>\n",
       "      <td>...</td>\n",
       "    </tr>\n",
       "    <tr>\n",
       "      <th>12201</th>\n",
       "      <td>12201</td>\n",
       "      <td>0.164948</td>\n",
       "      <td>0.061856</td>\n",
       "      <td>0.453608</td>\n",
       "      <td>0.103093</td>\n",
       "      <td>0.185567</td>\n",
       "      <td>0.030928</td>\n",
       "      <td>0.000000</td>\n",
       "      <td>0.000000</td>\n",
       "      <td>0.0</td>\n",
       "      <td>0.0</td>\n",
       "      <td>../data/rcsb/pdb_files/pdb1r94.ent</td>\n",
       "    </tr>\n",
       "    <tr>\n",
       "      <th>12202</th>\n",
       "      <td>12202</td>\n",
       "      <td>0.123711</td>\n",
       "      <td>0.103093</td>\n",
       "      <td>0.000000</td>\n",
       "      <td>0.082474</td>\n",
       "      <td>0.639175</td>\n",
       "      <td>0.000000</td>\n",
       "      <td>0.000000</td>\n",
       "      <td>0.051546</td>\n",
       "      <td>0.0</td>\n",
       "      <td>0.0</td>\n",
       "      <td>../data/rcsb/pdb_files/pdb1c15.ent</td>\n",
       "    </tr>\n",
       "    <tr>\n",
       "      <th>12203</th>\n",
       "      <td>12203</td>\n",
       "      <td>0.370370</td>\n",
       "      <td>0.046296</td>\n",
       "      <td>0.000000</td>\n",
       "      <td>0.162037</td>\n",
       "      <td>0.402778</td>\n",
       "      <td>0.000000</td>\n",
       "      <td>0.018519</td>\n",
       "      <td>0.000000</td>\n",
       "      <td>0.0</td>\n",
       "      <td>0.0</td>\n",
       "      <td>../data/rcsb/pdb_files/pdb4ye1.ent</td>\n",
       "    </tr>\n",
       "    <tr>\n",
       "      <th>12204</th>\n",
       "      <td>12204</td>\n",
       "      <td>0.223235</td>\n",
       "      <td>0.084282</td>\n",
       "      <td>0.510251</td>\n",
       "      <td>0.111617</td>\n",
       "      <td>0.000000</td>\n",
       "      <td>0.068337</td>\n",
       "      <td>0.002278</td>\n",
       "      <td>0.000000</td>\n",
       "      <td>0.0</td>\n",
       "      <td>0.0</td>\n",
       "      <td>../data/rcsb/pdb_files/pdb5xj4.ent</td>\n",
       "    </tr>\n",
       "    <tr>\n",
       "      <th>12205</th>\n",
       "      <td>12205</td>\n",
       "      <td>0.197674</td>\n",
       "      <td>0.046512</td>\n",
       "      <td>0.000000</td>\n",
       "      <td>0.069767</td>\n",
       "      <td>0.651163</td>\n",
       "      <td>0.034884</td>\n",
       "      <td>0.000000</td>\n",
       "      <td>0.000000</td>\n",
       "      <td>0.0</td>\n",
       "      <td>0.0</td>\n",
       "      <td>../data/rcsb/pdb_files/pdb1hb6.ent</td>\n",
       "    </tr>\n",
       "  </tbody>\n",
       "</table>\n",
       "<p>12206 rows × 12 columns</p>\n",
       "</div>"
      ],
      "text/plain": [
       "       Unnamed: 0         -         S         E         T         H         G  \\\n",
       "0               0  0.188889  0.100000  0.266667  0.144444  0.300000  0.000000   \n",
       "1               1  0.228856  0.104478  0.398010  0.089552  0.129353  0.049751   \n",
       "2               2  0.200000  0.047619  0.380952  0.109524  0.223810  0.038095   \n",
       "3               3  0.207048  0.066079  0.515419  0.140969  0.061674  0.000000   \n",
       "4               4  0.084906  0.056604  0.000000  0.047170  0.707547  0.056604   \n",
       "...           ...       ...       ...       ...       ...       ...       ...   \n",
       "12201       12201  0.164948  0.061856  0.453608  0.103093  0.185567  0.030928   \n",
       "12202       12202  0.123711  0.103093  0.000000  0.082474  0.639175  0.000000   \n",
       "12203       12203  0.370370  0.046296  0.000000  0.162037  0.402778  0.000000   \n",
       "12204       12204  0.223235  0.084282  0.510251  0.111617  0.000000  0.068337   \n",
       "12205       12205  0.197674  0.046512  0.000000  0.069767  0.651163  0.034884   \n",
       "\n",
       "              B         I    0    A                            filename  \n",
       "0      0.000000  0.000000  0.0  0.0  ../data/rcsb/pdb_files/pdb3irw.ent  \n",
       "1      0.000000  0.000000  0.0  0.0  ../data/rcsb/pdb_files/pdb4rt5.ent  \n",
       "2      0.000000  0.000000  0.0  0.0  ../data/rcsb/pdb_files/pdb7ab7.ent  \n",
       "3      0.008811  0.000000  0.0  0.0  ../data/rcsb/pdb_files/pdb3cn2.ent  \n",
       "4      0.000000  0.047170  0.0  0.0  ../data/rcsb/pdb_files/pdb5yo4.ent  \n",
       "...         ...       ...  ...  ...                                 ...  \n",
       "12201  0.000000  0.000000  0.0  0.0  ../data/rcsb/pdb_files/pdb1r94.ent  \n",
       "12202  0.000000  0.051546  0.0  0.0  ../data/rcsb/pdb_files/pdb1c15.ent  \n",
       "12203  0.018519  0.000000  0.0  0.0  ../data/rcsb/pdb_files/pdb4ye1.ent  \n",
       "12204  0.002278  0.000000  0.0  0.0  ../data/rcsb/pdb_files/pdb5xj4.ent  \n",
       "12205  0.000000  0.000000  0.0  0.0  ../data/rcsb/pdb_files/pdb1hb6.ent  \n",
       "\n",
       "[12206 rows x 12 columns]"
      ]
     },
     "execution_count": 9,
     "metadata": {},
     "output_type": "execute_result"
    }
   ],
   "source": [
    "rcsb_clean"
   ]
  },
  {
   "cell_type": "code",
   "execution_count": 11,
   "id": "0cfefbdf-cfb2-460f-a796-204a8842c9d2",
   "metadata": {},
   "outputs": [
    {
     "data": {
      "text/html": [
       "<div>\n",
       "<style scoped>\n",
       "    .dataframe tbody tr th:only-of-type {\n",
       "        vertical-align: middle;\n",
       "    }\n",
       "\n",
       "    .dataframe tbody tr th {\n",
       "        vertical-align: top;\n",
       "    }\n",
       "\n",
       "    .dataframe thead th {\n",
       "        text-align: right;\n",
       "    }\n",
       "</style>\n",
       "<table border=\"1\" class=\"dataframe\">\n",
       "  <thead>\n",
       "    <tr style=\"text-align: right;\">\n",
       "      <th></th>\n",
       "      <th>Unnamed: 0</th>\n",
       "      <th>-</th>\n",
       "      <th>S</th>\n",
       "      <th>E</th>\n",
       "      <th>T</th>\n",
       "      <th>H</th>\n",
       "      <th>G</th>\n",
       "      <th>B</th>\n",
       "      <th>I</th>\n",
       "      <th>0</th>\n",
       "      <th>A</th>\n",
       "      <th>filename</th>\n",
       "      <th>beta</th>\n",
       "    </tr>\n",
       "  </thead>\n",
       "  <tbody>\n",
       "    <tr>\n",
       "      <th>0</th>\n",
       "      <td>0</td>\n",
       "      <td>0.188889</td>\n",
       "      <td>0.100000</td>\n",
       "      <td>0.266667</td>\n",
       "      <td>0.144444</td>\n",
       "      <td>0.300000</td>\n",
       "      <td>0.000000</td>\n",
       "      <td>0.000000</td>\n",
       "      <td>0.000000</td>\n",
       "      <td>0.0</td>\n",
       "      <td>0.0</td>\n",
       "      <td>../data/rcsb/pdb_files/pdb3irw.ent</td>\n",
       "      <td>0.266667</td>\n",
       "    </tr>\n",
       "    <tr>\n",
       "      <th>1</th>\n",
       "      <td>1</td>\n",
       "      <td>0.228856</td>\n",
       "      <td>0.104478</td>\n",
       "      <td>0.398010</td>\n",
       "      <td>0.089552</td>\n",
       "      <td>0.129353</td>\n",
       "      <td>0.049751</td>\n",
       "      <td>0.000000</td>\n",
       "      <td>0.000000</td>\n",
       "      <td>0.0</td>\n",
       "      <td>0.0</td>\n",
       "      <td>../data/rcsb/pdb_files/pdb4rt5.ent</td>\n",
       "      <td>0.398010</td>\n",
       "    </tr>\n",
       "    <tr>\n",
       "      <th>2</th>\n",
       "      <td>2</td>\n",
       "      <td>0.200000</td>\n",
       "      <td>0.047619</td>\n",
       "      <td>0.380952</td>\n",
       "      <td>0.109524</td>\n",
       "      <td>0.223810</td>\n",
       "      <td>0.038095</td>\n",
       "      <td>0.000000</td>\n",
       "      <td>0.000000</td>\n",
       "      <td>0.0</td>\n",
       "      <td>0.0</td>\n",
       "      <td>../data/rcsb/pdb_files/pdb7ab7.ent</td>\n",
       "      <td>0.380952</td>\n",
       "    </tr>\n",
       "    <tr>\n",
       "      <th>3</th>\n",
       "      <td>3</td>\n",
       "      <td>0.207048</td>\n",
       "      <td>0.066079</td>\n",
       "      <td>0.515419</td>\n",
       "      <td>0.140969</td>\n",
       "      <td>0.061674</td>\n",
       "      <td>0.000000</td>\n",
       "      <td>0.008811</td>\n",
       "      <td>0.000000</td>\n",
       "      <td>0.0</td>\n",
       "      <td>0.0</td>\n",
       "      <td>../data/rcsb/pdb_files/pdb3cn2.ent</td>\n",
       "      <td>0.524229</td>\n",
       "    </tr>\n",
       "    <tr>\n",
       "      <th>4</th>\n",
       "      <td>4</td>\n",
       "      <td>0.084906</td>\n",
       "      <td>0.056604</td>\n",
       "      <td>0.000000</td>\n",
       "      <td>0.047170</td>\n",
       "      <td>0.707547</td>\n",
       "      <td>0.056604</td>\n",
       "      <td>0.000000</td>\n",
       "      <td>0.047170</td>\n",
       "      <td>0.0</td>\n",
       "      <td>0.0</td>\n",
       "      <td>../data/rcsb/pdb_files/pdb5yo4.ent</td>\n",
       "      <td>0.000000</td>\n",
       "    </tr>\n",
       "    <tr>\n",
       "      <th>...</th>\n",
       "      <td>...</td>\n",
       "      <td>...</td>\n",
       "      <td>...</td>\n",
       "      <td>...</td>\n",
       "      <td>...</td>\n",
       "      <td>...</td>\n",
       "      <td>...</td>\n",
       "      <td>...</td>\n",
       "      <td>...</td>\n",
       "      <td>...</td>\n",
       "      <td>...</td>\n",
       "      <td>...</td>\n",
       "      <td>...</td>\n",
       "    </tr>\n",
       "    <tr>\n",
       "      <th>12201</th>\n",
       "      <td>12201</td>\n",
       "      <td>0.164948</td>\n",
       "      <td>0.061856</td>\n",
       "      <td>0.453608</td>\n",
       "      <td>0.103093</td>\n",
       "      <td>0.185567</td>\n",
       "      <td>0.030928</td>\n",
       "      <td>0.000000</td>\n",
       "      <td>0.000000</td>\n",
       "      <td>0.0</td>\n",
       "      <td>0.0</td>\n",
       "      <td>../data/rcsb/pdb_files/pdb1r94.ent</td>\n",
       "      <td>0.453608</td>\n",
       "    </tr>\n",
       "    <tr>\n",
       "      <th>12202</th>\n",
       "      <td>12202</td>\n",
       "      <td>0.123711</td>\n",
       "      <td>0.103093</td>\n",
       "      <td>0.000000</td>\n",
       "      <td>0.082474</td>\n",
       "      <td>0.639175</td>\n",
       "      <td>0.000000</td>\n",
       "      <td>0.000000</td>\n",
       "      <td>0.051546</td>\n",
       "      <td>0.0</td>\n",
       "      <td>0.0</td>\n",
       "      <td>../data/rcsb/pdb_files/pdb1c15.ent</td>\n",
       "      <td>0.000000</td>\n",
       "    </tr>\n",
       "    <tr>\n",
       "      <th>12203</th>\n",
       "      <td>12203</td>\n",
       "      <td>0.370370</td>\n",
       "      <td>0.046296</td>\n",
       "      <td>0.000000</td>\n",
       "      <td>0.162037</td>\n",
       "      <td>0.402778</td>\n",
       "      <td>0.000000</td>\n",
       "      <td>0.018519</td>\n",
       "      <td>0.000000</td>\n",
       "      <td>0.0</td>\n",
       "      <td>0.0</td>\n",
       "      <td>../data/rcsb/pdb_files/pdb4ye1.ent</td>\n",
       "      <td>0.018519</td>\n",
       "    </tr>\n",
       "    <tr>\n",
       "      <th>12204</th>\n",
       "      <td>12204</td>\n",
       "      <td>0.223235</td>\n",
       "      <td>0.084282</td>\n",
       "      <td>0.510251</td>\n",
       "      <td>0.111617</td>\n",
       "      <td>0.000000</td>\n",
       "      <td>0.068337</td>\n",
       "      <td>0.002278</td>\n",
       "      <td>0.000000</td>\n",
       "      <td>0.0</td>\n",
       "      <td>0.0</td>\n",
       "      <td>../data/rcsb/pdb_files/pdb5xj4.ent</td>\n",
       "      <td>0.512528</td>\n",
       "    </tr>\n",
       "    <tr>\n",
       "      <th>12205</th>\n",
       "      <td>12205</td>\n",
       "      <td>0.197674</td>\n",
       "      <td>0.046512</td>\n",
       "      <td>0.000000</td>\n",
       "      <td>0.069767</td>\n",
       "      <td>0.651163</td>\n",
       "      <td>0.034884</td>\n",
       "      <td>0.000000</td>\n",
       "      <td>0.000000</td>\n",
       "      <td>0.0</td>\n",
       "      <td>0.0</td>\n",
       "      <td>../data/rcsb/pdb_files/pdb1hb6.ent</td>\n",
       "      <td>0.000000</td>\n",
       "    </tr>\n",
       "  </tbody>\n",
       "</table>\n",
       "<p>12206 rows × 13 columns</p>\n",
       "</div>"
      ],
      "text/plain": [
       "       Unnamed: 0         -         S         E         T         H         G  \\\n",
       "0               0  0.188889  0.100000  0.266667  0.144444  0.300000  0.000000   \n",
       "1               1  0.228856  0.104478  0.398010  0.089552  0.129353  0.049751   \n",
       "2               2  0.200000  0.047619  0.380952  0.109524  0.223810  0.038095   \n",
       "3               3  0.207048  0.066079  0.515419  0.140969  0.061674  0.000000   \n",
       "4               4  0.084906  0.056604  0.000000  0.047170  0.707547  0.056604   \n",
       "...           ...       ...       ...       ...       ...       ...       ...   \n",
       "12201       12201  0.164948  0.061856  0.453608  0.103093  0.185567  0.030928   \n",
       "12202       12202  0.123711  0.103093  0.000000  0.082474  0.639175  0.000000   \n",
       "12203       12203  0.370370  0.046296  0.000000  0.162037  0.402778  0.000000   \n",
       "12204       12204  0.223235  0.084282  0.510251  0.111617  0.000000  0.068337   \n",
       "12205       12205  0.197674  0.046512  0.000000  0.069767  0.651163  0.034884   \n",
       "\n",
       "              B         I    0    A                            filename  \\\n",
       "0      0.000000  0.000000  0.0  0.0  ../data/rcsb/pdb_files/pdb3irw.ent   \n",
       "1      0.000000  0.000000  0.0  0.0  ../data/rcsb/pdb_files/pdb4rt5.ent   \n",
       "2      0.000000  0.000000  0.0  0.0  ../data/rcsb/pdb_files/pdb7ab7.ent   \n",
       "3      0.008811  0.000000  0.0  0.0  ../data/rcsb/pdb_files/pdb3cn2.ent   \n",
       "4      0.000000  0.047170  0.0  0.0  ../data/rcsb/pdb_files/pdb5yo4.ent   \n",
       "...         ...       ...  ...  ...                                 ...   \n",
       "12201  0.000000  0.000000  0.0  0.0  ../data/rcsb/pdb_files/pdb1r94.ent   \n",
       "12202  0.000000  0.051546  0.0  0.0  ../data/rcsb/pdb_files/pdb1c15.ent   \n",
       "12203  0.018519  0.000000  0.0  0.0  ../data/rcsb/pdb_files/pdb4ye1.ent   \n",
       "12204  0.002278  0.000000  0.0  0.0  ../data/rcsb/pdb_files/pdb5xj4.ent   \n",
       "12205  0.000000  0.000000  0.0  0.0  ../data/rcsb/pdb_files/pdb1hb6.ent   \n",
       "\n",
       "           beta  \n",
       "0      0.266667  \n",
       "1      0.398010  \n",
       "2      0.380952  \n",
       "3      0.524229  \n",
       "4      0.000000  \n",
       "...         ...  \n",
       "12201  0.453608  \n",
       "12202  0.000000  \n",
       "12203  0.018519  \n",
       "12204  0.512528  \n",
       "12205  0.000000  \n",
       "\n",
       "[12206 rows x 13 columns]"
      ]
     },
     "execution_count": 11,
     "metadata": {},
     "output_type": "execute_result"
    }
   ],
   "source": [
    "rcsb_clean[\"beta\"] = rcsb_clean[\"B\"] + rcsb_clean[\"E\"]\n",
    "rcsb_clean"
   ]
  },
  {
   "cell_type": "code",
   "execution_count": 15,
   "id": "e6892704-2c1b-4f19-aa30-342e72764316",
   "metadata": {},
   "outputs": [],
   "source": [
    "rcsb = rcsb_clean[[\"filename\", \"H\", \"beta\"]]\n",
    "rcsb = rcsb.rename(columns={\"H\":\"alpha\"})"
   ]
  },
  {
   "cell_type": "code",
   "execution_count": 16,
   "id": "fd83ad1e-cdbd-44c8-a47d-d5fc79fbe47c",
   "metadata": {},
   "outputs": [
    {
     "data": {
      "text/html": [
       "<div>\n",
       "<style scoped>\n",
       "    .dataframe tbody tr th:only-of-type {\n",
       "        vertical-align: middle;\n",
       "    }\n",
       "\n",
       "    .dataframe tbody tr th {\n",
       "        vertical-align: top;\n",
       "    }\n",
       "\n",
       "    .dataframe thead th {\n",
       "        text-align: right;\n",
       "    }\n",
       "</style>\n",
       "<table border=\"1\" class=\"dataframe\">\n",
       "  <thead>\n",
       "    <tr style=\"text-align: right;\">\n",
       "      <th></th>\n",
       "      <th>filename</th>\n",
       "      <th>alpha</th>\n",
       "      <th>beta</th>\n",
       "    </tr>\n",
       "  </thead>\n",
       "  <tbody>\n",
       "    <tr>\n",
       "      <th>0</th>\n",
       "      <td>../data/rcsb/pdb_files/pdb3irw.ent</td>\n",
       "      <td>0.300000</td>\n",
       "      <td>0.266667</td>\n",
       "    </tr>\n",
       "    <tr>\n",
       "      <th>1</th>\n",
       "      <td>../data/rcsb/pdb_files/pdb4rt5.ent</td>\n",
       "      <td>0.129353</td>\n",
       "      <td>0.398010</td>\n",
       "    </tr>\n",
       "    <tr>\n",
       "      <th>2</th>\n",
       "      <td>../data/rcsb/pdb_files/pdb7ab7.ent</td>\n",
       "      <td>0.223810</td>\n",
       "      <td>0.380952</td>\n",
       "    </tr>\n",
       "    <tr>\n",
       "      <th>3</th>\n",
       "      <td>../data/rcsb/pdb_files/pdb3cn2.ent</td>\n",
       "      <td>0.061674</td>\n",
       "      <td>0.524229</td>\n",
       "    </tr>\n",
       "    <tr>\n",
       "      <th>4</th>\n",
       "      <td>../data/rcsb/pdb_files/pdb5yo4.ent</td>\n",
       "      <td>0.707547</td>\n",
       "      <td>0.000000</td>\n",
       "    </tr>\n",
       "    <tr>\n",
       "      <th>...</th>\n",
       "      <td>...</td>\n",
       "      <td>...</td>\n",
       "      <td>...</td>\n",
       "    </tr>\n",
       "    <tr>\n",
       "      <th>12201</th>\n",
       "      <td>../data/rcsb/pdb_files/pdb1r94.ent</td>\n",
       "      <td>0.185567</td>\n",
       "      <td>0.453608</td>\n",
       "    </tr>\n",
       "    <tr>\n",
       "      <th>12202</th>\n",
       "      <td>../data/rcsb/pdb_files/pdb1c15.ent</td>\n",
       "      <td>0.639175</td>\n",
       "      <td>0.000000</td>\n",
       "    </tr>\n",
       "    <tr>\n",
       "      <th>12203</th>\n",
       "      <td>../data/rcsb/pdb_files/pdb4ye1.ent</td>\n",
       "      <td>0.402778</td>\n",
       "      <td>0.018519</td>\n",
       "    </tr>\n",
       "    <tr>\n",
       "      <th>12204</th>\n",
       "      <td>../data/rcsb/pdb_files/pdb5xj4.ent</td>\n",
       "      <td>0.000000</td>\n",
       "      <td>0.512528</td>\n",
       "    </tr>\n",
       "    <tr>\n",
       "      <th>12205</th>\n",
       "      <td>../data/rcsb/pdb_files/pdb1hb6.ent</td>\n",
       "      <td>0.651163</td>\n",
       "      <td>0.000000</td>\n",
       "    </tr>\n",
       "  </tbody>\n",
       "</table>\n",
       "<p>12206 rows × 3 columns</p>\n",
       "</div>"
      ],
      "text/plain": [
       "                                 filename     alpha      beta\n",
       "0      ../data/rcsb/pdb_files/pdb3irw.ent  0.300000  0.266667\n",
       "1      ../data/rcsb/pdb_files/pdb4rt5.ent  0.129353  0.398010\n",
       "2      ../data/rcsb/pdb_files/pdb7ab7.ent  0.223810  0.380952\n",
       "3      ../data/rcsb/pdb_files/pdb3cn2.ent  0.061674  0.524229\n",
       "4      ../data/rcsb/pdb_files/pdb5yo4.ent  0.707547  0.000000\n",
       "...                                   ...       ...       ...\n",
       "12201  ../data/rcsb/pdb_files/pdb1r94.ent  0.185567  0.453608\n",
       "12202  ../data/rcsb/pdb_files/pdb1c15.ent  0.639175  0.000000\n",
       "12203  ../data/rcsb/pdb_files/pdb4ye1.ent  0.402778  0.018519\n",
       "12204  ../data/rcsb/pdb_files/pdb5xj4.ent  0.000000  0.512528\n",
       "12205  ../data/rcsb/pdb_files/pdb1hb6.ent  0.651163  0.000000\n",
       "\n",
       "[12206 rows x 3 columns]"
      ]
     },
     "execution_count": 16,
     "metadata": {},
     "output_type": "execute_result"
    }
   ],
   "source": [
    "rcsb"
   ]
  },
  {
   "cell_type": "markdown",
   "id": "af69ee21-8df8-46a6-9228-ac60f371ec6b",
   "metadata": {},
   "source": [
    "## Simulations"
   ]
  },
  {
   "cell_type": "code",
   "execution_count": 26,
   "id": "bdf2462b-b10d-482a-8da1-70b1fbed918b",
   "metadata": {},
   "outputs": [],
   "source": [
    "sim = np.load(\"../data/simulations/3d/histogram_100.npy\", allow_pickle=True)"
   ]
  },
  {
   "cell_type": "code",
   "execution_count": 27,
   "id": "b0c69df0-9baf-443b-8fd3-a5f826034c7d",
   "metadata": {},
   "outputs": [],
   "source": [
    "x = np.linspace(start=1, stop=100, num=100)"
   ]
  },
  {
   "cell_type": "code",
   "execution_count": 28,
   "id": "439a4c13-50a4-4f34-8dae-af30e123a21a",
   "metadata": {},
   "outputs": [
    {
     "data": {
      "text/plain": [
       "(0.0001, 0.2)"
      ]
     },
     "execution_count": 28,
     "metadata": {},
     "output_type": "execute_result"
    },
    {
     "data": {
      "image/png": "[encoded data removed]",
      "text/plain": [
       "<Figure size 432x432 with 1 Axes>"
      ]
     },
     "metadata": {
      "needs_background": "light"
     },
     "output_type": "display_data"
    }
   ],
   "source": [
    "sim_lower, sim_median, sim_upper = np.quantile(sim, [0.33,0.5,0.66], axis=0)\n",
    "fig = plt.figure(figsize=(6,6))\n",
    "sim_median = np.median(sim, axis=0)\n",
    "plt.plot(np.array(x[:-1]),sim_median/np.sum(sim_median), 'g', marker = 'o', lw = 0)\n",
    "plt.fill_between(np.array(x[:-1]), np.array(sim_upper)/np.sum(sim_median), np.array(sim_lower)/np.sum(sim_median),color= 'y', alpha=0.2)\n",
    "#plt.plot(lower, 'b', alpha=0.5)\n",
    "#plt.plot(mean, 'g')\n",
    "#plt.plot(mean+std, 'orange', alpha=0.5)\n",
    "#plt.plot(mean-std, 'orange', alpha=0.5)\n",
    "\n",
    "distance_distribution_array = np.linspace(start=1, stop=200, num=100)\n",
    "lower, median, upper = np.quantile(hist_data, [0.33,0.5,0.66], axis=0)\n",
    "\n",
    "median = np.median(hist_data, axis=0)\n",
    "plt.plot(np.array(distance_distribution_array[:-1]),median/np.sum(median), 'r', marker = 'o', lw = 0)\n",
    "plt.fill_between(np.array(distance_distribution_array[:-1]), np.array(upper)/np.sum(median), np.array(lower)/np.sum(median),color= 'b', alpha=0.2)\n",
    "\n",
    "\n",
    "plt.loglog()\n",
    "plt.xlim(4,200)\n",
    "plt.ylim(0.0001,0.2)"
   ]
  },
  {
   "cell_type": "code",
   "execution_count": 25,
   "id": "32fbbb6b-fae5-42dc-98f4-6fb19ee127c3",
   "metadata": {},
   "outputs": [
    {
     "data": {
      "text/plain": [
       "(1, 50)"
      ]
     },
     "execution_count": 25,
     "metadata": {},
     "output_type": "execute_result"
    },
    {
     "data": {
      "image/png": "[encoded data removed]",
      "text/plain": [
       "<Figure size 432x432 with 1 Axes>"
      ]
     },
     "metadata": {
      "needs_background": "light"
     },
     "output_type": "display_data"
    }
   ],
   "source": [
    "sim_lower, sim_median, sim_upper = np.quantile(sim, [0.33,0.5,0.66], axis=0)\n",
    "fig = plt.figure(figsize=(6,6))\n",
    "sim_median = np.median(sim, axis=0)\n",
    "plt.plot(np.array(x[:-1]),sim_median/np.sum(sim_median), 'g', marker = 'o', lw = 0)\n",
    "plt.fill_between(np.array(x[:-1]), np.array(sim_upper)/np.sum(sim_median), np.array(sim_lower)/np.sum(sim_median),color= 'y', alpha=0.2)\n",
    "plt.loglog()\n",
    "plt.ylim(0.01,0.03)\n",
    "plt.xlim(1, 50)"
   ]
  },
  {
   "cell_type": "code",
   "execution_count": 45,
   "id": "555e7bdc-d716-4a21-a3f4-654d441d30a3",
   "metadata": {},
   "outputs": [],
   "source": [
    "import theory_functions"
   ]
  },
  {
   "cell_type": "code",
   "execution_count": 44,
   "id": "d9bbc4bc-6026-443b-b340-0060cdbc1ff7",
   "metadata": {},
   "outputs": [
    {
     "name": "stdout",
     "output_type": "stream",
     "text": [
      "Collecting sklearn\n",
      "  Downloading sklearn-0.0.tar.gz (1.1 kB)\n",
      "  Preparing metadata (setup.py) ... \u001b[?25ldone\n",
      "\u001b[?25hCollecting scikit-learn\n",
      "  Using cached scikit-learn-1.0.2.tar.gz (6.7 MB)\n",
      "  Installing build dependencies ... \u001b[?25ldone\n",
      "\u001b[?25h  Getting requirements to build wheel ... \u001b[?25ldone\n",
      "\u001b[?25h  Preparing metadata (pyproject.toml) ... \u001b[?25ldone\n",
      "\u001b[?25hRequirement already satisfied: scipy>=1.1.0 in /Users/jasminguven/miniforge3/envs/jupyterlab/lib/python3.10/site-packages (from scikit-learn->sklearn) (1.8.0)\n",
      "Requirement already satisfied: numpy>=1.14.6 in /Users/jasminguven/miniforge3/envs/jupyterlab/lib/python3.10/site-packages (from scikit-learn->sklearn) (1.22.3)\n",
      "Requirement already satisfied: joblib>=0.11 in /Users/jasminguven/miniforge3/envs/jupyterlab/lib/python3.10/site-packages (from scikit-learn->sklearn) (1.1.0)\n",
      "Requirement already satisfied: threadpoolctl>=2.0.0 in /Users/jasminguven/miniforge3/envs/jupyterlab/lib/python3.10/site-packages (from scikit-learn->sklearn) (3.1.0)\n",
      "Building wheels for collected packages: sklearn, scikit-learn\n",
      "  Building wheel for sklearn (setup.py) ... \u001b[?25ldone\n",
      "\u001b[?25h  Created wheel for sklearn: filename=sklearn-0.0-py2.py3-none-any.whl size=1310 sha256=9bca838960bab82df7bb82db85c3ffb1dc4d73d76f631e99e19822a9c3a79aad\n",
      "  Stored in directory: /Users/jasminguven/Library/Caches/pip/wheels/9b/13/01/6f3a7fd641f90e1f6c8c7cded057f3394f451f340371c68f3d\n",
      "  Building wheel for scikit-learn (pyproject.toml) ... \u001b[?25ldone\n",
      "\u001b[?25h  Created wheel for scikit-learn: filename=scikit_learn-1.0.2-cp310-cp310-macosx_11_0_arm64.whl size=6650549 sha256=fbc83f79b1d0a56ec9bfed516e959aa2dc07ef840b314c46b3f09d4acdd64dbe\n",
      "  Stored in directory: /Users/jasminguven/Library/Caches/pip/wheels/d8/26/22/420eed3102c60e8101b6ccb34be1878cf365af1c14ede00bf8\n",
      "Successfully built sklearn scikit-learn\n",
      "Installing collected packages: scikit-learn, sklearn\n",
      "Successfully installed scikit-learn-1.0.2 sklearn-0.0\n"
     ]
    }
   ],
   "source": [
    "!pip install sklearn\n"
   ]
  },
  {
   "cell_type": "code",
   "execution_count": 46,
   "id": "6e551c83-1729-40bb-a498-fd369f066965",
   "metadata": {},
   "outputs": [],
   "source": [
    "histogram = np.load(\"../data/alphafold/histogram_100.npy\", allow_pickle=True)"
   ]
  },
  {
   "cell_type": "code",
   "execution_count": 47,
   "id": "9e7400e9-d883-439d-bc9c-d681b4ab436b",
   "metadata": {},
   "outputs": [
    {
     "data": {
      "text/plain": [
       "array([[0.22360248, 0.22153209, 0.16149068, ..., 0.        , 0.        ,\n",
       "        0.        ],\n",
       "       [0.26341463, 0.26097561, 0.11463415, ..., 0.        , 0.        ,\n",
       "        0.        ],\n",
       "       [0.24146982, 0.23884514, 0.12335958, ..., 0.        , 0.        ,\n",
       "        0.        ],\n",
       "       ...,\n",
       "       [0.23903509, 0.23684211, 0.19736842, ..., 0.        , 0.        ,\n",
       "        0.        ],\n",
       "       [0.235     , 0.2325    , 0.2125    , ..., 0.        , 0.        ,\n",
       "        0.        ],\n",
       "       [0.23115578, 0.22864322, 0.11809045, ..., 0.        , 0.        ,\n",
       "        0.        ]])"
      ]
     },
     "execution_count": 47,
     "metadata": {},
     "output_type": "execute_result"
    }
   ],
   "source": [
    "histogram"
   ]
  },
  {
   "cell_type": "code",
   "execution_count": 48,
   "id": "bd48f32c-8c15-4694-9c9d-e459bbb44d5b",
   "metadata": {},
   "outputs": [
    {
     "name": "stdout",
     "output_type": "stream",
     "text": [
      "(4396, 99)\n"
     ]
    }
   ],
   "source": [
    "print(histogram.shape)"
   ]
  },
  {
   "cell_type": "code",
   "execution_count": 49,
   "id": "ddacec7d-5e6a-4e34-8bb6-49a41d4fa91b",
   "metadata": {},
   "outputs": [],
   "source": [
    "median = np.quantile(histogram, q=0.5, axis=0)"
   ]
  },
  {
   "cell_type": "code",
   "execution_count": 50,
   "id": "b1d33ed2-aea5-435f-908d-90a463af714d",
   "metadata": {},
   "outputs": [
    {
     "name": "stdout",
     "output_type": "stream",
     "text": [
      "(99,)\n"
     ]
    }
   ],
   "source": [
    "print(median.shape)"
   ]
  },
  {
   "cell_type": "code",
   "execution_count": 51,
   "id": "3e653900-48a2-4314-82b2-f257b7ede2fd",
   "metadata": {},
   "outputs": [
    {
     "name": "stdout",
     "output_type": "stream",
     "text": [
      "[0.22455968 0.22222222 0.11627907 0.09919028 0.02235205 0.01284797\n",
      " 0.00896192 0.00724638 0.00683371 0.00759013 0.00717703 0.00662984\n",
      " 0.00609756 0.0055918  0.00493827 0.00520157 0.00609756 0.00449944\n",
      " 0.00421941 0.00446429 0.00401606 0.00383142 0.00441501 0.00414079\n",
      " 0.00296297 0.00253165 0.00407748 0.00257069 0.0025     0.00264201\n",
      " 0.00249066 0.00229885 0.00222966 0.00251256 0.00238663 0.00232019\n",
      " 0.00247525 0.00293255 0.0025641  0.00372439 0.00257069 0.00242131\n",
      " 0.0020284  0.00241546 0.00210084 0.00194553 0.00205761 0.0019685\n",
      " 0.         0.00210084 0.00203666 0.00209424 0.         0.00189574\n",
      " 0.         0.         0.         0.         0.         0.\n",
      " 0.         0.         0.         0.         0.         0.\n",
      " 0.         0.         0.         0.         0.         0.\n",
      " 0.         0.         0.         0.         0.         0.\n",
      " 0.         0.         0.         0.         0.         0.\n",
      " 0.         0.         0.         0.         0.         0.\n",
      " 0.         0.         0.         0.         0.         0.\n",
      " 0.         0.         0.        ]\n"
     ]
    }
   ],
   "source": [
    "print(median)"
   ]
  },
  {
   "cell_type": "code",
   "execution_count": 55,
   "id": "8b520467-ceb2-480a-b397-798ee931238c",
   "metadata": {},
   "outputs": [],
   "source": [
    "clean_median = median[4:50]\n",
    "length = 100"
   ]
  },
  {
   "cell_type": "code",
   "execution_count": 56,
   "id": "b159e9d2-f33f-4b29-a2e8-1ce2efa4ca88",
   "metadata": {},
   "outputs": [
    {
     "name": "stdout",
     "output_type": "stream",
     "text": [
      "46\n"
     ]
    }
   ],
   "source": [
    "print(len(clean_median))"
   ]
  },
  {
   "cell_type": "code",
   "execution_count": 67,
   "id": "62ef1e16-d823-4727-aa4c-321a0ef73cab",
   "metadata": {},
   "outputs": [],
   "source": [
    "distances = np.linspace(start=4, stop=length//2, num=46)\n",
    "n_points = len(distances)\n",
    "half_n_harmonic = theory_functions.harmonic_number(n_points//2)\n",
    "exponent_range = np.arange(0, 3, 1)\n",
    "dimensionality_range = np.arange(0.0009, 0.0012, 0.0001)\n",
    "plot_sum_range = distances"
   ]
  },
  {
   "cell_type": "code",
   "execution_count": 65,
   "id": "db19917c-9b46-4fe2-89d6-5788769ab1a1",
   "metadata": {},
   "outputs": [],
   "source": [
    "theory = [theory_functions.amino_acid_distance_distribution(s, n_points, half_n_harmonic, exponent, dimensionality)\n",
    "              for s in plot_sum_range]"
   ]
  },
  {
   "cell_type": "code",
   "execution_count": 59,
   "id": "d45039b3-0799-4d31-9746-77869d9ab42c",
   "metadata": {},
   "outputs": [],
   "source": [
    "import matplotlib.pyplot as plt"
   ]
  },
  {
   "cell_type": "code",
   "execution_count": 66,
   "id": "e77c286b-c9c3-40e4-a20b-6b98226ab3af",
   "metadata": {},
   "outputs": [
    {
     "data": {
      "text/plain": [
       "[]"
      ]
     },
     "execution_count": 66,
     "metadata": {},
     "output_type": "execute_result"
    },
    {
     "data": {
      "image/png": "[encoded data removed]",
      "text/plain": [
       "<Figure size 432x288 with 1 Axes>"
      ]
     },
     "metadata": {
      "needs_background": "light"
     },
     "output_type": "display_data"
    }
   ],
   "source": [
    "plt.scatter(distances, clean_median)\n",
    "plt.plot(distances, theory)\n",
    "plt.loglog()"
   ]
  },
  {
   "cell_type": "code",
   "execution_count": 83,
   "id": "33c629de-5b62-4392-b4b9-525ffad3420f",
   "metadata": {},
   "outputs": [
    {
     "data": {
      "image/png": "[encoded data removed]",
      "text/plain": [
       "<Figure size 1152x576 with 9 Axes>"
      ]
     },
     "metadata": {
      "needs_background": "light"
     },
     "output_type": "display_data"
    }
   ],
   "source": [
    "plotting_sumrange = plot_sum_range\n",
    "normalised_measure = clean_median / np.sum(clean_median)\n",
    "fig = plt.figure(figsize=(16, 8))\n",
    "#sns.set(context=\"notebook\", palette=\"colorblind\", style='ticks', font='Helvetica')\n",
    "ax = fig.subplots(len(exponent_range), len(dimensionality_range), sharex=True, sharey=True)\n",
    "for row in range(len(exponent_range)):\n",
    "    for col in range(len(dimensionality_range)):\n",
    "        theory = [\n",
    "            theory_functions.amino_acid_distance_distribution(s, n_points, half_n_harmonic, exponent_range[row],\n",
    "                                                              dimensionality_range[col]) for s in plotting_sumrange]\n",
    "        ax[row][col].scatter(distances, normalised_measure, s=10)\n",
    "       # ax[row][col].fill_between(distances, upper_cl, lower_cl,  alpha=0.4,\n",
    "       #                           label=\"95% CL\", zorder=-100)\n",
    "   #     ax[row][col].scatter(sim_distances, normalised_sim_measure, s=10, marker=\"^\",\n",
    "   #                          c=_COLOUR_PALETTE[\"3D_SIM_SCATTER\"], label=f\"SIM {length_range}s\", zorder=-50)\n",
    "        ax[row][col].plot(plotting_sumrange, theory,  label=\"Theory\")\n",
    "        ax[row][col].set_yscale(\"log\")\n",
    "        ax[row][col].set_xscale(\"log\")\n",
    "        ax[row][col].set_ylim(0.001, 1)\n",
    "        ax[row][col].set_xlim(2, int(length)*3/4)\n",
    "        ax[row][-1].set_ylabel(f\"a = {exponent_range[row]}\", fontsize=13, rotation=0, labelpad=21)\n",
    "        ax[row][-1].yaxis.set_label_position(\"right\")\n",
    "        ax[0][col].set_title(f\"A = {dimensionality_range[col]:2f}\")"
   ]
  },
  {
   "cell_type": "code",
   "execution_count": null,
   "id": "2e5fa391-a45a-4faf-8490-fe33228853b9",
   "metadata": {},
   "outputs": [],
   "source": []
  }
 ],
 "metadata": {
  "kernelspec": {
   "display_name": "Python 3 (ipykernel)",
   "language": "python",
   "name": "python3"
  },
  "language_info": {
   "codemirror_mode": {
    "name": "ipython",
    "version": 3
   },
   "file_extension": ".py",
   "mimetype": "text/x-python",
   "name": "python",
   "nbconvert_exporter": "python",
   "pygments_lexer": "ipython3",
   "version": "3.10.2"
  }
 },
 "nbformat": 4,
 "nbformat_minor": 5
}
