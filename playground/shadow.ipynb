{
 "cells": [
  {
   "cell_type": "code",
   "execution_count": null,
   "metadata": {},
   "outputs": [],
   "source": [
    "def get_pdb_matrix(pdb_file: str) -> np.ndarray:\n",
    "    \"\"\"\n",
    "    Open a PDB file and return its adjacency matrix\n",
    "    @param pdb_file: PDB file from either RCSB or AlphaFold (default)\n",
    "    @return: adjacency matrix as a Numpy array\n",
    "    \"\"\"\n",
    "    return functions.pdb_to_adjacency(pdb_file)[1]\n",
    "\n",
    "\n",
    "def plot_adjacency_matrix(file: str, data_type: str) -> None:\n",
    "    \"\"\"\n",
    "    Plot adjacency matrix for given protein file (or simulation matrix)\n",
    "    @param file: PDB or matrix file\n",
    "    @param data_type: PDB or SIM\n",
    "    @return: None\n",
    "    \"\"\"\n",
    "    adjacency_matrix = []\n",
    "    # if data_type == \"sim\":\n",
    "    #     simulation_matrix = functions.get_3d_simulation_adjacency_matrix(file)\n",
    "    #     adjacency_matrix = simulation_matrix.copy()\n",
    "    #     np.fill_diagonal(adjacency_matrix, 0)\n",
    "    #     np.fill_diagonal(adjacency_matrix[1:], 0)\n",
    "    #     np.fill_diagonal(adjacency_matrix[:,1:], 0)\n",
    "\n",
    "    elif data_type == \"pdb\":\n",
    "        pdb_matrix = get_pdb_matrix(file)\n",
    "        adjacency_matrix = pdb_matrix.copy()\n",
    "        np.fill_diagonal(adjacency_matrix, 0)\n",
    "        np.fill_diagonal(adjacency_matrix[1:], 0)\n",
    "        np.fill_diagonal(adjacency_matrix[:,1:], 0)\n",
    "    plt.figure(figsize=(6, 6))\n",
    "    sns.set(context=\"notebook\", palette=\"colorblind\", style=\"ticks\", font_scale=1.8)\n",
    "    colormap = [_COLOUR_PALETTE[\"NO_CONTACT\"], _COLOUR_PALETTE[\"CONTACT\"]]\n",
    "    heatmap = sns.heatmap(adjacency_matrix, cmap=colormap, cbar=False)\n",
    "    # set_adjacency_matrix_ticks(heatmap)\n",
    "    heatmap.set_xlabel(\"Amino acid\")\n",
    "    heatmap.set_ylabel(\"Amino acid\")\n",
    "    sns.despine()\n",
    "    ticks = np.arange(0, len(adjacency_matrix[0]), 50)\n",
    "    plt.xticks(ticks, ticks, rotation=360)\n",
    "    plt.yticks(ticks, ticks)\n",
    "    plt.tight_layout()\n",
    "    plt.savefig(f\"../plots/adjacency_matrices/{data_type}_matrix.jpeg\", dpi=900)\n",
    "    plt.show()"
   ]
  }
 ],
 "metadata": {
  "language_info": {
   "name": "python"
  },
  "orig_nbformat": 4
 },
 "nbformat": 4,
 "nbformat_minor": 2
}
